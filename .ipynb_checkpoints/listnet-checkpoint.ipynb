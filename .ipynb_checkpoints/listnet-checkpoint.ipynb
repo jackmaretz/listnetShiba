{
 "cells": [
  {
   "cell_type": "code",
   "execution_count": 2,
   "metadata": {},
   "outputs": [],
   "source": [
    "import random\n",
    "random.seed(42)"
   ]
  },
  {
   "cell_type": "code",
   "execution_count": 3,
   "metadata": {},
   "outputs": [],
   "source": [
    "import RankNet\n",
    "import ListNet\n",
    "Model = RankNet.RankNet()\n",
    "model = ListNet.ListNet()"
   ]
  },
  {
   "cell_type": "code",
   "execution_count": 4,
   "metadata": {},
   "outputs": [
    {
     "ename": "NameError",
     "evalue": "name 'df' is not defined",
     "output_type": "error",
     "traceback": [
      "\u001b[1;31m---------------------------------------------------------------------------\u001b[0m",
      "\u001b[1;31mNameError\u001b[0m                                 Traceback (most recent call last)",
      "\u001b[1;32m<ipython-input-4-00cf07b74dcd>\u001b[0m in \u001b[0;36m<module>\u001b[1;34m\u001b[0m\n\u001b[1;32m----> 1\u001b[1;33m \u001b[0mdf\u001b[0m\u001b[1;33m\u001b[0m\u001b[1;33m\u001b[0m\u001b[0m\n\u001b[0m",
      "\u001b[1;31mNameError\u001b[0m: name 'df' is not defined"
     ]
    }
   ],
   "source": [
    "\n"
   ]
  },
  {
   "cell_type": "code",
   "execution_count": 11,
   "metadata": {},
   "outputs": [],
   "source": [
    "import pandas as pd\n",
    "import numpy as np\n",
    "from sklearn.utils import shuffle\n"
   ]
  },
  {
   "cell_type": "code",
   "execution_count": 6,
   "metadata": {},
   "outputs": [],
   "source": [
    "train =  pd.read_csv(\"train.csv\")\n",
    "test = pd.read_csv(\"test.csv\")\n",
    "\n",
    "df = pd.concat((train,test))\n",
    "df =df[[\"cosine_y\",\"query\",\"numWordsQuery\",\"numWordsCV\",\"numCommonWords\",\"score\"]]"
   ]
  },
  {
   "cell_type": "code",
   "execution_count": 7,
   "metadata": {},
   "outputs": [],
   "source": [
    "X1 = train[[\"cosine_y\",\"query\",\"numWordsQuery\",\"numWordsCV\",\"numCommonWords\"]]\n",
    "y1 = train[\"score\"]"
   ]
  },
  {
   "cell_type": "code",
   "execution_count": 168,
   "metadata": {},
   "outputs": [
    {
     "name": "stdout",
     "output_type": "stream",
     "text": [
      "7\n",
      "load dataset\n",
      "The number of data, train: 4 validate: 3\n",
      "prepare initialized model!\n",
      "Start training and validation loop......\n",
      "epoch 1\n"
     ]
    },
    {
     "name": "stderr",
     "output_type": "stream",
     "text": [
      "  0%|          | 0/4 [00:00<?, ?it/s]C:\\Users\\giaco\\Anaconda3\\lib\\site-packages\\chainer\\functions\\math\\exponential.py:66: RuntimeWarning: invalid value encountered in log\n",
      "  return utils.force_array(numpy.log(x[0])),\n",
      "100%|██████████| 4/4 [00:00<00:00, 31.33it/s]\n"
     ]
    },
    {
     "name": "stdout",
     "output_type": "stream",
     "text": [
      "train mean loss=-72.72269129753113\n"
     ]
    },
    {
     "name": "stderr",
     "output_type": "stream",
     "text": [
      "100%|██████████| 3/3 [00:00<00:00, 501.33it/s]\n"
     ]
    },
    {
     "name": "stdout",
     "output_type": "stream",
     "text": [
      "test  mean loss=-186.29851277669272\n",
      "epoch: 2\n",
      "NDCG@100 | train: 0.8722942390144218, test: 0.7131452381480272\n",
      "epoch 2\n"
     ]
    },
    {
     "name": "stderr",
     "output_type": "stream",
     "text": [
      "100%|██████████| 4/4 [00:00<00:00, 105.55it/s]\n"
     ]
    },
    {
     "name": "stdout",
     "output_type": "stream",
     "text": [
      "train mean loss=-222.54541778564453\n"
     ]
    },
    {
     "name": "stderr",
     "output_type": "stream",
     "text": [
      "100%|██████████| 3/3 [00:00<00:00, 300.78it/s]\n"
     ]
    },
    {
     "name": "stdout",
     "output_type": "stream",
     "text": [
      "test  mean loss=-331.3064676920573\n",
      "epoch: 3\n",
      "NDCG@100 | train: 0.8722942390144218, test: 0.7131452381480272\n",
      "epoch 3\n"
     ]
    },
    {
     "name": "stderr",
     "output_type": "stream",
     "text": [
      "100%|██████████| 4/4 [00:00<00:00, 108.40it/s]\n"
     ]
    },
    {
     "name": "stdout",
     "output_type": "stream",
     "text": [
      "train mean loss=-350.4054641723633\n"
     ]
    },
    {
     "name": "stderr",
     "output_type": "stream",
     "text": [
      "100%|██████████| 3/3 [00:00<00:00, 334.28it/s]\n"
     ]
    },
    {
     "name": "stdout",
     "output_type": "stream",
     "text": [
      "test  mean loss=-477.82427978515625\n",
      "epoch: 4\n",
      "NDCG@100 | train: 0.8722942390144218, test: 0.7131452381480272\n",
      "epoch 4\n"
     ]
    },
    {
     "name": "stderr",
     "output_type": "stream",
     "text": [
      "100%|██████████| 4/4 [00:00<00:00, 121.53it/s]\n"
     ]
    },
    {
     "name": "stdout",
     "output_type": "stream",
     "text": [
      "train mean loss=-490.247314453125\n"
     ]
    },
    {
     "name": "stderr",
     "output_type": "stream",
     "text": [
      "100%|██████████| 3/3 [00:00<00:00, 429.70it/s]\n"
     ]
    },
    {
     "name": "stdout",
     "output_type": "stream",
     "text": [
      "test  mean loss=-629.1209513346354\n",
      "epoch: 5\n",
      "NDCG@100 | train: 0.8722942390144218, test: 0.7131452381480272\n",
      "epoch 5\n"
     ]
    },
    {
     "name": "stderr",
     "output_type": "stream",
     "text": [
      "100%|██████████| 4/4 [00:00<00:00, 121.54it/s]\n"
     ]
    },
    {
     "name": "stdout",
     "output_type": "stream",
     "text": [
      "train mean loss=-625.9881591796875\n"
     ]
    },
    {
     "name": "stderr",
     "output_type": "stream",
     "text": [
      "100%|██████████| 3/3 [00:00<00:00, 300.79it/s]\n"
     ]
    },
    {
     "name": "stdout",
     "output_type": "stream",
     "text": [
      "test  mean loss=-779.6698404947916\n",
      "epoch: 6\n",
      "NDCG@100 | train: 0.8722942390144218, test: 0.7131452381480272\n",
      "epoch 6\n"
     ]
    },
    {
     "name": "stderr",
     "output_type": "stream",
     "text": [
      "100%|██████████| 4/4 [00:00<00:00, 138.30it/s]\n"
     ]
    },
    {
     "name": "stdout",
     "output_type": "stream",
     "text": [
      "train mean loss=-767.1083526611328\n"
     ]
    },
    {
     "name": "stderr",
     "output_type": "stream",
     "text": [
      "100%|██████████| 3/3 [00:00<00:00, 376.05it/s]\n"
     ]
    },
    {
     "name": "stdout",
     "output_type": "stream",
     "text": [
      "test  mean loss=-946.9374389648438\n",
      "epoch: 7\n",
      "NDCG@100 | train: 0.8722942390144218, test: 0.7131452381480272\n",
      "epoch 7\n"
     ]
    },
    {
     "name": "stderr",
     "output_type": "stream",
     "text": [
      "100%|██████████| 4/4 [00:00<00:00, 182.31it/s]\n"
     ]
    },
    {
     "name": "stdout",
     "output_type": "stream",
     "text": [
      "train mean loss=-921.2873229980469\n"
     ]
    },
    {
     "name": "stderr",
     "output_type": "stream",
     "text": [
      "100%|██████████| 3/3 [00:00<00:00, 300.85it/s]\n"
     ]
    },
    {
     "name": "stdout",
     "output_type": "stream",
     "text": [
      "test  mean loss=-1133.0266520182292\n",
      "epoch: 8\n",
      "NDCG@100 | train: 0.8722942390144218, test: 0.7131452381480272\n",
      "epoch 8\n"
     ]
    },
    {
     "name": "stderr",
     "output_type": "stream",
     "text": [
      "100%|██████████| 4/4 [00:00<00:00, 121.53it/s]\n"
     ]
    },
    {
     "name": "stdout",
     "output_type": "stream",
     "text": [
      "train mean loss=-1093.7944793701172\n"
     ]
    },
    {
     "name": "stderr",
     "output_type": "stream",
     "text": [
      "100%|██████████| 3/3 [00:00<00:00, 601.71it/s]\n"
     ]
    },
    {
     "name": "stdout",
     "output_type": "stream",
     "text": [
      "test  mean loss=-1339.028564453125\n",
      "epoch: 9\n",
      "NDCG@100 | train: 0.8722942390144218, test: 0.7131452381480272\n",
      "epoch 9\n"
     ]
    },
    {
     "name": "stderr",
     "output_type": "stream",
     "text": [
      "100%|██████████| 4/4 [00:00<00:00, 125.32it/s]\n"
     ]
    },
    {
     "name": "stdout",
     "output_type": "stream",
     "text": [
      "train mean loss=-1291.9076843261719\n"
     ]
    },
    {
     "name": "stderr",
     "output_type": "stream",
     "text": [
      "100%|██████████| 3/3 [00:00<00:00, 376.05it/s]\n"
     ]
    },
    {
     "name": "stdout",
     "output_type": "stream",
     "text": [
      "test  mean loss=-1565.5074869791667\n",
      "epoch: 10\n",
      "NDCG@100 | train: 0.8722942390144218, test: 0.7131452381480272\n",
      "epoch 10\n"
     ]
    },
    {
     "name": "stderr",
     "output_type": "stream",
     "text": [
      "100%|██████████| 4/4 [00:00<00:00, 129.37it/s]\n"
     ]
    },
    {
     "name": "stdout",
     "output_type": "stream",
     "text": [
      "train mean loss=-1501.5068359375\n"
     ]
    },
    {
     "name": "stderr",
     "output_type": "stream",
     "text": [
      "100%|██████████| 3/3 [00:00<00:00, 429.76it/s]\n"
     ]
    },
    {
     "name": "stdout",
     "output_type": "stream",
     "text": [
      "test  mean loss=-1823.7225748697917\n",
      "epoch: 11\n",
      "NDCG@100 | train: 0.8722942390144218, test: 0.7131452381480272\n",
      "save the model\n",
      "save the optimizer\n",
      "[[0.]\n",
      " [0.]\n",
      " [0.]\n",
      " [0.]\n",
      " [0.]\n",
      " [0.]\n",
      " [0.]]\n",
      "6 ricerca di merda\n",
      "8\n",
      "load dataset\n",
      "The number of data, train: 5 validate: 3\n",
      "prepare initialized model!\n",
      "Start training and validation loop......\n",
      "epoch 1\n"
     ]
    },
    {
     "name": "stderr",
     "output_type": "stream",
     "text": [
      "100%|██████████| 5/5 [00:00<00:00, 125.33it/s]\n"
     ]
    },
    {
     "name": "stdout",
     "output_type": "stream",
     "text": [
      "train mean loss=-465.22155609130857\n"
     ]
    },
    {
     "name": "stderr",
     "output_type": "stream",
     "text": [
      "100%|██████████| 3/3 [00:00<00:00, 250.68it/s]\n"
     ]
    },
    {
     "name": "stdout",
     "output_type": "stream",
     "text": [
      "test  mean loss=-690.4191284179688\n",
      "epoch: 2\n",
      "NDCG@100 | train: 0.8332080527868442, test: 0.6737852038126946\n",
      "epoch 2\n"
     ]
    },
    {
     "name": "stderr",
     "output_type": "stream",
     "text": [
      "100%|██████████| 5/5 [00:00<00:00, 102.31it/s]\n"
     ]
    },
    {
     "name": "stdout",
     "output_type": "stream",
     "text": [
      "train mean loss=-1097.8522583007812\n"
     ]
    },
    {
     "name": "stderr",
     "output_type": "stream",
     "text": [
      "100%|██████████| 3/3 [00:00<00:00, 375.95it/s]\n"
     ]
    },
    {
     "name": "stdout",
     "output_type": "stream",
     "text": [
      "test  mean loss=-1175.083760579427\n",
      "epoch: 3\n",
      "NDCG@100 | train: 0.8332080527868442, test: 0.6737852038126946\n",
      "epoch 3\n"
     ]
    },
    {
     "name": "stderr",
     "output_type": "stream",
     "text": [
      "100%|██████████| 5/5 [00:00<00:00, 116.59it/s]\n"
     ]
    },
    {
     "name": "stdout",
     "output_type": "stream",
     "text": [
      "train mean loss=-1686.9974731445313\n"
     ]
    },
    {
     "name": "stderr",
     "output_type": "stream",
     "text": [
      "100%|██████████| 3/3 [00:00<00:00, 375.91it/s]\n"
     ]
    },
    {
     "name": "stdout",
     "output_type": "stream",
     "text": [
      "test  mean loss=-1653.5349934895833\n",
      "epoch: 4\n",
      "NDCG@100 | train: 0.8332080527868442, test: 0.6737852038126946\n",
      "epoch 4\n"
     ]
    },
    {
     "name": "stderr",
     "output_type": "stream",
     "text": [
      "100%|██████████| 5/5 [00:00<00:00, 147.45it/s]\n"
     ]
    },
    {
     "name": "stdout",
     "output_type": "stream",
     "text": [
      "train mean loss=-2338.615478515625\n"
     ]
    },
    {
     "name": "stderr",
     "output_type": "stream",
     "text": [
      "100%|██████████| 3/3 [00:00<00:00, 300.81it/s]\n"
     ]
    },
    {
     "name": "stdout",
     "output_type": "stream",
     "text": [
      "test  mean loss=-2178.7777506510415\n",
      "epoch: 5\n",
      "NDCG@100 | train: 0.8332080527868442, test: 0.6737852038126946\n",
      "epoch 5\n"
     ]
    },
    {
     "name": "stderr",
     "output_type": "stream",
     "text": [
      "100%|██████████| 5/5 [00:00<00:00, 122.27it/s]\n"
     ]
    },
    {
     "name": "stdout",
     "output_type": "stream",
     "text": [
      "train mean loss=-3029.6842041015625\n"
     ]
    },
    {
     "name": "stderr",
     "output_type": "stream",
     "text": [
      "100%|██████████| 3/3 [00:00<00:00, 300.76it/s]\n"
     ]
    },
    {
     "name": "stdout",
     "output_type": "stream",
     "text": [
      "test  mean loss=-2775.2632649739585\n",
      "epoch: 6\n",
      "NDCG@100 | train: 0.8332080527868442, test: 0.6737852038126946\n",
      "epoch 6\n"
     ]
    },
    {
     "name": "stderr",
     "output_type": "stream",
     "text": [
      "100%|██████████| 5/5 [00:00<00:00, 108.99it/s]\n"
     ]
    },
    {
     "name": "stdout",
     "output_type": "stream",
     "text": [
      "train mean loss=-3840.70126953125\n"
     ]
    },
    {
     "name": "stderr",
     "output_type": "stream",
     "text": [
      "100%|██████████| 3/3 [00:00<00:00, 273.42it/s]\n"
     ]
    },
    {
     "name": "stdout",
     "output_type": "stream",
     "text": [
      "test  mean loss=-3449.6498209635415\n",
      "epoch: 7\n",
      "NDCG@100 | train: 0.8332080527868442, test: 0.6737852038126946\n",
      "epoch 7\n"
     ]
    },
    {
     "name": "stderr",
     "output_type": "stream",
     "text": [
      "100%|██████████| 5/5 [00:00<00:00, 100.27it/s]\n"
     ]
    },
    {
     "name": "stdout",
     "output_type": "stream",
     "text": [
      "train mean loss=-4692.942333984375\n"
     ]
    },
    {
     "name": "stderr",
     "output_type": "stream",
     "text": [
      "100%|██████████| 3/3 [00:00<00:00, 300.82it/s]\n"
     ]
    },
    {
     "name": "stdout",
     "output_type": "stream",
     "text": [
      "test  mean loss=-4229.02685546875\n",
      "epoch: 8\n",
      "NDCG@100 | train: 0.8332080527868442, test: 0.6737852038126946\n",
      "epoch 8\n"
     ]
    },
    {
     "name": "stderr",
     "output_type": "stream",
     "text": [
      "100%|██████████| 5/5 [00:00<00:00, 98.28it/s]\n"
     ]
    },
    {
     "name": "stdout",
     "output_type": "stream",
     "text": [
      "train mean loss=-5663.55615234375\n"
     ]
    },
    {
     "name": "stderr",
     "output_type": "stream",
     "text": [
      "100%|██████████| 3/3 [00:00<00:00, 200.51it/s]\n"
     ]
    },
    {
     "name": "stdout",
     "output_type": "stream",
     "text": [
      "test  mean loss=-5116.06982421875\n",
      "epoch: 9\n",
      "NDCG@100 | train: 0.8332080527868442, test: 0.6737852038126946\n",
      "epoch 9\n"
     ]
    },
    {
     "name": "stderr",
     "output_type": "stream",
     "text": [
      "100%|██████████| 5/5 [00:00<00:00, 104.44it/s]\n"
     ]
    },
    {
     "name": "stdout",
     "output_type": "stream",
     "text": [
      "train mean loss=-6883.432177734375\n"
     ]
    },
    {
     "name": "stderr",
     "output_type": "stream",
     "text": [
      "100%|██████████| 3/3 [00:00<00:00, 300.79it/s]\n"
     ]
    },
    {
     "name": "stdout",
     "output_type": "stream",
     "text": [
      "test  mean loss=-6094.753580729167\n",
      "epoch: 10\n",
      "NDCG@100 | train: 0.8332080527868442, test: 0.6737852038126946\n",
      "epoch 10\n"
     ]
    },
    {
     "name": "stderr",
     "output_type": "stream",
     "text": [
      "100%|██████████| 5/5 [00:00<00:00, 108.98it/s]\n"
     ]
    },
    {
     "name": "stdout",
     "output_type": "stream",
     "text": [
      "train mean loss=-8168.19091796875\n"
     ]
    },
    {
     "name": "stderr",
     "output_type": "stream",
     "text": [
      "100%|██████████| 3/3 [00:00<00:00, 300.88it/s]\n"
     ]
    },
    {
     "name": "stdout",
     "output_type": "stream",
     "text": [
      "test  mean loss=-7202.20849609375\n",
      "epoch: 11\n",
      "NDCG@100 | train: 0.8332080527868442, test: 0.6737852038126946\n",
      "save the model\n",
      "save the optimizer\n",
      "[[0.]\n",
      " [0.]\n",
      " [0.]\n",
      " [0.]\n",
      " [0.]\n",
      " [0.]\n",
      " [0.]\n",
      " [0.]]\n",
      "10\n",
      "load dataset\n",
      "The number of data, train: 7 validate: 3\n",
      "prepare initialized model!\n",
      "Start training and validation loop......\n",
      "epoch 1\n"
     ]
    },
    {
     "name": "stderr",
     "output_type": "stream",
     "text": [
      "100%|██████████| 7/7 [00:00<00:00, 96.16it/s]\n"
     ]
    },
    {
     "name": "stdout",
     "output_type": "stream",
     "text": [
      "train mean loss=-384.3283236367362\n"
     ]
    },
    {
     "name": "stderr",
     "output_type": "stream",
     "text": [
      "100%|██████████| 3/3 [00:00<00:00, 429.76it/s]\n"
     ]
    },
    {
     "name": "stdout",
     "output_type": "stream",
     "text": [
      "test  mean loss=-392.4234110514323\n",
      "epoch: 2\n",
      "NDCG@100 | train: 0.7100921626663325, test: 1.0\n",
      "epoch 2\n"
     ]
    },
    {
     "name": "stderr",
     "output_type": "stream",
     "text": [
      "100%|██████████| 7/7 [00:00<00:00, 137.62it/s]\n"
     ]
    },
    {
     "name": "stdout",
     "output_type": "stream",
     "text": [
      "train mean loss=-1474.660314287458\n"
     ]
    },
    {
     "name": "stderr",
     "output_type": "stream",
     "text": [
      "100%|██████████| 3/3 [00:00<00:00, 375.91it/s]\n"
     ]
    },
    {
     "name": "stdout",
     "output_type": "stream",
     "text": [
      "test  mean loss=-746.0614115397135\n",
      "epoch: 3\n",
      "NDCG@100 | train: 0.7100921626663325, test: 1.0\n",
      "epoch 3\n"
     ]
    },
    {
     "name": "stderr",
     "output_type": "stream",
     "text": [
      "100%|██████████| 7/7 [00:00<00:00, 137.63it/s]\n"
     ]
    },
    {
     "name": "stdout",
     "output_type": "stream",
     "text": [
      "train mean loss=-2202.97384425572\n"
     ]
    },
    {
     "name": "stderr",
     "output_type": "stream",
     "text": [
      "100%|██████████| 3/3 [00:00<00:00, 375.97it/s]\n"
     ]
    },
    {
     "name": "stdout",
     "output_type": "stream",
     "text": [
      "test  mean loss=-1094.300028483073\n",
      "epoch: 4\n",
      "NDCG@100 | train: 0.7100921626663325, test: 1.0\n",
      "epoch 4\n"
     ]
    },
    {
     "name": "stderr",
     "output_type": "stream",
     "text": [
      "100%|██████████| 7/7 [00:00<00:00, 98.85it/s]\n"
     ]
    },
    {
     "name": "stdout",
     "output_type": "stream",
     "text": [
      "train mean loss=-3087.3550720214844\n"
     ]
    },
    {
     "name": "stderr",
     "output_type": "stream",
     "text": [
      "100%|██████████| 3/3 [00:00<00:00, 231.36it/s]\n"
     ]
    },
    {
     "name": "stdout",
     "output_type": "stream",
     "text": [
      "test  mean loss=-1475.7347005208333\n",
      "epoch: 5\n",
      "NDCG@100 | train: 0.7100921626663325, test: 1.0\n",
      "epoch 5\n"
     ]
    },
    {
     "name": "stderr",
     "output_type": "stream",
     "text": [
      "100%|██████████| 7/7 [00:00<00:00, 115.06it/s]\n"
     ]
    },
    {
     "name": "stdout",
     "output_type": "stream",
     "text": [
      "train mean loss=-4110.673300606863\n"
     ]
    },
    {
     "name": "stderr",
     "output_type": "stream",
     "text": [
      "100%|██████████| 3/3 [00:00<00:00, 273.54it/s]\n"
     ]
    },
    {
     "name": "stdout",
     "output_type": "stream",
     "text": [
      "test  mean loss=-1894.1651611328125\n",
      "epoch: 6\n",
      "NDCG@100 | train: 0.7100921626663325, test: 1.0\n",
      "epoch 6\n"
     ]
    },
    {
     "name": "stderr",
     "output_type": "stream",
     "text": [
      "100%|██████████| 7/7 [00:00<00:00, 127.61it/s]\n"
     ]
    },
    {
     "name": "stdout",
     "output_type": "stream",
     "text": [
      "train mean loss=-5262.060729980469\n"
     ]
    },
    {
     "name": "stderr",
     "output_type": "stream",
     "text": [
      "100%|██████████| 3/3 [00:00<00:00, 601.54it/s]\n"
     ]
    },
    {
     "name": "stdout",
     "output_type": "stream",
     "text": [
      "test  mean loss=-2368.4012044270835\n",
      "epoch: 7\n",
      "NDCG@100 | train: 0.7100921626663325, test: 1.0\n",
      "epoch 7\n"
     ]
    },
    {
     "name": "stderr",
     "output_type": "stream",
     "text": [
      "100%|██████████| 7/7 [00:00<00:00, 118.96it/s]\n"
     ]
    },
    {
     "name": "stdout",
     "output_type": "stream",
     "text": [
      "train mean loss=-6654.674970354353\n"
     ]
    },
    {
     "name": "stderr",
     "output_type": "stream",
     "text": [
      "100%|██████████| 3/3 [00:00<00:00, 300.70it/s]\n"
     ]
    },
    {
     "name": "stdout",
     "output_type": "stream",
     "text": [
      "test  mean loss=-2913.539021809896\n",
      "epoch: 8\n",
      "NDCG@100 | train: 0.7100921626663325, test: 1.0\n",
      "epoch 8\n"
     ]
    },
    {
     "name": "stderr",
     "output_type": "stream",
     "text": [
      "100%|██████████| 7/7 [00:00<00:00, 121.01it/s]\n"
     ]
    },
    {
     "name": "stdout",
     "output_type": "stream",
     "text": [
      "train mean loss=-8192.559984479632\n"
     ]
    },
    {
     "name": "stderr",
     "output_type": "stream",
     "text": [
      "100%|██████████| 3/3 [00:00<00:00, 429.57it/s]\n"
     ]
    },
    {
     "name": "stdout",
     "output_type": "stream",
     "text": [
      "test  mean loss=-3543.614501953125\n",
      "epoch: 9\n",
      "NDCG@100 | train: 0.7100921626663325, test: 1.0\n",
      "epoch 9\n"
     ]
    },
    {
     "name": "stderr",
     "output_type": "stream",
     "text": [
      "100%|██████████| 7/7 [00:00<00:00, 129.98it/s]\n"
     ]
    },
    {
     "name": "stdout",
     "output_type": "stream",
     "text": [
      "train mean loss=-9591.392107282367\n"
     ]
    },
    {
     "name": "stderr",
     "output_type": "stream",
     "text": [
      "100%|██████████| 3/3 [00:00<00:00, 601.71it/s]\n"
     ]
    },
    {
     "name": "stdout",
     "output_type": "stream",
     "text": [
      "test  mean loss=-4322.437255859375\n",
      "epoch: 10\n",
      "NDCG@100 | train: 0.7100921626663325, test: 1.0\n",
      "epoch 10\n"
     ]
    },
    {
     "name": "stderr",
     "output_type": "stream",
     "text": [
      "100%|██████████| 7/7 [00:00<00:00, 137.62it/s]\n"
     ]
    },
    {
     "name": "stdout",
     "output_type": "stream",
     "text": [
      "train mean loss=-11895.309605189732\n"
     ]
    },
    {
     "name": "stderr",
     "output_type": "stream",
     "text": [
      "100%|██████████| 3/3 [00:00<00:00, 752.03it/s]\n"
     ]
    },
    {
     "name": "stdout",
     "output_type": "stream",
     "text": [
      "test  mean loss=-5136.60986328125\n",
      "epoch: 11\n",
      "NDCG@100 | train: 0.7100921626663325, test: 1.0\n",
      "save the model\n",
      "save the optimizer\n",
      "[[0.]\n",
      " [0.]\n",
      " [0.]\n",
      " [0.]\n",
      " [0.]\n",
      " [0.]\n",
      " [0.]\n",
      " [0.]\n",
      " [0.]\n",
      " [0.]]\n",
      "10\n",
      "load dataset\n",
      "The number of data, train: 7 validate: 3\n",
      "prepare initialized model!\n",
      "Start training and validation loop......\n",
      "epoch 1\n"
     ]
    },
    {
     "name": "stderr",
     "output_type": "stream",
     "text": [
      "100%|██████████| 7/7 [00:00<00:00, 137.62it/s]\n"
     ]
    },
    {
     "name": "stdout",
     "output_type": "stream",
     "text": [
      "train mean loss=-134.49323081970215\n"
     ]
    },
    {
     "name": "stderr",
     "output_type": "stream",
     "text": [
      "100%|██████████| 3/3 [00:00<00:00, 501.37it/s]\n"
     ]
    },
    {
     "name": "stdout",
     "output_type": "stream",
     "text": [
      "test  mean loss=-335.9144032796224\n",
      "epoch: 2\n",
      "NDCG@100 | train: 0.3943901562076325, test: 0.9552529305546773\n",
      "epoch 2\n"
     ]
    },
    {
     "name": "stderr",
     "output_type": "stream",
     "text": [
      "100%|██████████| 7/7 [00:00<00:00, 194.96it/s]\n"
     ]
    },
    {
     "name": "stdout",
     "output_type": "stream",
     "text": [
      "train mean loss=-373.0808367047991\n"
     ]
    },
    {
     "name": "stderr",
     "output_type": "stream",
     "text": [
      "100%|██████████| 3/3 [00:00<00:00, 375.92it/s]\n"
     ]
    },
    {
     "name": "stdout",
     "output_type": "stream",
     "text": [
      "test  mean loss=-571.5923207600912\n",
      "epoch: 3\n",
      "NDCG@100 | train: 0.3943901562076325, test: 0.9552529305546773\n",
      "epoch 3\n"
     ]
    },
    {
     "name": "stderr",
     "output_type": "stream",
     "text": [
      "100%|██████████| 7/7 [00:00<00:00, 131.66it/s]\n"
     ]
    },
    {
     "name": "stdout",
     "output_type": "stream",
     "text": [
      "train mean loss=-563.9030630929129\n"
     ]
    },
    {
     "name": "stderr",
     "output_type": "stream",
     "text": [
      "100%|██████████| 3/3 [00:00<00:00, 334.23it/s]\n"
     ]
    },
    {
     "name": "stdout",
     "output_type": "stream",
     "text": [
      "test  mean loss=-816.2721659342448\n",
      "epoch: 4\n",
      "NDCG@100 | train: 0.3943901562076325, test: 0.9552529305546773\n",
      "epoch 4\n"
     ]
    },
    {
     "name": "stderr",
     "output_type": "stream",
     "text": [
      "100%|██████████| 7/7 [00:00<00:00, 149.35it/s]\n"
     ]
    },
    {
     "name": "stdout",
     "output_type": "stream",
     "text": [
      "train mean loss=-784.6604614257812\n"
     ]
    },
    {
     "name": "stderr",
     "output_type": "stream",
     "text": [
      "100%|██████████| 3/3 [00:00<00:00, 429.76it/s]\n"
     ]
    },
    {
     "name": "stdout",
     "output_type": "stream",
     "text": [
      "test  mean loss=-1102.8873291015625\n",
      "epoch: 5\n",
      "NDCG@100 | train: 0.3943901562076325, test: 0.9552529305546773\n",
      "epoch 5\n"
     ]
    },
    {
     "name": "stderr",
     "output_type": "stream",
     "text": [
      "100%|██████████| 7/7 [00:00<00:00, 104.76it/s]\n"
     ]
    },
    {
     "name": "stdout",
     "output_type": "stream",
     "text": [
      "train mean loss=-1047.5677926199776\n"
     ]
    },
    {
     "name": "stderr",
     "output_type": "stream",
     "text": [
      "100%|██████████| 3/3 [00:00<00:00, 334.19it/s]\n"
     ]
    },
    {
     "name": "stdout",
     "output_type": "stream",
     "text": [
      "test  mean loss=-1442.1264750162761\n",
      "epoch: 6\n",
      "NDCG@100 | train: 0.3943901562076325, test: 0.9552529305546773\n",
      "epoch 6\n"
     ]
    },
    {
     "name": "stderr",
     "output_type": "stream",
     "text": [
      "100%|██████████| 7/7 [00:00<00:00, 121.00it/s]\n"
     ]
    },
    {
     "name": "stdout",
     "output_type": "stream",
     "text": [
      "train mean loss=-1351.2508893694196\n"
     ]
    },
    {
     "name": "stderr",
     "output_type": "stream",
     "text": [
      "100%|██████████| 3/3 [00:00<00:00, 250.71it/s]\n"
     ]
    },
    {
     "name": "stdout",
     "output_type": "stream",
     "text": [
      "test  mean loss=-1842.97509765625\n",
      "epoch: 7\n",
      "NDCG@100 | train: 0.3943901562076325, test: 0.9552529305546773\n",
      "epoch 7\n"
     ]
    },
    {
     "name": "stderr",
     "output_type": "stream",
     "text": [
      "100%|██████████| 7/7 [00:00<00:00, 111.56it/s]\n"
     ]
    },
    {
     "name": "stdout",
     "output_type": "stream",
     "text": [
      "train mean loss=-1719.9251708984375\n"
     ]
    },
    {
     "name": "stderr",
     "output_type": "stream",
     "text": [
      "100%|██████████| 3/3 [00:00<00:00, 429.69it/s]\n"
     ]
    },
    {
     "name": "stdout",
     "output_type": "stream",
     "text": [
      "test  mean loss=-2311.6375122070312\n",
      "epoch: 8\n",
      "NDCG@100 | train: 0.3943901562076325, test: 0.9552529305546773\n",
      "epoch 8\n"
     ]
    },
    {
     "name": "stderr",
     "output_type": "stream",
     "text": [
      "100%|██████████| 7/7 [00:00<00:00, 103.22it/s]\n"
     ]
    },
    {
     "name": "stdout",
     "output_type": "stream",
     "text": [
      "train mean loss=-2149.5248674665177\n"
     ]
    },
    {
     "name": "stderr",
     "output_type": "stream",
     "text": [
      "100%|██████████| 3/3 [00:00<00:00, 250.64it/s]\n"
     ]
    },
    {
     "name": "stdout",
     "output_type": "stream",
     "text": [
      "test  mean loss=-2862.229939778646\n",
      "epoch: 9\n",
      "NDCG@100 | train: 0.3943901562076325, test: 0.9552529305546773\n",
      "epoch 9\n"
     ]
    },
    {
     "name": "stderr",
     "output_type": "stream",
     "text": [
      "100%|██████████| 7/7 [00:00<00:00, 106.35it/s]\n"
     ]
    },
    {
     "name": "stdout",
     "output_type": "stream",
     "text": [
      "train mean loss=-2633.9070172991073\n"
     ]
    },
    {
     "name": "stderr",
     "output_type": "stream",
     "text": [
      "100%|██████████| 3/3 [00:00<00:00, 300.83it/s]\n"
     ]
    },
    {
     "name": "stdout",
     "output_type": "stream",
     "text": [
      "test  mean loss=-3510.517822265625\n",
      "epoch: 10\n",
      "NDCG@100 | train: 0.3943901562076325, test: 0.9552529305546773\n",
      "epoch 10\n"
     ]
    },
    {
     "name": "stderr",
     "output_type": "stream",
     "text": [
      "100%|██████████| 7/7 [00:00<00:00, 118.98it/s]\n"
     ]
    },
    {
     "name": "stdout",
     "output_type": "stream",
     "text": [
      "train mean loss=-3224.5787179129466\n"
     ]
    },
    {
     "name": "stderr",
     "output_type": "stream",
     "text": [
      "100%|██████████| 3/3 [00:00<00:00, 334.28it/s]\n"
     ]
    },
    {
     "name": "stdout",
     "output_type": "stream",
     "text": [
      "test  mean loss=-4251.5805257161455\n",
      "epoch: 11\n",
      "NDCG@100 | train: 0.3943901562076325, test: 0.9552529305546773\n",
      "save the model\n",
      "save the optimizer\n",
      "[[0.]\n",
      " [0.]\n",
      " [0.]\n",
      " [0.]\n",
      " [0.]\n",
      " [0.]\n",
      " [0.]\n",
      " [0.]\n",
      " [0.]\n",
      " [0.]]\n",
      "10 ricerca di merda\n",
      "7\n",
      "load dataset\n",
      "The number of data, train: 4 validate: 3\n",
      "prepare initialized model!\n",
      "Start training and validation loop......\n",
      "epoch 1\n"
     ]
    },
    {
     "name": "stderr",
     "output_type": "stream",
     "text": [
      "100%|██████████| 4/4 [00:00<00:00, 100.26it/s]\n"
     ]
    },
    {
     "name": "stdout",
     "output_type": "stream",
     "text": [
      "train mean loss=-254.05041313171387\n"
     ]
    },
    {
     "name": "stderr",
     "output_type": "stream",
     "text": [
      "100%|██████████| 3/3 [00:00<00:00, 231.40it/s]\n"
     ]
    },
    {
     "name": "stdout",
     "output_type": "stream",
     "text": [
      "test  mean loss=-658.6053466796875\n",
      "epoch: 2\n",
      "NDCG@100 | train: 0.8158404962324252, test: 1.0\n",
      "epoch 2\n"
     ]
    },
    {
     "name": "stderr",
     "output_type": "stream",
     "text": [
      "100%|██████████| 4/4 [00:00<00:00, 108.38it/s]\n"
     ]
    },
    {
     "name": "stdout",
     "output_type": "stream",
     "text": [
      "train mean loss=-531.9034042358398\n"
     ]
    },
    {
     "name": "stderr",
     "output_type": "stream",
     "text": [
      "100%|██████████| 3/3 [00:00<00:00, 231.41it/s]\n"
     ]
    },
    {
     "name": "stdout",
     "output_type": "stream",
     "text": [
      "test  mean loss=-1070.5626017252605\n",
      "epoch: 3\n",
      "NDCG@100 | train: 0.8158404962324252, test: 1.0\n",
      "epoch 3\n"
     ]
    },
    {
     "name": "stderr",
     "output_type": "stream",
     "text": [
      "100%|██████████| 4/4 [00:00<00:00, 105.53it/s]\n"
     ]
    },
    {
     "name": "stdout",
     "output_type": "stream",
     "text": [
      "train mean loss=-813.0393447875977\n"
     ]
    },
    {
     "name": "stderr",
     "output_type": "stream",
     "text": [
      "100%|██████████| 3/3 [00:00<00:00, 375.89it/s]\n"
     ]
    },
    {
     "name": "stdout",
     "output_type": "stream",
     "text": [
      "test  mean loss=-1457.0482991536458\n",
      "epoch: 4\n",
      "NDCG@100 | train: 0.8158404962324252, test: 1.0\n",
      "epoch 4\n"
     ]
    },
    {
     "name": "stderr",
     "output_type": "stream",
     "text": [
      "100%|██████████| 4/4 [00:00<00:00, 108.40it/s]\n"
     ]
    },
    {
     "name": "stdout",
     "output_type": "stream",
     "text": [
      "train mean loss=-1078.4335021972656\n"
     ]
    },
    {
     "name": "stderr",
     "output_type": "stream",
     "text": [
      "100%|██████████| 3/3 [00:00<00:00, 300.77it/s]\n"
     ]
    },
    {
     "name": "stdout",
     "output_type": "stream",
     "text": [
      "test  mean loss=-1872.5707600911458\n",
      "epoch: 5\n",
      "NDCG@100 | train: 0.8158404962324252, test: 1.0\n",
      "epoch 5\n"
     ]
    },
    {
     "name": "stderr",
     "output_type": "stream",
     "text": [
      "100%|██████████| 4/4 [00:00<00:00, 97.82it/s]\n"
     ]
    },
    {
     "name": "stdout",
     "output_type": "stream",
     "text": [
      "train mean loss=-1366.4826354980469\n"
     ]
    },
    {
     "name": "stderr",
     "output_type": "stream",
     "text": [
      "100%|██████████| 3/3 [00:00<00:00, 334.23it/s]\n"
     ]
    },
    {
     "name": "stdout",
     "output_type": "stream",
     "text": [
      "test  mean loss=-2318.544718424479\n",
      "epoch: 6\n",
      "NDCG@100 | train: 0.8158404962324252, test: 1.0\n",
      "epoch 6\n"
     ]
    },
    {
     "name": "stderr",
     "output_type": "stream",
     "text": [
      "100%|██████████| 4/4 [00:00<00:00, 105.54it/s]\n"
     ]
    },
    {
     "name": "stdout",
     "output_type": "stream",
     "text": [
      "train mean loss=-1661.5300903320312\n"
     ]
    },
    {
     "name": "stderr",
     "output_type": "stream",
     "text": [
      "100%|██████████| 3/3 [00:00<00:00, 375.64it/s]\n"
     ]
    },
    {
     "name": "stdout",
     "output_type": "stream",
     "text": [
      "test  mean loss=-2805.1876627604165\n",
      "epoch: 7\n",
      "NDCG@100 | train: 0.8158404962324252, test: 1.0\n",
      "epoch 7\n"
     ]
    },
    {
     "name": "stderr",
     "output_type": "stream",
     "text": [
      "100%|██████████| 4/4 [00:00<00:00, 125.36it/s]\n"
     ]
    },
    {
     "name": "stdout",
     "output_type": "stream",
     "text": [
      "train mean loss=-2005.7334289550781\n"
     ]
    },
    {
     "name": "stderr",
     "output_type": "stream",
     "text": [
      "100%|██████████| 3/3 [00:00<00:00, 376.29it/s]\n"
     ]
    },
    {
     "name": "stdout",
     "output_type": "stream",
     "text": [
      "test  mean loss=-3329.7703450520835\n",
      "epoch: 8\n",
      "NDCG@100 | train: 0.8158404962324252, test: 1.0\n",
      "epoch 8\n"
     ]
    },
    {
     "name": "stderr",
     "output_type": "stream",
     "text": [
      "100%|██████████| 4/4 [00:00<00:00, 133.69it/s]\n"
     ]
    },
    {
     "name": "stdout",
     "output_type": "stream",
     "text": [
      "train mean loss=-2375.622528076172\n"
     ]
    },
    {
     "name": "stderr",
     "output_type": "stream",
     "text": [
      "100%|██████████| 3/3 [00:00<00:00, 501.25it/s]\n"
     ]
    },
    {
     "name": "stdout",
     "output_type": "stream",
     "text": [
      "test  mean loss=-3898.33740234375\n",
      "epoch: 9\n",
      "NDCG@100 | train: 0.8158404962324252, test: 1.0\n",
      "epoch 9\n"
     ]
    },
    {
     "name": "stderr",
     "output_type": "stream",
     "text": [
      "100%|██████████| 4/4 [00:00<00:00, 125.34it/s]\n"
     ]
    },
    {
     "name": "stdout",
     "output_type": "stream",
     "text": [
      "train mean loss=-2762.8977966308594\n"
     ]
    },
    {
     "name": "stderr",
     "output_type": "stream",
     "text": [
      "100%|██████████| 3/3 [00:00<00:00, 334.24it/s]\n"
     ]
    },
    {
     "name": "stdout",
     "output_type": "stream",
     "text": [
      "test  mean loss=-4520.391764322917\n",
      "epoch: 10\n",
      "NDCG@100 | train: 0.8158404962324252, test: 1.0\n",
      "epoch 10\n"
     ]
    },
    {
     "name": "stderr",
     "output_type": "stream",
     "text": [
      "100%|██████████| 4/4 [00:00<00:00, 111.40it/s]\n"
     ]
    },
    {
     "name": "stdout",
     "output_type": "stream",
     "text": [
      "train mean loss=-3197.0847778320312\n"
     ]
    },
    {
     "name": "stderr",
     "output_type": "stream",
     "text": [
      "100%|██████████| 3/3 [00:00<00:00, 250.62it/s]\n"
     ]
    },
    {
     "name": "stdout",
     "output_type": "stream",
     "text": [
      "test  mean loss=-5196.639811197917\n",
      "epoch: 11\n",
      "NDCG@100 | train: 0.8158404962324252, test: 1.0\n",
      "save the model\n",
      "save the optimizer\n",
      "[[0.]\n",
      " [0.]\n",
      " [0.]\n",
      " [0.]\n",
      " [0.]\n",
      " [0.]\n",
      " [0.]]\n",
      "12 ricerca di merda\n",
      "11\n",
      "load dataset\n",
      "The number of data, train: 7 validate: 4\n",
      "prepare initialized model!\n",
      "Start training and validation loop......\n",
      "epoch 1\n"
     ]
    },
    {
     "name": "stderr",
     "output_type": "stream",
     "text": [
      "100%|██████████| 7/7 [00:00<00:00, 123.15it/s]\n"
     ]
    },
    {
     "name": "stdout",
     "output_type": "stream",
     "text": [
      "train mean loss=-132.87460119383675\n"
     ]
    },
    {
     "name": "stderr",
     "output_type": "stream",
     "text": [
      "100%|██████████| 4/4 [00:00<00:00, 501.55it/s]\n"
     ]
    },
    {
     "name": "stdout",
     "output_type": "stream",
     "text": [
      "test  mean loss=-149.23094408027828\n",
      "epoch: 2\n",
      "NDCG@100 | train: 0.5692897379691039, test: 0.687147515984829\n",
      "epoch 2\n"
     ]
    },
    {
     "name": "stderr",
     "output_type": "stream",
     "text": [
      "  0%|          | 0/7 [00:00<?, ?it/s]C:\\Users\\giaco\\PycharmProjects\\listnetShiba\\ListNet.py:58: RuntimeWarning: invalid value encountered in greater\n",
      "  ind = vec_true.data * vec_compare.data > 0\n",
      "C:\\Users\\giaco\\Anaconda3\\lib\\site-packages\\chainer\\functions\\activation\\relu.py:99: RuntimeWarning: invalid value encountered in greater\n",
      "  gx = gy * (self.b > 0)\n",
      "100%|██████████| 7/7 [00:00<00:00, 85.60it/s]\n"
     ]
    },
    {
     "name": "stdout",
     "output_type": "stream",
     "text": [
      "train mean loss=-82.78476671235902\n"
     ]
    },
    {
     "name": "stderr",
     "output_type": "stream",
     "text": [
      "100%|██████████| 4/4 [00:00<00:00, 307.75it/s]\n"
     ]
    },
    {
     "name": "stdout",
     "output_type": "stream",
     "text": [
      "test  mean loss=0.0\n",
      "epoch: 3\n",
      "NDCG@100 | train: 0.5692897379691039, test: 0.8026120593560899\n",
      "epoch 3\n"
     ]
    },
    {
     "name": "stderr",
     "output_type": "stream",
     "text": [
      "100%|██████████| 7/7 [00:00<00:00, 134.98it/s]\n"
     ]
    },
    {
     "name": "stdout",
     "output_type": "stream",
     "text": [
      "train mean loss=0.0\n"
     ]
    },
    {
     "name": "stderr",
     "output_type": "stream",
     "text": [
      "100%|██████████| 4/4 [00:00<00:00, 334.22it/s]\n"
     ]
    },
    {
     "name": "stdout",
     "output_type": "stream",
     "text": [
      "test  mean loss=0.0\n",
      "epoch: 4\n",
      "NDCG@100 | train: 0.5692897379691039, test: 0.8026120593560899\n",
      "epoch 4\n"
     ]
    },
    {
     "name": "stderr",
     "output_type": "stream",
     "text": [
      "100%|██████████| 7/7 [00:00<00:00, 115.06it/s]\n"
     ]
    },
    {
     "name": "stdout",
     "output_type": "stream",
     "text": [
      "train mean loss=0.0\n"
     ]
    },
    {
     "name": "stderr",
     "output_type": "stream",
     "text": [
      "100%|██████████| 4/4 [00:00<00:00, 250.69it/s]\n"
     ]
    },
    {
     "name": "stdout",
     "output_type": "stream",
     "text": [
      "test  mean loss=0.0\n",
      "epoch: 5\n",
      "NDCG@100 | train: 0.5692897379691039, test: 0.8026120593560899\n",
      "epoch 5\n"
     ]
    },
    {
     "name": "stderr",
     "output_type": "stream",
     "text": [
      "100%|██████████| 7/7 [00:00<00:00, 111.41it/s]\n"
     ]
    },
    {
     "name": "stdout",
     "output_type": "stream",
     "text": [
      "train mean loss=0.0\n"
     ]
    },
    {
     "name": "stderr",
     "output_type": "stream",
     "text": [
      "100%|██████████| 4/4 [00:00<00:00, 364.58it/s]\n"
     ]
    },
    {
     "name": "stdout",
     "output_type": "stream",
     "text": [
      "test  mean loss=0.0\n",
      "epoch: 6\n",
      "NDCG@100 | train: 0.5692897379691039, test: 0.8026120593560899\n",
      "epoch 6\n"
     ]
    },
    {
     "name": "stderr",
     "output_type": "stream",
     "text": [
      "100%|██████████| 7/7 [00:00<00:00, 163.23it/s]\n"
     ]
    },
    {
     "name": "stdout",
     "output_type": "stream",
     "text": [
      "train mean loss=0.0\n"
     ]
    },
    {
     "name": "stderr",
     "output_type": "stream",
     "text": [
      "100%|██████████| 4/4 [00:00<00:00, 573.01it/s]\n"
     ]
    },
    {
     "name": "stdout",
     "output_type": "stream",
     "text": [
      "test  mean loss=0.0\n",
      "epoch: 7\n",
      "NDCG@100 | train: 0.5692897379691039, test: 0.8026120593560899\n",
      "epoch 7\n"
     ]
    },
    {
     "name": "stderr",
     "output_type": "stream",
     "text": [
      "100%|██████████| 7/7 [00:00<00:00, 140.38it/s]\n"
     ]
    },
    {
     "name": "stdout",
     "output_type": "stream",
     "text": [
      "train mean loss=0.0\n"
     ]
    },
    {
     "name": "stderr",
     "output_type": "stream",
     "text": [
      "100%|██████████| 4/4 [00:00<00:00, 445.60it/s]\n"
     ]
    },
    {
     "name": "stdout",
     "output_type": "stream",
     "text": [
      "test  mean loss=0.0\n",
      "epoch: 8\n",
      "NDCG@100 | train: 0.5692897379691039, test: 0.8026120593560899\n",
      "epoch 8\n"
     ]
    },
    {
     "name": "stderr",
     "output_type": "stream",
     "text": [
      "100%|██████████| 7/7 [00:00<00:00, 140.38it/s]\n"
     ]
    },
    {
     "name": "stdout",
     "output_type": "stream",
     "text": [
      "train mean loss=0.0\n"
     ]
    },
    {
     "name": "stderr",
     "output_type": "stream",
     "text": [
      "100%|██████████| 4/4 [00:00<00:00, 308.60it/s]\n"
     ]
    },
    {
     "name": "stdout",
     "output_type": "stream",
     "text": [
      "test  mean loss=0.0\n",
      "epoch: 9\n",
      "NDCG@100 | train: 0.5692897379691039, test: 0.8026120593560899\n",
      "epoch 9\n"
     ]
    },
    {
     "name": "stderr",
     "output_type": "stream",
     "text": [
      "100%|██████████| 7/7 [00:00<00:00, 104.76it/s]\n"
     ]
    },
    {
     "name": "stdout",
     "output_type": "stream",
     "text": [
      "train mean loss=0.0\n"
     ]
    },
    {
     "name": "stderr",
     "output_type": "stream",
     "text": [
      "100%|██████████| 4/4 [00:00<00:00, 334.22it/s]\n"
     ]
    },
    {
     "name": "stdout",
     "output_type": "stream",
     "text": [
      "test  mean loss=0.0\n",
      "epoch: 10\n",
      "NDCG@100 | train: 0.5692897379691039, test: 0.8026120593560899\n",
      "epoch 10\n"
     ]
    },
    {
     "name": "stderr",
     "output_type": "stream",
     "text": [
      "100%|██████████| 7/7 [00:00<00:00, 125.31it/s]\n"
     ]
    },
    {
     "name": "stdout",
     "output_type": "stream",
     "text": [
      "train mean loss=0.0\n"
     ]
    },
    {
     "name": "stderr",
     "output_type": "stream",
     "text": [
      "100%|██████████| 4/4 [00:00<00:00, 364.57it/s]\n"
     ]
    },
    {
     "name": "stdout",
     "output_type": "stream",
     "text": [
      "test  mean loss=0.0\n",
      "epoch: 11\n",
      "NDCG@100 | train: 0.5692897379691039, test: 0.8026120593560899\n",
      "save the model\n",
      "save the optimizer\n",
      "[[nan]\n",
      " [nan]\n",
      " [nan]\n",
      " [nan]\n",
      " [nan]\n",
      " [nan]\n",
      " [nan]\n",
      " [nan]\n",
      " [nan]\n",
      " [nan]\n",
      " [nan]]\n",
      "14 ricerca di merda\n",
      "15 ricerca di merda\n",
      "10\n",
      "load dataset\n",
      "The number of data, train: 7 validate: 3\n",
      "prepare initialized model!\n",
      "Start training and validation loop......\n",
      "epoch 1\n"
     ]
    },
    {
     "name": "stderr",
     "output_type": "stream",
     "text": [
      "100%|██████████| 7/7 [00:00<00:00, 116.98it/s]\n"
     ]
    },
    {
     "name": "stdout",
     "output_type": "stream",
     "text": [
      "train mean loss=-344.1340337480818\n"
     ]
    },
    {
     "name": "stderr",
     "output_type": "stream",
     "text": [
      "100%|██████████| 3/3 [00:00<00:00, 334.55it/s]\n"
     ]
    },
    {
     "name": "stdout",
     "output_type": "stream",
     "text": [
      "test  mean loss=-595.8583984375\n",
      "epoch: 2\n",
      "NDCG@100 | train: 1.0, test: 1.0\n",
      "epoch 2\n"
     ]
    },
    {
     "name": "stderr",
     "output_type": "stream",
     "text": [
      "100%|██████████| 7/7 [00:00<00:00, 189.70it/s]\n"
     ]
    },
    {
     "name": "stdout",
     "output_type": "stream",
     "text": [
      "train mean loss=-1002.3233686174665\n"
     ]
    },
    {
     "name": "stderr",
     "output_type": "stream",
     "text": [
      "100%|██████████| 3/3 [00:00<00:00, 429.64it/s]\n"
     ]
    },
    {
     "name": "stdout",
     "output_type": "stream",
     "text": [
      "test  mean loss=-990.5608520507812\n",
      "epoch: 3\n",
      "NDCG@100 | train: 1.0, test: 1.0\n",
      "epoch 3\n"
     ]
    },
    {
     "name": "stderr",
     "output_type": "stream",
     "text": [
      "100%|██████████| 7/7 [00:00<00:00, 140.37it/s]\n"
     ]
    },
    {
     "name": "stdout",
     "output_type": "stream",
     "text": [
      "train mean loss=-1517.7730538504463\n"
     ]
    },
    {
     "name": "stderr",
     "output_type": "stream",
     "text": [
      "100%|██████████| 3/3 [00:00<00:00, 300.73it/s]\n"
     ]
    },
    {
     "name": "stdout",
     "output_type": "stream",
     "text": [
      "test  mean loss=-1441.5506184895833\n",
      "epoch: 4\n",
      "NDCG@100 | train: 1.0, test: 1.0\n",
      "epoch 4\n"
     ]
    },
    {
     "name": "stderr",
     "output_type": "stream",
     "text": [
      "100%|██████████| 7/7 [00:00<00:00, 129.99it/s]\n"
     ]
    },
    {
     "name": "stdout",
     "output_type": "stream",
     "text": [
      "train mean loss=-2070.548749651228\n"
     ]
    },
    {
     "name": "stderr",
     "output_type": "stream",
     "text": [
      "100%|██████████| 3/3 [00:00<00:00, 429.89it/s]\n"
     ]
    },
    {
     "name": "stdout",
     "output_type": "stream",
     "text": [
      "test  mean loss=-1974.1704915364583\n",
      "epoch: 5\n",
      "NDCG@100 | train: 1.0, test: 1.0\n",
      "epoch 5\n"
     ]
    },
    {
     "name": "stderr",
     "output_type": "stream",
     "text": [
      "100%|██████████| 7/7 [00:00<00:00, 116.97it/s]\n"
     ]
    },
    {
     "name": "stdout",
     "output_type": "stream",
     "text": [
      "train mean loss=-2783.4387642996653\n"
     ]
    },
    {
     "name": "stderr",
     "output_type": "stream",
     "text": [
      "100%|██████████| 3/3 [00:00<00:00, 300.75it/s]\n"
     ]
    },
    {
     "name": "stdout",
     "output_type": "stream",
     "text": [
      "test  mean loss=-2572.054931640625\n",
      "epoch: 6\n",
      "NDCG@100 | train: 1.0, test: 1.0\n",
      "epoch 6\n"
     ]
    },
    {
     "name": "stderr",
     "output_type": "stream",
     "text": [
      "100%|██████████| 7/7 [00:00<00:00, 129.99it/s]\n"
     ]
    },
    {
     "name": "stdout",
     "output_type": "stream",
     "text": [
      "train mean loss=-3571.0584716796875\n"
     ]
    },
    {
     "name": "stderr",
     "output_type": "stream",
     "text": [
      "100%|██████████| 3/3 [00:00<00:00, 501.29it/s]\n"
     ]
    },
    {
     "name": "stdout",
     "output_type": "stream",
     "text": [
      "test  mean loss=-3266.49755859375\n",
      "epoch: 7\n",
      "NDCG@100 | train: 1.0, test: 1.0\n",
      "epoch 7\n"
     ]
    },
    {
     "name": "stderr",
     "output_type": "stream",
     "text": [
      "100%|██████████| 7/7 [00:00<00:00, 97.48it/s]\n"
     ]
    },
    {
     "name": "stdout",
     "output_type": "stream",
     "text": [
      "train mean loss=-4642.53742327009\n"
     ]
    },
    {
     "name": "stderr",
     "output_type": "stream",
     "text": [
      "100%|██████████| 3/3 [00:00<00:00, 375.93it/s]\n"
     ]
    },
    {
     "name": "stdout",
     "output_type": "stream",
     "text": [
      "test  mean loss=-4020.9521484375\n",
      "epoch: 8\n",
      "NDCG@100 | train: 1.0, test: 1.0\n",
      "epoch 8\n"
     ]
    },
    {
     "name": "stderr",
     "output_type": "stream",
     "text": [
      "100%|██████████| 7/7 [00:00<00:00, 118.96it/s]\n"
     ]
    },
    {
     "name": "stdout",
     "output_type": "stream",
     "text": [
      "train mean loss=-5722.341988699777\n"
     ]
    },
    {
     "name": "stderr",
     "output_type": "stream",
     "text": [
      "100%|██████████| 3/3 [00:00<00:00, 375.91it/s]\n"
     ]
    },
    {
     "name": "stdout",
     "output_type": "stream",
     "text": [
      "test  mean loss=-4915.864583333333\n",
      "epoch: 9\n",
      "NDCG@100 | train: 1.0, test: 1.0\n",
      "epoch 9\n"
     ]
    },
    {
     "name": "stderr",
     "output_type": "stream",
     "text": [
      "100%|██████████| 7/7 [00:00<00:00, 123.14it/s]\n"
     ]
    },
    {
     "name": "stdout",
     "output_type": "stream",
     "text": [
      "train mean loss=-6745.919084821428\n"
     ]
    },
    {
     "name": "stderr",
     "output_type": "stream",
     "text": [
      "100%|██████████| 3/3 [00:00<00:00, 334.30it/s]\n"
     ]
    },
    {
     "name": "stdout",
     "output_type": "stream",
     "text": [
      "test  mean loss=-6042.3544921875\n",
      "epoch: 10\n",
      "NDCG@100 | train: 1.0, test: 1.0\n",
      "epoch 10\n"
     ]
    },
    {
     "name": "stderr",
     "output_type": "stream",
     "text": [
      "100%|██████████| 7/7 [00:00<00:00, 140.39it/s]\n"
     ]
    },
    {
     "name": "stdout",
     "output_type": "stream",
     "text": [
      "train mean loss=-8287.439069475446\n"
     ]
    },
    {
     "name": "stderr",
     "output_type": "stream",
     "text": [
      "100%|██████████| 3/3 [00:00<00:00, 501.35it/s]\n"
     ]
    },
    {
     "name": "stdout",
     "output_type": "stream",
     "text": [
      "test  mean loss=-7255.706705729167\n",
      "epoch: 11\n",
      "NDCG@100 | train: 1.0, test: 1.0\n",
      "save the model\n",
      "save the optimizer\n",
      "[[0.]\n",
      " [0.]\n",
      " [0.]\n",
      " [0.]\n",
      " [0.]\n",
      " [0.]\n",
      " [0.]\n",
      " [0.]\n",
      " [0.]\n",
      " [0.]]\n",
      "17 ricerca di merda\n",
      "12\n",
      "load dataset\n",
      "The number of data, train: 8 validate: 4\n",
      "prepare initialized model!\n",
      "Start training and validation loop......\n",
      "epoch 1\n"
     ]
    },
    {
     "name": "stderr",
     "output_type": "stream",
     "text": [
      "100%|██████████| 8/8 [00:00<00:00, 108.40it/s]\n"
     ]
    },
    {
     "name": "stdout",
     "output_type": "stream",
     "text": [
      "train mean loss=-247.12020254135132\n"
     ]
    },
    {
     "name": "stderr",
     "output_type": "stream",
     "text": [
      "100%|██████████| 4/4 [00:00<00:00, 308.44it/s]\n"
     ]
    },
    {
     "name": "stdout",
     "output_type": "stream",
     "text": [
      "test  mean loss=-576.2733688354492\n",
      "epoch: 2\n",
      "NDCG@100 | train: 0.30870652142963195, test: 0.9316371148786331\n",
      "epoch 2\n"
     ]
    },
    {
     "name": "stderr",
     "output_type": "stream",
     "text": [
      "100%|██████████| 8/8 [00:00<00:00, 117.96it/s]\n"
     ]
    },
    {
     "name": "stdout",
     "output_type": "stream",
     "text": [
      "train mean loss=-639.3657302856445\n"
     ]
    },
    {
     "name": "stderr",
     "output_type": "stream",
     "text": [
      "100%|██████████| 4/4 [00:00<00:00, 444.04it/s]\n"
     ]
    },
    {
     "name": "stdout",
     "output_type": "stream",
     "text": [
      "test  mean loss=-1050.0852355957031\n",
      "epoch: 3\n",
      "NDCG@100 | train: 0.30870652142963195, test: 0.9316371148786331\n",
      "epoch 3\n"
     ]
    },
    {
     "name": "stderr",
     "output_type": "stream",
     "text": [
      "100%|██████████| 8/8 [00:00<00:00, 129.29it/s]\n"
     ]
    },
    {
     "name": "stdout",
     "output_type": "stream",
     "text": [
      "train mean loss=-1058.5127182006836\n"
     ]
    },
    {
     "name": "stderr",
     "output_type": "stream",
     "text": [
      "100%|██████████| 4/4 [00:00<00:00, 501.38it/s]\n"
     ]
    },
    {
     "name": "stdout",
     "output_type": "stream",
     "text": [
      "test  mean loss=-1591.9918823242188\n",
      "epoch: 4\n",
      "NDCG@100 | train: 0.30870652142963195, test: 0.9316371148786331\n",
      "epoch 4\n"
     ]
    },
    {
     "name": "stderr",
     "output_type": "stream",
     "text": [
      "100%|██████████| 8/8 [00:00<00:00, 135.97it/s]\n"
     ]
    },
    {
     "name": "stdout",
     "output_type": "stream",
     "text": [
      "train mean loss=-1525.7970275878906\n"
     ]
    },
    {
     "name": "stderr",
     "output_type": "stream",
     "text": [
      "100%|██████████| 4/4 [00:00<00:00, 334.24it/s]\n"
     ]
    },
    {
     "name": "stdout",
     "output_type": "stream",
     "text": [
      "test  mean loss=-2264.1689453125\n",
      "epoch: 5\n",
      "NDCG@100 | train: 0.30870652142963195, test: 0.9316371148786331\n",
      "epoch 5\n"
     ]
    },
    {
     "name": "stderr",
     "output_type": "stream",
     "text": [
      "100%|██████████| 8/8 [00:00<00:00, 111.40it/s]\n"
     ]
    },
    {
     "name": "stdout",
     "output_type": "stream",
     "text": [
      "train mean loss=-2140.459518432617\n"
     ]
    },
    {
     "name": "stderr",
     "output_type": "stream",
     "text": [
      "100%|██████████| 4/4 [00:00<00:00, 334.18it/s]\n"
     ]
    },
    {
     "name": "stdout",
     "output_type": "stream",
     "text": [
      "test  mean loss=-3074.4702758789062\n",
      "epoch: 6\n",
      "NDCG@100 | train: 0.30870652142963195, test: 0.9316371148786331\n",
      "epoch 6\n"
     ]
    },
    {
     "name": "stderr",
     "output_type": "stream",
     "text": [
      "100%|██████████| 8/8 [00:00<00:00, 117.96it/s]\n"
     ]
    },
    {
     "name": "stdout",
     "output_type": "stream",
     "text": [
      "train mean loss=-2852.572540283203\n"
     ]
    },
    {
     "name": "stderr",
     "output_type": "stream",
     "text": [
      "100%|██████████| 4/4 [00:00<00:00, 364.79it/s]\n"
     ]
    },
    {
     "name": "stdout",
     "output_type": "stream",
     "text": [
      "test  mean loss=-4073.70361328125\n",
      "epoch: 7\n",
      "NDCG@100 | train: 0.30870652142963195, test: 0.9316371148786331\n",
      "epoch 7\n"
     ]
    },
    {
     "name": "stderr",
     "output_type": "stream",
     "text": [
      "100%|██████████| 8/8 [00:00<00:00, 125.34it/s]\n"
     ]
    },
    {
     "name": "stdout",
     "output_type": "stream",
     "text": [
      "train mean loss=-3712.337432861328\n"
     ]
    },
    {
     "name": "stderr",
     "output_type": "stream",
     "text": [
      "100%|██████████| 4/4 [00:00<00:00, 364.59it/s]\n"
     ]
    },
    {
     "name": "stdout",
     "output_type": "stream",
     "text": [
      "test  mean loss=-5286.5145263671875\n",
      "epoch: 8\n",
      "NDCG@100 | train: 0.30870652142963195, test: 0.9316371148786331\n",
      "epoch 8\n"
     ]
    },
    {
     "name": "stderr",
     "output_type": "stream",
     "text": [
      "100%|██████████| 8/8 [00:00<00:00, 135.95it/s]\n"
     ]
    },
    {
     "name": "stdout",
     "output_type": "stream",
     "text": [
      "train mean loss=-4786.859283447266\n"
     ]
    },
    {
     "name": "stderr",
     "output_type": "stream",
     "text": [
      "100%|██████████| 4/4 [00:00<00:00, 285.10it/s]\n"
     ]
    },
    {
     "name": "stdout",
     "output_type": "stream",
     "text": [
      "test  mean loss=-6721.4501953125\n",
      "epoch: 9\n",
      "NDCG@100 | train: 0.30870652142963195, test: 0.9316371148786331\n",
      "epoch 9\n"
     ]
    },
    {
     "name": "stderr",
     "output_type": "stream",
     "text": [
      "100%|██████████| 8/8 [00:00<00:00, 123.41it/s]\n"
     ]
    },
    {
     "name": "stdout",
     "output_type": "stream",
     "text": [
      "train mean loss=-6022.459411621094\n"
     ]
    },
    {
     "name": "stderr",
     "output_type": "stream",
     "text": [
      "100%|██████████| 4/4 [00:00<00:00, 668.52it/s]\n"
     ]
    },
    {
     "name": "stdout",
     "output_type": "stream",
     "text": [
      "test  mean loss=-8434.018188476562\n",
      "epoch: 10\n",
      "NDCG@100 | train: 0.30870652142963195, test: 0.9316371148786331\n",
      "epoch 10\n"
     ]
    },
    {
     "name": "stderr",
     "output_type": "stream",
     "text": [
      "100%|██████████| 8/8 [00:00<00:00, 167.11it/s]\n"
     ]
    },
    {
     "name": "stdout",
     "output_type": "stream",
     "text": [
      "train mean loss=-7521.345031738281\n"
     ]
    },
    {
     "name": "stderr",
     "output_type": "stream",
     "text": [
      "100%|██████████| 4/4 [00:00<00:00, 668.49it/s]\n"
     ]
    },
    {
     "name": "stdout",
     "output_type": "stream",
     "text": [
      "test  mean loss=-10428.0322265625\n",
      "epoch: 11\n",
      "NDCG@100 | train: 0.30870652142963195, test: 0.9316371148786331\n",
      "save the model\n",
      "save the optimizer\n",
      "[[0.]\n",
      " [0.]\n",
      " [0.]\n",
      " [0.]\n",
      " [0.]\n",
      " [0.]\n",
      " [0.]\n",
      " [0.]\n",
      " [0.]\n",
      " [0.]\n",
      " [0.]\n",
      " [0.]]\n",
      "13\n",
      "load dataset\n",
      "The number of data, train: 9 validate: 4\n",
      "prepare initialized model!\n",
      "Start training and validation loop......\n",
      "epoch 1\n"
     ]
    },
    {
     "name": "stderr",
     "output_type": "stream",
     "text": [
      "100%|██████████| 9/9 [00:00<00:00, 136.73it/s]\n"
     ]
    },
    {
     "name": "stdout",
     "output_type": "stream",
     "text": [
      "train mean loss=-37.0609982808431\n"
     ]
    },
    {
     "name": "stderr",
     "output_type": "stream",
     "text": [
      "100%|██████████| 4/4 [00:00<00:00, 802.32it/s]\n"
     ]
    },
    {
     "name": "stdout",
     "output_type": "stream",
     "text": [
      "test  mean loss=-261.08766174316406\n",
      "epoch: 2\n",
      "NDCG@100 | train: 0.6051789968227546, test: 1.0\n",
      "epoch 2\n"
     ]
    },
    {
     "name": "stderr",
     "output_type": "stream",
     "text": [
      "100%|██████████| 9/9 [00:00<00:00, 123.61it/s]\n"
     ]
    },
    {
     "name": "stdout",
     "output_type": "stream",
     "text": [
      "train mean loss=-131.84889242384168\n"
     ]
    },
    {
     "name": "stderr",
     "output_type": "stream",
     "text": [
      "100%|██████████| 4/4 [00:00<00:00, 796.94it/s]\n"
     ]
    },
    {
     "name": "stdout",
     "output_type": "stream",
     "text": [
      "test  mean loss=0.0\n",
      "epoch: 3\n",
      "NDCG@100 | train: 1.0, test: 1.0\n",
      "epoch 3\n"
     ]
    },
    {
     "name": "stderr",
     "output_type": "stream",
     "text": [
      "100%|██████████| 9/9 [00:00<00:00, 111.39it/s]\n"
     ]
    },
    {
     "name": "stdout",
     "output_type": "stream",
     "text": [
      "train mean loss=0.0\n"
     ]
    },
    {
     "name": "stderr",
     "output_type": "stream",
     "text": [
      "100%|██████████| 4/4 [00:00<00:00, 364.75it/s]\n"
     ]
    },
    {
     "name": "stdout",
     "output_type": "stream",
     "text": [
      "test  mean loss=0.0\n",
      "epoch: 4\n",
      "NDCG@100 | train: 1.0, test: 1.0\n",
      "epoch 4\n"
     ]
    },
    {
     "name": "stderr",
     "output_type": "stream",
     "text": [
      "100%|██████████| 9/9 [00:00<00:00, 141.00it/s]\n"
     ]
    },
    {
     "name": "stdout",
     "output_type": "stream",
     "text": [
      "train mean loss=0.0\n"
     ]
    },
    {
     "name": "stderr",
     "output_type": "stream",
     "text": [
      "100%|██████████| 4/4 [00:00<00:00, 501.44it/s]\n"
     ]
    },
    {
     "name": "stdout",
     "output_type": "stream",
     "text": [
      "test  mean loss=0.0\n",
      "epoch: 5\n",
      "NDCG@100 | train: 1.0, test: 1.0\n",
      "epoch 5\n"
     ]
    },
    {
     "name": "stderr",
     "output_type": "stream",
     "text": [
      "100%|██████████| 9/9 [00:00<00:00, 150.40it/s]\n"
     ]
    },
    {
     "name": "stdout",
     "output_type": "stream",
     "text": [
      "train mean loss=0.0\n"
     ]
    },
    {
     "name": "stderr",
     "output_type": "stream",
     "text": [
      "100%|██████████| 4/4 [00:00<00:00, 364.56it/s]\n"
     ]
    },
    {
     "name": "stdout",
     "output_type": "stream",
     "text": [
      "test  mean loss=0.0\n",
      "epoch: 6\n",
      "NDCG@100 | train: 1.0, test: 1.0\n",
      "epoch 6\n"
     ]
    },
    {
     "name": "stderr",
     "output_type": "stream",
     "text": [
      "100%|██████████| 9/9 [00:00<00:00, 136.73it/s]\n"
     ]
    },
    {
     "name": "stdout",
     "output_type": "stream",
     "text": [
      "train mean loss=0.0\n"
     ]
    },
    {
     "name": "stderr",
     "output_type": "stream",
     "text": [
      "100%|██████████| 4/4 [00:00<00:00, 572.97it/s]\n"
     ]
    },
    {
     "name": "stdout",
     "output_type": "stream",
     "text": [
      "test  mean loss=0.0\n",
      "epoch: 7\n",
      "NDCG@100 | train: 1.0, test: 1.0\n",
      "epoch 7\n"
     ]
    },
    {
     "name": "stderr",
     "output_type": "stream",
     "text": [
      "100%|██████████| 9/9 [00:00<00:00, 138.83it/s]\n"
     ]
    },
    {
     "name": "stdout",
     "output_type": "stream",
     "text": [
      "train mean loss=0.0\n"
     ]
    },
    {
     "name": "stderr",
     "output_type": "stream",
     "text": [
      "100%|██████████| 4/4 [00:00<00:00, 364.57it/s]\n"
     ]
    },
    {
     "name": "stdout",
     "output_type": "stream",
     "text": [
      "test  mean loss=0.0\n",
      "epoch: 8\n",
      "NDCG@100 | train: 1.0, test: 1.0\n",
      "epoch 8\n"
     ]
    },
    {
     "name": "stderr",
     "output_type": "stream",
     "text": [
      "100%|██████████| 9/9 [00:00<00:00, 120.32it/s]\n"
     ]
    },
    {
     "name": "stdout",
     "output_type": "stream",
     "text": [
      "train mean loss=0.0\n"
     ]
    },
    {
     "name": "stderr",
     "output_type": "stream",
     "text": [
      "100%|██████████| 4/4 [00:00<00:00, 334.29it/s]\n"
     ]
    },
    {
     "name": "stdout",
     "output_type": "stream",
     "text": [
      "test  mean loss=0.0\n",
      "epoch: 9\n",
      "NDCG@100 | train: 1.0, test: 1.0\n",
      "epoch 9\n"
     ]
    },
    {
     "name": "stderr",
     "output_type": "stream",
     "text": [
      "100%|██████████| 9/9 [00:00<00:00, 108.73it/s]\n"
     ]
    },
    {
     "name": "stdout",
     "output_type": "stream",
     "text": [
      "train mean loss=0.0\n"
     ]
    },
    {
     "name": "stderr",
     "output_type": "stream",
     "text": [
      "100%|██████████| 4/4 [00:00<00:00, 445.70it/s]\n"
     ]
    },
    {
     "name": "stdout",
     "output_type": "stream",
     "text": [
      "test  mean loss=0.0\n",
      "epoch: 10\n",
      "NDCG@100 | train: 1.0, test: 1.0\n",
      "epoch 10\n"
     ]
    },
    {
     "name": "stderr",
     "output_type": "stream",
     "text": [
      "100%|██████████| 9/9 [00:00<00:00, 115.70it/s]\n"
     ]
    },
    {
     "name": "stdout",
     "output_type": "stream",
     "text": [
      "train mean loss=0.0\n"
     ]
    },
    {
     "name": "stderr",
     "output_type": "stream",
     "text": [
      "100%|██████████| 4/4 [00:00<00:00, 501.34it/s]\n"
     ]
    },
    {
     "name": "stdout",
     "output_type": "stream",
     "text": [
      "test  mean loss=0.0\n",
      "epoch: 11\n",
      "NDCG@100 | train: 1.0, test: 1.0\n",
      "save the model\n",
      "save the optimizer\n",
      "[[nan]\n",
      " [nan]\n",
      " [nan]\n",
      " [nan]\n",
      " [nan]\n",
      " [nan]\n",
      " [nan]\n",
      " [nan]\n",
      " [nan]\n",
      " [nan]\n",
      " [nan]\n",
      " [nan]\n",
      " [nan]]\n",
      "20 ricerca di merda\n",
      "11\n",
      "load dataset\n",
      "The number of data, train: 7 validate: 4\n",
      "prepare initialized model!\n",
      "Start training and validation loop......\n",
      "epoch 1\n"
     ]
    },
    {
     "name": "stderr",
     "output_type": "stream",
     "text": [
      "100%|██████████| 7/7 [00:00<00:00, 123.13it/s]\n"
     ]
    },
    {
     "name": "stdout",
     "output_type": "stream",
     "text": [
      "train mean loss=-51.46274437223162\n"
     ]
    },
    {
     "name": "stderr",
     "output_type": "stream",
     "text": [
      "100%|██████████| 4/4 [00:00<00:00, 445.59it/s]\n"
     ]
    },
    {
     "name": "stdout",
     "output_type": "stream",
     "text": [
      "test  mean loss=-244.36966514587402\n",
      "epoch: 2\n",
      "NDCG@100 | train: 0.4175113851126525, test: 1.0\n",
      "epoch 2\n"
     ]
    },
    {
     "name": "stderr",
     "output_type": "stream",
     "text": [
      "100%|██████████| 7/7 [00:00<00:00, 127.56it/s]\n"
     ]
    },
    {
     "name": "stdout",
     "output_type": "stream",
     "text": [
      "train mean loss=-248.44284602573939\n"
     ]
    },
    {
     "name": "stderr",
     "output_type": "stream",
     "text": [
      "100%|██████████| 4/4 [00:00<00:00, 445.68it/s]\n"
     ]
    },
    {
     "name": "stdout",
     "output_type": "stream",
     "text": [
      "test  mean loss=-450.11977767944336\n",
      "epoch: 3\n",
      "NDCG@100 | train: 0.4175113851126525, test: 1.0\n",
      "epoch 3\n"
     ]
    },
    {
     "name": "stderr",
     "output_type": "stream",
     "text": [
      "100%|██████████| 7/7 [00:00<00:00, 127.62it/s]\n"
     ]
    },
    {
     "name": "stdout",
     "output_type": "stream",
     "text": [
      "train mean loss=-403.93868146623885\n"
     ]
    },
    {
     "name": "stderr",
     "output_type": "stream",
     "text": [
      "100%|██████████| 4/4 [00:00<00:00, 364.60it/s]\n"
     ]
    },
    {
     "name": "stdout",
     "output_type": "stream",
     "text": [
      "test  mean loss=-644.2213897705078\n",
      "epoch: 4\n",
      "NDCG@100 | train: 0.4175113851126525, test: 1.0\n",
      "epoch 4\n"
     ]
    },
    {
     "name": "stderr",
     "output_type": "stream",
     "text": [
      "100%|██████████| 7/7 [00:00<00:00, 127.62it/s]\n"
     ]
    },
    {
     "name": "stdout",
     "output_type": "stream",
     "text": [
      "train mean loss=-586.2659803118024\n"
     ]
    },
    {
     "name": "stderr",
     "output_type": "stream",
     "text": [
      "100%|██████████| 4/4 [00:00<00:00, 308.55it/s]\n"
     ]
    },
    {
     "name": "stdout",
     "output_type": "stream",
     "text": [
      "test  mean loss=-856.7476654052734\n",
      "epoch: 5\n",
      "NDCG@100 | train: 0.4175113851126525, test: 1.0\n",
      "epoch 5\n"
     ]
    },
    {
     "name": "stderr",
     "output_type": "stream",
     "text": [
      "100%|██████████| 7/7 [00:00<00:00, 131.12it/s]\n"
     ]
    },
    {
     "name": "stdout",
     "output_type": "stream",
     "text": [
      "train mean loss=-746.4164777483259\n"
     ]
    },
    {
     "name": "stderr",
     "output_type": "stream",
     "text": [
      "100%|██████████| 4/4 [00:00<00:00, 308.52it/s]\n"
     ]
    },
    {
     "name": "stdout",
     "output_type": "stream",
     "text": [
      "test  mean loss=-1121.3747482299805\n",
      "epoch: 6\n",
      "NDCG@100 | train: 0.4175113851126525, test: 1.0\n",
      "epoch 6\n"
     ]
    },
    {
     "name": "stderr",
     "output_type": "stream",
     "text": [
      "100%|██████████| 7/7 [00:00<00:00, 98.85it/s]\n"
     ]
    },
    {
     "name": "stdout",
     "output_type": "stream",
     "text": [
      "train mean loss=-968.1709115164621\n"
     ]
    },
    {
     "name": "stderr",
     "output_type": "stream",
     "text": [
      "100%|██████████| 4/4 [00:00<00:00, 401.12it/s]\n"
     ]
    },
    {
     "name": "stdout",
     "output_type": "stream",
     "text": [
      "test  mean loss=-1420.8759155273438\n",
      "epoch: 7\n",
      "NDCG@100 | train: 0.4175113851126525, test: 1.0\n",
      "epoch 7\n"
     ]
    },
    {
     "name": "stderr",
     "output_type": "stream",
     "text": [
      "100%|██████████| 7/7 [00:00<00:00, 131.14it/s]\n"
     ]
    },
    {
     "name": "stdout",
     "output_type": "stream",
     "text": [
      "train mean loss=-1223.7674560546875\n"
     ]
    },
    {
     "name": "stderr",
     "output_type": "stream",
     "text": [
      "100%|██████████| 4/4 [00:00<00:00, 400.91it/s]\n"
     ]
    },
    {
     "name": "stdout",
     "output_type": "stream",
     "text": [
      "test  mean loss=-1768.3135070800781\n",
      "epoch: 8\n",
      "NDCG@100 | train: 0.4175113851126525, test: 1.0\n",
      "epoch 8\n"
     ]
    },
    {
     "name": "stderr",
     "output_type": "stream",
     "text": [
      "100%|██████████| 7/7 [00:00<00:00, 118.97it/s]\n"
     ]
    },
    {
     "name": "stdout",
     "output_type": "stream",
     "text": [
      "train mean loss=-1547.3899972098213\n"
     ]
    },
    {
     "name": "stderr",
     "output_type": "stream",
     "text": [
      "100%|██████████| 4/4 [00:00<00:00, 308.51it/s]\n"
     ]
    },
    {
     "name": "stdout",
     "output_type": "stream",
     "text": [
      "test  mean loss=-2148.575897216797\n",
      "epoch: 9\n",
      "NDCG@100 | train: 0.4175113851126525, test: 1.0\n",
      "epoch 9\n"
     ]
    },
    {
     "name": "stderr",
     "output_type": "stream",
     "text": [
      "100%|██████████| 7/7 [00:00<00:00, 116.98it/s]\n"
     ]
    },
    {
     "name": "stdout",
     "output_type": "stream",
     "text": [
      "train mean loss=-1797.69380405971\n"
     ]
    },
    {
     "name": "stderr",
     "output_type": "stream",
     "text": [
      "100%|██████████| 4/4 [00:00<00:00, 267.38it/s]\n"
     ]
    },
    {
     "name": "stdout",
     "output_type": "stream",
     "text": [
      "test  mean loss=-2642.5128479003906\n",
      "epoch: 10\n",
      "NDCG@100 | train: 0.4175113851126525, test: 1.0\n",
      "epoch 10\n"
     ]
    },
    {
     "name": "stderr",
     "output_type": "stream",
     "text": [
      "100%|██████████| 7/7 [00:00<00:00, 132.43it/s]\n"
     ]
    },
    {
     "name": "stdout",
     "output_type": "stream",
     "text": [
      "train mean loss=-2233.0355922154017\n"
     ]
    },
    {
     "name": "stderr",
     "output_type": "stream",
     "text": [
      "100%|██████████| 4/4 [00:00<00:00, 334.35it/s]\n"
     ]
    },
    {
     "name": "stdout",
     "output_type": "stream",
     "text": [
      "test  mean loss=-3169.3299255371094\n",
      "epoch: 11\n",
      "NDCG@100 | train: 0.4175113851126525, test: 1.0\n",
      "save the model\n",
      "save the optimizer\n",
      "[[0.]\n",
      " [0.]\n",
      " [0.]\n",
      " [0.]\n",
      " [0.]\n",
      " [0.]\n",
      " [0.]\n",
      " [0.]\n",
      " [0.]\n",
      " [0.]\n",
      " [0.]]\n",
      "7\n",
      "load dataset\n",
      "The number of data, train: 4 validate: 3\n",
      "prepare initialized model!\n",
      "Start training and validation loop......\n",
      "epoch 1\n"
     ]
    },
    {
     "name": "stderr",
     "output_type": "stream",
     "text": [
      "100%|██████████| 4/4 [00:00<00:00, 125.32it/s]\n"
     ]
    },
    {
     "name": "stdout",
     "output_type": "stream",
     "text": [
      "train mean loss=-74.46264337003231\n"
     ]
    },
    {
     "name": "stderr",
     "output_type": "stream",
     "text": [
      "100%|██████████| 3/3 [00:00<00:00, 375.89it/s]\n"
     ]
    },
    {
     "name": "stdout",
     "output_type": "stream",
     "text": [
      "test  mean loss=-233.79768880208334\n",
      "epoch: 2\n",
      "NDCG@100 | train: 0.47636001715449405, test: 0.9858134195578705\n",
      "epoch 2\n"
     ]
    },
    {
     "name": "stderr",
     "output_type": "stream",
     "text": [
      "100%|██████████| 4/4 [00:00<00:00, 97.83it/s]\n"
     ]
    },
    {
     "name": "stdout",
     "output_type": "stream",
     "text": [
      "train mean loss=-238.09302139282227\n"
     ]
    },
    {
     "name": "stderr",
     "output_type": "stream",
     "text": [
      "100%|██████████| 3/3 [00:00<00:00, 300.87it/s]\n"
     ]
    },
    {
     "name": "stdout",
     "output_type": "stream",
     "text": [
      "test  mean loss=-429.5269368489583\n",
      "epoch: 3\n",
      "NDCG@100 | train: 0.47636001715449405, test: 0.9858134195578705\n",
      "epoch 3\n"
     ]
    },
    {
     "name": "stderr",
     "output_type": "stream",
     "text": [
      "100%|██████████| 4/4 [00:00<00:00, 102.84it/s]\n"
     ]
    },
    {
     "name": "stdout",
     "output_type": "stream",
     "text": [
      "train mean loss=-378.32037353515625\n"
     ]
    },
    {
     "name": "stderr",
     "output_type": "stream",
     "text": [
      "100%|██████████| 3/3 [00:00<00:00, 200.54it/s]\n"
     ]
    },
    {
     "name": "stdout",
     "output_type": "stream",
     "text": [
      "test  mean loss=-605.1396687825521\n",
      "epoch: 4\n",
      "NDCG@100 | train: 0.47636001715449405, test: 0.9858134195578705\n",
      "epoch 4\n"
     ]
    },
    {
     "name": "stderr",
     "output_type": "stream",
     "text": [
      "100%|██████████| 4/4 [00:00<00:00, 91.15it/s]\n"
     ]
    },
    {
     "name": "stdout",
     "output_type": "stream",
     "text": [
      "train mean loss=-510.1635971069336\n"
     ]
    },
    {
     "name": "stderr",
     "output_type": "stream",
     "text": [
      "100%|██████████| 3/3 [00:00<00:00, 231.34it/s]\n"
     ]
    },
    {
     "name": "stdout",
     "output_type": "stream",
     "text": [
      "test  mean loss=-782.8492431640625\n",
      "epoch: 5\n",
      "NDCG@100 | train: 0.47636001715449405, test: 0.9858134195578705\n",
      "epoch 5\n"
     ]
    },
    {
     "name": "stderr",
     "output_type": "stream",
     "text": [
      "100%|██████████| 4/4 [00:00<00:00, 95.49it/s]\n"
     ]
    },
    {
     "name": "stdout",
     "output_type": "stream",
     "text": [
      "train mean loss=-648.4503936767578\n"
     ]
    },
    {
     "name": "stderr",
     "output_type": "stream",
     "text": [
      "100%|██████████| 3/3 [00:00<00:00, 231.38it/s]\n"
     ]
    },
    {
     "name": "stdout",
     "output_type": "stream",
     "text": [
      "test  mean loss=-977.0968831380209\n",
      "epoch: 6\n",
      "NDCG@100 | train: 0.47636001715449405, test: 0.9858134195578705\n",
      "epoch 6\n"
     ]
    },
    {
     "name": "stderr",
     "output_type": "stream",
     "text": [
      "100%|██████████| 4/4 [00:00<00:00, 95.49it/s]\n"
     ]
    },
    {
     "name": "stdout",
     "output_type": "stream",
     "text": [
      "train mean loss=-792.1272125244141\n"
     ]
    },
    {
     "name": "stderr",
     "output_type": "stream",
     "text": [
      "100%|██████████| 3/3 [00:00<00:00, 501.37it/s]\n"
     ]
    },
    {
     "name": "stdout",
     "output_type": "stream",
     "text": [
      "test  mean loss=-1193.1080322265625\n",
      "epoch: 7\n",
      "NDCG@100 | train: 0.47636001715449405, test: 0.9858134195578705\n",
      "epoch 7\n"
     ]
    },
    {
     "name": "stderr",
     "output_type": "stream",
     "text": [
      "100%|██████████| 4/4 [00:00<00:00, 138.31it/s]\n"
     ]
    },
    {
     "name": "stdout",
     "output_type": "stream",
     "text": [
      "train mean loss=-970.3506927490234\n"
     ]
    },
    {
     "name": "stderr",
     "output_type": "stream",
     "text": [
      "100%|██████████| 3/3 [00:00<00:00, 429.71it/s]\n"
     ]
    },
    {
     "name": "stdout",
     "output_type": "stream",
     "text": [
      "test  mean loss=-1428.38232421875\n",
      "epoch: 8\n",
      "NDCG@100 | train: 0.47636001715449405, test: 0.9858134195578705\n",
      "epoch 8\n"
     ]
    },
    {
     "name": "stderr",
     "output_type": "stream",
     "text": [
      "100%|██████████| 4/4 [00:00<00:00, 108.40it/s]\n"
     ]
    },
    {
     "name": "stdout",
     "output_type": "stream",
     "text": [
      "train mean loss=-1150.7453918457031\n"
     ]
    },
    {
     "name": "stderr",
     "output_type": "stream",
     "text": [
      "100%|██████████| 3/3 [00:00<00:00, 601.54it/s]\n"
     ]
    },
    {
     "name": "stdout",
     "output_type": "stream",
     "text": [
      "test  mean loss=-1690.2919514973958\n",
      "epoch: 9\n",
      "NDCG@100 | train: 0.47636001715449405, test: 0.9858134195578705\n",
      "epoch 9\n"
     ]
    },
    {
     "name": "stderr",
     "output_type": "stream",
     "text": [
      "100%|██████████| 4/4 [00:00<00:00, 108.40it/s]\n"
     ]
    },
    {
     "name": "stdout",
     "output_type": "stream",
     "text": [
      "train mean loss=-1349.7593688964844\n"
     ]
    },
    {
     "name": "stderr",
     "output_type": "stream",
     "text": [
      "100%|██████████| 3/3 [00:00<00:00, 334.15it/s]\n"
     ]
    },
    {
     "name": "stdout",
     "output_type": "stream",
     "text": [
      "test  mean loss=-1980.7840169270833\n",
      "epoch: 10\n",
      "NDCG@100 | train: 0.47636001715449405, test: 0.9858134195578705\n",
      "epoch 10\n"
     ]
    },
    {
     "name": "stderr",
     "output_type": "stream",
     "text": [
      "100%|██████████| 4/4 [00:00<00:00, 138.30it/s]\n"
     ]
    },
    {
     "name": "stdout",
     "output_type": "stream",
     "text": [
      "train mean loss=-1579.2671508789062\n"
     ]
    },
    {
     "name": "stderr",
     "output_type": "stream",
     "text": [
      "100%|██████████| 3/3 [00:00<00:00, 375.95it/s]\n"
     ]
    },
    {
     "name": "stdout",
     "output_type": "stream",
     "text": [
      "test  mean loss=-2299.7809244791665\n",
      "epoch: 11\n",
      "NDCG@100 | train: 0.47636001715449405, test: 0.9858134195578705\n",
      "save the model\n",
      "save the optimizer\n",
      "[[0.]\n",
      " [0.]\n",
      " [0.]\n",
      " [0.]\n",
      " [0.]\n",
      " [0.]\n",
      " [0.]]\n",
      "23 ricerca di merda\n",
      "12\n",
      "load dataset\n",
      "The number of data, train: 8 validate: 4\n",
      "prepare initialized model!\n",
      "Start training and validation loop......\n",
      "epoch 1\n"
     ]
    },
    {
     "name": "stderr",
     "output_type": "stream",
     "text": [
      "100%|██████████| 8/8 [00:00<00:00, 101.53it/s]\n"
     ]
    },
    {
     "name": "stdout",
     "output_type": "stream",
     "text": [
      "train mean loss=-186.7103387117386\n"
     ]
    },
    {
     "name": "stderr",
     "output_type": "stream",
     "text": [
      "100%|██████████| 4/4 [00:00<00:00, 286.47it/s]\n"
     ]
    },
    {
     "name": "stdout",
     "output_type": "stream",
     "text": [
      "test  mean loss=-220.0207040309906\n",
      "epoch: 2\n",
      "NDCG@100 | train: 0.5692897379691039, test: 0.7276545800191442\n",
      "epoch 2\n"
     ]
    },
    {
     "name": "stderr",
     "output_type": "stream",
     "text": [
      "100%|██████████| 8/8 [00:00<00:00, 140.73it/s]\n"
     ]
    },
    {
     "name": "stdout",
     "output_type": "stream",
     "text": [
      "train mean loss=-469.99802070856094\n"
     ]
    },
    {
     "name": "stderr",
     "output_type": "stream",
     "text": [
      "100%|██████████| 4/4 [00:00<00:00, 334.24it/s]\n"
     ]
    },
    {
     "name": "stdout",
     "output_type": "stream",
     "text": [
      "test  mean loss=-376.2192816734314\n",
      "epoch: 3\n",
      "NDCG@100 | train: 0.5692897379691039, test: 0.7276545800191442\n",
      "epoch 3\n"
     ]
    },
    {
     "name": "stderr",
     "output_type": "stream",
     "text": [
      "100%|██████████| 8/8 [00:00<00:00, 154.26it/s]\n"
     ]
    },
    {
     "name": "stdout",
     "output_type": "stream",
     "text": [
      "train mean loss=-755.2850708961487\n"
     ]
    },
    {
     "name": "stderr",
     "output_type": "stream",
     "text": [
      "100%|██████████| 4/4 [00:00<00:00, 401.08it/s]\n"
     ]
    },
    {
     "name": "stdout",
     "output_type": "stream",
     "text": [
      "test  mean loss=-574.2267799377441\n",
      "epoch: 4\n",
      "NDCG@100 | train: 0.5692897379691039, test: 0.7276545800191442\n",
      "epoch 4\n"
     ]
    },
    {
     "name": "stderr",
     "output_type": "stream",
     "text": [
      "100%|██████████| 8/8 [00:00<00:00, 148.55it/s]\n"
     ]
    },
    {
     "name": "stdout",
     "output_type": "stream",
     "text": [
      "train mean loss=-1104.635106086731\n"
     ]
    },
    {
     "name": "stderr",
     "output_type": "stream",
     "text": [
      "100%|██████████| 4/4 [00:00<00:00, 401.01it/s]\n"
     ]
    },
    {
     "name": "stdout",
     "output_type": "stream",
     "text": [
      "test  mean loss=-821.2295227050781\n",
      "epoch: 5\n",
      "NDCG@100 | train: 0.5692897379691039, test: 0.7276545800191442\n",
      "epoch 5\n"
     ]
    },
    {
     "name": "stderr",
     "output_type": "stream",
     "text": [
      "100%|██████████| 8/8 [00:00<00:00, 117.99it/s]\n"
     ]
    },
    {
     "name": "stdout",
     "output_type": "stream",
     "text": [
      "train mean loss=-1570.9551060199738\n"
     ]
    },
    {
     "name": "stderr",
     "output_type": "stream",
     "text": [
      "100%|██████████| 4/4 [00:00<00:00, 308.53it/s]\n"
     ]
    },
    {
     "name": "stdout",
     "output_type": "stream",
     "text": [
      "test  mean loss=-1115.4837322235107\n",
      "epoch: 6\n",
      "NDCG@100 | train: 0.5692897379691039, test: 0.7276545800191442\n",
      "epoch 6\n"
     ]
    },
    {
     "name": "stderr",
     "output_type": "stream",
     "text": [
      "100%|██████████| 8/8 [00:00<00:00, 93.27it/s]\n"
     ]
    },
    {
     "name": "stdout",
     "output_type": "stream",
     "text": [
      "train mean loss=-2065.6572914123535\n"
     ]
    },
    {
     "name": "stderr",
     "output_type": "stream",
     "text": [
      "100%|██████████| 4/4 [00:00<00:00, 364.86it/s]\n"
     ]
    },
    {
     "name": "stdout",
     "output_type": "stream",
     "text": [
      "test  mean loss=-1508.6817035675049\n",
      "epoch: 7\n",
      "NDCG@100 | train: 0.5692897379691039, test: 0.7276545800191442\n",
      "epoch 7\n"
     ]
    },
    {
     "name": "stderr",
     "output_type": "stream",
     "text": [
      "100%|██████████| 8/8 [00:00<00:00, 127.33it/s]\n"
     ]
    },
    {
     "name": "stdout",
     "output_type": "stream",
     "text": [
      "train mean loss=-2798.365005970001\n"
     ]
    },
    {
     "name": "stderr",
     "output_type": "stream",
     "text": [
      "100%|██████████| 4/4 [00:00<00:00, 501.61it/s]\n"
     ]
    },
    {
     "name": "stdout",
     "output_type": "stream",
     "text": [
      "test  mean loss=-1961.1891975402832\n",
      "epoch: 8\n",
      "NDCG@100 | train: 0.5692897379691039, test: 0.7276545800191442\n",
      "epoch 8\n"
     ]
    },
    {
     "name": "stderr",
     "output_type": "stream",
     "text": [
      "100%|██████████| 8/8 [00:00<00:00, 174.38it/s]\n"
     ]
    },
    {
     "name": "stdout",
     "output_type": "stream",
     "text": [
      "train mean loss=-3601.487427711487\n"
     ]
    },
    {
     "name": "stderr",
     "output_type": "stream",
     "text": [
      "100%|██████████| 4/4 [00:00<00:00, 401.06it/s]\n"
     ]
    },
    {
     "name": "stdout",
     "output_type": "stream",
     "text": [
      "test  mean loss=-2535.8751220703125\n",
      "epoch: 9\n",
      "NDCG@100 | train: 0.5692897379691039, test: 0.7276545800191442\n",
      "epoch 9\n"
     ]
    },
    {
     "name": "stderr",
     "output_type": "stream",
     "text": [
      "100%|██████████| 8/8 [00:00<00:00, 160.43it/s]\n"
     ]
    },
    {
     "name": "stdout",
     "output_type": "stream",
     "text": [
      "train mean loss=-4547.016242980957\n"
     ]
    },
    {
     "name": "stderr",
     "output_type": "stream",
     "text": [
      "100%|██████████| 4/4 [00:00<00:00, 308.48it/s]\n"
     ]
    },
    {
     "name": "stdout",
     "output_type": "stream",
     "text": [
      "test  mean loss=-3264.3589515686035\n",
      "epoch: 10\n",
      "NDCG@100 | train: 0.5692897379691039, test: 0.7276545800191442\n",
      "epoch 10\n"
     ]
    },
    {
     "name": "stderr",
     "output_type": "stream",
     "text": [
      "100%|██████████| 8/8 [00:00<00:00, 133.69it/s]\n"
     ]
    },
    {
     "name": "stdout",
     "output_type": "stream",
     "text": [
      "train mean loss=-5903.588939666748\n"
     ]
    },
    {
     "name": "stderr",
     "output_type": "stream",
     "text": [
      "100%|██████████| 4/4 [00:00<00:00, 308.54it/s]\n"
     ]
    },
    {
     "name": "stdout",
     "output_type": "stream",
     "text": [
      "test  mean loss=-4077.89208984375\n",
      "epoch: 11\n",
      "NDCG@100 | train: 0.5692897379691039, test: 0.7276545800191442\n",
      "save the model\n",
      "save the optimizer\n",
      "[[0.]\n",
      " [0.]\n",
      " [0.]\n",
      " [0.]\n",
      " [0.]\n",
      " [0.]\n",
      " [0.]\n",
      " [0.]\n",
      " [0.]\n",
      " [0.]\n",
      " [0.]\n",
      " [0.]]\n",
      "13\n",
      "load dataset\n",
      "The number of data, train: 9 validate: 4\n",
      "prepare initialized model!\n",
      "Start training and validation loop......\n",
      "epoch 1\n"
     ]
    },
    {
     "name": "stderr",
     "output_type": "stream",
     "text": [
      "100%|██████████| 9/9 [00:00<00:00, 118.74it/s]\n"
     ]
    },
    {
     "name": "stdout",
     "output_type": "stream",
     "text": [
      "train mean loss=-415.1743893093533\n"
     ]
    },
    {
     "name": "stderr",
     "output_type": "stream",
     "text": [
      "100%|██████████| 4/4 [00:00<00:00, 572.84it/s]\n"
     ]
    },
    {
     "name": "stdout",
     "output_type": "stream",
     "text": [
      "test  mean loss=-924.7766571044922\n",
      "epoch: 2\n",
      "NDCG@100 | train: 0.6664161055736884, test: 0.895187633533831\n",
      "epoch 2\n"
     ]
    },
    {
     "name": "stderr",
     "output_type": "stream",
     "text": [
      "100%|██████████| 9/9 [00:00<00:00, 118.75it/s]\n"
     ]
    },
    {
     "name": "stdout",
     "output_type": "stream",
     "text": [
      "train mean loss=-1069.009012858073\n"
     ]
    },
    {
     "name": "stderr",
     "output_type": "stream",
     "text": [
      "100%|██████████| 4/4 [00:00<00:00, 308.44it/s]\n"
     ]
    },
    {
     "name": "stdout",
     "output_type": "stream",
     "text": [
      "test  mean loss=-1614.5929412841797\n",
      "epoch: 3\n",
      "NDCG@100 | train: 0.6664161055736884, test: 0.895187633533831\n",
      "epoch 3\n"
     ]
    },
    {
     "name": "stderr",
     "output_type": "stream",
     "text": [
      "100%|██████████| 9/9 [00:00<00:00, 138.84it/s]\n"
     ]
    },
    {
     "name": "stdout",
     "output_type": "stream",
     "text": [
      "train mean loss=-1686.7752278645833\n"
     ]
    },
    {
     "name": "stderr",
     "output_type": "stream",
     "text": [
      "100%|██████████| 4/4 [00:00<00:00, 445.61it/s]\n"
     ]
    },
    {
     "name": "stdout",
     "output_type": "stream",
     "text": [
      "test  mean loss=-2449.958740234375\n",
      "epoch: 4\n",
      "NDCG@100 | train: 0.6664161055736884, test: 0.895187633533831\n",
      "epoch 4\n"
     ]
    },
    {
     "name": "stderr",
     "output_type": "stream",
     "text": [
      "100%|██████████| 9/9 [00:00<00:00, 136.72it/s]\n"
     ]
    },
    {
     "name": "stdout",
     "output_type": "stream",
     "text": [
      "train mean loss=-2492.3919813368057\n"
     ]
    },
    {
     "name": "stderr",
     "output_type": "stream",
     "text": [
      "100%|██████████| 4/4 [00:00<00:00, 501.35it/s]\n"
     ]
    },
    {
     "name": "stdout",
     "output_type": "stream",
     "text": [
      "test  mean loss=-3451.570281982422\n",
      "epoch: 5\n",
      "NDCG@100 | train: 0.6664161055736884, test: 0.895187633533831\n",
      "epoch 5\n"
     ]
    },
    {
     "name": "stderr",
     "output_type": "stream",
     "text": [
      "100%|██████████| 9/9 [00:00<00:00, 117.20it/s]\n"
     ]
    },
    {
     "name": "stdout",
     "output_type": "stream",
     "text": [
      "train mean loss=-3432.0233561197915\n"
     ]
    },
    {
     "name": "stderr",
     "output_type": "stream",
     "text": [
      "100%|██████████| 4/4 [00:00<00:00, 334.09it/s]\n"
     ]
    },
    {
     "name": "stdout",
     "output_type": "stream",
     "text": [
      "test  mean loss=-4669.3988037109375\n",
      "epoch: 6\n",
      "NDCG@100 | train: 0.6664161055736884, test: 0.895187633533831\n",
      "epoch 6\n"
     ]
    },
    {
     "name": "stderr",
     "output_type": "stream",
     "text": [
      "100%|██████████| 9/9 [00:00<00:00, 120.33it/s]\n"
     ]
    },
    {
     "name": "stdout",
     "output_type": "stream",
     "text": [
      "train mean loss=-4532.555284288194\n"
     ]
    },
    {
     "name": "stderr",
     "output_type": "stream",
     "text": [
      "100%|██████████| 4/4 [00:00<00:00, 501.64it/s]\n"
     ]
    },
    {
     "name": "stdout",
     "output_type": "stream",
     "text": [
      "test  mean loss=-6149.133544921875\n",
      "epoch: 7\n",
      "NDCG@100 | train: 0.6664161055736884, test: 0.895187633533831\n",
      "epoch 7\n"
     ]
    },
    {
     "name": "stderr",
     "output_type": "stream",
     "text": [
      "100%|██████████| 9/9 [00:00<00:00, 115.69it/s]\n"
     ]
    },
    {
     "name": "stdout",
     "output_type": "stream",
     "text": [
      "train mean loss=-5901.771864149306\n"
     ]
    },
    {
     "name": "stderr",
     "output_type": "stream",
     "text": [
      "100%|██████████| 4/4 [00:00<00:00, 363.31it/s]\n"
     ]
    },
    {
     "name": "stdout",
     "output_type": "stream",
     "text": [
      "test  mean loss=-7910.4400634765625\n",
      "epoch: 8\n",
      "NDCG@100 | train: 0.6664161055736884, test: 0.895187633533831\n",
      "epoch 8\n"
     ]
    },
    {
     "name": "stderr",
     "output_type": "stream",
     "text": [
      "100%|██████████| 9/9 [00:00<00:00, 121.94it/s]\n"
     ]
    },
    {
     "name": "stdout",
     "output_type": "stream",
     "text": [
      "train mean loss=-7577.905815972223\n"
     ]
    },
    {
     "name": "stderr",
     "output_type": "stream",
     "text": [
      "100%|██████████| 4/4 [00:00<00:00, 445.66it/s]\n"
     ]
    },
    {
     "name": "stdout",
     "output_type": "stream",
     "text": [
      "test  mean loss=-9956.18310546875\n",
      "epoch: 9\n",
      "NDCG@100 | train: 0.6664161055736884, test: 0.895187633533831\n",
      "epoch 9\n"
     ]
    },
    {
     "name": "stderr",
     "output_type": "stream",
     "text": [
      "100%|██████████| 9/9 [00:00<00:00, 147.92it/s]\n"
     ]
    },
    {
     "name": "stdout",
     "output_type": "stream",
     "text": [
      "train mean loss=-9529.772623697916\n"
     ]
    },
    {
     "name": "stderr",
     "output_type": "stream",
     "text": [
      "100%|██████████| 4/4 [00:00<00:00, 401.07it/s]\n"
     ]
    },
    {
     "name": "stdout",
     "output_type": "stream",
     "text": [
      "test  mean loss=-12361.413452148438\n",
      "epoch: 10\n",
      "NDCG@100 | train: 0.6664161055736884, test: 0.895187633533831\n",
      "epoch 10\n"
     ]
    },
    {
     "name": "stderr",
     "output_type": "stream",
     "text": [
      "100%|██████████| 9/9 [00:00<00:00, 141.00it/s]\n"
     ]
    },
    {
     "name": "stdout",
     "output_type": "stream",
     "text": [
      "train mean loss=-11729.926486545139\n"
     ]
    },
    {
     "name": "stderr",
     "output_type": "stream",
     "text": [
      "100%|██████████| 4/4 [00:00<00:00, 501.32it/s]\n"
     ]
    },
    {
     "name": "stdout",
     "output_type": "stream",
     "text": [
      "test  mean loss=-15226.98876953125\n",
      "epoch: 11\n",
      "NDCG@100 | train: 0.6664161055736884, test: 0.895187633533831\n",
      "save the model\n",
      "save the optimizer\n",
      "[[0.]\n",
      " [0.]\n",
      " [0.]\n",
      " [0.]\n",
      " [0.]\n",
      " [0.]\n",
      " [0.]\n",
      " [0.]\n",
      " [0.]\n",
      " [0.]\n",
      " [0.]\n",
      " [0.]\n",
      " [0.]]\n",
      "10\n",
      "load dataset\n",
      "The number of data, train: 7 validate: 3\n",
      "prepare initialized model!\n",
      "Start training and validation loop......\n",
      "epoch 1\n"
     ]
    },
    {
     "name": "stderr",
     "output_type": "stream",
     "text": [
      "100%|██████████| 7/7 [00:00<00:00, 155.97it/s]\n"
     ]
    },
    {
     "name": "stdout",
     "output_type": "stream",
     "text": [
      "train mean loss=-249.2933739253453\n"
     ]
    },
    {
     "name": "stderr",
     "output_type": "stream",
     "text": [
      "100%|██████████| 3/3 [00:00<00:00, 333.01it/s]\n"
     ]
    },
    {
     "name": "stdout",
     "output_type": "stream",
     "text": [
      "test  mean loss=-635.4604288736979\n",
      "epoch: 2\n",
      "NDCG@100 | train: 0.8471835298240695, test: 0.8622087104988697\n",
      "epoch 2\n"
     ]
    },
    {
     "name": "stderr",
     "output_type": "stream",
     "text": [
      "100%|██████████| 7/7 [00:00<00:00, 143.25it/s]\n"
     ]
    },
    {
     "name": "stdout",
     "output_type": "stream",
     "text": [
      "train mean loss=-587.9357081821987\n"
     ]
    },
    {
     "name": "stderr",
     "output_type": "stream",
     "text": [
      "100%|██████████| 3/3 [00:00<00:00, 429.23it/s]\n"
     ]
    },
    {
     "name": "stdout",
     "output_type": "stream",
     "text": [
      "test  mean loss=-1074.773193359375\n",
      "epoch: 3\n",
      "NDCG@100 | train: 0.8471835298240695, test: 0.8622087104988697\n",
      "epoch 3\n"
     ]
    },
    {
     "name": "stderr",
     "output_type": "stream",
     "text": [
      "100%|██████████| 7/7 [00:00<00:00, 123.14it/s]\n"
     ]
    },
    {
     "name": "stdout",
     "output_type": "stream",
     "text": [
      "train mean loss=-929.0011771065848\n"
     ]
    },
    {
     "name": "stderr",
     "output_type": "stream",
     "text": [
      "100%|██████████| 3/3 [00:00<00:00, 376.04it/s]\n"
     ]
    },
    {
     "name": "stdout",
     "output_type": "stream",
     "text": [
      "test  mean loss=-1502.673583984375\n",
      "epoch: 4\n",
      "NDCG@100 | train: 0.8471835298240695, test: 0.8622087104988697\n",
      "epoch 4\n"
     ]
    },
    {
     "name": "stderr",
     "output_type": "stream",
     "text": [
      "100%|██████████| 7/7 [00:00<00:00, 125.33it/s]\n"
     ]
    },
    {
     "name": "stdout",
     "output_type": "stream",
     "text": [
      "train mean loss=-1293.6241019112724\n"
     ]
    },
    {
     "name": "stderr",
     "output_type": "stream",
     "text": [
      "100%|██████████| 3/3 [00:00<00:00, 334.44it/s]\n"
     ]
    },
    {
     "name": "stdout",
     "output_type": "stream",
     "text": [
      "test  mean loss=-2009.6290283203125\n",
      "epoch: 5\n",
      "NDCG@100 | train: 0.8471835298240695, test: 0.8622087104988697\n",
      "epoch 5\n"
     ]
    },
    {
     "name": "stderr",
     "output_type": "stream",
     "text": [
      "100%|██████████| 7/7 [00:00<00:00, 149.33it/s]\n"
     ]
    },
    {
     "name": "stdout",
     "output_type": "stream",
     "text": [
      "train mean loss=-1675.7555018833705\n"
     ]
    },
    {
     "name": "stderr",
     "output_type": "stream",
     "text": [
      "100%|██████████| 3/3 [00:00<00:00, 429.92it/s]\n"
     ]
    },
    {
     "name": "stdout",
     "output_type": "stream",
     "text": [
      "test  mean loss=-2634.3104654947915\n",
      "epoch: 6\n",
      "NDCG@100 | train: 0.8471835298240695, test: 0.8622087104988697\n",
      "epoch 6\n"
     ]
    },
    {
     "name": "stderr",
     "output_type": "stream",
     "text": [
      "100%|██████████| 7/7 [00:00<00:00, 118.96it/s]\n"
     ]
    },
    {
     "name": "stdout",
     "output_type": "stream",
     "text": [
      "train mean loss=-2192.3621215820312\n"
     ]
    },
    {
     "name": "stderr",
     "output_type": "stream",
     "text": [
      "100%|██████████| 3/3 [00:00<00:00, 273.36it/s]\n"
     ]
    },
    {
     "name": "stdout",
     "output_type": "stream",
     "text": [
      "test  mean loss=-3367.4522705078125\n",
      "epoch: 7\n",
      "NDCG@100 | train: 0.8471835298240695, test: 0.8622087104988697\n",
      "epoch 7\n"
     ]
    },
    {
     "name": "stderr",
     "output_type": "stream",
     "text": [
      "100%|██████████| 7/7 [00:00<00:00, 159.51it/s]\n"
     ]
    },
    {
     "name": "stdout",
     "output_type": "stream",
     "text": [
      "train mean loss=-2787.9787074497767\n"
     ]
    },
    {
     "name": "stderr",
     "output_type": "stream",
     "text": [
      "100%|██████████| 3/3 [00:00<00:00, 501.23it/s]\n"
     ]
    },
    {
     "name": "stdout",
     "output_type": "stream",
     "text": [
      "test  mean loss=-4239.936442057292\n",
      "epoch: 8\n",
      "NDCG@100 | train: 0.8471835298240695, test: 0.8622087104988697\n",
      "epoch 8\n"
     ]
    },
    {
     "name": "stderr",
     "output_type": "stream",
     "text": [
      "100%|██████████| 7/7 [00:00<00:00, 127.59it/s]\n"
     ]
    },
    {
     "name": "stdout",
     "output_type": "stream",
     "text": [
      "train mean loss=-3468.04110281808\n"
     ]
    },
    {
     "name": "stderr",
     "output_type": "stream",
     "text": [
      "100%|██████████| 3/3 [00:00<00:00, 376.13it/s]\n"
     ]
    },
    {
     "name": "stdout",
     "output_type": "stream",
     "text": [
      "test  mean loss=-5269.722493489583\n",
      "epoch: 9\n",
      "NDCG@100 | train: 0.8471835298240695, test: 0.8622087104988697\n",
      "epoch 9\n"
     ]
    },
    {
     "name": "stderr",
     "output_type": "stream",
     "text": [
      "100%|██████████| 7/7 [00:00<00:00, 132.43it/s]\n"
     ]
    },
    {
     "name": "stdout",
     "output_type": "stream",
     "text": [
      "train mean loss=-4306.84228515625\n"
     ]
    },
    {
     "name": "stderr",
     "output_type": "stream",
     "text": [
      "100%|██████████| 3/3 [00:00<00:00, 300.74it/s]\n"
     ]
    },
    {
     "name": "stdout",
     "output_type": "stream",
     "text": [
      "test  mean loss=-6459.056396484375\n",
      "epoch: 10\n",
      "NDCG@100 | train: 0.8471835298240695, test: 0.8622087104988697\n",
      "epoch 10\n"
     ]
    },
    {
     "name": "stderr",
     "output_type": "stream",
     "text": [
      "100%|██████████| 7/7 [00:00<00:00, 118.96it/s]\n"
     ]
    },
    {
     "name": "stdout",
     "output_type": "stream",
     "text": [
      "train mean loss=-5330.354143415178\n"
     ]
    },
    {
     "name": "stderr",
     "output_type": "stream",
     "text": [
      "100%|██████████| 3/3 [00:00<00:00, 250.66it/s]\n"
     ]
    },
    {
     "name": "stdout",
     "output_type": "stream",
     "text": [
      "test  mean loss=-7800.730794270833\n",
      "epoch: 11\n",
      "NDCG@100 | train: 0.8471835298240695, test: 0.8622087104988697\n",
      "save the model\n",
      "save the optimizer\n",
      "[[0.]\n",
      " [0.]\n",
      " [0.]\n",
      " [0.]\n",
      " [0.]\n",
      " [0.]\n",
      " [0.]\n",
      " [0.]\n",
      " [0.]\n",
      " [0.]]\n",
      "8\n",
      "load dataset\n",
      "The number of data, train: 5 validate: 3\n",
      "prepare initialized model!\n",
      "Start training and validation loop......\n",
      "epoch 1\n"
     ]
    },
    {
     "name": "stderr",
     "output_type": "stream",
     "text": [
      "100%|██████████| 5/5 [00:00<00:00, 125.34it/s]\n"
     ]
    },
    {
     "name": "stdout",
     "output_type": "stream",
     "text": [
      "train mean loss=36.006465148925784\n"
     ]
    },
    {
     "name": "stderr",
     "output_type": "stream",
     "text": [
      "100%|██████████| 3/3 [00:00<00:00, 333.51it/s]\n"
     ]
    },
    {
     "name": "stdout",
     "output_type": "stream",
     "text": [
      "test  mean loss=-152.0897420247396\n",
      "epoch: 2\n",
      "NDCG@100 | train: 0.6128984789428379, test: 0.9514426589871553\n",
      "epoch 2\n"
     ]
    },
    {
     "name": "stderr",
     "output_type": "stream",
     "text": [
      "100%|██████████| 5/5 [00:00<00:00, 116.58it/s]\n"
     ]
    },
    {
     "name": "stdout",
     "output_type": "stream",
     "text": [
      "train mean loss=-290.62278442382814\n"
     ]
    },
    {
     "name": "stderr",
     "output_type": "stream",
     "text": [
      "100%|██████████| 3/3 [00:00<00:00, 373.97it/s]\n"
     ]
    },
    {
     "name": "stdout",
     "output_type": "stream",
     "text": [
      "test  mean loss=-371.00506083170575\n",
      "epoch: 3\n",
      "NDCG@100 | train: 0.6128984789428379, test: 0.9514426589871553\n",
      "epoch 3\n"
     ]
    },
    {
     "name": "stderr",
     "output_type": "stream",
     "text": [
      "100%|██████████| 5/5 [00:00<00:00, 119.28it/s]\n"
     ]
    },
    {
     "name": "stdout",
     "output_type": "stream",
     "text": [
      "train mean loss=-545.5527893066406\n"
     ]
    },
    {
     "name": "stderr",
     "output_type": "stream",
     "text": [
      "100%|██████████| 3/3 [00:00<00:00, 300.80it/s]\n"
     ]
    },
    {
     "name": "stdout",
     "output_type": "stream",
     "text": [
      "test  mean loss=-522.1616007486979\n",
      "epoch: 4\n",
      "NDCG@100 | train: 0.6128984789428379, test: 0.9514426589871553\n",
      "epoch 4\n"
     ]
    },
    {
     "name": "stderr",
     "output_type": "stream",
     "text": [
      "100%|██████████| 5/5 [00:00<00:00, 83.56it/s]\n"
     ]
    },
    {
     "name": "stdout",
     "output_type": "stream",
     "text": [
      "train mean loss=-742.5865295410156\n"
     ]
    },
    {
     "name": "stderr",
     "output_type": "stream",
     "text": [
      "100%|██████████| 3/3 [00:00<00:00, 214.89it/s]\n"
     ]
    },
    {
     "name": "stdout",
     "output_type": "stream",
     "text": [
      "test  mean loss=-684.5714314778646\n",
      "epoch: 5\n",
      "NDCG@100 | train: 0.6128984789428379, test: 0.9514426589871553\n",
      "epoch 5\n"
     ]
    },
    {
     "name": "stderr",
     "output_type": "stream",
     "text": [
      "100%|██████████| 5/5 [00:00<00:00, 122.28it/s]\n"
     ]
    },
    {
     "name": "stdout",
     "output_type": "stream",
     "text": [
      "train mean loss=-940.47587890625\n"
     ]
    },
    {
     "name": "stderr",
     "output_type": "stream",
     "text": [
      "100%|██████████| 3/3 [00:00<00:00, 273.46it/s]\n"
     ]
    },
    {
     "name": "stdout",
     "output_type": "stream",
     "text": [
      "test  mean loss=-861.279052734375\n",
      "epoch: 6\n",
      "NDCG@100 | train: 0.6128984789428379, test: 0.9514426589871553\n",
      "epoch 6\n"
     ]
    },
    {
     "name": "stderr",
     "output_type": "stream",
     "text": [
      "100%|██████████| 5/5 [00:00<00:00, 135.49it/s]\n"
     ]
    },
    {
     "name": "stdout",
     "output_type": "stream",
     "text": [
      "train mean loss=-1158.7266479492187\n"
     ]
    },
    {
     "name": "stderr",
     "output_type": "stream",
     "text": [
      "100%|██████████| 3/3 [00:00<00:00, 333.84it/s]\n"
     ]
    },
    {
     "name": "stdout",
     "output_type": "stream",
     "text": [
      "test  mean loss=-1057.5240071614583\n",
      "epoch: 7\n",
      "NDCG@100 | train: 0.6128984789428379, test: 0.9514426589871553\n",
      "epoch 7\n"
     ]
    },
    {
     "name": "stderr",
     "output_type": "stream",
     "text": [
      "100%|██████████| 5/5 [00:00<00:00, 139.27it/s]\n"
     ]
    },
    {
     "name": "stdout",
     "output_type": "stream",
     "text": [
      "train mean loss=-1429.8032592773438\n"
     ]
    },
    {
     "name": "stderr",
     "output_type": "stream",
     "text": [
      "100%|██████████| 3/3 [00:00<00:00, 376.13it/s]\n"
     ]
    },
    {
     "name": "stdout",
     "output_type": "stream",
     "text": [
      "test  mean loss=-1273.2549438476562\n",
      "epoch: 8\n",
      "NDCG@100 | train: 0.6128984789428379, test: 0.9514426589871553\n",
      "epoch 8\n"
     ]
    },
    {
     "name": "stderr",
     "output_type": "stream",
     "text": [
      "100%|██████████| 5/5 [00:00<00:00, 120.75it/s]\n"
     ]
    },
    {
     "name": "stdout",
     "output_type": "stream",
     "text": [
      "train mean loss=-1690.7447998046875\n"
     ]
    },
    {
     "name": "stderr",
     "output_type": "stream",
     "text": [
      "100%|██████████| 3/3 [00:00<00:00, 273.39it/s]\n"
     ]
    },
    {
     "name": "stdout",
     "output_type": "stream",
     "text": [
      "test  mean loss=-1519.2850545247395\n",
      "epoch: 9\n",
      "NDCG@100 | train: 0.6128984789428379, test: 0.9514426589871553\n",
      "epoch 9\n"
     ]
    },
    {
     "name": "stderr",
     "output_type": "stream",
     "text": [
      "100%|██████████| 5/5 [00:00<00:00, 125.33it/s]\n"
     ]
    },
    {
     "name": "stdout",
     "output_type": "stream",
     "text": [
      "train mean loss=-2039.9732177734375\n"
     ]
    },
    {
     "name": "stderr",
     "output_type": "stream",
     "text": [
      "100%|██████████| 3/3 [00:00<00:00, 300.82it/s]\n"
     ]
    },
    {
     "name": "stdout",
     "output_type": "stream",
     "text": [
      "test  mean loss=-1786.7848714192708\n",
      "epoch: 10\n",
      "NDCG@100 | train: 0.6128984789428379, test: 0.9514426589871553\n",
      "epoch 10\n"
     ]
    },
    {
     "name": "stderr",
     "output_type": "stream",
     "text": [
      "100%|██████████| 5/5 [00:00<00:00, 106.67it/s]\n"
     ]
    },
    {
     "name": "stdout",
     "output_type": "stream",
     "text": [
      "train mean loss=-2374.263330078125\n"
     ]
    },
    {
     "name": "stderr",
     "output_type": "stream",
     "text": [
      "100%|██████████| 3/3 [00:00<00:00, 300.83it/s]\n"
     ]
    },
    {
     "name": "stdout",
     "output_type": "stream",
     "text": [
      "test  mean loss=-2092.6940104166665\n",
      "epoch: 11\n",
      "NDCG@100 | train: 0.6128984789428379, test: 0.9514426589871553\n",
      "save the model\n",
      "save the optimizer\n",
      "[[0.]\n",
      " [0.]\n",
      " [0.]\n",
      " [0.]\n",
      " [0.]\n",
      " [0.]\n",
      " [0.]\n",
      " [0.]]\n",
      "10\n",
      "load dataset\n",
      "The number of data, train: 7 validate: 3\n",
      "prepare initialized model!\n",
      "Start training and validation loop......\n",
      "epoch 1\n"
     ]
    },
    {
     "name": "stderr",
     "output_type": "stream",
     "text": [
      "100%|██████████| 7/7 [00:00<00:00, 111.41it/s]\n"
     ]
    },
    {
     "name": "stdout",
     "output_type": "stream",
     "text": [
      "train mean loss=-321.34565462384904\n"
     ]
    },
    {
     "name": "stderr",
     "output_type": "stream",
     "text": [
      "100%|██████████| 3/3 [00:00<00:00, 429.74it/s]\n"
     ]
    },
    {
     "name": "stdout",
     "output_type": "stream",
     "text": [
      "test  mean loss=-637.4891967773438\n",
      "epoch: 2\n",
      "NDCG@100 | train: 0.4857166554345574, test: 1.0\n",
      "epoch 2\n"
     ]
    },
    {
     "name": "stderr",
     "output_type": "stream",
     "text": [
      "100%|██████████| 7/7 [00:00<00:00, 127.62it/s]\n"
     ]
    },
    {
     "name": "stdout",
     "output_type": "stream",
     "text": [
      "train mean loss=-758.9547860281808\n"
     ]
    },
    {
     "name": "stderr",
     "output_type": "stream",
     "text": [
      "100%|██████████| 3/3 [00:00<00:00, 273.36it/s]\n"
     ]
    },
    {
     "name": "stdout",
     "output_type": "stream",
     "text": [
      "test  mean loss=-1119.7715861002605\n",
      "epoch: 3\n",
      "NDCG@100 | train: 0.4857166554345574, test: 1.0\n",
      "epoch 3\n"
     ]
    },
    {
     "name": "stderr",
     "output_type": "stream",
     "text": [
      "100%|██████████| 7/7 [00:00<00:00, 159.52it/s]\n"
     ]
    },
    {
     "name": "stdout",
     "output_type": "stream",
     "text": [
      "train mean loss=-1190.47074672154\n"
     ]
    },
    {
     "name": "stderr",
     "output_type": "stream",
     "text": [
      "100%|██████████| 3/3 [00:00<00:00, 376.05it/s]\n"
     ]
    },
    {
     "name": "stdout",
     "output_type": "stream",
     "text": [
      "test  mean loss=-1641.4773763020833\n",
      "epoch: 4\n",
      "NDCG@100 | train: 0.4857166554345574, test: 1.0\n",
      "epoch 4\n"
     ]
    },
    {
     "name": "stderr",
     "output_type": "stream",
     "text": [
      "100%|██████████| 7/7 [00:00<00:00, 163.22it/s]\n"
     ]
    },
    {
     "name": "stdout",
     "output_type": "stream",
     "text": [
      "train mean loss=-1718.7023664202009\n"
     ]
    },
    {
     "name": "stderr",
     "output_type": "stream",
     "text": [
      "100%|██████████| 3/3 [00:00<00:00, 601.65it/s]\n"
     ]
    },
    {
     "name": "stdout",
     "output_type": "stream",
     "text": [
      "test  mean loss=-2225.6951497395835\n",
      "epoch: 5\n",
      "NDCG@100 | train: 0.4857166554345574, test: 1.0\n",
      "epoch 5\n"
     ]
    },
    {
     "name": "stderr",
     "output_type": "stream",
     "text": [
      "100%|██████████| 7/7 [00:00<00:00, 121.01it/s]\n"
     ]
    },
    {
     "name": "stdout",
     "output_type": "stream",
     "text": [
      "train mean loss=-2285.617414202009\n"
     ]
    },
    {
     "name": "stderr",
     "output_type": "stream",
     "text": [
      "100%|██████████| 3/3 [00:00<00:00, 300.85it/s]\n"
     ]
    },
    {
     "name": "stdout",
     "output_type": "stream",
     "text": [
      "test  mean loss=-2912.5926106770835\n",
      "epoch: 6\n",
      "NDCG@100 | train: 0.4857166554345574, test: 1.0\n",
      "epoch 6\n"
     ]
    },
    {
     "name": "stderr",
     "output_type": "stream",
     "text": [
      "100%|██████████| 7/7 [00:00<00:00, 132.41it/s]\n"
     ]
    },
    {
     "name": "stdout",
     "output_type": "stream",
     "text": [
      "train mean loss=-2920.867989676339\n"
     ]
    },
    {
     "name": "stderr",
     "output_type": "stream",
     "text": [
      "100%|██████████| 3/3 [00:00<00:00, 334.23it/s]\n"
     ]
    },
    {
     "name": "stdout",
     "output_type": "stream",
     "text": [
      "test  mean loss=-3727.0493977864585\n",
      "epoch: 7\n",
      "NDCG@100 | train: 0.4857166554345574, test: 1.0\n",
      "epoch 7\n"
     ]
    },
    {
     "name": "stderr",
     "output_type": "stream",
     "text": [
      "100%|██████████| 7/7 [00:00<00:00, 134.97it/s]\n"
     ]
    },
    {
     "name": "stdout",
     "output_type": "stream",
     "text": [
      "train mean loss=-3724.1862444196427\n"
     ]
    },
    {
     "name": "stderr",
     "output_type": "stream",
     "text": [
      "100%|██████████| 3/3 [00:00<00:00, 375.86it/s]\n"
     ]
    },
    {
     "name": "stdout",
     "output_type": "stream",
     "text": [
      "test  mean loss=-4647.710286458333\n",
      "epoch: 8\n",
      "NDCG@100 | train: 0.4857166554345574, test: 1.0\n",
      "epoch 8\n"
     ]
    },
    {
     "name": "stderr",
     "output_type": "stream",
     "text": [
      "100%|██████████| 7/7 [00:00<00:00, 137.61it/s]\n"
     ]
    },
    {
     "name": "stdout",
     "output_type": "stream",
     "text": [
      "train mean loss=-4583.865757533482\n"
     ]
    },
    {
     "name": "stderr",
     "output_type": "stream",
     "text": [
      "100%|██████████| 3/3 [00:00<00:00, 300.75it/s]\n"
     ]
    },
    {
     "name": "stdout",
     "output_type": "stream",
     "text": [
      "test  mean loss=-5730.481770833333\n",
      "epoch: 9\n",
      "NDCG@100 | train: 0.4857166554345574, test: 1.0\n",
      "epoch 9\n"
     ]
    },
    {
     "name": "stderr",
     "output_type": "stream",
     "text": [
      "100%|██████████| 7/7 [00:00<00:00, 132.41it/s]\n"
     ]
    },
    {
     "name": "stdout",
     "output_type": "stream",
     "text": [
      "train mean loss=-5644.164655412947\n"
     ]
    },
    {
     "name": "stderr",
     "output_type": "stream",
     "text": [
      "100%|██████████| 3/3 [00:00<00:00, 429.70it/s]\n"
     ]
    },
    {
     "name": "stdout",
     "output_type": "stream",
     "text": [
      "test  mean loss=-6953.028483072917\n",
      "epoch: 10\n",
      "NDCG@100 | train: 0.4857166554345574, test: 1.0\n",
      "epoch 10\n"
     ]
    },
    {
     "name": "stderr",
     "output_type": "stream",
     "text": [
      "100%|██████████| 7/7 [00:00<00:00, 143.24it/s]\n"
     ]
    },
    {
     "name": "stdout",
     "output_type": "stream",
     "text": [
      "train mean loss=-6822.80779157366\n"
     ]
    },
    {
     "name": "stderr",
     "output_type": "stream",
     "text": [
      "100%|██████████| 3/3 [00:00<00:00, 273.45it/s]\n"
     ]
    },
    {
     "name": "stdout",
     "output_type": "stream",
     "text": [
      "test  mean loss=-8355.424479166666\n",
      "epoch: 11\n",
      "NDCG@100 | train: 0.4857166554345574, test: 1.0\n",
      "save the model\n",
      "save the optimizer\n",
      "[[0.]\n",
      " [0.]\n",
      " [0.]\n",
      " [0.]\n",
      " [0.]\n",
      " [0.]\n",
      " [0.]\n",
      " [0.]\n",
      " [0.]\n",
      " [0.]]\n",
      "10\n",
      "load dataset\n",
      "The number of data, train: 7 validate: 3\n",
      "prepare initialized model!\n",
      "Start training and validation loop......\n",
      "epoch 1\n"
     ]
    },
    {
     "name": "stderr",
     "output_type": "stream",
     "text": [
      "100%|██████████| 7/7 [00:00<00:00, 146.22it/s]\n"
     ]
    },
    {
     "name": "stdout",
     "output_type": "stream",
     "text": [
      "train mean loss=-357.0946502685547\n"
     ]
    },
    {
     "name": "stderr",
     "output_type": "stream",
     "text": [
      "100%|██████████| 3/3 [00:00<00:00, 376.04it/s]\n"
     ]
    },
    {
     "name": "stdout",
     "output_type": "stream",
     "text": [
      "test  mean loss=-542.749521891276\n",
      "epoch: 2\n",
      "NDCG@100 | train: 0.5761353442375102, test: 0.9858134195578705\n",
      "epoch 2\n"
     ]
    },
    {
     "name": "stderr",
     "output_type": "stream",
     "text": [
      "100%|██████████| 7/7 [00:00<00:00, 143.24it/s]\n"
     ]
    },
    {
     "name": "stdout",
     "output_type": "stream",
     "text": [
      "train mean loss=-636.1517835344587\n"
     ]
    },
    {
     "name": "stderr",
     "output_type": "stream",
     "text": [
      "100%|██████████| 3/3 [00:00<00:00, 429.67it/s]\n"
     ]
    },
    {
     "name": "stdout",
     "output_type": "stream",
     "text": [
      "test  mean loss=-893.5762532552084\n",
      "epoch: 3\n",
      "NDCG@100 | train: 0.5761353442375102, test: 0.9858134195578705\n",
      "epoch 3\n"
     ]
    },
    {
     "name": "stderr",
     "output_type": "stream",
     "text": [
      "100%|██████████| 7/7 [00:00<00:00, 113.20it/s]\n"
     ]
    },
    {
     "name": "stdout",
     "output_type": "stream",
     "text": [
      "train mean loss=-973.319109235491\n"
     ]
    },
    {
     "name": "stderr",
     "output_type": "stream",
     "text": [
      "100%|██████████| 3/3 [00:00<00:00, 300.83it/s]\n"
     ]
    },
    {
     "name": "stdout",
     "output_type": "stream",
     "text": [
      "test  mean loss=-1246.1568603515625\n",
      "epoch: 4\n",
      "NDCG@100 | train: 0.5761353442375102, test: 0.9858134195578705\n",
      "epoch 4\n"
     ]
    },
    {
     "name": "stderr",
     "output_type": "stream",
     "text": [
      "100%|██████████| 7/7 [00:00<00:00, 106.34it/s]\n"
     ]
    },
    {
     "name": "stdout",
     "output_type": "stream",
     "text": [
      "train mean loss=-1363.1904035295759\n"
     ]
    },
    {
     "name": "stderr",
     "output_type": "stream",
     "text": [
      "100%|██████████| 3/3 [00:00<00:00, 300.84it/s]\n"
     ]
    },
    {
     "name": "stdout",
     "output_type": "stream",
     "text": [
      "test  mean loss=-1638.3293050130208\n",
      "epoch: 5\n",
      "NDCG@100 | train: 0.5761353442375102, test: 0.9858134195578705\n",
      "epoch 5\n"
     ]
    },
    {
     "name": "stderr",
     "output_type": "stream",
     "text": [
      "100%|██████████| 7/7 [00:00<00:00, 107.98it/s]\n"
     ]
    },
    {
     "name": "stdout",
     "output_type": "stream",
     "text": [
      "train mean loss=-1787.4690813337054\n"
     ]
    },
    {
     "name": "stderr",
     "output_type": "stream",
     "text": [
      "100%|██████████| 3/3 [00:00<00:00, 429.73it/s]\n"
     ]
    },
    {
     "name": "stdout",
     "output_type": "stream",
     "text": [
      "test  mean loss=-2104.444864908854\n",
      "epoch: 6\n",
      "NDCG@100 | train: 0.5761353442375102, test: 0.9858134195578705\n",
      "epoch 6\n"
     ]
    },
    {
     "name": "stderr",
     "output_type": "stream",
     "text": [
      "100%|██████████| 7/7 [00:00<00:00, 121.02it/s]\n"
     ]
    },
    {
     "name": "stdout",
     "output_type": "stream",
     "text": [
      "train mean loss=-2268.1127493722097\n"
     ]
    },
    {
     "name": "stderr",
     "output_type": "stream",
     "text": [
      "100%|██████████| 3/3 [00:00<00:00, 300.80it/s]\n"
     ]
    },
    {
     "name": "stdout",
     "output_type": "stream",
     "text": [
      "test  mean loss=-2661.5753580729165\n",
      "epoch: 7\n",
      "NDCG@100 | train: 0.5761353442375102, test: 0.9858134195578705\n",
      "epoch 7\n"
     ]
    },
    {
     "name": "stderr",
     "output_type": "stream",
     "text": [
      "100%|██████████| 7/7 [00:00<00:00, 137.61it/s]\n"
     ]
    },
    {
     "name": "stdout",
     "output_type": "stream",
     "text": [
      "train mean loss=-2781.067600795201\n"
     ]
    },
    {
     "name": "stderr",
     "output_type": "stream",
     "text": [
      "100%|██████████| 3/3 [00:00<00:00, 231.33it/s]\n"
     ]
    },
    {
     "name": "stdout",
     "output_type": "stream",
     "text": [
      "test  mean loss=-3341.414306640625\n",
      "epoch: 8\n",
      "NDCG@100 | train: 0.5761353442375102, test: 0.9858134195578705\n",
      "epoch 8\n"
     ]
    },
    {
     "name": "stderr",
     "output_type": "stream",
     "text": [
      "100%|██████████| 7/7 [00:00<00:00, 85.59it/s]\n"
     ]
    },
    {
     "name": "stdout",
     "output_type": "stream",
     "text": [
      "train mean loss=-3491.477791922433\n"
     ]
    },
    {
     "name": "stderr",
     "output_type": "stream",
     "text": [
      "100%|██████████| 3/3 [00:00<00:00, 214.85it/s]\n"
     ]
    },
    {
     "name": "stdout",
     "output_type": "stream",
     "text": [
      "test  mean loss=-4078.3324381510415\n",
      "epoch: 9\n",
      "NDCG@100 | train: 0.5761353442375102, test: 0.9858134195578705\n",
      "epoch 9\n"
     ]
    },
    {
     "name": "stderr",
     "output_type": "stream",
     "text": [
      "100%|██████████| 7/7 [00:00<00:00, 103.22it/s]\n"
     ]
    },
    {
     "name": "stdout",
     "output_type": "stream",
     "text": [
      "train mean loss=-4207.43132672991\n"
     ]
    },
    {
     "name": "stderr",
     "output_type": "stream",
     "text": [
      "100%|██████████| 3/3 [00:00<00:00, 250.67it/s]\n"
     ]
    },
    {
     "name": "stdout",
     "output_type": "stream",
     "text": [
      "test  mean loss=-4961.7001953125\n",
      "epoch: 10\n",
      "NDCG@100 | train: 0.5761353442375102, test: 0.9858134195578705\n",
      "epoch 10\n"
     ]
    },
    {
     "name": "stderr",
     "output_type": "stream",
     "text": [
      "100%|██████████| 7/7 [00:00<00:00, 127.61it/s]\n"
     ]
    },
    {
     "name": "stdout",
     "output_type": "stream",
     "text": [
      "train mean loss=-4996.4293212890625\n"
     ]
    },
    {
     "name": "stderr",
     "output_type": "stream",
     "text": [
      "100%|██████████| 3/3 [00:00<00:00, 273.29it/s]\n"
     ]
    },
    {
     "name": "stdout",
     "output_type": "stream",
     "text": [
      "test  mean loss=-5995.11865234375\n",
      "epoch: 11\n",
      "NDCG@100 | train: 0.5761353442375102, test: 0.9858134195578705\n",
      "save the model\n",
      "save the optimizer\n",
      "[[0.]\n",
      " [0.]\n",
      " [0.]\n",
      " [0.]\n",
      " [0.]\n",
      " [0.]\n",
      " [0.]\n",
      " [0.]\n",
      " [0.]\n",
      " [0.]]\n",
      "10\n",
      "load dataset\n",
      "The number of data, train: 7 validate: 3\n",
      "prepare initialized model!\n",
      "Start training and validation loop......\n",
      "epoch 1\n"
     ]
    },
    {
     "name": "stderr",
     "output_type": "stream",
     "text": [
      "100%|██████████| 7/7 [00:00<00:00, 125.33it/s]\n"
     ]
    },
    {
     "name": "stdout",
     "output_type": "stream",
     "text": [
      "train mean loss=0.379971981048584\n"
     ]
    },
    {
     "name": "stderr",
     "output_type": "stream",
     "text": [
      "100%|██████████| 3/3 [00:00<00:00, 429.49it/s]\n"
     ]
    },
    {
     "name": "stdout",
     "output_type": "stream",
     "text": [
      "test  mean loss=0.0\n",
      "epoch: 2\n",
      "NDCG@100 | train: 0.22389666401180447, test: 0.9849443638270036\n",
      "epoch 2\n"
     ]
    },
    {
     "name": "stderr",
     "output_type": "stream",
     "text": [
      "100%|██████████| 7/7 [00:00<00:00, 134.97it/s]\n"
     ]
    },
    {
     "name": "stdout",
     "output_type": "stream",
     "text": [
      "train mean loss=0.0\n"
     ]
    },
    {
     "name": "stderr",
     "output_type": "stream",
     "text": [
      "100%|██████████| 3/3 [00:00<00:00, 376.63it/s]\n"
     ]
    },
    {
     "name": "stdout",
     "output_type": "stream",
     "text": [
      "test  mean loss=0.0\n",
      "epoch: 3\n",
      "NDCG@100 | train: 0.22389666401180447, test: 0.9849443638270036\n",
      "epoch 3\n"
     ]
    },
    {
     "name": "stderr",
     "output_type": "stream",
     "text": [
      "100%|██████████| 7/7 [00:00<00:00, 134.98it/s]\n"
     ]
    },
    {
     "name": "stdout",
     "output_type": "stream",
     "text": [
      "train mean loss=0.0\n"
     ]
    },
    {
     "name": "stderr",
     "output_type": "stream",
     "text": [
      "100%|██████████| 3/3 [00:00<00:00, 334.32it/s]\n"
     ]
    },
    {
     "name": "stdout",
     "output_type": "stream",
     "text": [
      "test  mean loss=0.0\n",
      "epoch: 4\n",
      "NDCG@100 | train: 0.22389666401180447, test: 0.9849443638270036\n",
      "epoch 4\n"
     ]
    },
    {
     "name": "stderr",
     "output_type": "stream",
     "text": [
      "100%|██████████| 7/7 [00:00<00:00, 159.52it/s]\n"
     ]
    },
    {
     "name": "stdout",
     "output_type": "stream",
     "text": [
      "train mean loss=0.0\n"
     ]
    },
    {
     "name": "stderr",
     "output_type": "stream",
     "text": [
      "100%|██████████| 3/3 [00:00<00:00, 374.41it/s]\n"
     ]
    },
    {
     "name": "stdout",
     "output_type": "stream",
     "text": [
      "test  mean loss=0.0\n",
      "epoch: 5\n",
      "NDCG@100 | train: 0.22389666401180447, test: 0.9849443638270036\n",
      "epoch 5\n"
     ]
    },
    {
     "name": "stderr",
     "output_type": "stream",
     "text": [
      "100%|██████████| 7/7 [00:00<00:00, 129.98it/s]\n"
     ]
    },
    {
     "name": "stdout",
     "output_type": "stream",
     "text": [
      "train mean loss=0.0\n"
     ]
    },
    {
     "name": "stderr",
     "output_type": "stream",
     "text": [
      "100%|██████████| 3/3 [00:00<00:00, 375.95it/s]\n"
     ]
    },
    {
     "name": "stdout",
     "output_type": "stream",
     "text": [
      "test  mean loss=0.0\n",
      "epoch: 6\n",
      "NDCG@100 | train: 0.22389666401180447, test: 0.9849443638270036\n",
      "epoch 6\n"
     ]
    },
    {
     "name": "stderr",
     "output_type": "stream",
     "text": [
      "100%|██████████| 7/7 [00:00<00:00, 109.67it/s]\n"
     ]
    },
    {
     "name": "stdout",
     "output_type": "stream",
     "text": [
      "train mean loss=0.0\n"
     ]
    },
    {
     "name": "stderr",
     "output_type": "stream",
     "text": [
      "100%|██████████| 3/3 [00:00<00:00, 273.46it/s]\n"
     ]
    },
    {
     "name": "stdout",
     "output_type": "stream",
     "text": [
      "test  mean loss=0.0\n",
      "epoch: 7\n",
      "NDCG@100 | train: 0.22389666401180447, test: 0.9849443638270036\n",
      "epoch 7\n"
     ]
    },
    {
     "name": "stderr",
     "output_type": "stream",
     "text": [
      "100%|██████████| 7/7 [00:00<00:00, 127.61it/s]\n"
     ]
    },
    {
     "name": "stdout",
     "output_type": "stream",
     "text": [
      "train mean loss=0.0\n"
     ]
    },
    {
     "name": "stderr",
     "output_type": "stream",
     "text": [
      "100%|██████████| 3/3 [00:00<00:00, 429.69it/s]\n"
     ]
    },
    {
     "name": "stdout",
     "output_type": "stream",
     "text": [
      "test  mean loss=0.0\n",
      "epoch: 8\n",
      "NDCG@100 | train: 0.22389666401180447, test: 0.9849443638270036\n",
      "epoch 8\n"
     ]
    },
    {
     "name": "stderr",
     "output_type": "stream",
     "text": [
      "100%|██████████| 7/7 [00:00<00:00, 115.06it/s]\n"
     ]
    },
    {
     "name": "stdout",
     "output_type": "stream",
     "text": [
      "train mean loss=0.0\n"
     ]
    },
    {
     "name": "stderr",
     "output_type": "stream",
     "text": [
      "100%|██████████| 3/3 [00:00<00:00, 429.76it/s]\n"
     ]
    },
    {
     "name": "stdout",
     "output_type": "stream",
     "text": [
      "test  mean loss=0.0\n",
      "epoch: 9\n",
      "NDCG@100 | train: 0.22389666401180447, test: 0.9849443638270036\n",
      "epoch 9\n"
     ]
    },
    {
     "name": "stderr",
     "output_type": "stream",
     "text": [
      "100%|██████████| 7/7 [00:00<00:00, 123.13it/s]\n"
     ]
    },
    {
     "name": "stdout",
     "output_type": "stream",
     "text": [
      "train mean loss=0.0\n"
     ]
    },
    {
     "name": "stderr",
     "output_type": "stream",
     "text": [
      "100%|██████████| 3/3 [00:00<00:00, 300.78it/s]\n"
     ]
    },
    {
     "name": "stdout",
     "output_type": "stream",
     "text": [
      "test  mean loss=0.0\n",
      "epoch: 10\n",
      "NDCG@100 | train: 0.22389666401180447, test: 0.9849443638270036\n",
      "epoch 10\n"
     ]
    },
    {
     "name": "stderr",
     "output_type": "stream",
     "text": [
      "100%|██████████| 7/7 [00:00<00:00, 129.98it/s]\n"
     ]
    },
    {
     "name": "stdout",
     "output_type": "stream",
     "text": [
      "train mean loss=0.0\n"
     ]
    },
    {
     "name": "stderr",
     "output_type": "stream",
     "text": [
      "100%|██████████| 3/3 [00:00<00:00, 334.23it/s]\n"
     ]
    },
    {
     "name": "stdout",
     "output_type": "stream",
     "text": [
      "test  mean loss=0.0\n",
      "epoch: 11\n",
      "NDCG@100 | train: 0.22389666401180447, test: 0.9849443638270036\n",
      "save the model\n",
      "save the optimizer\n",
      "[[nan]\n",
      " [nan]\n",
      " [nan]\n",
      " [nan]\n",
      " [nan]\n",
      " [nan]\n",
      " [nan]\n",
      " [nan]\n",
      " [nan]\n",
      " [nan]]\n",
      "31 ricerca di merda\n",
      "9\n",
      "load dataset\n",
      "The number of data, train: 6 validate: 3\n",
      "prepare initialized model!\n",
      "Start training and validation loop......\n",
      "epoch 1\n"
     ]
    },
    {
     "name": "stderr",
     "output_type": "stream",
     "text": [
      "100%|██████████| 6/6 [00:00<00:00, 117.96it/s]\n"
     ]
    },
    {
     "name": "stdout",
     "output_type": "stream",
     "text": [
      "train mean loss=-174.76990381876627\n"
     ]
    },
    {
     "name": "stderr",
     "output_type": "stream",
     "text": [
      "100%|██████████| 3/3 [00:00<00:00, 375.97it/s]\n"
     ]
    },
    {
     "name": "stdout",
     "output_type": "stream",
     "text": [
      "test  mean loss=-146.16480763753256\n",
      "epoch: 2\n",
      "NDCG@100 | train: 0.164977229774695, test: 0.9721212198129313\n",
      "epoch 2\n"
     ]
    },
    {
     "name": "stderr",
     "output_type": "stream",
     "text": [
      "100%|██████████| 6/6 [00:00<00:00, 117.96it/s]\n"
     ]
    },
    {
     "name": "stdout",
     "output_type": "stream",
     "text": [
      "train mean loss=-308.1465199788411\n"
     ]
    },
    {
     "name": "stderr",
     "output_type": "stream",
     "text": [
      "100%|██████████| 3/3 [00:00<00:00, 429.71it/s]\n"
     ]
    },
    {
     "name": "stdout",
     "output_type": "stream",
     "text": [
      "test  mean loss=-231.69385274251303\n",
      "epoch: 3\n",
      "NDCG@100 | train: 0.164977229774695, test: 0.9721212198129313\n",
      "epoch 3\n"
     ]
    },
    {
     "name": "stderr",
     "output_type": "stream",
     "text": [
      "100%|██████████| 6/6 [00:00<00:00, 139.90it/s]\n"
     ]
    },
    {
     "name": "stdout",
     "output_type": "stream",
     "text": [
      "train mean loss=-455.6924133300781\n"
     ]
    },
    {
     "name": "stderr",
     "output_type": "stream",
     "text": [
      "100%|██████████| 3/3 [00:00<00:00, 334.31it/s]\n"
     ]
    },
    {
     "name": "stdout",
     "output_type": "stream",
     "text": [
      "test  mean loss=-320.86639912923175\n",
      "epoch: 4\n",
      "NDCG@100 | train: 0.164977229774695, test: 0.9721212198129313\n",
      "epoch 4\n"
     ]
    },
    {
     "name": "stderr",
     "output_type": "stream",
     "text": [
      "100%|██████████| 6/6 [00:00<00:00, 143.24it/s]\n"
     ]
    },
    {
     "name": "stdout",
     "output_type": "stream",
     "text": [
      "train mean loss=-599.9989598592123\n"
     ]
    },
    {
     "name": "stderr",
     "output_type": "stream",
     "text": [
      "100%|██████████| 3/3 [00:00<00:00, 334.27it/s]\n"
     ]
    },
    {
     "name": "stdout",
     "output_type": "stream",
     "text": [
      "test  mean loss=-422.35211181640625\n",
      "epoch: 5\n",
      "NDCG@100 | train: 0.164977229774695, test: 0.9721212198129313\n",
      "epoch 5\n"
     ]
    },
    {
     "name": "stderr",
     "output_type": "stream",
     "text": [
      "100%|██████████| 6/6 [00:00<00:00, 146.74it/s]\n"
     ]
    },
    {
     "name": "stdout",
     "output_type": "stream",
     "text": [
      "train mean loss=-761.1054178873698\n"
     ]
    },
    {
     "name": "stderr",
     "output_type": "stream",
     "text": [
      "100%|██████████| 3/3 [00:00<00:00, 231.35it/s]\n"
     ]
    },
    {
     "name": "stdout",
     "output_type": "stream",
     "text": [
      "test  mean loss=-538.1147664388021\n",
      "epoch: 6\n",
      "NDCG@100 | train: 0.164977229774695, test: 0.9721212198129313\n",
      "epoch 6\n"
     ]
    },
    {
     "name": "stderr",
     "output_type": "stream",
     "text": [
      "100%|██████████| 6/6 [00:00<00:00, 106.46it/s]\n"
     ]
    },
    {
     "name": "stdout",
     "output_type": "stream",
     "text": [
      "train mean loss=-949.3427734375\n"
     ]
    },
    {
     "name": "stderr",
     "output_type": "stream",
     "text": [
      "100%|██████████| 3/3 [00:00<00:00, 334.23it/s]\n"
     ]
    },
    {
     "name": "stdout",
     "output_type": "stream",
     "text": [
      "test  mean loss=-668.9400329589844\n",
      "epoch: 7\n",
      "NDCG@100 | train: 0.164977229774695, test: 0.9721212198129313\n",
      "epoch 7\n"
     ]
    },
    {
     "name": "stderr",
     "output_type": "stream",
     "text": [
      "100%|██████████| 6/6 [00:00<00:00, 122.78it/s]\n"
     ]
    },
    {
     "name": "stdout",
     "output_type": "stream",
     "text": [
      "train mean loss=-1200.4176483154297\n"
     ]
    },
    {
     "name": "stderr",
     "output_type": "stream",
     "text": [
      "100%|██████████| 3/3 [00:00<00:00, 429.73it/s]\n"
     ]
    },
    {
     "name": "stdout",
     "output_type": "stream",
     "text": [
      "test  mean loss=-808.1289469401041\n",
      "epoch: 8\n",
      "NDCG@100 | train: 0.164977229774695, test: 0.9721212198129313\n",
      "epoch 8\n"
     ]
    },
    {
     "name": "stderr",
     "output_type": "stream",
     "text": [
      "100%|██████████| 6/6 [00:00<00:00, 158.31it/s]\n"
     ]
    },
    {
     "name": "stdout",
     "output_type": "stream",
     "text": [
      "train mean loss=-1466.6590881347656\n"
     ]
    },
    {
     "name": "stderr",
     "output_type": "stream",
     "text": [
      "100%|██████████| 3/3 [00:00<00:00, 501.13it/s]\n"
     ]
    },
    {
     "name": "stdout",
     "output_type": "stream",
     "text": [
      "test  mean loss=-962.5103963216146\n",
      "epoch: 9\n",
      "NDCG@100 | train: 0.164977229774695, test: 0.9721212198129313\n",
      "epoch 9\n"
     ]
    },
    {
     "name": "stderr",
     "output_type": "stream",
     "text": [
      "100%|██████████| 6/6 [00:00<00:00, 143.39it/s]\n"
     ]
    },
    {
     "name": "stdout",
     "output_type": "stream",
     "text": [
      "train mean loss=-1733.8346150716145\n"
     ]
    },
    {
     "name": "stderr",
     "output_type": "stream",
     "text": [
      "100%|██████████| 3/3 [00:00<00:00, 601.59it/s]\n"
     ]
    },
    {
     "name": "stdout",
     "output_type": "stream",
     "text": [
      "test  mean loss=-1146.4102376302083\n",
      "epoch: 10\n",
      "NDCG@100 | train: 0.164977229774695, test: 0.9721212198129313\n",
      "epoch 10\n"
     ]
    },
    {
     "name": "stderr",
     "output_type": "stream",
     "text": [
      "100%|██████████| 6/6 [00:00<00:00, 143.24it/s]\n"
     ]
    },
    {
     "name": "stdout",
     "output_type": "stream",
     "text": [
      "train mean loss=-2062.4769083658853\n"
     ]
    },
    {
     "name": "stderr",
     "output_type": "stream",
     "text": [
      "100%|██████████| 3/3 [00:00<00:00, 334.25it/s]\n"
     ]
    },
    {
     "name": "stdout",
     "output_type": "stream",
     "text": [
      "test  mean loss=-1352.9836832682292\n",
      "epoch: 11\n",
      "NDCG@100 | train: 0.164977229774695, test: 0.9721212198129313\n",
      "save the model\n",
      "save the optimizer\n",
      "[[0.]\n",
      " [0.]\n",
      " [0.]\n",
      " [0.]\n",
      " [0.]\n",
      " [0.]\n",
      " [0.]\n",
      " [0.]\n",
      " [0.]]\n",
      "33 ricerca di merda\n",
      "11\n",
      "load dataset\n",
      "The number of data, train: 7 validate: 4\n",
      "prepare initialized model!\n",
      "Start training and validation loop......\n",
      "epoch 1\n"
     ]
    },
    {
     "name": "stderr",
     "output_type": "stream",
     "text": [
      "100%|██████████| 7/7 [00:00<00:00, 115.06it/s]\n"
     ]
    },
    {
     "name": "stdout",
     "output_type": "stream",
     "text": [
      "train mean loss=-105.61914416721889\n"
     ]
    },
    {
     "name": "stderr",
     "output_type": "stream",
     "text": [
      "100%|██████████| 4/4 [00:00<00:00, 445.68it/s]\n"
     ]
    },
    {
     "name": "stdout",
     "output_type": "stream",
     "text": [
      "test  mean loss=-194.88946151733398\n",
      "epoch: 2\n",
      "NDCG@100 | train: 0.2932012749275048, test: 0.7600616545773525\n",
      "epoch 2\n"
     ]
    },
    {
     "name": "stderr",
     "output_type": "stream",
     "text": [
      "100%|██████████| 7/7 [00:00<00:00, 152.57it/s]\n"
     ]
    },
    {
     "name": "stdout",
     "output_type": "stream",
     "text": [
      "train mean loss=-310.71454184395924\n"
     ]
    },
    {
     "name": "stderr",
     "output_type": "stream",
     "text": [
      "100%|██████████| 4/4 [00:00<00:00, 501.37it/s]\n"
     ]
    },
    {
     "name": "stdout",
     "output_type": "stream",
     "text": [
      "test  mean loss=-344.01668548583984\n",
      "epoch: 3\n",
      "NDCG@100 | train: 0.2932012749275048, test: 0.7600616545773525\n",
      "epoch 3\n"
     ]
    },
    {
     "name": "stderr",
     "output_type": "stream",
     "text": [
      "100%|██████████| 7/7 [00:00<00:00, 155.97it/s]\n"
     ]
    },
    {
     "name": "stdout",
     "output_type": "stream",
     "text": [
      "train mean loss=-508.7940412248884\n"
     ]
    },
    {
     "name": "stderr",
     "output_type": "stream",
     "text": [
      "100%|██████████| 4/4 [00:00<00:00, 572.87it/s]\n"
     ]
    },
    {
     "name": "stdout",
     "output_type": "stream",
     "text": [
      "test  mean loss=-501.2061767578125\n",
      "epoch: 4\n",
      "NDCG@100 | train: 0.2932012749275048, test: 0.7600616545773525\n",
      "epoch 4\n"
     ]
    },
    {
     "name": "stderr",
     "output_type": "stream",
     "text": [
      "100%|██████████| 7/7 [00:00<00:00, 152.58it/s]\n"
     ]
    },
    {
     "name": "stdout",
     "output_type": "stream",
     "text": [
      "train mean loss=-697.9158804757254\n"
     ]
    },
    {
     "name": "stderr",
     "output_type": "stream",
     "text": [
      "100%|██████████| 4/4 [00:00<00:00, 400.47it/s]\n"
     ]
    },
    {
     "name": "stdout",
     "output_type": "stream",
     "text": [
      "test  mean loss=-692.2389602661133\n",
      "epoch: 5\n",
      "NDCG@100 | train: 0.2932012749275048, test: 0.7600616545773525\n",
      "epoch 5\n"
     ]
    },
    {
     "name": "stderr",
     "output_type": "stream",
     "text": [
      "100%|██████████| 7/7 [00:00<00:00, 132.35it/s]\n"
     ]
    },
    {
     "name": "stdout",
     "output_type": "stream",
     "text": [
      "train mean loss=-952.5232064383371\n"
     ]
    },
    {
     "name": "stderr",
     "output_type": "stream",
     "text": [
      "100%|██████████| 4/4 [00:00<00:00, 501.28it/s]\n"
     ]
    },
    {
     "name": "stdout",
     "output_type": "stream",
     "text": [
      "test  mean loss=-910.8273315429688\n",
      "epoch: 6\n",
      "NDCG@100 | train: 0.2932012749275048, test: 0.7600616545773525\n",
      "epoch 6\n"
     ]
    },
    {
     "name": "stderr",
     "output_type": "stream",
     "text": [
      "100%|██████████| 7/7 [00:00<00:00, 134.98it/s]\n"
     ]
    },
    {
     "name": "stdout",
     "output_type": "stream",
     "text": [
      "train mean loss=-1268.622767857143\n"
     ]
    },
    {
     "name": "stderr",
     "output_type": "stream",
     "text": [
      "100%|██████████| 4/4 [00:00<00:00, 401.14it/s]\n"
     ]
    },
    {
     "name": "stdout",
     "output_type": "stream",
     "text": [
      "test  mean loss=-1156.3282012939453\n",
      "epoch: 7\n",
      "NDCG@100 | train: 0.2932012749275048, test: 0.7600616545773525\n",
      "epoch 7\n"
     ]
    },
    {
     "name": "stderr",
     "output_type": "stream",
     "text": [
      "100%|██████████| 7/7 [00:00<00:00, 137.62it/s]\n"
     ]
    },
    {
     "name": "stdout",
     "output_type": "stream",
     "text": [
      "train mean loss=-1550.6216517857142\n"
     ]
    },
    {
     "name": "stderr",
     "output_type": "stream",
     "text": [
      "100%|██████████| 4/4 [00:00<00:00, 445.66it/s]\n"
     ]
    },
    {
     "name": "stdout",
     "output_type": "stream",
     "text": [
      "test  mean loss=-1471.7761535644531\n",
      "epoch: 8\n",
      "NDCG@100 | train: 0.2932012749275048, test: 0.7600616545773525\n",
      "epoch 8\n"
     ]
    },
    {
     "name": "stderr",
     "output_type": "stream",
     "text": [
      "100%|██████████| 7/7 [00:00<00:00, 155.97it/s]\n"
     ]
    },
    {
     "name": "stdout",
     "output_type": "stream",
     "text": [
      "train mean loss=-1963.3118547712054\n"
     ]
    },
    {
     "name": "stderr",
     "output_type": "stream",
     "text": [
      "100%|██████████| 4/4 [00:00<00:00, 334.15it/s]\n"
     ]
    },
    {
     "name": "stdout",
     "output_type": "stream",
     "text": [
      "test  mean loss=-1823.7312622070312\n",
      "epoch: 9\n",
      "NDCG@100 | train: 0.2932012749275048, test: 0.7600616545773525\n",
      "epoch 9\n"
     ]
    },
    {
     "name": "stderr",
     "output_type": "stream",
     "text": [
      "100%|██████████| 7/7 [00:00<00:00, 123.13it/s]\n"
     ]
    },
    {
     "name": "stdout",
     "output_type": "stream",
     "text": [
      "train mean loss=-2446.019199916295\n"
     ]
    },
    {
     "name": "stderr",
     "output_type": "stream",
     "text": [
      "100%|██████████| 4/4 [00:00<00:00, 401.10it/s]\n"
     ]
    },
    {
     "name": "stdout",
     "output_type": "stream",
     "text": [
      "test  mean loss=-2225.2012939453125\n",
      "epoch: 10\n",
      "NDCG@100 | train: 0.2932012749275048, test: 0.7600616545773525\n",
      "epoch 10\n"
     ]
    },
    {
     "name": "stderr",
     "output_type": "stream",
     "text": [
      "100%|██████████| 7/7 [00:00<00:00, 129.98it/s]\n"
     ]
    },
    {
     "name": "stdout",
     "output_type": "stream",
     "text": [
      "train mean loss=-2981.42960030692\n"
     ]
    },
    {
     "name": "stderr",
     "output_type": "stream",
     "text": [
      "100%|██████████| 4/4 [00:00<00:00, 308.48it/s]\n"
     ]
    },
    {
     "name": "stdout",
     "output_type": "stream",
     "text": [
      "test  mean loss=-2691.4576721191406\n",
      "epoch: 11\n",
      "NDCG@100 | train: 0.2932012749275048, test: 0.7600616545773525\n",
      "save the model\n",
      "save the optimizer\n",
      "[[0.]\n",
      " [0.]\n",
      " [0.]\n",
      " [0.]\n",
      " [0.]\n",
      " [0.]\n",
      " [0.]\n",
      " [0.]\n",
      " [0.]\n",
      " [0.]\n",
      " [0.]]\n",
      "11\n",
      "load dataset\n",
      "The number of data, train: 7 validate: 4\n",
      "prepare initialized model!\n",
      "Start training and validation loop......\n",
      "epoch 1\n"
     ]
    },
    {
     "name": "stderr",
     "output_type": "stream",
     "text": [
      "100%|██████████| 7/7 [00:00<00:00, 109.67it/s]\n"
     ]
    },
    {
     "name": "stdout",
     "output_type": "stream",
     "text": [
      "train mean loss=-40.14047295706613\n"
     ]
    },
    {
     "name": "stderr",
     "output_type": "stream",
     "text": [
      "100%|██████████| 4/4 [00:00<00:00, 501.35it/s]\n"
     ]
    },
    {
     "name": "stdout",
     "output_type": "stream",
     "text": [
      "test  mean loss=-57.61182117462158\n",
      "epoch: 2\n",
      "NDCG@100 | train: 0.5241767009781538, test: 0.26207700941401696\n",
      "epoch 2\n"
     ]
    },
    {
     "name": "stderr",
     "output_type": "stream",
     "text": [
      "100%|██████████| 7/7 [00:00<00:00, 115.05it/s]\n"
     ]
    },
    {
     "name": "stdout",
     "output_type": "stream",
     "text": [
      "train mean loss=-94.09917340959821\n"
     ]
    },
    {
     "name": "stderr",
     "output_type": "stream",
     "text": [
      "100%|██████████| 4/4 [00:00<00:00, 400.95it/s]\n"
     ]
    },
    {
     "name": "stdout",
     "output_type": "stream",
     "text": [
      "test  mean loss=-99.32418441772461\n",
      "epoch: 3\n",
      "NDCG@100 | train: 0.5241767009781538, test: 0.26207700941401696\n",
      "epoch 3\n"
     ]
    },
    {
     "name": "stderr",
     "output_type": "stream",
     "text": [
      "100%|██████████| 7/7 [00:00<00:00, 109.67it/s]\n"
     ]
    },
    {
     "name": "stdout",
     "output_type": "stream",
     "text": [
      "train mean loss=-150.5547605242048\n"
     ]
    },
    {
     "name": "stderr",
     "output_type": "stream",
     "text": [
      "100%|██████████| 4/4 [00:00<00:00, 401.10it/s]\n"
     ]
    },
    {
     "name": "stdout",
     "output_type": "stream",
     "text": [
      "test  mean loss=-146.312255859375\n",
      "epoch: 4\n",
      "NDCG@100 | train: 0.5241767009781538, test: 0.26207700941401696\n",
      "epoch 4\n"
     ]
    },
    {
     "name": "stderr",
     "output_type": "stream",
     "text": [
      "100%|██████████| 7/7 [00:00<00:00, 140.37it/s]\n"
     ]
    },
    {
     "name": "stdout",
     "output_type": "stream",
     "text": [
      "train mean loss=-213.1455078125\n"
     ]
    },
    {
     "name": "stderr",
     "output_type": "stream",
     "text": [
      "100%|██████████| 4/4 [00:00<00:00, 401.20it/s]\n"
     ]
    },
    {
     "name": "stdout",
     "output_type": "stream",
     "text": [
      "test  mean loss=-201.5831413269043\n",
      "epoch: 5\n",
      "NDCG@100 | train: 0.5241767009781538, test: 0.26207700941401696\n",
      "epoch 5\n"
     ]
    },
    {
     "name": "stderr",
     "output_type": "stream",
     "text": [
      "100%|██████████| 7/7 [00:00<00:00, 115.06it/s]\n"
     ]
    },
    {
     "name": "stdout",
     "output_type": "stream",
     "text": [
      "train mean loss=-287.9614584786551\n"
     ]
    },
    {
     "name": "stderr",
     "output_type": "stream",
     "text": [
      "100%|██████████| 4/4 [00:00<00:00, 364.67it/s]\n"
     ]
    },
    {
     "name": "stdout",
     "output_type": "stream",
     "text": [
      "test  mean loss=-266.6168746948242\n",
      "epoch: 6\n",
      "NDCG@100 | train: 0.5241767009781538, test: 0.26207700941401696\n",
      "epoch 6\n"
     ]
    },
    {
     "name": "stderr",
     "output_type": "stream",
     "text": [
      "100%|██████████| 7/7 [00:00<00:00, 123.12it/s]\n"
     ]
    },
    {
     "name": "stdout",
     "output_type": "stream",
     "text": [
      "train mean loss=-374.997794015067\n"
     ]
    },
    {
     "name": "stderr",
     "output_type": "stream",
     "text": [
      "100%|██████████| 4/4 [00:00<00:00, 445.66it/s]\n"
     ]
    },
    {
     "name": "stdout",
     "output_type": "stream",
     "text": [
      "test  mean loss=-343.5753173828125\n",
      "epoch: 7\n",
      "NDCG@100 | train: 0.5241767009781538, test: 0.26207700941401696\n",
      "epoch 7\n"
     ]
    },
    {
     "name": "stderr",
     "output_type": "stream",
     "text": [
      "100%|██████████| 7/7 [00:00<00:00, 155.97it/s]\n"
     ]
    },
    {
     "name": "stdout",
     "output_type": "stream",
     "text": [
      "train mean loss=-477.81408255440846\n"
     ]
    },
    {
     "name": "stderr",
     "output_type": "stream",
     "text": [
      "100%|██████████| 4/4 [00:00<00:00, 401.04it/s]\n"
     ]
    },
    {
     "name": "stdout",
     "output_type": "stream",
     "text": [
      "test  mean loss=-434.3888931274414\n",
      "epoch: 8\n",
      "NDCG@100 | train: 0.5241767009781538, test: 0.26207700941401696\n",
      "epoch 8\n"
     ]
    },
    {
     "name": "stderr",
     "output_type": "stream",
     "text": [
      "100%|██████████| 7/7 [00:00<00:00, 129.97it/s]\n"
     ]
    },
    {
     "name": "stdout",
     "output_type": "stream",
     "text": [
      "train mean loss=-601.6229378836496\n"
     ]
    },
    {
     "name": "stderr",
     "output_type": "stream",
     "text": [
      "100%|██████████| 4/4 [00:00<00:00, 401.03it/s]\n"
     ]
    },
    {
     "name": "stdout",
     "output_type": "stream",
     "text": [
      "test  mean loss=-539.899055480957\n",
      "epoch: 9\n",
      "NDCG@100 | train: 0.5241767009781538, test: 0.26207700941401696\n",
      "epoch 9\n"
     ]
    },
    {
     "name": "stderr",
     "output_type": "stream",
     "text": [
      "100%|██████████| 7/7 [00:00<00:00, 155.97it/s]\n"
     ]
    },
    {
     "name": "stdout",
     "output_type": "stream",
     "text": [
      "train mean loss=-740.9966169084821\n"
     ]
    },
    {
     "name": "stderr",
     "output_type": "stream",
     "text": [
      "100%|██████████| 4/4 [00:00<00:00, 400.95it/s]\n"
     ]
    },
    {
     "name": "stdout",
     "output_type": "stream",
     "text": [
      "test  mean loss=-663.9576187133789\n",
      "epoch: 10\n",
      "NDCG@100 | train: 0.5241767009781538, test: 0.26207700941401696\n",
      "epoch 10\n"
     ]
    },
    {
     "name": "stderr",
     "output_type": "stream",
     "text": [
      "100%|██████████| 7/7 [00:00<00:00, 118.96it/s]\n"
     ]
    },
    {
     "name": "stdout",
     "output_type": "stream",
     "text": [
      "train mean loss=-904.2383771623884\n"
     ]
    },
    {
     "name": "stderr",
     "output_type": "stream",
     "text": [
      "100%|██████████| 4/4 [00:00<00:00, 334.13it/s]\n"
     ]
    },
    {
     "name": "stdout",
     "output_type": "stream",
     "text": [
      "test  mean loss=-807.9784851074219\n",
      "epoch: 11\n",
      "NDCG@100 | train: 0.5241767009781538, test: 0.26207700941401696\n",
      "save the model\n",
      "save the optimizer\n",
      "[[0.]\n",
      " [0.]\n",
      " [0.]\n",
      " [0.]\n",
      " [0.]\n",
      " [0.]\n",
      " [0.]\n",
      " [0.]\n",
      " [0.]\n",
      " [0.]\n",
      " [0.]]\n",
      "14\n",
      "load dataset\n",
      "The number of data, train: 9 validate: 5\n",
      "prepare initialized model!\n",
      "Start training and validation loop......\n",
      "epoch 1\n"
     ]
    },
    {
     "name": "stderr",
     "output_type": "stream",
     "text": [
      "100%|██████████| 9/9 [00:00<00:00, 130.79it/s]\n"
     ]
    },
    {
     "name": "stdout",
     "output_type": "stream",
     "text": [
      "train mean loss=-227.69149441189236\n"
     ]
    },
    {
     "name": "stderr",
     "output_type": "stream",
     "text": [
      "100%|██████████| 5/5 [00:00<00:00, 417.83it/s]\n"
     ]
    },
    {
     "name": "stdout",
     "output_type": "stream",
     "text": [
      "test  mean loss=-347.9856750488281\n",
      "epoch: 2\n",
      "NDCG@100 | train: 0.49649680413620173, test: 0.12772413506258112\n",
      "epoch 2\n"
     ]
    },
    {
     "name": "stderr",
     "output_type": "stream",
     "text": [
      "100%|██████████| 9/9 [00:00<00:00, 138.83it/s]\n"
     ]
    },
    {
     "name": "stdout",
     "output_type": "stream",
     "text": [
      "train mean loss=-558.1905585394966\n"
     ]
    },
    {
     "name": "stderr",
     "output_type": "stream",
     "text": [
      "100%|██████████| 5/5 [00:00<00:00, 455.78it/s]\n"
     ]
    },
    {
     "name": "stdout",
     "output_type": "stream",
     "text": [
      "test  mean loss=-561.3230651855469\n",
      "epoch: 3\n",
      "NDCG@100 | train: 0.49649680413620173, test: 0.12772413506258112\n",
      "epoch 3\n"
     ]
    },
    {
     "name": "stderr",
     "output_type": "stream",
     "text": [
      "100%|██████████| 9/9 [00:00<00:00, 112.80it/s]\n"
     ]
    },
    {
     "name": "stdout",
     "output_type": "stream",
     "text": [
      "train mean loss=-841.7603013780382\n"
     ]
    },
    {
     "name": "stderr",
     "output_type": "stream",
     "text": [
      "100%|██████████| 5/5 [00:00<00:00, 238.66it/s]\n"
     ]
    },
    {
     "name": "stdout",
     "output_type": "stream",
     "text": [
      "test  mean loss=-824.7643127441406\n",
      "epoch: 4\n",
      "NDCG@100 | train: 0.49649680413620173, test: 0.12772413506258112\n",
      "epoch 4\n"
     ]
    },
    {
     "name": "stderr",
     "output_type": "stream",
     "text": [
      "100%|██████████| 9/9 [00:00<00:00, 121.94it/s]\n"
     ]
    },
    {
     "name": "stdout",
     "output_type": "stream",
     "text": [
      "train mean loss=-1186.1768866644966\n"
     ]
    },
    {
     "name": "stderr",
     "output_type": "stream",
     "text": [
      "100%|██████████| 5/5 [00:00<00:00, 626.80it/s]\n"
     ]
    },
    {
     "name": "stdout",
     "output_type": "stream",
     "text": [
      "test  mean loss=-1140.0722900390624\n",
      "epoch: 5\n",
      "NDCG@100 | train: 0.49649680413620173, test: 0.12772413506258112\n",
      "epoch 5\n"
     ]
    },
    {
     "name": "stderr",
     "output_type": "stream",
     "text": [
      "100%|██████████| 9/9 [00:00<00:00, 121.95it/s]\n"
     ]
    },
    {
     "name": "stdout",
     "output_type": "stream",
     "text": [
      "train mean loss=-1604.732374403212\n"
     ]
    },
    {
     "name": "stderr",
     "output_type": "stream",
     "text": [
      "100%|██████████| 5/5 [00:00<00:00, 626.76it/s]\n"
     ]
    },
    {
     "name": "stdout",
     "output_type": "stream",
     "text": [
      "test  mean loss=-1518.0540649414063\n",
      "epoch: 6\n",
      "NDCG@100 | train: 0.49649680413620173, test: 0.12772413506258112\n",
      "epoch 6\n"
     ]
    },
    {
     "name": "stderr",
     "output_type": "stream",
     "text": [
      "100%|██████████| 9/9 [00:00<00:00, 115.69it/s]\n"
     ]
    },
    {
     "name": "stdout",
     "output_type": "stream",
     "text": [
      "train mean loss=-2062.2579684787324\n"
     ]
    },
    {
     "name": "stderr",
     "output_type": "stream",
     "text": [
      "100%|██████████| 5/5 [00:00<00:00, 334.20it/s]\n"
     ]
    },
    {
     "name": "stdout",
     "output_type": "stream",
     "text": [
      "test  mean loss=-1982.0056030273438\n",
      "epoch: 7\n",
      "NDCG@100 | train: 0.49649680413620173, test: 0.12772413506258112\n",
      "epoch 7\n"
     ]
    },
    {
     "name": "stderr",
     "output_type": "stream",
     "text": [
      "100%|██████████| 9/9 [00:00<00:00, 141.00it/s]\n"
     ]
    },
    {
     "name": "stdout",
     "output_type": "stream",
     "text": [
      "train mean loss=-2778.7704060872397\n"
     ]
    },
    {
     "name": "stderr",
     "output_type": "stream",
     "text": [
      "100%|██████████| 5/5 [00:00<00:00, 455.83it/s]\n"
     ]
    },
    {
     "name": "stdout",
     "output_type": "stream",
     "text": [
      "test  mean loss=-2463.2762451171875\n",
      "epoch: 8\n",
      "NDCG@100 | train: 0.49649680413620173, test: 0.12772413506258112\n",
      "epoch 8\n"
     ]
    },
    {
     "name": "stderr",
     "output_type": "stream",
     "text": [
      "100%|██████████| 9/9 [00:00<00:00, 136.72it/s]\n"
     ]
    },
    {
     "name": "stdout",
     "output_type": "stream",
     "text": [
      "train mean loss=-3366.2515326605903\n"
     ]
    },
    {
     "name": "stderr",
     "output_type": "stream",
     "text": [
      "100%|██████████| 5/5 [00:00<00:00, 417.78it/s]\n"
     ]
    },
    {
     "name": "stdout",
     "output_type": "stream",
     "text": [
      "test  mean loss=-3126.69482421875\n",
      "epoch: 9\n",
      "NDCG@100 | train: 0.49649680413620173, test: 0.12772413506258112\n",
      "epoch 9\n"
     ]
    },
    {
     "name": "stderr",
     "output_type": "stream",
     "text": [
      "100%|██████████| 9/9 [00:00<00:00, 130.78it/s]\n"
     ]
    },
    {
     "name": "stdout",
     "output_type": "stream",
     "text": [
      "train mean loss=-4209.414808485243\n"
     ]
    },
    {
     "name": "stderr",
     "output_type": "stream",
     "text": [
      "100%|██████████| 5/5 [00:00<00:00, 417.50it/s]\n"
     ]
    },
    {
     "name": "stdout",
     "output_type": "stream",
     "text": [
      "test  mean loss=-3884.0315185546874\n",
      "epoch: 10\n",
      "NDCG@100 | train: 0.49649680413620173, test: 0.12772413506258112\n",
      "epoch 10\n"
     ]
    },
    {
     "name": "stderr",
     "output_type": "stream",
     "text": [
      "100%|██████████| 9/9 [00:00<00:00, 180.48it/s]\n"
     ]
    },
    {
     "name": "stdout",
     "output_type": "stream",
     "text": [
      "train mean loss=-5256.639458550348\n"
     ]
    },
    {
     "name": "stderr",
     "output_type": "stream",
     "text": [
      "100%|██████████| 5/5 [00:00<00:00, 626.71it/s]\n"
     ]
    },
    {
     "name": "stdout",
     "output_type": "stream",
     "text": [
      "test  mean loss=-4722.384130859375\n",
      "epoch: 11\n",
      "NDCG@100 | train: 0.49649680413620173, test: 0.12772413506258112\n",
      "save the model\n",
      "save the optimizer\n",
      "[[0.]\n",
      " [0.]\n",
      " [0.]\n",
      " [0.]\n",
      " [0.]\n",
      " [0.]\n",
      " [0.]\n",
      " [0.]\n",
      " [0.]\n",
      " [0.]\n",
      " [0.]\n",
      " [0.]\n",
      " [0.]\n",
      " [0.]]\n",
      "10\n",
      "load dataset\n",
      "The number of data, train: 7 validate: 3\n",
      "prepare initialized model!\n",
      "Start training and validation loop......\n",
      "epoch 1\n"
     ]
    },
    {
     "name": "stderr",
     "output_type": "stream",
     "text": [
      "100%|██████████| 7/7 [00:00<00:00, 109.66it/s]\n"
     ]
    },
    {
     "name": "stdout",
     "output_type": "stream",
     "text": [
      "train mean loss=-509.6902553013393\n"
     ]
    },
    {
     "name": "stderr",
     "output_type": "stream",
     "text": [
      "100%|██████████| 3/3 [00:00<00:00, 300.78it/s]\n"
     ]
    },
    {
     "name": "stdout",
     "output_type": "stream",
     "text": [
      "test  mean loss=-783.2278645833334\n",
      "epoch: 2\n",
      "NDCG@100 | train: 0.636687437917866, test: 0.7780195817080828\n",
      "epoch 2\n"
     ]
    },
    {
     "name": "stderr",
     "output_type": "stream",
     "text": [
      "100%|██████████| 7/7 [00:00<00:00, 97.48it/s]\n"
     ]
    },
    {
     "name": "stdout",
     "output_type": "stream",
     "text": [
      "train mean loss=-943.1680864606585\n"
     ]
    },
    {
     "name": "stderr",
     "output_type": "stream",
     "text": [
      "100%|██████████| 3/3 [00:00<00:00, 214.83it/s]\n"
     ]
    },
    {
     "name": "stdout",
     "output_type": "stream",
     "text": [
      "test  mean loss=-1179.209493001302\n",
      "epoch: 3\n",
      "NDCG@100 | train: 0.636687437917866, test: 0.7780195817080828\n",
      "epoch 3\n"
     ]
    },
    {
     "name": "stderr",
     "output_type": "stream",
     "text": [
      "100%|██████████| 7/7 [00:00<00:00, 98.86it/s]\n"
     ]
    },
    {
     "name": "stdout",
     "output_type": "stream",
     "text": [
      "train mean loss=-1350.4964076450892\n"
     ]
    },
    {
     "name": "stderr",
     "output_type": "stream",
     "text": [
      "100%|██████████| 3/3 [00:00<00:00, 300.77it/s]\n"
     ]
    },
    {
     "name": "stdout",
     "output_type": "stream",
     "text": [
      "test  mean loss=-1641.6127115885417\n",
      "epoch: 4\n",
      "NDCG@100 | train: 0.636687437917866, test: 0.7780195817080828\n",
      "epoch 4\n"
     ]
    },
    {
     "name": "stderr",
     "output_type": "stream",
     "text": [
      "100%|██████████| 7/7 [00:00<00:00, 91.21it/s]\n"
     ]
    },
    {
     "name": "stdout",
     "output_type": "stream",
     "text": [
      "train mean loss=-1725.9469604492188\n"
     ]
    },
    {
     "name": "stderr",
     "output_type": "stream",
     "text": [
      "100%|██████████| 3/3 [00:00<00:00, 231.40it/s]\n"
     ]
    },
    {
     "name": "stdout",
     "output_type": "stream",
     "text": [
      "test  mean loss=-2195.0693359375\n",
      "epoch: 5\n",
      "NDCG@100 | train: 0.636687437917866, test: 0.7780195817080828\n",
      "epoch 5\n"
     ]
    },
    {
     "name": "stderr",
     "output_type": "stream",
     "text": [
      "100%|██████████| 7/7 [00:00<00:00, 94.85it/s]\n"
     ]
    },
    {
     "name": "stdout",
     "output_type": "stream",
     "text": [
      "train mean loss=-2299.764177594866\n"
     ]
    },
    {
     "name": "stderr",
     "output_type": "stream",
     "text": [
      "100%|██████████| 3/3 [00:00<00:00, 231.35it/s]\n"
     ]
    },
    {
     "name": "stdout",
     "output_type": "stream",
     "text": [
      "test  mean loss=-2795.0296223958335\n",
      "epoch: 6\n",
      "NDCG@100 | train: 0.636687437917866, test: 0.7780195817080828\n",
      "epoch 6\n"
     ]
    },
    {
     "name": "stderr",
     "output_type": "stream",
     "text": [
      "100%|██████████| 7/7 [00:00<00:00, 143.24it/s]\n"
     ]
    },
    {
     "name": "stdout",
     "output_type": "stream",
     "text": [
      "train mean loss=-2969.5491245814733\n"
     ]
    },
    {
     "name": "stderr",
     "output_type": "stream",
     "text": [
      "100%|██████████| 3/3 [00:00<00:00, 273.31it/s]\n"
     ]
    },
    {
     "name": "stdout",
     "output_type": "stream",
     "text": [
      "test  mean loss=-3461.6544596354165\n",
      "epoch: 7\n",
      "NDCG@100 | train: 0.636687437917866, test: 0.7780195817080828\n",
      "epoch 7\n"
     ]
    },
    {
     "name": "stderr",
     "output_type": "stream",
     "text": [
      "100%|██████████| 7/7 [00:00<00:00, 121.01it/s]\n"
     ]
    },
    {
     "name": "stdout",
     "output_type": "stream",
     "text": [
      "train mean loss=-3658.5758928571427\n"
     ]
    },
    {
     "name": "stderr",
     "output_type": "stream",
     "text": [
      "100%|██████████| 3/3 [00:00<00:00, 429.45it/s]\n"
     ]
    },
    {
     "name": "stdout",
     "output_type": "stream",
     "text": [
      "test  mean loss=-4253.110758463542\n",
      "epoch: 8\n",
      "NDCG@100 | train: 0.636687437917866, test: 0.7780195817080828\n",
      "epoch 8\n"
     ]
    },
    {
     "name": "stderr",
     "output_type": "stream",
     "text": [
      "100%|██████████| 7/7 [00:00<00:00, 167.12it/s]\n"
     ]
    },
    {
     "name": "stdout",
     "output_type": "stream",
     "text": [
      "train mean loss=-4334.588657924107\n"
     ]
    },
    {
     "name": "stderr",
     "output_type": "stream",
     "text": [
      "100%|██████████| 3/3 [00:00<00:00, 429.63it/s]\n"
     ]
    },
    {
     "name": "stdout",
     "output_type": "stream",
     "text": [
      "test  mean loss=-5208.212727864583\n",
      "epoch: 9\n",
      "NDCG@100 | train: 0.636687437917866, test: 0.7780195817080828\n",
      "epoch 9\n"
     ]
    },
    {
     "name": "stderr",
     "output_type": "stream",
     "text": [
      "100%|██████████| 7/7 [00:00<00:00, 146.22it/s]\n"
     ]
    },
    {
     "name": "stdout",
     "output_type": "stream",
     "text": [
      "train mean loss=-5300.282749720982\n"
     ]
    },
    {
     "name": "stderr",
     "output_type": "stream",
     "text": [
      "100%|██████████| 3/3 [00:00<00:00, 273.65it/s]\n"
     ]
    },
    {
     "name": "stdout",
     "output_type": "stream",
     "text": [
      "test  mean loss=-6280.871907552083\n",
      "epoch: 10\n",
      "NDCG@100 | train: 0.636687437917866, test: 0.7780195817080828\n",
      "epoch 10\n"
     ]
    },
    {
     "name": "stderr",
     "output_type": "stream",
     "text": [
      "100%|██████████| 7/7 [00:00<00:00, 140.37it/s]\n"
     ]
    },
    {
     "name": "stdout",
     "output_type": "stream",
     "text": [
      "train mean loss=-6502.234026227678\n"
     ]
    },
    {
     "name": "stderr",
     "output_type": "stream",
     "text": [
      "100%|██████████| 3/3 [00:00<00:00, 501.25it/s]\n"
     ]
    },
    {
     "name": "stdout",
     "output_type": "stream",
     "text": [
      "test  mean loss=-7458.09765625\n",
      "epoch: 11\n",
      "NDCG@100 | train: 0.636687437917866, test: 0.7780195817080828\n",
      "save the model\n",
      "save the optimizer\n",
      "[[0.]\n",
      " [0.]\n",
      " [0.]\n",
      " [0.]\n",
      " [0.]\n",
      " [0.]\n",
      " [0.]\n",
      " [0.]\n",
      " [0.]\n",
      " [0.]]\n",
      "38 ricerca di merda\n",
      "39 ricerca di merda\n",
      "8\n",
      "load dataset\n",
      "The number of data, train: 5 validate: 3\n",
      "prepare initialized model!\n",
      "Start training and validation loop......\n",
      "epoch 1\n"
     ]
    },
    {
     "name": "stderr",
     "output_type": "stream",
     "text": [
      "100%|██████████| 5/5 [00:00<00:00, 143.23it/s]\n"
     ]
    },
    {
     "name": "stdout",
     "output_type": "stream",
     "text": [
      "train mean loss=-631.4063377380371\n"
     ]
    },
    {
     "name": "stderr",
     "output_type": "stream",
     "text": [
      "100%|██████████| 3/3 [00:00<00:00, 501.41it/s]\n"
     ]
    },
    {
     "name": "stdout",
     "output_type": "stream",
     "text": [
      "test  mean loss=-943.6114908854166\n",
      "epoch: 2\n",
      "NDCG@100 | train: 0.7236568830985257, test: 0.8622087104988697\n",
      "epoch 2\n"
     ]
    },
    {
     "name": "stderr",
     "output_type": "stream",
     "text": [
      "100%|██████████| 5/5 [00:00<00:00, 139.26it/s]\n"
     ]
    },
    {
     "name": "stdout",
     "output_type": "stream",
     "text": [
      "train mean loss=-1615.2065795898438\n"
     ]
    },
    {
     "name": "stderr",
     "output_type": "stream",
     "text": [
      "100%|██████████| 3/3 [00:00<00:00, 299.51it/s]\n"
     ]
    },
    {
     "name": "stdout",
     "output_type": "stream",
     "text": [
      "test  mean loss=-1792.7517903645833\n",
      "epoch: 3\n",
      "NDCG@100 | train: 0.7236568830985257, test: 0.8622087104988697\n",
      "epoch 3\n"
     ]
    },
    {
     "name": "stderr",
     "output_type": "stream",
     "text": [
      "100%|██████████| 5/5 [00:00<00:00, 131.90it/s]\n"
     ]
    },
    {
     "name": "stdout",
     "output_type": "stream",
     "text": [
      "train mean loss=-2816.7685302734376\n"
     ]
    },
    {
     "name": "stderr",
     "output_type": "stream",
     "text": [
      "100%|██████████| 3/3 [00:00<00:00, 334.21it/s]\n"
     ]
    },
    {
     "name": "stdout",
     "output_type": "stream",
     "text": [
      "test  mean loss=-2507.185506184896\n",
      "epoch: 4\n",
      "NDCG@100 | train: 0.7236568830985257, test: 0.8622087104988697\n",
      "epoch 4\n"
     ]
    },
    {
     "name": "stderr",
     "output_type": "stream",
     "text": [
      "100%|██████████| 5/5 [00:00<00:00, 139.26it/s]\n"
     ]
    },
    {
     "name": "stdout",
     "output_type": "stream",
     "text": [
      "train mean loss=-3726.5161865234377\n"
     ]
    },
    {
     "name": "stderr",
     "output_type": "stream",
     "text": [
      "100%|██████████| 3/3 [00:00<00:00, 214.86it/s]\n"
     ]
    },
    {
     "name": "stdout",
     "output_type": "stream",
     "text": [
      "test  mean loss=-3352.6795654296875\n",
      "epoch: 5\n",
      "NDCG@100 | train: 0.7236568830985257, test: 0.8622087104988697\n",
      "epoch 5\n"
     ]
    },
    {
     "name": "stderr",
     "output_type": "stream",
     "text": [
      "100%|██████████| 5/5 [00:00<00:00, 122.28it/s]\n"
     ]
    },
    {
     "name": "stdout",
     "output_type": "stream",
     "text": [
      "train mean loss=-4859.633935546875\n"
     ]
    },
    {
     "name": "stderr",
     "output_type": "stream",
     "text": [
      "100%|██████████| 3/3 [00:00<00:00, 273.53it/s]\n"
     ]
    },
    {
     "name": "stdout",
     "output_type": "stream",
     "text": [
      "test  mean loss=-4309.476888020833\n",
      "epoch: 6\n",
      "NDCG@100 | train: 0.7236568830985257, test: 0.8622087104988697\n",
      "epoch 6\n"
     ]
    },
    {
     "name": "stderr",
     "output_type": "stream",
     "text": [
      "100%|██████████| 5/5 [00:00<00:00, 94.59it/s]\n"
     ]
    },
    {
     "name": "stdout",
     "output_type": "stream",
     "text": [
      "train mean loss=-6182.738818359375\n"
     ]
    },
    {
     "name": "stderr",
     "output_type": "stream",
     "text": [
      "100%|██████████| 3/3 [00:00<00:00, 214.83it/s]\n"
     ]
    },
    {
     "name": "stdout",
     "output_type": "stream",
     "text": [
      "test  mean loss=-5383.849365234375\n",
      "epoch: 7\n",
      "NDCG@100 | train: 0.7236568830985257, test: 0.8622087104988697\n",
      "epoch 7\n"
     ]
    },
    {
     "name": "stderr",
     "output_type": "stream",
     "text": [
      "100%|██████████| 5/5 [00:00<00:00, 125.35it/s]\n"
     ]
    },
    {
     "name": "stdout",
     "output_type": "stream",
     "text": [
      "train mean loss=-7840.217333984375\n"
     ]
    },
    {
     "name": "stderr",
     "output_type": "stream",
     "text": [
      "100%|██████████| 3/3 [00:00<00:00, 376.04it/s]\n"
     ]
    },
    {
     "name": "stdout",
     "output_type": "stream",
     "text": [
      "test  mean loss=-6560.452799479167\n",
      "epoch: 8\n",
      "NDCG@100 | train: 0.7236568830985257, test: 0.8622087104988697\n",
      "epoch 8\n"
     ]
    },
    {
     "name": "stderr",
     "output_type": "stream",
     "text": [
      "100%|██████████| 5/5 [00:00<00:00, 125.31it/s]\n"
     ]
    },
    {
     "name": "stdout",
     "output_type": "stream",
     "text": [
      "train mean loss=-9306.45419921875\n"
     ]
    },
    {
     "name": "stderr",
     "output_type": "stream",
     "text": [
      "100%|██████████| 3/3 [00:00<00:00, 429.60it/s]\n"
     ]
    },
    {
     "name": "stdout",
     "output_type": "stream",
     "text": [
      "test  mean loss=-7967.337727864583\n",
      "epoch: 9\n",
      "NDCG@100 | train: 0.7236568830985257, test: 0.8622087104988697\n",
      "epoch 9\n"
     ]
    },
    {
     "name": "stderr",
     "output_type": "stream",
     "text": [
      "100%|██████████| 5/5 [00:00<00:00, 116.59it/s]\n"
     ]
    },
    {
     "name": "stdout",
     "output_type": "stream",
     "text": [
      "train mean loss=-11411.91748046875\n"
     ]
    },
    {
     "name": "stderr",
     "output_type": "stream",
     "text": [
      "100%|██████████| 3/3 [00:00<00:00, 501.11it/s]\n"
     ]
    },
    {
     "name": "stdout",
     "output_type": "stream",
     "text": [
      "test  mean loss=-9500.653645833334\n",
      "epoch: 10\n",
      "NDCG@100 | train: 0.7236568830985257, test: 0.8622087104988697\n",
      "epoch 10\n"
     ]
    },
    {
     "name": "stderr",
     "output_type": "stream",
     "text": [
      "100%|██████████| 5/5 [00:00<00:00, 161.71it/s]\n"
     ]
    },
    {
     "name": "stdout",
     "output_type": "stream",
     "text": [
      "train mean loss=-13203.38798828125\n"
     ]
    },
    {
     "name": "stderr",
     "output_type": "stream",
     "text": [
      "100%|██████████| 3/3 [00:00<00:00, 334.23it/s]\n"
     ]
    },
    {
     "name": "stdout",
     "output_type": "stream",
     "text": [
      "test  mean loss=-11333.68505859375\n",
      "epoch: 11\n",
      "NDCG@100 | train: 0.7236568830985257, test: 0.8622087104988697\n",
      "save the model\n",
      "save the optimizer\n",
      "[[0.]\n",
      " [0.]\n",
      " [0.]\n",
      " [0.]\n",
      " [0.]\n",
      " [0.]\n",
      " [0.]\n",
      " [0.]]\n",
      "41 ricerca di merda\n",
      "42 ricerca di merda\n",
      "10\n",
      "load dataset\n",
      "The number of data, train: 7 validate: 3\n",
      "prepare initialized model!\n",
      "Start training and validation loop......\n",
      "epoch 1\n"
     ]
    },
    {
     "name": "stderr",
     "output_type": "stream",
     "text": [
      "100%|██████████| 7/7 [00:00<00:00, 137.62it/s]\n"
     ]
    },
    {
     "name": "stdout",
     "output_type": "stream",
     "text": [
      "train mean loss=-29.371543215853826\n"
     ]
    },
    {
     "name": "stderr",
     "output_type": "stream",
     "text": [
      "100%|██████████| 3/3 [00:00<00:00, 300.83it/s]\n"
     ]
    },
    {
     "name": "stdout",
     "output_type": "stream",
     "text": [
      "test  mean loss=-29.963133176167805\n",
      "epoch: 2\n",
      "NDCG@100 | train: 1.0, test: 1.0\n",
      "epoch 2\n"
     ]
    },
    {
     "name": "stderr",
     "output_type": "stream",
     "text": [
      "100%|██████████| 7/7 [00:00<00:00, 129.98it/s]\n"
     ]
    },
    {
     "name": "stdout",
     "output_type": "stream",
     "text": [
      "train mean loss=-133.71146985462732\n"
     ]
    },
    {
     "name": "stderr",
     "output_type": "stream",
     "text": [
      "100%|██████████| 3/3 [00:00<00:00, 376.01it/s]\n"
     ]
    },
    {
     "name": "stdout",
     "output_type": "stream",
     "text": [
      "test  mean loss=-55.34408696492513\n",
      "epoch: 3\n",
      "NDCG@100 | train: 1.0, test: 1.0\n",
      "epoch 3\n"
     ]
    },
    {
     "name": "stderr",
     "output_type": "stream",
     "text": [
      "100%|██████████| 7/7 [00:00<00:00, 149.34it/s]\n"
     ]
    },
    {
     "name": "stdout",
     "output_type": "stream",
     "text": [
      "train mean loss=-214.93491744995117\n"
     ]
    },
    {
     "name": "stderr",
     "output_type": "stream",
     "text": [
      "100%|██████████| 3/3 [00:00<00:00, 376.00it/s]\n"
     ]
    },
    {
     "name": "stdout",
     "output_type": "stream",
     "text": [
      "test  mean loss=-80.59975941975911\n",
      "epoch: 4\n",
      "NDCG@100 | train: 1.0, test: 1.0\n",
      "epoch 4\n"
     ]
    },
    {
     "name": "stderr",
     "output_type": "stream",
     "text": [
      "100%|██████████| 7/7 [00:00<00:00, 123.14it/s]\n"
     ]
    },
    {
     "name": "stdout",
     "output_type": "stream",
     "text": [
      "train mean loss=-292.1345094953264\n"
     ]
    },
    {
     "name": "stderr",
     "output_type": "stream",
     "text": [
      "100%|██████████| 3/3 [00:00<00:00, 300.77it/s]\n"
     ]
    },
    {
     "name": "stdout",
     "output_type": "stream",
     "text": [
      "test  mean loss=-111.01572926839192\n",
      "epoch: 5\n",
      "NDCG@100 | train: 1.0, test: 1.0\n",
      "epoch 5\n"
     ]
    },
    {
     "name": "stderr",
     "output_type": "stream",
     "text": [
      "100%|██████████| 7/7 [00:00<00:00, 113.21it/s]\n"
     ]
    },
    {
     "name": "stdout",
     "output_type": "stream",
     "text": [
      "train mean loss=-382.2894821166992\n"
     ]
    },
    {
     "name": "stderr",
     "output_type": "stream",
     "text": [
      "100%|██████████| 3/3 [00:00<00:00, 334.29it/s]\n"
     ]
    },
    {
     "name": "stdout",
     "output_type": "stream",
     "text": [
      "test  mean loss=-147.97539774576822\n",
      "epoch: 6\n",
      "NDCG@100 | train: 1.0, test: 1.0\n",
      "epoch 6\n"
     ]
    },
    {
     "name": "stderr",
     "output_type": "stream",
     "text": [
      "100%|██████████| 7/7 [00:00<00:00, 121.02it/s]\n"
     ]
    },
    {
     "name": "stdout",
     "output_type": "stream",
     "text": [
      "train mean loss=-503.7607852390834\n"
     ]
    },
    {
     "name": "stderr",
     "output_type": "stream",
     "text": [
      "100%|██████████| 3/3 [00:00<00:00, 334.23it/s]\n"
     ]
    },
    {
     "name": "stdout",
     "output_type": "stream",
     "text": [
      "test  mean loss=-189.42120869954428\n",
      "epoch: 7\n",
      "NDCG@100 | train: 1.0, test: 1.0\n",
      "epoch 7\n"
     ]
    },
    {
     "name": "stderr",
     "output_type": "stream",
     "text": [
      "100%|██████████| 7/7 [00:00<00:00, 155.97it/s]\n"
     ]
    },
    {
     "name": "stdout",
     "output_type": "stream",
     "text": [
      "train mean loss=-638.6764417375837\n"
     ]
    },
    {
     "name": "stderr",
     "output_type": "stream",
     "text": [
      "100%|██████████| 3/3 [00:00<00:00, 501.41it/s]\n"
     ]
    },
    {
     "name": "stdout",
     "output_type": "stream",
     "text": [
      "test  mean loss=-236.57624308268228\n",
      "epoch: 8\n",
      "NDCG@100 | train: 1.0, test: 1.0\n",
      "epoch 8\n"
     ]
    },
    {
     "name": "stderr",
     "output_type": "stream",
     "text": [
      "100%|██████████| 7/7 [00:00<00:00, 155.81it/s]\n"
     ]
    },
    {
     "name": "stdout",
     "output_type": "stream",
     "text": [
      "train mean loss=-770.858778817313\n"
     ]
    },
    {
     "name": "stderr",
     "output_type": "stream",
     "text": [
      "100%|██████████| 3/3 [00:00<00:00, 300.86it/s]\n"
     ]
    },
    {
     "name": "stdout",
     "output_type": "stream",
     "text": [
      "test  mean loss=-294.2568664550781\n",
      "epoch: 9\n",
      "NDCG@100 | train: 1.0, test: 1.0\n",
      "epoch 9\n"
     ]
    },
    {
     "name": "stderr",
     "output_type": "stream",
     "text": [
      "100%|██████████| 7/7 [00:00<00:00, 127.61it/s]\n"
     ]
    },
    {
     "name": "stdout",
     "output_type": "stream",
     "text": [
      "train mean loss=-942.749494280134\n"
     ]
    },
    {
     "name": "stderr",
     "output_type": "stream",
     "text": [
      "100%|██████████| 3/3 [00:00<00:00, 429.64it/s]\n"
     ]
    },
    {
     "name": "stdout",
     "output_type": "stream",
     "text": [
      "test  mean loss=-359.0359802246094\n",
      "epoch: 10\n",
      "NDCG@100 | train: 1.0, test: 1.0\n",
      "epoch 10\n"
     ]
    },
    {
     "name": "stderr",
     "output_type": "stream",
     "text": [
      "100%|██████████| 7/7 [00:00<00:00, 152.58it/s]\n"
     ]
    },
    {
     "name": "stdout",
     "output_type": "stream",
     "text": [
      "train mean loss=-1101.9263872419085\n"
     ]
    },
    {
     "name": "stderr",
     "output_type": "stream",
     "text": [
      "100%|██████████| 3/3 [00:00<00:00, 501.35it/s]\n"
     ]
    },
    {
     "name": "stdout",
     "output_type": "stream",
     "text": [
      "test  mean loss=-436.55356852213544\n",
      "epoch: 11\n",
      "NDCG@100 | train: 1.0, test: 1.0\n",
      "save the model\n",
      "save the optimizer\n",
      "[[0.]\n",
      " [0.]\n",
      " [0.]\n",
      " [0.]\n",
      " [0.]\n",
      " [0.]\n",
      " [0.]\n",
      " [0.]\n",
      " [0.]\n",
      " [0.]]\n",
      "12\n",
      "load dataset\n",
      "The number of data, train: 8 validate: 4\n",
      "prepare initialized model!\n",
      "Start training and validation loop......\n",
      "epoch 1\n"
     ]
    },
    {
     "name": "stderr",
     "output_type": "stream",
     "text": [
      "100%|██████████| 8/8 [00:00<00:00, 143.24it/s]\n"
     ]
    },
    {
     "name": "stdout",
     "output_type": "stream",
     "text": [
      "train mean loss=28.930546537041664\n"
     ]
    },
    {
     "name": "stderr",
     "output_type": "stream",
     "text": [
      "100%|██████████| 4/4 [00:00<00:00, 501.50it/s]\n"
     ]
    },
    {
     "name": "stdout",
     "output_type": "stream",
     "text": [
      "test  mean loss=0.0\n",
      "epoch: 2\n",
      "NDCG@100 | train: 1.0, test: 1.0\n",
      "epoch 2\n"
     ]
    },
    {
     "name": "stderr",
     "output_type": "stream",
     "text": [
      "100%|██████████| 8/8 [00:00<00:00, 138.30it/s]\n"
     ]
    },
    {
     "name": "stdout",
     "output_type": "stream",
     "text": [
      "train mean loss=0.0\n"
     ]
    },
    {
     "name": "stderr",
     "output_type": "stream",
     "text": [
      "100%|██████████| 4/4 [00:00<00:00, 364.56it/s]\n"
     ]
    },
    {
     "name": "stdout",
     "output_type": "stream",
     "text": [
      "test  mean loss=0.0\n",
      "epoch: 3\n",
      "NDCG@100 | train: 1.0, test: 1.0\n",
      "epoch 3\n"
     ]
    },
    {
     "name": "stderr",
     "output_type": "stream",
     "text": [
      "100%|██████████| 8/8 [00:00<00:00, 127.32it/s]\n"
     ]
    },
    {
     "name": "stdout",
     "output_type": "stream",
     "text": [
      "train mean loss=0.0\n"
     ]
    },
    {
     "name": "stderr",
     "output_type": "stream",
     "text": [
      "100%|██████████| 4/4 [00:00<00:00, 364.53it/s]\n"
     ]
    },
    {
     "name": "stdout",
     "output_type": "stream",
     "text": [
      "test  mean loss=0.0\n",
      "epoch: 4\n",
      "NDCG@100 | train: 1.0, test: 1.0\n",
      "epoch 4\n"
     ]
    },
    {
     "name": "stderr",
     "output_type": "stream",
     "text": [
      "100%|██████████| 8/8 [00:00<00:00, 119.72it/s]\n"
     ]
    },
    {
     "name": "stdout",
     "output_type": "stream",
     "text": [
      "train mean loss=0.0\n"
     ]
    },
    {
     "name": "stderr",
     "output_type": "stream",
     "text": [
      "100%|██████████| 4/4 [00:00<00:00, 501.29it/s]\n"
     ]
    },
    {
     "name": "stdout",
     "output_type": "stream",
     "text": [
      "test  mean loss=0.0\n",
      "epoch: 5\n",
      "NDCG@100 | train: 1.0, test: 1.0\n",
      "epoch 5\n"
     ]
    },
    {
     "name": "stderr",
     "output_type": "stream",
     "text": [
      "100%|██████████| 8/8 [00:00<00:00, 127.32it/s]\n"
     ]
    },
    {
     "name": "stdout",
     "output_type": "stream",
     "text": [
      "train mean loss=0.0\n"
     ]
    },
    {
     "name": "stderr",
     "output_type": "stream",
     "text": [
      "100%|██████████| 4/4 [00:00<00:00, 267.39it/s]\n"
     ]
    },
    {
     "name": "stdout",
     "output_type": "stream",
     "text": [
      "test  mean loss=0.0\n",
      "epoch: 6\n",
      "NDCG@100 | train: 1.0, test: 1.0\n",
      "epoch 6\n"
     ]
    },
    {
     "name": "stderr",
     "output_type": "stream",
     "text": [
      "100%|██████████| 8/8 [00:00<00:00, 117.96it/s]\n"
     ]
    },
    {
     "name": "stdout",
     "output_type": "stream",
     "text": [
      "train mean loss=0.0\n"
     ]
    },
    {
     "name": "stderr",
     "output_type": "stream",
     "text": [
      "100%|██████████| 4/4 [00:00<00:00, 401.07it/s]\n"
     ]
    },
    {
     "name": "stdout",
     "output_type": "stream",
     "text": [
      "test  mean loss=0.0\n",
      "epoch: 7\n",
      "NDCG@100 | train: 1.0, test: 1.0\n",
      "epoch 7\n"
     ]
    },
    {
     "name": "stderr",
     "output_type": "stream",
     "text": [
      "100%|██████████| 8/8 [00:00<00:00, 129.37it/s]\n"
     ]
    },
    {
     "name": "stdout",
     "output_type": "stream",
     "text": [
      "train mean loss=0.0\n"
     ]
    },
    {
     "name": "stderr",
     "output_type": "stream",
     "text": [
      "100%|██████████| 4/4 [00:00<00:00, 364.67it/s]\n"
     ]
    },
    {
     "name": "stdout",
     "output_type": "stream",
     "text": [
      "test  mean loss=0.0\n",
      "epoch: 8\n",
      "NDCG@100 | train: 1.0, test: 1.0\n",
      "epoch 8\n"
     ]
    },
    {
     "name": "stderr",
     "output_type": "stream",
     "text": [
      "100%|██████████| 8/8 [00:00<00:00, 138.31it/s]\n"
     ]
    },
    {
     "name": "stdout",
     "output_type": "stream",
     "text": [
      "train mean loss=0.0\n"
     ]
    },
    {
     "name": "stderr",
     "output_type": "stream",
     "text": [
      "100%|██████████| 4/4 [00:00<00:00, 364.47it/s]\n"
     ]
    },
    {
     "name": "stdout",
     "output_type": "stream",
     "text": [
      "test  mean loss=0.0\n",
      "epoch: 9\n",
      "NDCG@100 | train: 1.0, test: 1.0\n",
      "epoch 9\n"
     ]
    },
    {
     "name": "stderr",
     "output_type": "stream",
     "text": [
      "100%|██████████| 8/8 [00:00<00:00, 154.24it/s]\n"
     ]
    },
    {
     "name": "stdout",
     "output_type": "stream",
     "text": [
      "train mean loss=0.0\n"
     ]
    },
    {
     "name": "stderr",
     "output_type": "stream",
     "text": [
      "100%|██████████| 4/4 [00:00<00:00, 401.05it/s]\n"
     ]
    },
    {
     "name": "stdout",
     "output_type": "stream",
     "text": [
      "test  mean loss=0.0\n",
      "epoch: 10\n",
      "NDCG@100 | train: 1.0, test: 1.0\n",
      "epoch 10\n"
     ]
    },
    {
     "name": "stderr",
     "output_type": "stream",
     "text": [
      "100%|██████████| 8/8 [00:00<00:00, 127.32it/s]\n"
     ]
    },
    {
     "name": "stdout",
     "output_type": "stream",
     "text": [
      "train mean loss=0.0\n"
     ]
    },
    {
     "name": "stderr",
     "output_type": "stream",
     "text": [
      "100%|██████████| 4/4 [00:00<00:00, 501.31it/s]\n"
     ]
    },
    {
     "name": "stdout",
     "output_type": "stream",
     "text": [
      "test  mean loss=0.0\n",
      "epoch: 11\n",
      "NDCG@100 | train: 1.0, test: 1.0\n",
      "save the model\n",
      "save the optimizer\n",
      "[[nan]\n",
      " [nan]\n",
      " [nan]\n",
      " [nan]\n",
      " [nan]\n",
      " [nan]\n",
      " [nan]\n",
      " [nan]\n",
      " [nan]\n",
      " [nan]\n",
      " [nan]\n",
      " [nan]]\n",
      "11\n",
      "load dataset\n",
      "The number of data, train: 7 validate: 4\n",
      "prepare initialized model!\n",
      "Start training and validation loop......\n",
      "epoch 1\n"
     ]
    },
    {
     "name": "stderr",
     "output_type": "stream",
     "text": [
      "100%|██████████| 7/7 [00:00<00:00, 167.12it/s]\n"
     ]
    },
    {
     "name": "stdout",
     "output_type": "stream",
     "text": [
      "train mean loss=-159.2217685154506\n"
     ]
    },
    {
     "name": "stderr",
     "output_type": "stream",
     "text": [
      "100%|██████████| 4/4 [00:00<00:00, 445.66it/s]\n"
     ]
    },
    {
     "name": "stdout",
     "output_type": "stream",
     "text": [
      "test  mean loss=-268.0170078277588\n",
      "epoch: 2\n",
      "NDCG@100 | train: 0.4045197606430427, test: 0.14918620629098936\n",
      "epoch 2\n"
     ]
    },
    {
     "name": "stderr",
     "output_type": "stream",
     "text": [
      "100%|██████████| 7/7 [00:00<00:00, 121.01it/s]\n"
     ]
    },
    {
     "name": "stdout",
     "output_type": "stream",
     "text": [
      "train mean loss=-398.43914576939176\n"
     ]
    },
    {
     "name": "stderr",
     "output_type": "stream",
     "text": [
      "100%|██████████| 4/4 [00:00<00:00, 501.41it/s]\n"
     ]
    },
    {
     "name": "stdout",
     "output_type": "stream",
     "text": [
      "test  mean loss=-462.63831329345703\n",
      "epoch: 3\n",
      "NDCG@100 | train: 0.4045197606430427, test: 0.14918620629098936\n",
      "epoch 3\n"
     ]
    },
    {
     "name": "stderr",
     "output_type": "stream",
     "text": [
      "100%|██████████| 7/7 [00:00<00:00, 125.34it/s]\n"
     ]
    },
    {
     "name": "stdout",
     "output_type": "stream",
     "text": [
      "train mean loss=-600.6551949637277\n"
     ]
    },
    {
     "name": "stderr",
     "output_type": "stream",
     "text": [
      "100%|██████████| 4/4 [00:00<00:00, 401.09it/s]\n"
     ]
    },
    {
     "name": "stdout",
     "output_type": "stream",
     "text": [
      "test  mean loss=-664.7878913879395\n",
      "epoch: 4\n",
      "NDCG@100 | train: 0.4045197606430427, test: 0.14918620629098936\n",
      "epoch 4\n"
     ]
    },
    {
     "name": "stderr",
     "output_type": "stream",
     "text": [
      "100%|██████████| 7/7 [00:00<00:00, 159.47it/s]\n"
     ]
    },
    {
     "name": "stdout",
     "output_type": "stream",
     "text": [
      "train mean loss=-843.9314836774554\n"
     ]
    },
    {
     "name": "stderr",
     "output_type": "stream",
     "text": [
      "100%|██████████| 4/4 [00:00<00:00, 438.16it/s]\n"
     ]
    },
    {
     "name": "stdout",
     "output_type": "stream",
     "text": [
      "test  mean loss=-898.2451477050781\n",
      "epoch: 5\n",
      "NDCG@100 | train: 0.4045197606430427, test: 0.14918620629098936\n",
      "epoch 5\n"
     ]
    },
    {
     "name": "stderr",
     "output_type": "stream",
     "text": [
      "100%|██████████| 7/7 [00:00<00:00, 155.96it/s]\n"
     ]
    },
    {
     "name": "stdout",
     "output_type": "stream",
     "text": [
      "train mean loss=-1118.3735874720983\n"
     ]
    },
    {
     "name": "stderr",
     "output_type": "stream",
     "text": [
      "100%|██████████| 4/4 [00:00<00:00, 401.21it/s]\n"
     ]
    },
    {
     "name": "stdout",
     "output_type": "stream",
     "text": [
      "test  mean loss=-1176.7440643310547\n",
      "epoch: 6\n",
      "NDCG@100 | train: 0.4045197606430427, test: 0.14918620629098936\n",
      "epoch 6\n"
     ]
    },
    {
     "name": "stderr",
     "output_type": "stream",
     "text": [
      "100%|██████████| 7/7 [00:00<00:00, 118.97it/s]\n"
     ]
    },
    {
     "name": "stdout",
     "output_type": "stream",
     "text": [
      "train mean loss=-1416.537100655692\n"
     ]
    },
    {
     "name": "stderr",
     "output_type": "stream",
     "text": [
      "100%|██████████| 4/4 [00:00<00:00, 501.28it/s]\n"
     ]
    },
    {
     "name": "stdout",
     "output_type": "stream",
     "text": [
      "test  mean loss=-1515.2748489379883\n",
      "epoch: 7\n",
      "NDCG@100 | train: 0.4045197606430427, test: 0.14918620629098936\n",
      "epoch 7\n"
     ]
    },
    {
     "name": "stderr",
     "output_type": "stream",
     "text": [
      "100%|██████████| 7/7 [00:00<00:00, 140.37it/s]\n"
     ]
    },
    {
     "name": "stdout",
     "output_type": "stream",
     "text": [
      "train mean loss=-1826.6987827845983\n"
     ]
    },
    {
     "name": "stderr",
     "output_type": "stream",
     "text": [
      "100%|██████████| 4/4 [00:00<00:00, 334.25it/s]\n"
     ]
    },
    {
     "name": "stdout",
     "output_type": "stream",
     "text": [
      "test  mean loss=-1894.2694702148438\n",
      "epoch: 8\n",
      "NDCG@100 | train: 0.4045197606430427, test: 0.14918620629098936\n",
      "epoch 8\n"
     ]
    },
    {
     "name": "stderr",
     "output_type": "stream",
     "text": [
      "100%|██████████| 7/7 [00:00<00:00, 116.97it/s]\n"
     ]
    },
    {
     "name": "stdout",
     "output_type": "stream",
     "text": [
      "train mean loss=-2287.464582170759\n"
     ]
    },
    {
     "name": "stderr",
     "output_type": "stream",
     "text": [
      "100%|██████████| 4/4 [00:00<00:00, 572.97it/s]\n"
     ]
    },
    {
     "name": "stdout",
     "output_type": "stream",
     "text": [
      "test  mean loss=-2334.0589447021484\n",
      "epoch: 9\n",
      "NDCG@100 | train: 0.4045197606430427, test: 0.14918620629098936\n",
      "epoch 9\n"
     ]
    },
    {
     "name": "stderr",
     "output_type": "stream",
     "text": [
      "100%|██████████| 7/7 [00:00<00:00, 127.61it/s]\n"
     ]
    },
    {
     "name": "stdout",
     "output_type": "stream",
     "text": [
      "train mean loss=-2791.520036969866\n"
     ]
    },
    {
     "name": "stderr",
     "output_type": "stream",
     "text": [
      "100%|██████████| 4/4 [00:00<00:00, 445.54it/s]\n"
     ]
    },
    {
     "name": "stdout",
     "output_type": "stream",
     "text": [
      "test  mean loss=-2857.417495727539\n",
      "epoch: 10\n",
      "NDCG@100 | train: 0.4045197606430427, test: 0.14918620629098936\n",
      "epoch 10\n"
     ]
    },
    {
     "name": "stderr",
     "output_type": "stream",
     "text": [
      "100%|██████████| 7/7 [00:00<00:00, 167.11it/s]\n"
     ]
    },
    {
     "name": "stdout",
     "output_type": "stream",
     "text": [
      "train mean loss=-3350.8406284877233\n"
     ]
    },
    {
     "name": "stderr",
     "output_type": "stream",
     "text": [
      "100%|██████████| 4/4 [00:00<00:00, 445.57it/s]\n"
     ]
    },
    {
     "name": "stdout",
     "output_type": "stream",
     "text": [
      "test  mean loss=-3475.3583068847656\n",
      "epoch: 11\n",
      "NDCG@100 | train: 0.4045197606430427, test: 0.14918620629098936\n",
      "save the model\n",
      "save the optimizer\n",
      "[[0.]\n",
      " [0.]\n",
      " [0.]\n",
      " [0.]\n",
      " [0.]\n",
      " [0.]\n",
      " [0.]\n",
      " [0.]\n",
      " [0.]\n",
      " [0.]\n",
      " [0.]]\n",
      "22\n",
      "load dataset\n",
      "The number of data, train: 15 validate: 7\n",
      "prepare initialized model!\n",
      "Start training and validation loop......\n",
      "epoch 1\n"
     ]
    },
    {
     "name": "stderr",
     "output_type": "stream",
     "text": [
      "100%|██████████| 15/15 [00:00<00:00, 126.39it/s]\n"
     ]
    },
    {
     "name": "stdout",
     "output_type": "stream",
     "text": [
      "train mean loss=-648.9665739059449\n"
     ]
    },
    {
     "name": "stderr",
     "output_type": "stream",
     "text": [
      "100%|██████████| 7/7 [00:00<00:00, 412.91it/s]\n"
     ]
    },
    {
     "name": "stdout",
     "output_type": "stream",
     "text": [
      "test  mean loss=-1047.6380702427455\n",
      "epoch: 2\n",
      "NDCG@100 | train: 0.5085651023443384, test: 0.23639345724225874\n",
      "epoch 2\n"
     ]
    },
    {
     "name": "stderr",
     "output_type": "stream",
     "text": [
      "100%|██████████| 15/15 [00:00<00:00, 133.09it/s]\n"
     ]
    },
    {
     "name": "stdout",
     "output_type": "stream",
     "text": [
      "train mean loss=-1421.1084950764973\n"
     ]
    },
    {
     "name": "stderr",
     "output_type": "stream",
     "text": [
      "100%|██████████| 7/7 [00:00<00:00, 350.98it/s]\n"
     ]
    },
    {
     "name": "stdout",
     "output_type": "stream",
     "text": [
      "test  mean loss=-1999.2481144496373\n",
      "epoch: 3\n",
      "NDCG@100 | train: 0.5085651023443384, test: 0.23639345724225874\n",
      "epoch 3\n"
     ]
    },
    {
     "name": "stderr",
     "output_type": "stream",
     "text": [
      "100%|██████████| 15/15 [00:00<00:00, 146.02it/s]\n"
     ]
    },
    {
     "name": "stdout",
     "output_type": "stream",
     "text": [
      "train mean loss=-2659.3714467366535\n"
     ]
    },
    {
     "name": "stderr",
     "output_type": "stream",
     "text": [
      "100%|██████████| 7/7 [00:00<00:00, 701.71it/s]\n"
     ]
    },
    {
     "name": "stdout",
     "output_type": "stream",
     "text": [
      "test  mean loss=-3158.1896743774414\n",
      "epoch: 4\n",
      "NDCG@100 | train: 0.5085651023443384, test: 0.23639345724225874\n",
      "epoch 4\n"
     ]
    },
    {
     "name": "stderr",
     "output_type": "stream",
     "text": [
      "100%|██████████| 15/15 [00:00<00:00, 172.87it/s]\n"
     ]
    },
    {
     "name": "stdout",
     "output_type": "stream",
     "text": [
      "train mean loss=-3903.00935160319\n"
     ]
    },
    {
     "name": "stderr",
     "output_type": "stream",
     "text": [
      "100%|██████████| 7/7 [00:00<00:00, 467.93it/s]\n"
     ]
    },
    {
     "name": "stdout",
     "output_type": "stream",
     "text": [
      "test  mean loss=-5055.600553240095\n",
      "epoch: 5\n",
      "NDCG@100 | train: 0.5085651023443384, test: 0.23639345724225874\n",
      "epoch 5\n"
     ]
    },
    {
     "name": "stderr",
     "output_type": "stream",
     "text": [
      "100%|██████████| 15/15 [00:00<00:00, 161.72it/s]\n"
     ]
    },
    {
     "name": "stdout",
     "output_type": "stream",
     "text": [
      "train mean loss=-6116.656790161132\n"
     ]
    },
    {
     "name": "stderr",
     "output_type": "stream",
     "text": [
      "100%|██████████| 7/7 [00:00<00:00, 638.17it/s]\n"
     ]
    },
    {
     "name": "stdout",
     "output_type": "stream",
     "text": [
      "test  mean loss=-7168.431780133928\n",
      "epoch: 6\n",
      "NDCG@100 | train: 0.5085651023443384, test: 0.23639345724225874\n",
      "epoch 6\n"
     ]
    },
    {
     "name": "stderr",
     "output_type": "stream",
     "text": [
      "100%|██████████| 15/15 [00:00<00:00, 151.92it/s]\n"
     ]
    },
    {
     "name": "stdout",
     "output_type": "stream",
     "text": [
      "train mean loss=-8472.658998616536\n"
     ]
    },
    {
     "name": "stderr",
     "output_type": "stream",
     "text": [
      "100%|██████████| 7/7 [00:00<00:00, 467.96it/s]\n"
     ]
    },
    {
     "name": "stdout",
     "output_type": "stream",
     "text": [
      "test  mean loss=-10290.990870884487\n",
      "epoch: 7\n",
      "NDCG@100 | train: 0.5085651023443384, test: 0.23639345724225874\n",
      "epoch 7\n"
     ]
    },
    {
     "name": "stderr",
     "output_type": "stream",
     "text": [
      "100%|██████████| 15/15 [00:00<00:00, 135.50it/s]\n"
     ]
    },
    {
     "name": "stdout",
     "output_type": "stream",
     "text": [
      "train mean loss=-11634.987060546875\n"
     ]
    },
    {
     "name": "stderr",
     "output_type": "stream",
     "text": [
      "100%|██████████| 7/7 [00:00<00:00, 501.33it/s]\n"
     ]
    },
    {
     "name": "stdout",
     "output_type": "stream",
     "text": [
      "test  mean loss=-14079.742213657924\n",
      "epoch: 8\n",
      "NDCG@100 | train: 0.5085651023443384, test: 0.23639345724225874\n",
      "epoch 8\n"
     ]
    },
    {
     "name": "stderr",
     "output_type": "stream",
     "text": [
      "100%|██████████| 15/15 [00:00<00:00, 146.01it/s]\n"
     ]
    },
    {
     "name": "stdout",
     "output_type": "stream",
     "text": [
      "train mean loss=-15804.63516845703\n"
     ]
    },
    {
     "name": "stderr",
     "output_type": "stream",
     "text": [
      "100%|██████████| 7/7 [00:00<00:00, 438.70it/s]\n"
     ]
    },
    {
     "name": "stdout",
     "output_type": "stream",
     "text": [
      "test  mean loss=-18523.23611886161\n",
      "epoch: 9\n",
      "NDCG@100 | train: 0.5085651023443384, test: 0.23639345724225874\n",
      "epoch 9\n"
     ]
    },
    {
     "name": "stderr",
     "output_type": "stream",
     "text": [
      "100%|██████████| 15/15 [00:00<00:00, 148.91it/s]\n"
     ]
    },
    {
     "name": "stdout",
     "output_type": "stream",
     "text": [
      "train mean loss=-20552.290681966148\n"
     ]
    },
    {
     "name": "stderr",
     "output_type": "stream",
     "text": [
      "100%|██████████| 7/7 [00:00<00:00, 636.09it/s]\n"
     ]
    },
    {
     "name": "stdout",
     "output_type": "stream",
     "text": [
      "test  mean loss=-24124.883666992188\n",
      "epoch: 10\n",
      "NDCG@100 | train: 0.5085651023443384, test: 0.23639345724225874\n",
      "epoch 10\n"
     ]
    },
    {
     "name": "stderr",
     "output_type": "stream",
     "text": [
      "100%|██████████| 15/15 [00:00<00:00, 144.62it/s]\n"
     ]
    },
    {
     "name": "stdout",
     "output_type": "stream",
     "text": [
      "train mean loss=-26971.161775716148\n"
     ]
    },
    {
     "name": "stderr",
     "output_type": "stream",
     "text": [
      "100%|██████████| 7/7 [00:00<00:00, 438.69it/s]\n"
     ]
    },
    {
     "name": "stdout",
     "output_type": "stream",
     "text": [
      "test  mean loss=-30516.688110351562\n",
      "epoch: 11\n",
      "NDCG@100 | train: 0.5085651023443384, test: 0.23639345724225874\n",
      "save the model\n",
      "save the optimizer\n",
      "[[0.]\n",
      " [0.]\n",
      " [0.]\n",
      " [0.]\n",
      " [0.]\n",
      " [0.]\n",
      " [0.]\n",
      " [0.]\n",
      " [0.]\n",
      " [0.]\n",
      " [0.]\n",
      " [0.]\n",
      " [0.]\n",
      " [0.]\n",
      " [0.]\n",
      " [0.]\n",
      " [0.]\n",
      " [0.]\n",
      " [0.]\n",
      " [0.]\n",
      " [0.]\n",
      " [0.]]\n",
      "15\n",
      "load dataset\n",
      "The number of data, train: 10 validate: 5\n",
      "prepare initialized model!\n",
      "Start training and validation loop......\n",
      "epoch 1\n"
     ]
    },
    {
     "name": "stderr",
     "output_type": "stream",
     "text": [
      "100%|██████████| 10/10 [00:00<00:00, 167.02it/s]\n"
     ]
    },
    {
     "name": "stdout",
     "output_type": "stream",
     "text": [
      "train mean loss=214.60924458503723\n"
     ]
    },
    {
     "name": "stderr",
     "output_type": "stream",
     "text": [
      "100%|██████████| 5/5 [00:00<00:00, 358.04it/s]\n"
     ]
    },
    {
     "name": "stdout",
     "output_type": "stream",
     "text": [
      "test  mean loss=-115.89087524414063\n",
      "epoch: 2\n",
      "NDCG@100 | train: 0.6049751551026468, test: 0.818343718958933\n",
      "epoch 2\n"
     ]
    },
    {
     "name": "stderr",
     "output_type": "stream",
     "text": [
      "100%|██████████| 10/10 [00:00<00:00, 135.49it/s]\n"
     ]
    },
    {
     "name": "stdout",
     "output_type": "stream",
     "text": [
      "train mean loss=-369.23083114624023\n"
     ]
    },
    {
     "name": "stderr",
     "output_type": "stream",
     "text": [
      "100%|██████████| 5/5 [00:00<00:00, 358.11it/s]\n"
     ]
    },
    {
     "name": "stdout",
     "output_type": "stream",
     "text": [
      "test  mean loss=-416.5215148925781\n",
      "epoch: 3\n",
      "NDCG@100 | train: 0.6049751551026468, test: 0.818343718958933\n",
      "epoch 3\n"
     ]
    },
    {
     "name": "stderr",
     "output_type": "stream",
     "text": [
      "100%|██████████| 10/10 [00:00<00:00, 133.69it/s]\n"
     ]
    },
    {
     "name": "stdout",
     "output_type": "stream",
     "text": [
      "train mean loss=-739.876676940918\n"
     ]
    },
    {
     "name": "stderr",
     "output_type": "stream",
     "text": [
      "100%|██████████| 5/5 [00:00<00:00, 278.52it/s]\n"
     ]
    },
    {
     "name": "stdout",
     "output_type": "stream",
     "text": [
      "test  mean loss=-693.4725646972656\n",
      "epoch: 4\n",
      "NDCG@100 | train: 0.6049751551026468, test: 0.818343718958933\n",
      "epoch 4\n"
     ]
    },
    {
     "name": "stderr",
     "output_type": "stream",
     "text": [
      "100%|██████████| 10/10 [00:00<00:00, 131.93it/s]\n"
     ]
    },
    {
     "name": "stdout",
     "output_type": "stream",
     "text": [
      "train mean loss=-1172.0531219482423\n"
     ]
    },
    {
     "name": "stderr",
     "output_type": "stream",
     "text": [
      "100%|██████████| 5/5 [00:00<00:00, 501.39it/s]\n"
     ]
    },
    {
     "name": "stdout",
     "output_type": "stream",
     "text": [
      "test  mean loss=-1067.89306640625\n",
      "epoch: 5\n",
      "NDCG@100 | train: 0.6049751551026468, test: 0.818343718958933\n",
      "epoch 5\n"
     ]
    },
    {
     "name": "stderr",
     "output_type": "stream",
     "text": [
      "100%|██████████| 10/10 [00:00<00:00, 135.49it/s]\n"
     ]
    },
    {
     "name": "stdout",
     "output_type": "stream",
     "text": [
      "train mean loss=-1670.5087982177733\n"
     ]
    },
    {
     "name": "stderr",
     "output_type": "stream",
     "text": [
      "100%|██████████| 5/5 [00:00<00:00, 358.10it/s]\n"
     ]
    },
    {
     "name": "stdout",
     "output_type": "stream",
     "text": [
      "test  mean loss=-1550.7988891601562\n",
      "epoch: 6\n",
      "NDCG@100 | train: 0.6049751551026468, test: 0.818343718958933\n",
      "epoch 6\n"
     ]
    },
    {
     "name": "stderr",
     "output_type": "stream",
     "text": [
      "100%|██████████| 10/10 [00:00<00:00, 161.71it/s]\n"
     ]
    },
    {
     "name": "stdout",
     "output_type": "stream",
     "text": [
      "train mean loss=-2293.0673217773438\n"
     ]
    },
    {
     "name": "stderr",
     "output_type": "stream",
     "text": [
      "100%|██████████| 5/5 [00:00<00:00, 626.50it/s]\n"
     ]
    },
    {
     "name": "stdout",
     "output_type": "stream",
     "text": [
      "test  mean loss=-2173.5513305664062\n",
      "epoch: 7\n",
      "NDCG@100 | train: 0.6049751551026468, test: 0.818343718958933\n",
      "epoch 7\n"
     ]
    },
    {
     "name": "stderr",
     "output_type": "stream",
     "text": [
      "100%|██████████| 10/10 [00:00<00:00, 126.92it/s]\n"
     ]
    },
    {
     "name": "stdout",
     "output_type": "stream",
     "text": [
      "train mean loss=-3264.4181396484373\n"
     ]
    },
    {
     "name": "stderr",
     "output_type": "stream",
     "text": [
      "100%|██████████| 5/5 [00:00<00:00, 453.87it/s]\n"
     ]
    },
    {
     "name": "stdout",
     "output_type": "stream",
     "text": [
      "test  mean loss=-2856.6414306640627\n",
      "epoch: 8\n",
      "NDCG@100 | train: 0.6049751551026468, test: 0.818343718958933\n",
      "epoch 8\n"
     ]
    },
    {
     "name": "stderr",
     "output_type": "stream",
     "text": [
      "100%|██████████| 10/10 [00:00<00:00, 131.93it/s]\n"
     ]
    },
    {
     "name": "stdout",
     "output_type": "stream",
     "text": [
      "train mean loss=-4153.9059387207035\n"
     ]
    },
    {
     "name": "stderr",
     "output_type": "stream",
     "text": [
      "100%|██████████| 5/5 [00:00<00:00, 501.28it/s]\n"
     ]
    },
    {
     "name": "stdout",
     "output_type": "stream",
     "text": [
      "test  mean loss=-3776.45673828125\n",
      "epoch: 9\n",
      "NDCG@100 | train: 0.6049751551026468, test: 0.818343718958933\n",
      "epoch 9\n"
     ]
    },
    {
     "name": "stderr",
     "output_type": "stream",
     "text": [
      "100%|██████████| 10/10 [00:00<00:00, 145.31it/s]\n"
     ]
    },
    {
     "name": "stdout",
     "output_type": "stream",
     "text": [
      "train mean loss=-5486.072595214844\n"
     ]
    },
    {
     "name": "stderr",
     "output_type": "stream",
     "text": [
      "100%|██████████| 5/5 [00:00<00:00, 358.08it/s]\n"
     ]
    },
    {
     "name": "stdout",
     "output_type": "stream",
     "text": [
      "test  mean loss=-4830.495947265625\n",
      "epoch: 10\n",
      "NDCG@100 | train: 0.6049751551026468, test: 0.818343718958933\n",
      "epoch 10\n"
     ]
    },
    {
     "name": "stderr",
     "output_type": "stream",
     "text": [
      "100%|██████████| 10/10 [00:00<00:00, 137.35it/s]\n"
     ]
    },
    {
     "name": "stdout",
     "output_type": "stream",
     "text": [
      "train mean loss=-6965.640380859375\n"
     ]
    },
    {
     "name": "stderr",
     "output_type": "stream",
     "text": [
      "100%|██████████| 5/5 [00:00<00:00, 455.52it/s]\n"
     ]
    },
    {
     "name": "stdout",
     "output_type": "stream",
     "text": [
      "test  mean loss=-6084.04013671875\n",
      "epoch: 11\n",
      "NDCG@100 | train: 0.6049751551026468, test: 0.818343718958933\n",
      "save the model\n",
      "save the optimizer\n",
      "[[0.]\n",
      " [0.]\n",
      " [0.]\n",
      " [0.]\n",
      " [0.]\n",
      " [0.]\n",
      " [0.]\n",
      " [0.]\n",
      " [0.]\n",
      " [0.]\n",
      " [0.]\n",
      " [0.]\n",
      " [0.]\n",
      " [0.]\n",
      " [0.]]\n",
      "48 ricerca di merda\n",
      "10\n",
      "load dataset\n",
      "The number of data, train: 7 validate: 3\n",
      "prepare initialized model!\n",
      "Start training and validation loop......\n",
      "epoch 1\n"
     ]
    },
    {
     "name": "stderr",
     "output_type": "stream",
     "text": [
      "100%|██████████| 7/7 [00:00<00:00, 134.89it/s]\n"
     ]
    },
    {
     "name": "stdout",
     "output_type": "stream",
     "text": [
      "train mean loss=-51.85137739351818\n"
     ]
    },
    {
     "name": "stderr",
     "output_type": "stream",
     "text": [
      "100%|██████████| 3/3 [00:00<00:00, 429.76it/s]\n"
     ]
    },
    {
     "name": "stdout",
     "output_type": "stream",
     "text": [
      "test  mean loss=-79.91484069824219\n",
      "epoch: 2\n",
      "NDCG@100 | train: 0.8471835298240695, test: 0.8622087104988697\n",
      "epoch 2\n"
     ]
    },
    {
     "name": "stderr",
     "output_type": "stream",
     "text": [
      "100%|██████████| 7/7 [00:00<00:00, 137.62it/s]\n"
     ]
    },
    {
     "name": "stdout",
     "output_type": "stream",
     "text": [
      "train mean loss=-132.27111107962472\n"
     ]
    },
    {
     "name": "stderr",
     "output_type": "stream",
     "text": [
      "100%|██████████| 3/3 [00:00<00:00, 427.73it/s]\n"
     ]
    },
    {
     "name": "stdout",
     "output_type": "stream",
     "text": [
      "test  mean loss=-144.4608612060547\n",
      "epoch: 3\n",
      "NDCG@100 | train: 0.8471835298240695, test: 0.8622087104988697\n",
      "epoch 3\n"
     ]
    },
    {
     "name": "stderr",
     "output_type": "stream",
     "text": [
      "100%|██████████| 7/7 [00:00<00:00, 113.21it/s]\n"
     ]
    },
    {
     "name": "stdout",
     "output_type": "stream",
     "text": [
      "train mean loss=-222.01861245291573\n"
     ]
    },
    {
     "name": "stderr",
     "output_type": "stream",
     "text": [
      "100%|██████████| 3/3 [00:00<00:00, 429.79it/s]\n"
     ]
    },
    {
     "name": "stdout",
     "output_type": "stream",
     "text": [
      "test  mean loss=-206.44769032796225\n",
      "epoch: 4\n",
      "NDCG@100 | train: 0.8471835298240695, test: 0.8622087104988697\n",
      "epoch 4\n"
     ]
    },
    {
     "name": "stderr",
     "output_type": "stream",
     "text": [
      "100%|██████████| 7/7 [00:00<00:00, 113.20it/s]\n"
     ]
    },
    {
     "name": "stdout",
     "output_type": "stream",
     "text": [
      "train mean loss=-306.3356410435268\n"
     ]
    },
    {
     "name": "stderr",
     "output_type": "stream",
     "text": [
      "100%|██████████| 3/3 [00:00<00:00, 752.16it/s]\n"
     ]
    },
    {
     "name": "stdout",
     "output_type": "stream",
     "text": [
      "test  mean loss=-273.3150278727214\n",
      "epoch: 5\n",
      "NDCG@100 | train: 0.8471835298240695, test: 0.8622087104988697\n",
      "epoch 5\n"
     ]
    },
    {
     "name": "stderr",
     "output_type": "stream",
     "text": [
      "100%|██████████| 7/7 [00:00<00:00, 137.63it/s]\n"
     ]
    },
    {
     "name": "stdout",
     "output_type": "stream",
     "text": [
      "train mean loss=-392.0482417515346\n"
     ]
    },
    {
     "name": "stderr",
     "output_type": "stream",
     "text": [
      "100%|██████████| 3/3 [00:00<00:00, 273.52it/s]\n"
     ]
    },
    {
     "name": "stdout",
     "output_type": "stream",
     "text": [
      "test  mean loss=-353.64252217610675\n",
      "epoch: 6\n",
      "NDCG@100 | train: 0.8471835298240695, test: 0.8622087104988697\n",
      "epoch 6\n"
     ]
    },
    {
     "name": "stderr",
     "output_type": "stream",
     "text": [
      "100%|██████████| 7/7 [00:00<00:00, 167.11it/s]\n"
     ]
    },
    {
     "name": "stdout",
     "output_type": "stream",
     "text": [
      "train mean loss=-499.79781668526783\n"
     ]
    },
    {
     "name": "stderr",
     "output_type": "stream",
     "text": [
      "100%|██████████| 3/3 [00:00<00:00, 334.33it/s]\n"
     ]
    },
    {
     "name": "stdout",
     "output_type": "stream",
     "text": [
      "test  mean loss=-446.1818135579427\n",
      "epoch: 7\n",
      "NDCG@100 | train: 0.8471835298240695, test: 0.8622087104988697\n",
      "epoch 7\n"
     ]
    },
    {
     "name": "stderr",
     "output_type": "stream",
     "text": [
      "100%|██████████| 7/7 [00:00<00:00, 143.24it/s]\n"
     ]
    },
    {
     "name": "stdout",
     "output_type": "stream",
     "text": [
      "train mean loss=-626.2032536097935\n"
     ]
    },
    {
     "name": "stderr",
     "output_type": "stream",
     "text": [
      "100%|██████████| 3/3 [00:00<00:00, 501.35it/s]\n"
     ]
    },
    {
     "name": "stdout",
     "output_type": "stream",
     "text": [
      "test  mean loss=-551.7909647623698\n",
      "epoch: 8\n",
      "NDCG@100 | train: 0.8471835298240695, test: 0.8622087104988697\n",
      "epoch 8\n"
     ]
    },
    {
     "name": "stderr",
     "output_type": "stream",
     "text": [
      "100%|██████████| 7/7 [00:00<00:00, 132.43it/s]\n"
     ]
    },
    {
     "name": "stdout",
     "output_type": "stream",
     "text": [
      "train mean loss=-777.0454232352121\n"
     ]
    },
    {
     "name": "stderr",
     "output_type": "stream",
     "text": [
      "100%|██████████| 3/3 [00:00<00:00, 501.29it/s]\n"
     ]
    },
    {
     "name": "stdout",
     "output_type": "stream",
     "text": [
      "test  mean loss=-671.717041015625\n",
      "epoch: 9\n",
      "NDCG@100 | train: 0.8471835298240695, test: 0.8622087104988697\n",
      "epoch 9\n"
     ]
    },
    {
     "name": "stderr",
     "output_type": "stream",
     "text": [
      "100%|██████████| 7/7 [00:00<00:00, 167.08it/s]\n"
     ]
    },
    {
     "name": "stdout",
     "output_type": "stream",
     "text": [
      "train mean loss=-885.2180611746652\n"
     ]
    },
    {
     "name": "stderr",
     "output_type": "stream",
     "text": [
      "100%|██████████| 3/3 [00:00<00:00, 427.70it/s]\n"
     ]
    },
    {
     "name": "stdout",
     "output_type": "stream",
     "text": [
      "test  mean loss=-829.4569702148438\n",
      "epoch: 10\n",
      "NDCG@100 | train: 0.8471835298240695, test: 0.8622087104988697\n",
      "epoch 10\n"
     ]
    },
    {
     "name": "stderr",
     "output_type": "stream",
     "text": [
      "100%|██████████| 7/7 [00:00<00:00, 146.12it/s]\n"
     ]
    },
    {
     "name": "stdout",
     "output_type": "stream",
     "text": [
      "train mean loss=-1100.5328456333705\n"
     ]
    },
    {
     "name": "stderr",
     "output_type": "stream",
     "text": [
      "100%|██████████| 3/3 [00:00<00:00, 334.17it/s]\n"
     ]
    },
    {
     "name": "stdout",
     "output_type": "stream",
     "text": [
      "test  mean loss=-996.1654459635416\n",
      "epoch: 11\n",
      "NDCG@100 | train: 0.8471835298240695, test: 0.8622087104988697\n",
      "save the model\n",
      "save the optimizer\n",
      "[[0.]\n",
      " [0.]\n",
      " [0.]\n",
      " [0.]\n",
      " [0.]\n",
      " [0.]\n",
      " [0.]\n",
      " [0.]\n",
      " [0.]\n",
      " [0.]]\n",
      "50 ricerca di merda\n",
      "10\n",
      "load dataset\n",
      "The number of data, train: 7 validate: 3\n",
      "prepare initialized model!\n",
      "Start training and validation loop......\n",
      "epoch 1\n"
     ]
    },
    {
     "name": "stderr",
     "output_type": "stream",
     "text": [
      "100%|██████████| 7/7 [00:00<00:00, 140.38it/s]\n"
     ]
    },
    {
     "name": "stdout",
     "output_type": "stream",
     "text": [
      "train mean loss=-76.94455582754952\n"
     ]
    },
    {
     "name": "stderr",
     "output_type": "stream",
     "text": [
      "100%|██████████| 3/3 [00:00<00:00, 429.82it/s]\n"
     ]
    },
    {
     "name": "stdout",
     "output_type": "stream",
     "text": [
      "test  mean loss=-231.37731424967447\n",
      "epoch: 2\n",
      "NDCG@100 | train: 0.7880676721187552, test: 0.9858134195578705\n",
      "epoch 2\n"
     ]
    },
    {
     "name": "stderr",
     "output_type": "stream",
     "text": [
      "100%|██████████| 7/7 [00:00<00:00, 179.97it/s]\n"
     ]
    },
    {
     "name": "stdout",
     "output_type": "stream",
     "text": [
      "train mean loss=-373.84762791224887\n"
     ]
    },
    {
     "name": "stderr",
     "output_type": "stream",
     "text": [
      "100%|██████████| 3/3 [00:00<00:00, 334.29it/s]\n"
     ]
    },
    {
     "name": "stdout",
     "output_type": "stream",
     "text": [
      "test  mean loss=-409.6357116699219\n",
      "epoch: 3\n",
      "NDCG@100 | train: 0.7880676721187552, test: 0.9858134195578705\n",
      "epoch 3\n"
     ]
    },
    {
     "name": "stderr",
     "output_type": "stream",
     "text": [
      "100%|██████████| 7/7 [00:00<00:00, 167.11it/s]\n"
     ]
    },
    {
     "name": "stdout",
     "output_type": "stream",
     "text": [
      "train mean loss=-592.1326620919364\n"
     ]
    },
    {
     "name": "stderr",
     "output_type": "stream",
     "text": [
      "100%|██████████| 3/3 [00:00<00:00, 300.82it/s]\n"
     ]
    },
    {
     "name": "stdout",
     "output_type": "stream",
     "text": [
      "test  mean loss=-595.4341939290365\n",
      "epoch: 4\n",
      "NDCG@100 | train: 0.7880676721187552, test: 0.9858134195578705\n",
      "epoch 4\n"
     ]
    },
    {
     "name": "stderr",
     "output_type": "stream",
     "text": [
      "100%|██████████| 7/7 [00:00<00:00, 116.98it/s]\n"
     ]
    },
    {
     "name": "stdout",
     "output_type": "stream",
     "text": [
      "train mean loss=-834.3428693498884\n"
     ]
    },
    {
     "name": "stderr",
     "output_type": "stream",
     "text": [
      "100%|██████████| 3/3 [00:00<00:00, 501.39it/s]\n"
     ]
    },
    {
     "name": "stdout",
     "output_type": "stream",
     "text": [
      "test  mean loss=-810.3901977539062\n",
      "epoch: 5\n",
      "NDCG@100 | train: 0.7880676721187552, test: 0.9858134195578705\n",
      "epoch 5\n"
     ]
    },
    {
     "name": "stderr",
     "output_type": "stream",
     "text": [
      "100%|██████████| 7/7 [00:00<00:00, 159.50it/s]\n"
     ]
    },
    {
     "name": "stdout",
     "output_type": "stream",
     "text": [
      "train mean loss=-1081.1007603236608\n"
     ]
    },
    {
     "name": "stderr",
     "output_type": "stream",
     "text": [
      "100%|██████████| 3/3 [00:00<00:00, 429.80it/s]\n"
     ]
    },
    {
     "name": "stdout",
     "output_type": "stream",
     "text": [
      "test  mean loss=-1071.2814534505208\n",
      "epoch: 6\n",
      "NDCG@100 | train: 0.7880676721187552, test: 0.9858134195578705\n",
      "epoch 6\n"
     ]
    },
    {
     "name": "stderr",
     "output_type": "stream",
     "text": [
      "100%|██████████| 7/7 [00:00<00:00, 149.34it/s]\n"
     ]
    },
    {
     "name": "stdout",
     "output_type": "stream",
     "text": [
      "train mean loss=-1429.1812438964844\n"
     ]
    },
    {
     "name": "stderr",
     "output_type": "stream",
     "text": [
      "100%|██████████| 3/3 [00:00<00:00, 376.04it/s]\n"
     ]
    },
    {
     "name": "stdout",
     "output_type": "stream",
     "text": [
      "test  mean loss=-1363.8313802083333\n",
      "epoch: 7\n",
      "NDCG@100 | train: 0.7880676721187552, test: 0.9858134195578705\n",
      "epoch 7\n"
     ]
    },
    {
     "name": "stderr",
     "output_type": "stream",
     "text": [
      "100%|██████████| 7/7 [00:00<00:00, 129.98it/s]\n"
     ]
    },
    {
     "name": "stdout",
     "output_type": "stream",
     "text": [
      "train mean loss=-1823.897713797433\n"
     ]
    },
    {
     "name": "stderr",
     "output_type": "stream",
     "text": [
      "100%|██████████| 3/3 [00:00<00:00, 601.77it/s]\n"
     ]
    },
    {
     "name": "stdout",
     "output_type": "stream",
     "text": [
      "test  mean loss=-1697.6722412109375\n",
      "epoch: 8\n",
      "NDCG@100 | train: 0.7880676721187552, test: 0.9858134195578705\n",
      "epoch 8\n"
     ]
    },
    {
     "name": "stderr",
     "output_type": "stream",
     "text": [
      "100%|██████████| 7/7 [00:00<00:00, 129.98it/s]\n"
     ]
    },
    {
     "name": "stdout",
     "output_type": "stream",
     "text": [
      "train mean loss=-2241.7461460658483\n"
     ]
    },
    {
     "name": "stderr",
     "output_type": "stream",
     "text": [
      "100%|██████████| 3/3 [00:00<00:00, 300.75it/s]\n"
     ]
    },
    {
     "name": "stdout",
     "output_type": "stream",
     "text": [
      "test  mean loss=-2097.978556315104\n",
      "epoch: 9\n",
      "NDCG@100 | train: 0.7880676721187552, test: 0.9858134195578705\n",
      "epoch 9\n"
     ]
    },
    {
     "name": "stderr",
     "output_type": "stream",
     "text": [
      "100%|██████████| 7/7 [00:00<00:00, 140.38it/s]\n"
     ]
    },
    {
     "name": "stdout",
     "output_type": "stream",
     "text": [
      "train mean loss=-2732.4911673409597\n"
     ]
    },
    {
     "name": "stderr",
     "output_type": "stream",
     "text": [
      "100%|██████████| 3/3 [00:00<00:00, 601.65it/s]\n"
     ]
    },
    {
     "name": "stdout",
     "output_type": "stream",
     "text": [
      "test  mean loss=-2573.4815266927085\n",
      "epoch: 10\n",
      "NDCG@100 | train: 0.7880676721187552, test: 0.9858134195578705\n",
      "epoch 10\n"
     ]
    },
    {
     "name": "stderr",
     "output_type": "stream",
     "text": [
      "100%|██████████| 7/7 [00:00<00:00, 132.42it/s]\n"
     ]
    },
    {
     "name": "stdout",
     "output_type": "stream",
     "text": [
      "train mean loss=-3317.505126953125\n"
     ]
    },
    {
     "name": "stderr",
     "output_type": "stream",
     "text": [
      "100%|██████████| 3/3 [00:00<00:00, 429.67it/s]\n"
     ]
    },
    {
     "name": "stdout",
     "output_type": "stream",
     "text": [
      "test  mean loss=-3134.1646321614585\n",
      "epoch: 11\n",
      "NDCG@100 | train: 0.7880676721187552, test: 0.9858134195578705\n",
      "save the model\n",
      "save the optimizer\n",
      "[[0.]\n",
      " [0.]\n",
      " [0.]\n",
      " [0.]\n",
      " [0.]\n",
      " [0.]\n",
      " [0.]\n",
      " [0.]\n",
      " [0.]\n",
      " [0.]]\n",
      "12\n",
      "load dataset\n",
      "The number of data, train: 8 validate: 4\n",
      "prepare initialized model!\n",
      "Start training and validation loop......\n",
      "epoch 1\n"
     ]
    },
    {
     "name": "stderr",
     "output_type": "stream",
     "text": [
      "100%|██████████| 8/8 [00:00<00:00, 133.69it/s]\n"
     ]
    },
    {
     "name": "stdout",
     "output_type": "stream",
     "text": [
      "train mean loss=1.0046660900115967\n"
     ]
    },
    {
     "name": "stderr",
     "output_type": "stream",
     "text": [
      "100%|██████████| 4/4 [00:00<00:00, 400.95it/s]\n"
     ]
    },
    {
     "name": "stdout",
     "output_type": "stream",
     "text": [
      "test  mean loss=0.0\n",
      "epoch: 2\n",
      "NDCG@100 | train: 0.4096170866165322, test: 0.6382234699080127\n",
      "epoch 2\n"
     ]
    },
    {
     "name": "stderr",
     "output_type": "stream",
     "text": [
      "100%|██████████| 8/8 [00:00<00:00, 131.50it/s]\n"
     ]
    },
    {
     "name": "stdout",
     "output_type": "stream",
     "text": [
      "train mean loss=0.0\n"
     ]
    },
    {
     "name": "stderr",
     "output_type": "stream",
     "text": [
      "100%|██████████| 4/4 [00:00<00:00, 235.93it/s]\n"
     ]
    },
    {
     "name": "stdout",
     "output_type": "stream",
     "text": [
      "test  mean loss=0.0\n",
      "epoch: 3\n",
      "NDCG@100 | train: 0.4096170866165322, test: 0.6382234699080127\n",
      "epoch 3\n"
     ]
    },
    {
     "name": "stderr",
     "output_type": "stream",
     "text": [
      "100%|██████████| 8/8 [00:00<00:00, 129.38it/s]\n"
     ]
    },
    {
     "name": "stdout",
     "output_type": "stream",
     "text": [
      "train mean loss=0.0\n"
     ]
    },
    {
     "name": "stderr",
     "output_type": "stream",
     "text": [
      "100%|██████████| 4/4 [00:00<00:00, 308.49it/s]\n"
     ]
    },
    {
     "name": "stdout",
     "output_type": "stream",
     "text": [
      "test  mean loss=0.0\n",
      "epoch: 4\n",
      "NDCG@100 | train: 0.4096170866165322, test: 0.6382234699080127\n",
      "epoch 4\n"
     ]
    },
    {
     "name": "stderr",
     "output_type": "stream",
     "text": [
      "100%|██████████| 8/8 [00:00<00:00, 135.97it/s]\n"
     ]
    },
    {
     "name": "stdout",
     "output_type": "stream",
     "text": [
      "train mean loss=0.0\n"
     ]
    },
    {
     "name": "stderr",
     "output_type": "stream",
     "text": [
      "100%|██████████| 4/4 [00:00<00:00, 401.07it/s]\n"
     ]
    },
    {
     "name": "stdout",
     "output_type": "stream",
     "text": [
      "test  mean loss=0.0\n",
      "epoch: 5\n",
      "NDCG@100 | train: 0.4096170866165322, test: 0.6382234699080127\n",
      "epoch 5\n"
     ]
    },
    {
     "name": "stderr",
     "output_type": "stream",
     "text": [
      "100%|██████████| 8/8 [00:00<00:00, 178.25it/s]\n"
     ]
    },
    {
     "name": "stdout",
     "output_type": "stream",
     "text": [
      "train mean loss=0.0\n"
     ]
    },
    {
     "name": "stderr",
     "output_type": "stream",
     "text": [
      "100%|██████████| 4/4 [00:00<00:00, 445.62it/s]\n"
     ]
    },
    {
     "name": "stdout",
     "output_type": "stream",
     "text": [
      "test  mean loss=0.0\n",
      "epoch: 6\n",
      "NDCG@100 | train: 0.4096170866165322, test: 0.6382234699080127\n",
      "epoch 6\n"
     ]
    },
    {
     "name": "stderr",
     "output_type": "stream",
     "text": [
      "100%|██████████| 8/8 [00:00<00:00, 148.54it/s]\n"
     ]
    },
    {
     "name": "stdout",
     "output_type": "stream",
     "text": [
      "train mean loss=0.0\n"
     ]
    },
    {
     "name": "stderr",
     "output_type": "stream",
     "text": [
      "100%|██████████| 4/4 [00:00<00:00, 445.82it/s]\n"
     ]
    },
    {
     "name": "stdout",
     "output_type": "stream",
     "text": [
      "test  mean loss=0.0\n",
      "epoch: 7\n",
      "NDCG@100 | train: 0.4096170866165322, test: 0.6382234699080127\n",
      "epoch 7\n"
     ]
    },
    {
     "name": "stderr",
     "output_type": "stream",
     "text": [
      "100%|██████████| 8/8 [00:00<00:00, 135.96it/s]\n"
     ]
    },
    {
     "name": "stdout",
     "output_type": "stream",
     "text": [
      "train mean loss=0.0\n"
     ]
    },
    {
     "name": "stderr",
     "output_type": "stream",
     "text": [
      "100%|██████████| 4/4 [00:00<00:00, 401.12it/s]\n"
     ]
    },
    {
     "name": "stdout",
     "output_type": "stream",
     "text": [
      "test  mean loss=0.0\n",
      "epoch: 8\n",
      "NDCG@100 | train: 0.4096170866165322, test: 0.6382234699080127\n",
      "epoch 8\n"
     ]
    },
    {
     "name": "stderr",
     "output_type": "stream",
     "text": [
      "100%|██████████| 8/8 [00:00<00:00, 131.50it/s]\n"
     ]
    },
    {
     "name": "stdout",
     "output_type": "stream",
     "text": [
      "train mean loss=0.0\n"
     ]
    },
    {
     "name": "stderr",
     "output_type": "stream",
     "text": [
      "100%|██████████| 4/4 [00:00<00:00, 334.23it/s]\n"
     ]
    },
    {
     "name": "stdout",
     "output_type": "stream",
     "text": [
      "test  mean loss=0.0\n",
      "epoch: 9\n",
      "NDCG@100 | train: 0.4096170866165322, test: 0.6382234699080127\n",
      "epoch 9\n"
     ]
    },
    {
     "name": "stderr",
     "output_type": "stream",
     "text": [
      "100%|██████████| 8/8 [00:00<00:00, 170.67it/s]\n"
     ]
    },
    {
     "name": "stdout",
     "output_type": "stream",
     "text": [
      "train mean loss=0.0\n"
     ]
    },
    {
     "name": "stderr",
     "output_type": "stream",
     "text": [
      "100%|██████████| 4/4 [00:00<00:00, 401.05it/s]\n"
     ]
    },
    {
     "name": "stdout",
     "output_type": "stream",
     "text": [
      "test  mean loss=0.0\n",
      "epoch: 10\n",
      "NDCG@100 | train: 0.4096170866165322, test: 0.6382234699080127\n",
      "epoch 10\n"
     ]
    },
    {
     "name": "stderr",
     "output_type": "stream",
     "text": [
      "100%|██████████| 8/8 [00:00<00:00, 186.55it/s]\n"
     ]
    },
    {
     "name": "stdout",
     "output_type": "stream",
     "text": [
      "train mean loss=0.0\n"
     ]
    },
    {
     "name": "stderr",
     "output_type": "stream",
     "text": [
      "100%|██████████| 4/4 [00:00<00:00, 308.53it/s]\n"
     ]
    },
    {
     "name": "stdout",
     "output_type": "stream",
     "text": [
      "test  mean loss=0.0\n",
      "epoch: 11\n",
      "NDCG@100 | train: 0.4096170866165322, test: 0.6382234699080127\n",
      "save the model\n",
      "save the optimizer\n",
      "[[nan]\n",
      " [nan]\n",
      " [nan]\n",
      " [nan]\n",
      " [nan]\n",
      " [nan]\n",
      " [nan]\n",
      " [nan]\n",
      " [nan]\n",
      " [nan]\n",
      " [nan]\n",
      " [nan]]\n",
      "9\n",
      "load dataset\n",
      "The number of data, train: 6 validate: 3\n",
      "prepare initialized model!\n",
      "Start training and validation loop......\n",
      "epoch 1\n"
     ]
    },
    {
     "name": "stderr",
     "output_type": "stream",
     "text": [
      "100%|██████████| 6/6 [00:00<00:00, 122.74it/s]\n"
     ]
    },
    {
     "name": "stdout",
     "output_type": "stream",
     "text": [
      "train mean loss=-51.617978731791176\n"
     ]
    },
    {
     "name": "stderr",
     "output_type": "stream",
     "text": [
      "100%|██████████| 3/3 [00:00<00:00, 376.04it/s]\n"
     ]
    },
    {
     "name": "stdout",
     "output_type": "stream",
     "text": [
      "test  mean loss=-222.9522819519043\n",
      "epoch: 2\n",
      "NDCG@100 | train: 0.06632020205809942, test: 0.7579237460681981\n",
      "epoch 2\n"
     ]
    },
    {
     "name": "stderr",
     "output_type": "stream",
     "text": [
      "100%|██████████| 6/6 [00:00<00:00, 120.32it/s]\n"
     ]
    },
    {
     "name": "stdout",
     "output_type": "stream",
     "text": [
      "train mean loss=-254.43126424153647\n"
     ]
    },
    {
     "name": "stderr",
     "output_type": "stream",
     "text": [
      "100%|██████████| 3/3 [00:00<00:00, 429.66it/s]\n"
     ]
    },
    {
     "name": "stdout",
     "output_type": "stream",
     "text": [
      "test  mean loss=-412.24174245198566\n",
      "epoch: 3\n",
      "NDCG@100 | train: 0.06632020205809942, test: 0.7579237460681981\n",
      "epoch 3\n"
     ]
    },
    {
     "name": "stderr",
     "output_type": "stream",
     "text": [
      "100%|██████████| 6/6 [00:00<00:00, 125.34it/s]\n"
     ]
    },
    {
     "name": "stdout",
     "output_type": "stream",
     "text": [
      "train mean loss=-401.35424041748047\n"
     ]
    },
    {
     "name": "stderr",
     "output_type": "stream",
     "text": [
      "100%|██████████| 3/3 [00:00<00:00, 334.20it/s]\n"
     ]
    },
    {
     "name": "stdout",
     "output_type": "stream",
     "text": [
      "test  mean loss=-598.1854934692383\n",
      "epoch: 4\n",
      "NDCG@100 | train: 0.06632020205809942, test: 0.7579237460681981\n",
      "epoch 4\n"
     ]
    },
    {
     "name": "stderr",
     "output_type": "stream",
     "text": [
      "100%|██████████| 6/6 [00:00<00:00, 120.32it/s]\n"
     ]
    },
    {
     "name": "stdout",
     "output_type": "stream",
     "text": [
      "train mean loss=-546.8200632731119\n"
     ]
    },
    {
     "name": "stderr",
     "output_type": "stream",
     "text": [
      "100%|██████████| 3/3 [00:00<00:00, 376.02it/s]\n"
     ]
    },
    {
     "name": "stdout",
     "output_type": "stream",
     "text": [
      "test  mean loss=-811.5015869140625\n",
      "epoch: 5\n",
      "NDCG@100 | train: 0.06632020205809942, test: 0.7579237460681981\n",
      "epoch 5\n"
     ]
    },
    {
     "name": "stderr",
     "output_type": "stream",
     "text": [
      "100%|██████████| 6/6 [00:00<00:00, 125.34it/s]\n"
     ]
    },
    {
     "name": "stdout",
     "output_type": "stream",
     "text": [
      "train mean loss=-729.5068486531576\n"
     ]
    },
    {
     "name": "stderr",
     "output_type": "stream",
     "text": [
      "100%|██████████| 3/3 [00:00<00:00, 334.19it/s]\n"
     ]
    },
    {
     "name": "stdout",
     "output_type": "stream",
     "text": [
      "test  mean loss=-1057.3562469482422\n",
      "epoch: 6\n",
      "NDCG@100 | train: 0.06632020205809942, test: 0.7579237460681981\n",
      "epoch 6\n"
     ]
    },
    {
     "name": "stderr",
     "output_type": "stream",
     "text": [
      "100%|██████████| 6/6 [00:00<00:00, 130.78it/s]\n"
     ]
    },
    {
     "name": "stdout",
     "output_type": "stream",
     "text": [
      "train mean loss=-953.7013854980469\n"
     ]
    },
    {
     "name": "stderr",
     "output_type": "stream",
     "text": [
      "100%|██████████| 3/3 [00:00<00:00, 273.51it/s]\n"
     ]
    },
    {
     "name": "stdout",
     "output_type": "stream",
     "text": [
      "test  mean loss=-1343.408442179362\n",
      "epoch: 7\n",
      "NDCG@100 | train: 0.06632020205809942, test: 0.7579237460681981\n",
      "epoch 7\n"
     ]
    },
    {
     "name": "stderr",
     "output_type": "stream",
     "text": [
      "100%|██████████| 6/6 [00:00<00:00, 117.96it/s]\n"
     ]
    },
    {
     "name": "stdout",
     "output_type": "stream",
     "text": [
      "train mean loss=-1206.4909566243489\n"
     ]
    },
    {
     "name": "stderr",
     "output_type": "stream",
     "text": [
      "100%|██████████| 3/3 [00:00<00:00, 300.77it/s]\n"
     ]
    },
    {
     "name": "stdout",
     "output_type": "stream",
     "text": [
      "test  mean loss=-1673.306376139323\n",
      "epoch: 8\n",
      "NDCG@100 | train: 0.06632020205809942, test: 0.7579237460681981\n",
      "epoch 8\n"
     ]
    },
    {
     "name": "stderr",
     "output_type": "stream",
     "text": [
      "100%|██████████| 6/6 [00:00<00:00, 130.78it/s]\n"
     ]
    },
    {
     "name": "stdout",
     "output_type": "stream",
     "text": [
      "train mean loss=-1523.1536966959636\n"
     ]
    },
    {
     "name": "stderr",
     "output_type": "stream",
     "text": [
      "100%|██████████| 3/3 [00:00<00:00, 273.42it/s]\n"
     ]
    },
    {
     "name": "stdout",
     "output_type": "stream",
     "text": [
      "test  mean loss=-2044.3736775716145\n",
      "epoch: 9\n",
      "NDCG@100 | train: 0.06632020205809942, test: 0.7579237460681981\n",
      "epoch 9\n"
     ]
    },
    {
     "name": "stderr",
     "output_type": "stream",
     "text": [
      "100%|██████████| 6/6 [00:00<00:00, 111.40it/s]\n"
     ]
    },
    {
     "name": "stdout",
     "output_type": "stream",
     "text": [
      "train mean loss=-1791.9263610839844\n"
     ]
    },
    {
     "name": "stderr",
     "output_type": "stream",
     "text": [
      "100%|██████████| 3/3 [00:00<00:00, 273.45it/s]\n"
     ]
    },
    {
     "name": "stdout",
     "output_type": "stream",
     "text": [
      "test  mean loss=-2510.6490071614585\n",
      "epoch: 10\n",
      "NDCG@100 | train: 0.06632020205809942, test: 0.7579237460681981\n",
      "epoch 10\n"
     ]
    },
    {
     "name": "stderr",
     "output_type": "stream",
     "text": [
      "100%|██████████| 6/6 [00:00<00:00, 125.33it/s]\n"
     ]
    },
    {
     "name": "stdout",
     "output_type": "stream",
     "text": [
      "train mean loss=-2218.2894388834634\n"
     ]
    },
    {
     "name": "stderr",
     "output_type": "stream",
     "text": [
      "100%|██████████| 3/3 [00:00<00:00, 376.04it/s]\n"
     ]
    },
    {
     "name": "stdout",
     "output_type": "stream",
     "text": [
      "test  mean loss=-3021.0375366210938\n",
      "epoch: 11\n",
      "NDCG@100 | train: 0.06632020205809942, test: 0.7579237460681981\n",
      "save the model\n",
      "save the optimizer\n",
      "[[0.]\n",
      " [0.]\n",
      " [0.]\n",
      " [0.]\n",
      " [0.]\n",
      " [0.]\n",
      " [0.]\n",
      " [0.]\n",
      " [0.]]\n",
      "10\n",
      "load dataset\n",
      "The number of data, train: 7 validate: 3\n",
      "prepare initialized model!\n",
      "Start training and validation loop......\n",
      "epoch 1\n"
     ]
    },
    {
     "name": "stderr",
     "output_type": "stream",
     "text": [
      "100%|██████████| 7/7 [00:00<00:00, 103.21it/s]\n"
     ]
    },
    {
     "name": "stdout",
     "output_type": "stream",
     "text": [
      "train mean loss=-148.51332909720284\n"
     ]
    },
    {
     "name": "stderr",
     "output_type": "stream",
     "text": [
      "100%|██████████| 3/3 [00:00<00:00, 273.42it/s]\n"
     ]
    },
    {
     "name": "stdout",
     "output_type": "stream",
     "text": [
      "test  mean loss=-395.8655548095703\n",
      "epoch: 2\n",
      "NDCG@100 | train: 0.7707752947361043, test: 1.0\n",
      "epoch 2\n"
     ]
    },
    {
     "name": "stderr",
     "output_type": "stream",
     "text": [
      "100%|██████████| 7/7 [00:00<00:00, 125.33it/s]\n"
     ]
    },
    {
     "name": "stdout",
     "output_type": "stream",
     "text": [
      "train mean loss=-367.89576721191406\n"
     ]
    },
    {
     "name": "stderr",
     "output_type": "stream",
     "text": [
      "100%|██████████| 3/3 [00:00<00:00, 273.35it/s]\n"
     ]
    },
    {
     "name": "stdout",
     "output_type": "stream",
     "text": [
      "test  mean loss=-666.1592407226562\n",
      "epoch: 3\n",
      "NDCG@100 | train: 0.7707752947361043, test: 1.0\n",
      "epoch 3\n"
     ]
    },
    {
     "name": "stderr",
     "output_type": "stream",
     "text": [
      "100%|██████████| 7/7 [00:00<00:00, 115.06it/s]\n"
     ]
    },
    {
     "name": "stdout",
     "output_type": "stream",
     "text": [
      "train mean loss=-575.7764325823102\n"
     ]
    },
    {
     "name": "stderr",
     "output_type": "stream",
     "text": [
      "100%|██████████| 3/3 [00:00<00:00, 429.77it/s]\n"
     ]
    },
    {
     "name": "stdout",
     "output_type": "stream",
     "text": [
      "test  mean loss=-977.4357096354166\n",
      "epoch: 4\n",
      "NDCG@100 | train: 0.7707752947361043, test: 1.0\n",
      "epoch 4\n"
     ]
    },
    {
     "name": "stderr",
     "output_type": "stream",
     "text": [
      "100%|██████████| 7/7 [00:00<00:00, 143.24it/s]\n"
     ]
    },
    {
     "name": "stdout",
     "output_type": "stream",
     "text": [
      "train mean loss=-799.8358415876116\n"
     ]
    },
    {
     "name": "stderr",
     "output_type": "stream",
     "text": [
      "100%|██████████| 3/3 [00:00<00:00, 429.69it/s]\n"
     ]
    },
    {
     "name": "stdout",
     "output_type": "stream",
     "text": [
      "test  mean loss=-1350.718729654948\n",
      "epoch: 5\n",
      "NDCG@100 | train: 0.7707752947361043, test: 1.0\n",
      "epoch 5\n"
     ]
    },
    {
     "name": "stderr",
     "output_type": "stream",
     "text": [
      "100%|██████████| 7/7 [00:00<00:00, 179.96it/s]\n"
     ]
    },
    {
     "name": "stdout",
     "output_type": "stream",
     "text": [
      "train mean loss=-1107.6106480189733\n"
     ]
    },
    {
     "name": "stderr",
     "output_type": "stream",
     "text": [
      "100%|██████████| 3/3 [00:00<00:00, 601.65it/s]\n"
     ]
    },
    {
     "name": "stdout",
     "output_type": "stream",
     "text": [
      "test  mean loss=-1786.7963053385417\n",
      "epoch: 6\n",
      "NDCG@100 | train: 0.7707752947361043, test: 1.0\n",
      "epoch 6\n"
     ]
    },
    {
     "name": "stderr",
     "output_type": "stream",
     "text": [
      "100%|██████████| 7/7 [00:00<00:00, 134.98it/s]\n"
     ]
    },
    {
     "name": "stdout",
     "output_type": "stream",
     "text": [
      "train mean loss=-1462.786376953125\n"
     ]
    },
    {
     "name": "stderr",
     "output_type": "stream",
     "text": [
      "100%|██████████| 3/3 [00:00<00:00, 501.31it/s]\n"
     ]
    },
    {
     "name": "stdout",
     "output_type": "stream",
     "text": [
      "test  mean loss=-2309.367146809896\n",
      "epoch: 7\n",
      "NDCG@100 | train: 0.7707752947361043, test: 1.0\n",
      "epoch 7\n"
     ]
    },
    {
     "name": "stderr",
     "output_type": "stream",
     "text": [
      "100%|██████████| 7/7 [00:00<00:00, 155.97it/s]\n"
     ]
    },
    {
     "name": "stdout",
     "output_type": "stream",
     "text": [
      "train mean loss=-1854.6349574497767\n"
     ]
    },
    {
     "name": "stderr",
     "output_type": "stream",
     "text": [
      "100%|██████████| 3/3 [00:00<00:00, 334.25it/s]\n"
     ]
    },
    {
     "name": "stdout",
     "output_type": "stream",
     "text": [
      "test  mean loss=-2947.952351888021\n",
      "epoch: 8\n",
      "NDCG@100 | train: 0.7707752947361043, test: 1.0\n",
      "epoch 8\n"
     ]
    },
    {
     "name": "stderr",
     "output_type": "stream",
     "text": [
      "100%|██████████| 7/7 [00:00<00:00, 149.34it/s]\n"
     ]
    },
    {
     "name": "stdout",
     "output_type": "stream",
     "text": [
      "train mean loss=-2364.9811488560267\n"
     ]
    },
    {
     "name": "stderr",
     "output_type": "stream",
     "text": [
      "100%|██████████| 3/3 [00:00<00:00, 429.69it/s]\n"
     ]
    },
    {
     "name": "stdout",
     "output_type": "stream",
     "text": [
      "test  mean loss=-3696.0313313802085\n",
      "epoch: 9\n",
      "NDCG@100 | train: 0.7707752947361043, test: 1.0\n",
      "epoch 9\n"
     ]
    },
    {
     "name": "stderr",
     "output_type": "stream",
     "text": [
      "100%|██████████| 7/7 [00:00<00:00, 127.61it/s]\n"
     ]
    },
    {
     "name": "stdout",
     "output_type": "stream",
     "text": [
      "train mean loss=-2946.1114501953125\n"
     ]
    },
    {
     "name": "stderr",
     "output_type": "stream",
     "text": [
      "100%|██████████| 3/3 [00:00<00:00, 501.57it/s]\n"
     ]
    },
    {
     "name": "stdout",
     "output_type": "stream",
     "text": [
      "test  mean loss=-4584.114420572917\n",
      "epoch: 10\n",
      "NDCG@100 | train: 0.7707752947361043, test: 1.0\n",
      "epoch 10\n"
     ]
    },
    {
     "name": "stderr",
     "output_type": "stream",
     "text": [
      "100%|██████████| 7/7 [00:00<00:00, 137.63it/s]\n"
     ]
    },
    {
     "name": "stdout",
     "output_type": "stream",
     "text": [
      "train mean loss=-3583.5559430803573\n"
     ]
    },
    {
     "name": "stderr",
     "output_type": "stream",
     "text": [
      "100%|██████████| 3/3 [00:00<00:00, 273.43it/s]\n"
     ]
    },
    {
     "name": "stdout",
     "output_type": "stream",
     "text": [
      "test  mean loss=-5638.462239583333\n",
      "epoch: 11\n",
      "NDCG@100 | train: 0.7707752947361043, test: 1.0\n",
      "save the model\n",
      "save the optimizer\n",
      "[[0.]\n",
      " [0.]\n",
      " [0.]\n",
      " [0.]\n",
      " [0.]\n",
      " [0.]\n",
      " [0.]\n",
      " [0.]\n",
      " [0.]\n",
      " [0.]]\n",
      "12\n",
      "load dataset\n",
      "The number of data, train: 8 validate: 4\n",
      "prepare initialized model!\n",
      "Start training and validation loop......\n",
      "epoch 1\n"
     ]
    },
    {
     "name": "stderr",
     "output_type": "stream",
     "text": [
      "100%|██████████| 8/8 [00:00<00:00, 148.54it/s]\n"
     ]
    },
    {
     "name": "stdout",
     "output_type": "stream",
     "text": [
      "train mean loss=-110.96406984329224\n"
     ]
    },
    {
     "name": "stderr",
     "output_type": "stream",
     "text": [
      "100%|██████████| 4/4 [00:00<00:00, 400.95it/s]\n"
     ]
    },
    {
     "name": "stdout",
     "output_type": "stream",
     "text": [
      "test  mean loss=-277.9148483276367\n",
      "epoch: 2\n",
      "NDCG@100 | train: 0.4857166554345574, test: 1.0\n",
      "epoch 2\n"
     ]
    },
    {
     "name": "stderr",
     "output_type": "stream",
     "text": [
      "100%|██████████| 8/8 [00:00<00:00, 167.11it/s]\n"
     ]
    },
    {
     "name": "stdout",
     "output_type": "stream",
     "text": [
      "train mean loss=-271.5434513092041\n"
     ]
    },
    {
     "name": "stderr",
     "output_type": "stream",
     "text": [
      "100%|██████████| 4/4 [00:00<00:00, 572.74it/s]\n"
     ]
    },
    {
     "name": "stdout",
     "output_type": "stream",
     "text": [
      "test  mean loss=-516.3958168029785\n",
      "epoch: 3\n",
      "NDCG@100 | train: 0.4857166554345574, test: 1.0\n",
      "epoch 3\n"
     ]
    },
    {
     "name": "stderr",
     "output_type": "stream",
     "text": [
      "100%|██████████| 8/8 [00:00<00:00, 121.51it/s]\n"
     ]
    },
    {
     "name": "stdout",
     "output_type": "stream",
     "text": [
      "train mean loss=-449.7357406616211\n"
     ]
    },
    {
     "name": "stderr",
     "output_type": "stream",
     "text": [
      "100%|██████████| 4/4 [00:00<00:00, 401.06it/s]\n"
     ]
    },
    {
     "name": "stdout",
     "output_type": "stream",
     "text": [
      "test  mean loss=-799.0195770263672\n",
      "epoch: 4\n",
      "NDCG@100 | train: 0.4857166554345574, test: 1.0\n",
      "epoch 4\n"
     ]
    },
    {
     "name": "stderr",
     "output_type": "stream",
     "text": [
      "100%|██████████| 8/8 [00:00<00:00, 119.51it/s]\n"
     ]
    },
    {
     "name": "stdout",
     "output_type": "stream",
     "text": [
      "train mean loss=-701.8896484375\n"
     ]
    },
    {
     "name": "stderr",
     "output_type": "stream",
     "text": [
      "100%|██████████| 4/4 [00:00<00:00, 286.40it/s]\n"
     ]
    },
    {
     "name": "stdout",
     "output_type": "stream",
     "text": [
      "test  mean loss=-1130.610481262207\n",
      "epoch: 5\n",
      "NDCG@100 | train: 0.4857166554345574, test: 1.0\n",
      "epoch 5\n"
     ]
    },
    {
     "name": "stderr",
     "output_type": "stream",
     "text": [
      "100%|██████████| 8/8 [00:00<00:00, 143.24it/s]\n"
     ]
    },
    {
     "name": "stdout",
     "output_type": "stream",
     "text": [
      "train mean loss=-963.5267219543457\n"
     ]
    },
    {
     "name": "stderr",
     "output_type": "stream",
     "text": [
      "100%|██████████| 4/4 [00:00<00:00, 401.15it/s]\n"
     ]
    },
    {
     "name": "stdout",
     "output_type": "stream",
     "text": [
      "test  mean loss=-1561.5583801269531\n",
      "epoch: 6\n",
      "NDCG@100 | train: 0.4857166554345574, test: 1.0\n",
      "epoch 6\n"
     ]
    },
    {
     "name": "stderr",
     "output_type": "stream",
     "text": [
      "100%|██████████| 8/8 [00:00<00:00, 160.43it/s]\n"
     ]
    },
    {
     "name": "stdout",
     "output_type": "stream",
     "text": [
      "train mean loss=-1285.9469451904297\n"
     ]
    },
    {
     "name": "stderr",
     "output_type": "stream",
     "text": [
      "100%|██████████| 4/4 [00:00<00:00, 572.87it/s]\n"
     ]
    },
    {
     "name": "stdout",
     "output_type": "stream",
     "text": [
      "test  mean loss=-2103.7037963867188\n",
      "epoch: 7\n",
      "NDCG@100 | train: 0.4857166554345574, test: 1.0\n",
      "epoch 7\n"
     ]
    },
    {
     "name": "stderr",
     "output_type": "stream",
     "text": [
      "100%|██████████| 8/8 [00:00<00:00, 133.69it/s]\n"
     ]
    },
    {
     "name": "stdout",
     "output_type": "stream",
     "text": [
      "train mean loss=-1754.4446640014648\n"
     ]
    },
    {
     "name": "stderr",
     "output_type": "stream",
     "text": [
      "100%|██████████| 4/4 [00:00<00:00, 364.63it/s]\n"
     ]
    },
    {
     "name": "stdout",
     "output_type": "stream",
     "text": [
      "test  mean loss=-2724.9681091308594\n",
      "epoch: 8\n",
      "NDCG@100 | train: 0.4857166554345574, test: 1.0\n",
      "epoch 8\n"
     ]
    },
    {
     "name": "stderr",
     "output_type": "stream",
     "text": [
      "100%|██████████| 8/8 [00:00<00:00, 148.54it/s]\n"
     ]
    },
    {
     "name": "stdout",
     "output_type": "stream",
     "text": [
      "train mean loss=-2261.449417114258\n"
     ]
    },
    {
     "name": "stderr",
     "output_type": "stream",
     "text": [
      "100%|██████████| 4/4 [00:00<00:00, 501.26it/s]\n"
     ]
    },
    {
     "name": "stdout",
     "output_type": "stream",
     "text": [
      "test  mean loss=-3495.133056640625\n",
      "epoch: 9\n",
      "NDCG@100 | train: 0.4857166554345574, test: 1.0\n",
      "epoch 9\n"
     ]
    },
    {
     "name": "stderr",
     "output_type": "stream",
     "text": [
      "100%|██████████| 8/8 [00:00<00:00, 174.38it/s]\n"
     ]
    },
    {
     "name": "stdout",
     "output_type": "stream",
     "text": [
      "train mean loss=-2870.1502075195312\n"
     ]
    },
    {
     "name": "stderr",
     "output_type": "stream",
     "text": [
      "100%|██████████| 4/4 [00:00<00:00, 499.23it/s]\n"
     ]
    },
    {
     "name": "stdout",
     "output_type": "stream",
     "text": [
      "test  mean loss=-4431.5908203125\n",
      "epoch: 10\n",
      "NDCG@100 | train: 0.4857166554345574, test: 1.0\n",
      "epoch 10\n"
     ]
    },
    {
     "name": "stderr",
     "output_type": "stream",
     "text": [
      "100%|██████████| 8/8 [00:00<00:00, 140.73it/s]\n"
     ]
    },
    {
     "name": "stdout",
     "output_type": "stream",
     "text": [
      "train mean loss=-3611.2455291748047\n"
     ]
    },
    {
     "name": "stderr",
     "output_type": "stream",
     "text": [
      "100%|██████████| 4/4 [00:00<00:00, 334.29it/s]\n"
     ]
    },
    {
     "name": "stdout",
     "output_type": "stream",
     "text": [
      "test  mean loss=-5534.659423828125\n",
      "epoch: 11\n",
      "NDCG@100 | train: 0.4857166554345574, test: 1.0\n",
      "save the model\n",
      "save the optimizer\n",
      "[[0.]\n",
      " [0.]\n",
      " [0.]\n",
      " [0.]\n",
      " [0.]\n",
      " [0.]\n",
      " [0.]\n",
      " [0.]\n",
      " [0.]\n",
      " [0.]\n",
      " [0.]\n",
      " [0.]]\n",
      "13\n",
      "load dataset\n",
      "The number of data, train: 9 validate: 4\n",
      "prepare initialized model!\n",
      "Start training and validation loop......\n",
      "epoch 1\n"
     ]
    },
    {
     "name": "stderr",
     "output_type": "stream",
     "text": [
      "100%|██████████| 9/9 [00:00<00:00, 145.55it/s]\n"
     ]
    },
    {
     "name": "stdout",
     "output_type": "stream",
     "text": [
      "train mean loss=-322.98433091905383\n"
     ]
    },
    {
     "name": "stderr",
     "output_type": "stream",
     "text": [
      "100%|██████████| 4/4 [00:00<00:00, 445.57it/s]\n"
     ]
    },
    {
     "name": "stdout",
     "output_type": "stream",
     "text": [
      "test  mean loss=-641.8280334472656\n",
      "epoch: 2\n",
      "NDCG@100 | train: 0.5458592973973324, test: 0.6265741489217626\n",
      "epoch 2\n"
     ]
    },
    {
     "name": "stderr",
     "output_type": "stream",
     "text": [
      "100%|██████████| 9/9 [00:00<00:00, 136.73it/s]\n"
     ]
    },
    {
     "name": "stdout",
     "output_type": "stream",
     "text": [
      "train mean loss=-784.9015808105469\n"
     ]
    },
    {
     "name": "stderr",
     "output_type": "stream",
     "text": [
      "100%|██████████| 4/4 [00:00<00:00, 445.57it/s]\n"
     ]
    },
    {
     "name": "stdout",
     "output_type": "stream",
     "text": [
      "test  mean loss=-1122.7593536376953\n",
      "epoch: 3\n",
      "NDCG@100 | train: 0.5458592973973324, test: 0.6265741489217626\n",
      "epoch 3\n"
     ]
    },
    {
     "name": "stderr",
     "output_type": "stream",
     "text": [
      "100%|██████████| 9/9 [00:00<00:00, 164.07it/s]\n"
     ]
    },
    {
     "name": "stdout",
     "output_type": "stream",
     "text": [
      "train mean loss=-1243.3375108506943\n"
     ]
    },
    {
     "name": "stderr",
     "output_type": "stream",
     "text": [
      "100%|██████████| 4/4 [00:00<00:00, 501.34it/s]\n"
     ]
    },
    {
     "name": "stdout",
     "output_type": "stream",
     "text": [
      "test  mean loss=-1689.6240844726562\n",
      "epoch: 4\n",
      "NDCG@100 | train: 0.5458592973973324, test: 0.6265741489217626\n",
      "epoch 4\n"
     ]
    },
    {
     "name": "stderr",
     "output_type": "stream",
     "text": [
      "100%|██████████| 9/9 [00:00<00:00, 154.23it/s]\n"
     ]
    },
    {
     "name": "stdout",
     "output_type": "stream",
     "text": [
      "train mean loss=-1829.2584364149307\n"
     ]
    },
    {
     "name": "stderr",
     "output_type": "stream",
     "text": [
      "100%|██████████| 4/4 [00:00<00:00, 668.20it/s]\n"
     ]
    },
    {
     "name": "stdout",
     "output_type": "stream",
     "text": [
      "test  mean loss=-2382.1503295898438\n",
      "epoch: 5\n",
      "NDCG@100 | train: 0.5458592973973324, test: 0.6265741489217626\n",
      "epoch 5\n"
     ]
    },
    {
     "name": "stderr",
     "output_type": "stream",
     "text": [
      "100%|██████████| 9/9 [00:00<00:00, 138.83it/s]\n"
     ]
    },
    {
     "name": "stdout",
     "output_type": "stream",
     "text": [
      "train mean loss=-2573.6578843858506\n"
     ]
    },
    {
     "name": "stderr",
     "output_type": "stream",
     "text": [
      "100%|██████████| 4/4 [00:00<00:00, 445.80it/s]\n"
     ]
    },
    {
     "name": "stdout",
     "output_type": "stream",
     "text": [
      "test  mean loss=-3237.2719116210938\n",
      "epoch: 6\n",
      "NDCG@100 | train: 0.5458592973973324, test: 0.6265741489217626\n",
      "epoch 6\n"
     ]
    },
    {
     "name": "stderr",
     "output_type": "stream",
     "text": [
      "100%|██████████| 9/9 [00:00<00:00, 143.24it/s]\n"
     ]
    },
    {
     "name": "stdout",
     "output_type": "stream",
     "text": [
      "train mean loss=-3416.7942165798613\n"
     ]
    },
    {
     "name": "stderr",
     "output_type": "stream",
     "text": [
      "100%|██████████| 4/4 [00:00<00:00, 401.02it/s]\n"
     ]
    },
    {
     "name": "stdout",
     "output_type": "stream",
     "text": [
      "test  mean loss=-4342.251159667969\n",
      "epoch: 7\n",
      "NDCG@100 | train: 0.5458592973973324, test: 0.6265741489217626\n",
      "epoch 7\n"
     ]
    },
    {
     "name": "stderr",
     "output_type": "stream",
     "text": [
      "100%|██████████| 9/9 [00:00<00:00, 130.72it/s]\n"
     ]
    },
    {
     "name": "stdout",
     "output_type": "stream",
     "text": [
      "train mean loss=-4538.299669053819\n"
     ]
    },
    {
     "name": "stderr",
     "output_type": "stream",
     "text": [
      "100%|██████████| 4/4 [00:00<00:00, 334.27it/s]\n"
     ]
    },
    {
     "name": "stdout",
     "output_type": "stream",
     "text": [
      "test  mean loss=-5701.8939208984375\n",
      "epoch: 8\n",
      "NDCG@100 | train: 0.5458592973973324, test: 0.6265741489217626\n",
      "epoch 8\n"
     ]
    },
    {
     "name": "stderr",
     "output_type": "stream",
     "text": [
      "100%|██████████| 9/9 [00:00<00:00, 158.31it/s]\n"
     ]
    },
    {
     "name": "stdout",
     "output_type": "stream",
     "text": [
      "train mean loss=-5918.498752170139\n"
     ]
    },
    {
     "name": "stderr",
     "output_type": "stream",
     "text": [
      "100%|██████████| 4/4 [00:00<00:00, 401.06it/s]\n"
     ]
    },
    {
     "name": "stdout",
     "output_type": "stream",
     "text": [
      "test  mean loss=-7339.331298828125\n",
      "epoch: 9\n",
      "NDCG@100 | train: 0.5458592973973324, test: 0.6265741489217626\n",
      "epoch 9\n"
     ]
    },
    {
     "name": "stderr",
     "output_type": "stream",
     "text": [
      "100%|██████████| 9/9 [00:00<00:00, 152.94it/s]\n"
     ]
    },
    {
     "name": "stdout",
     "output_type": "stream",
     "text": [
      "train mean loss=-7615.784749348958\n"
     ]
    },
    {
     "name": "stderr",
     "output_type": "stream",
     "text": [
      "100%|██████████| 4/4 [00:00<00:00, 668.52it/s]\n"
     ]
    },
    {
     "name": "stdout",
     "output_type": "stream",
     "text": [
      "test  mean loss=-9291.847045898438\n",
      "epoch: 10\n",
      "NDCG@100 | train: 0.5458592973973324, test: 0.6265741489217626\n",
      "epoch 10\n"
     ]
    },
    {
     "name": "stderr",
     "output_type": "stream",
     "text": [
      "100%|██████████| 9/9 [00:00<00:00, 163.80it/s]\n"
     ]
    },
    {
     "name": "stdout",
     "output_type": "stream",
     "text": [
      "train mean loss=-9580.475260416666\n"
     ]
    },
    {
     "name": "stderr",
     "output_type": "stream",
     "text": [
      "100%|██████████| 4/4 [00:00<00:00, 501.37it/s]\n"
     ]
    },
    {
     "name": "stdout",
     "output_type": "stream",
     "text": [
      "test  mean loss=-11645.537109375\n",
      "epoch: 11\n",
      "NDCG@100 | train: 0.5458592973973324, test: 0.6265741489217626\n",
      "save the model\n",
      "save the optimizer\n",
      "[[0.]\n",
      " [0.]\n",
      " [0.]\n",
      " [0.]\n",
      " [0.]\n",
      " [0.]\n",
      " [0.]\n",
      " [0.]\n",
      " [0.]\n",
      " [0.]\n",
      " [0.]\n",
      " [0.]\n",
      " [0.]]\n",
      "57 ricerca di merda\n",
      "58 ricerca di merda\n",
      "10\n",
      "load dataset\n",
      "The number of data, train: 7 validate: 3\n",
      "prepare initialized model!\n",
      "Start training and validation loop......\n",
      "epoch 1\n"
     ]
    },
    {
     "name": "stderr",
     "output_type": "stream",
     "text": [
      "100%|██████████| 7/7 [00:00<00:00, 120.92it/s]\n"
     ]
    },
    {
     "name": "stdout",
     "output_type": "stream",
     "text": [
      "train mean loss=-404.96236746651783\n"
     ]
    },
    {
     "name": "stderr",
     "output_type": "stream",
     "text": [
      "100%|██████████| 3/3 [00:00<00:00, 375.96it/s]\n"
     ]
    },
    {
     "name": "stdout",
     "output_type": "stream",
     "text": [
      "test  mean loss=-687.0377400716146\n",
      "epoch: 2\n",
      "NDCG@100 | train: 0.33551360884406234, test: 0.8213137146137828\n",
      "epoch 2\n"
     ]
    },
    {
     "name": "stderr",
     "output_type": "stream",
     "text": [
      "100%|██████████| 7/7 [00:00<00:00, 118.97it/s]\n"
     ]
    },
    {
     "name": "stdout",
     "output_type": "stream",
     "text": [
      "train mean loss=-1077.3616027832031\n"
     ]
    },
    {
     "name": "stderr",
     "output_type": "stream",
     "text": [
      "100%|██████████| 3/3 [00:00<00:00, 375.93it/s]\n"
     ]
    },
    {
     "name": "stdout",
     "output_type": "stream",
     "text": [
      "test  mean loss=-1178.5054117838542\n",
      "epoch: 3\n",
      "NDCG@100 | train: 0.33551360884406234, test: 0.8213137146137828\n",
      "epoch 3\n"
     ]
    },
    {
     "name": "stderr",
     "output_type": "stream",
     "text": [
      "100%|██████████| 7/7 [00:00<00:00, 149.34it/s]\n"
     ]
    },
    {
     "name": "stdout",
     "output_type": "stream",
     "text": [
      "train mean loss=-1658.23051234654\n"
     ]
    },
    {
     "name": "stderr",
     "output_type": "stream",
     "text": [
      "100%|██████████| 3/3 [00:00<00:00, 429.73it/s]\n"
     ]
    },
    {
     "name": "stdout",
     "output_type": "stream",
     "text": [
      "test  mean loss=-1731.9112548828125\n",
      "epoch: 4\n",
      "NDCG@100 | train: 0.33551360884406234, test: 0.8213137146137828\n",
      "epoch 4\n"
     ]
    },
    {
     "name": "stderr",
     "output_type": "stream",
     "text": [
      "100%|██████████| 7/7 [00:00<00:00, 149.33it/s]\n"
     ]
    },
    {
     "name": "stdout",
     "output_type": "stream",
     "text": [
      "train mean loss=-2407.70849609375\n"
     ]
    },
    {
     "name": "stderr",
     "output_type": "stream",
     "text": [
      "100%|██████████| 3/3 [00:00<00:00, 375.83it/s]\n"
     ]
    },
    {
     "name": "stdout",
     "output_type": "stream",
     "text": [
      "test  mean loss=-2384.9695638020835\n",
      "epoch: 5\n",
      "NDCG@100 | train: 0.33551360884406234, test: 0.8213137146137828\n",
      "epoch 5\n"
     ]
    },
    {
     "name": "stderr",
     "output_type": "stream",
     "text": [
      "100%|██████████| 7/7 [00:00<00:00, 132.43it/s]\n"
     ]
    },
    {
     "name": "stdout",
     "output_type": "stream",
     "text": [
      "train mean loss=-3228.9727957589284\n"
     ]
    },
    {
     "name": "stderr",
     "output_type": "stream",
     "text": [
      "100%|██████████| 3/3 [00:00<00:00, 429.70it/s]\n"
     ]
    },
    {
     "name": "stdout",
     "output_type": "stream",
     "text": [
      "test  mean loss=-3187.5255533854165\n",
      "epoch: 6\n",
      "NDCG@100 | train: 0.33551360884406234, test: 0.8213137146137828\n",
      "epoch 6\n"
     ]
    },
    {
     "name": "stderr",
     "output_type": "stream",
     "text": [
      "100%|██████████| 7/7 [00:00<00:00, 143.24it/s]\n"
     ]
    },
    {
     "name": "stdout",
     "output_type": "stream",
     "text": [
      "train mean loss=-4230.431082589285\n"
     ]
    },
    {
     "name": "stderr",
     "output_type": "stream",
     "text": [
      "100%|██████████| 3/3 [00:00<00:00, 376.15it/s]\n"
     ]
    },
    {
     "name": "stdout",
     "output_type": "stream",
     "text": [
      "test  mean loss=-4143.370198567708\n",
      "epoch: 7\n",
      "NDCG@100 | train: 0.33551360884406234, test: 0.8213137146137828\n",
      "epoch 7\n"
     ]
    },
    {
     "name": "stderr",
     "output_type": "stream",
     "text": [
      "100%|██████████| 7/7 [00:00<00:00, 189.70it/s]\n"
     ]
    },
    {
     "name": "stdout",
     "output_type": "stream",
     "text": [
      "train mean loss=-5473.672154017857\n"
     ]
    },
    {
     "name": "stderr",
     "output_type": "stream",
     "text": [
      "100%|██████████| 3/3 [00:00<00:00, 429.99it/s]\n"
     ]
    },
    {
     "name": "stdout",
     "output_type": "stream",
     "text": [
      "test  mean loss=-5262.680338541667\n",
      "epoch: 8\n",
      "NDCG@100 | train: 0.33551360884406234, test: 0.8213137146137828\n",
      "epoch 8\n"
     ]
    },
    {
     "name": "stderr",
     "output_type": "stream",
     "text": [
      "100%|██████████| 7/7 [00:00<00:00, 129.90it/s]\n"
     ]
    },
    {
     "name": "stdout",
     "output_type": "stream",
     "text": [
      "train mean loss=-6979.010219029018\n"
     ]
    },
    {
     "name": "stderr",
     "output_type": "stream",
     "text": [
      "100%|██████████| 3/3 [00:00<00:00, 429.71it/s]\n"
     ]
    },
    {
     "name": "stdout",
     "output_type": "stream",
     "text": [
      "test  mean loss=-6575.296549479167\n",
      "epoch: 9\n",
      "NDCG@100 | train: 0.33551360884406234, test: 0.8213137146137828\n",
      "epoch 9\n"
     ]
    },
    {
     "name": "stderr",
     "output_type": "stream",
     "text": [
      "100%|██████████| 7/7 [00:00<00:00, 175.47it/s]\n"
     ]
    },
    {
     "name": "stdout",
     "output_type": "stream",
     "text": [
      "train mean loss=-8493.11000279018\n"
     ]
    },
    {
     "name": "stderr",
     "output_type": "stream",
     "text": [
      "100%|██████████| 3/3 [00:00<00:00, 501.33it/s]\n"
     ]
    },
    {
     "name": "stdout",
     "output_type": "stream",
     "text": [
      "test  mean loss=-8205.8955078125\n",
      "epoch: 10\n",
      "NDCG@100 | train: 0.33551360884406234, test: 0.8213137146137828\n",
      "epoch 10\n"
     ]
    },
    {
     "name": "stderr",
     "output_type": "stream",
     "text": [
      "100%|██████████| 7/7 [00:00<00:00, 137.62it/s]\n"
     ]
    },
    {
     "name": "stdout",
     "output_type": "stream",
     "text": [
      "train mean loss=-10681.958984375\n"
     ]
    },
    {
     "name": "stderr",
     "output_type": "stream",
     "text": [
      "100%|██████████| 3/3 [00:00<00:00, 429.74it/s]\n"
     ]
    },
    {
     "name": "stdout",
     "output_type": "stream",
     "text": [
      "test  mean loss=-10034.30859375\n",
      "epoch: 11\n",
      "NDCG@100 | train: 0.33551360884406234, test: 0.8213137146137828\n",
      "save the model\n",
      "save the optimizer\n",
      "[[0.]\n",
      " [0.]\n",
      " [0.]\n",
      " [0.]\n",
      " [0.]\n",
      " [0.]\n",
      " [0.]\n",
      " [0.]\n",
      " [0.]\n",
      " [0.]]\n",
      "13\n",
      "load dataset\n",
      "The number of data, train: 9 validate: 4\n",
      "prepare initialized model!\n",
      "Start training and validation loop......\n",
      "epoch 1\n"
     ]
    },
    {
     "name": "stderr",
     "output_type": "stream",
     "text": [
      "100%|██████████| 9/9 [00:00<00:00, 128.91it/s]\n"
     ]
    },
    {
     "name": "stdout",
     "output_type": "stream",
     "text": [
      "train mean loss=-192.47910181681314\n"
     ]
    },
    {
     "name": "stderr",
     "output_type": "stream",
     "text": [
      "100%|██████████| 4/4 [00:00<00:00, 445.53it/s]\n"
     ]
    },
    {
     "name": "stdout",
     "output_type": "stream",
     "text": [
      "test  mean loss=-404.1614303588867\n",
      "epoch: 2\n",
      "NDCG@100 | train: 0.4994360255757264, test: 0.6423966813753075\n",
      "epoch 2\n"
     ]
    },
    {
     "name": "stderr",
     "output_type": "stream",
     "text": [
      "100%|██████████| 9/9 [00:00<00:00, 143.24it/s]\n"
     ]
    },
    {
     "name": "stdout",
     "output_type": "stream",
     "text": [
      "train mean loss=-502.35211859809027\n"
     ]
    },
    {
     "name": "stderr",
     "output_type": "stream",
     "text": [
      "100%|██████████| 4/4 [00:00<00:00, 445.76it/s]\n"
     ]
    },
    {
     "name": "stdout",
     "output_type": "stream",
     "text": [
      "test  mean loss=-712.8229522705078\n",
      "epoch: 3\n",
      "NDCG@100 | train: 0.4994360255757264, test: 0.6423966813753075\n",
      "epoch 3\n"
     ]
    },
    {
     "name": "stderr",
     "output_type": "stream",
     "text": [
      "100%|██████████| 9/9 [00:00<00:00, 125.35it/s]\n"
     ]
    },
    {
     "name": "stdout",
     "output_type": "stream",
     "text": [
      "train mean loss=-794.7932908799913\n"
     ]
    },
    {
     "name": "stderr",
     "output_type": "stream",
     "text": [
      "100%|██████████| 4/4 [00:00<00:00, 334.19it/s]\n"
     ]
    },
    {
     "name": "stdout",
     "output_type": "stream",
     "text": [
      "test  mean loss=-1075.6165466308594\n",
      "epoch: 4\n",
      "NDCG@100 | train: 0.4994360255757264, test: 0.6423966813753075\n",
      "epoch 4\n"
     ]
    },
    {
     "name": "stderr",
     "output_type": "stream",
     "text": [
      "100%|██████████| 9/9 [00:00<00:00, 158.31it/s]\n"
     ]
    },
    {
     "name": "stdout",
     "output_type": "stream",
     "text": [
      "train mean loss=-1177.184129503038\n"
     ]
    },
    {
     "name": "stderr",
     "output_type": "stream",
     "text": [
      "100%|██████████| 4/4 [00:00<00:00, 499.26it/s]\n"
     ]
    },
    {
     "name": "stdout",
     "output_type": "stream",
     "text": [
      "test  mean loss=-1525.7613220214844\n",
      "epoch: 5\n",
      "NDCG@100 | train: 0.4994360255757264, test: 0.6423966813753075\n",
      "epoch 5\n"
     ]
    },
    {
     "name": "stderr",
     "output_type": "stream",
     "text": [
      "100%|██████████| 9/9 [00:00<00:00, 136.72it/s]\n"
     ]
    },
    {
     "name": "stdout",
     "output_type": "stream",
     "text": [
      "train mean loss=-1629.3976372612847\n"
     ]
    },
    {
     "name": "stderr",
     "output_type": "stream",
     "text": [
      "100%|██████████| 4/4 [00:00<00:00, 501.35it/s]\n"
     ]
    },
    {
     "name": "stdout",
     "output_type": "stream",
     "text": [
      "test  mean loss=-2094.9244384765625\n",
      "epoch: 6\n",
      "NDCG@100 | train: 0.4994360255757264, test: 0.6423966813753075\n",
      "epoch 6\n"
     ]
    },
    {
     "name": "stderr",
     "output_type": "stream",
     "text": [
      "100%|██████████| 9/9 [00:00<00:00, 110.05it/s]\n"
     ]
    },
    {
     "name": "stdout",
     "output_type": "stream",
     "text": [
      "train mean loss=-2200.828816731771\n"
     ]
    },
    {
     "name": "stderr",
     "output_type": "stream",
     "text": [
      "100%|██████████| 4/4 [00:00<00:00, 572.76it/s]\n"
     ]
    },
    {
     "name": "stdout",
     "output_type": "stream",
     "text": [
      "test  mean loss=-2798.5255737304688\n",
      "epoch: 7\n",
      "NDCG@100 | train: 0.4994360255757264, test: 0.6423966813753075\n",
      "epoch 7\n"
     ]
    },
    {
     "name": "stderr",
     "output_type": "stream",
     "text": [
      "100%|██████████| 9/9 [00:00<00:00, 114.23it/s]\n"
     ]
    },
    {
     "name": "stdout",
     "output_type": "stream",
     "text": [
      "train mean loss=-2928.188761393229\n"
     ]
    },
    {
     "name": "stderr",
     "output_type": "stream",
     "text": [
      "100%|██████████| 4/4 [00:00<00:00, 445.94it/s]\n"
     ]
    },
    {
     "name": "stdout",
     "output_type": "stream",
     "text": [
      "test  mean loss=-3652.4390869140625\n",
      "epoch: 8\n",
      "NDCG@100 | train: 0.4994360255757264, test: 0.6423966813753075\n",
      "epoch 8\n"
     ]
    },
    {
     "name": "stderr",
     "output_type": "stream",
     "text": [
      "100%|██████████| 9/9 [00:00<00:00, 112.80it/s]\n"
     ]
    },
    {
     "name": "stdout",
     "output_type": "stream",
     "text": [
      "train mean loss=-3781.9127061631943\n"
     ]
    },
    {
     "name": "stderr",
     "output_type": "stream",
     "text": [
      "100%|██████████| 4/4 [00:00<00:00, 308.58it/s]\n"
     ]
    },
    {
     "name": "stdout",
     "output_type": "stream",
     "text": [
      "test  mean loss=-4698.240417480469\n",
      "epoch: 9\n",
      "NDCG@100 | train: 0.4994360255757264, test: 0.6423966813753075\n",
      "epoch 9\n"
     ]
    },
    {
     "name": "stderr",
     "output_type": "stream",
     "text": [
      "100%|██████████| 9/9 [00:00<00:00, 141.00it/s]\n"
     ]
    },
    {
     "name": "stdout",
     "output_type": "stream",
     "text": [
      "train mean loss=-4846.453884548611\n"
     ]
    },
    {
     "name": "stderr",
     "output_type": "stream",
     "text": [
      "100%|██████████| 4/4 [00:00<00:00, 401.03it/s]\n"
     ]
    },
    {
     "name": "stdout",
     "output_type": "stream",
     "text": [
      "test  mean loss=-5937.0909423828125\n",
      "epoch: 10\n",
      "NDCG@100 | train: 0.4994360255757264, test: 0.6423966813753075\n",
      "epoch 10\n"
     ]
    },
    {
     "name": "stderr",
     "output_type": "stream",
     "text": [
      "100%|██████████| 9/9 [00:00<00:00, 123.62it/s]\n"
     ]
    },
    {
     "name": "stdout",
     "output_type": "stream",
     "text": [
      "train mean loss=-6087.800265842014\n"
     ]
    },
    {
     "name": "stderr",
     "output_type": "stream",
     "text": [
      "100%|██████████| 4/4 [00:00<00:00, 364.67it/s]\n"
     ]
    },
    {
     "name": "stdout",
     "output_type": "stream",
     "text": [
      "test  mean loss=-7412.5247802734375\n",
      "epoch: 11\n",
      "NDCG@100 | train: 0.4994360255757264, test: 0.6423966813753075\n",
      "save the model\n",
      "save the optimizer\n",
      "[[0.]\n",
      " [0.]\n",
      " [0.]\n",
      " [0.]\n",
      " [0.]\n",
      " [0.]\n",
      " [0.]\n",
      " [0.]\n",
      " [0.]\n",
      " [0.]\n",
      " [0.]\n",
      " [0.]\n",
      " [0.]]\n",
      "11\n",
      "load dataset\n",
      "The number of data, train: 7 validate: 4\n",
      "prepare initialized model!\n",
      "Start training and validation loop......\n",
      "epoch 1\n"
     ]
    },
    {
     "name": "stderr",
     "output_type": "stream",
     "text": [
      "100%|██████████| 7/7 [00:00<00:00, 149.33it/s]\n"
     ]
    },
    {
     "name": "stdout",
     "output_type": "stream",
     "text": [
      "train mean loss=-120.17793192182269\n"
     ]
    },
    {
     "name": "stderr",
     "output_type": "stream",
     "text": [
      "100%|██████████| 4/4 [00:00<00:00, 668.31it/s]\n"
     ]
    },
    {
     "name": "stdout",
     "output_type": "stream",
     "text": [
      "test  mean loss=-222.37299728393555\n",
      "epoch: 2\n",
      "NDCG@100 | train: 1.0, test: 1.0\n",
      "epoch 2\n"
     ]
    },
    {
     "name": "stderr",
     "output_type": "stream",
     "text": [
      "100%|██████████| 7/7 [00:00<00:00, 206.44it/s]\n"
     ]
    },
    {
     "name": "stdout",
     "output_type": "stream",
     "text": [
      "train mean loss=-290.1050327845982\n"
     ]
    },
    {
     "name": "stderr",
     "output_type": "stream",
     "text": [
      "100%|██████████| 4/4 [00:00<00:00, 401.14it/s]\n"
     ]
    },
    {
     "name": "stdout",
     "output_type": "stream",
     "text": [
      "test  mean loss=-379.630126953125\n",
      "epoch: 3\n",
      "NDCG@100 | train: 1.0, test: 1.0\n",
      "epoch 3\n"
     ]
    },
    {
     "name": "stderr",
     "output_type": "stream",
     "text": [
      "100%|██████████| 7/7 [00:00<00:00, 212.69it/s]\n"
     ]
    },
    {
     "name": "stdout",
     "output_type": "stream",
     "text": [
      "train mean loss=-469.55125209263394\n"
     ]
    },
    {
     "name": "stderr",
     "output_type": "stream",
     "text": [
      "100%|██████████| 4/4 [00:00<00:00, 401.12it/s]\n"
     ]
    },
    {
     "name": "stdout",
     "output_type": "stream",
     "text": [
      "test  mean loss=-554.7449035644531\n",
      "epoch: 4\n",
      "NDCG@100 | train: 1.0, test: 1.0\n",
      "epoch 4\n"
     ]
    },
    {
     "name": "stderr",
     "output_type": "stream",
     "text": [
      "100%|██████████| 7/7 [00:00<00:00, 159.51it/s]\n"
     ]
    },
    {
     "name": "stdout",
     "output_type": "stream",
     "text": [
      "train mean loss=-642.8429609026227\n"
     ]
    },
    {
     "name": "stderr",
     "output_type": "stream",
     "text": [
      "100%|██████████| 4/4 [00:00<00:00, 445.60it/s]\n"
     ]
    },
    {
     "name": "stdout",
     "output_type": "stream",
     "text": [
      "test  mean loss=-763.6902236938477\n",
      "epoch: 5\n",
      "NDCG@100 | train: 1.0, test: 1.0\n",
      "epoch 5\n"
     ]
    },
    {
     "name": "stderr",
     "output_type": "stream",
     "text": [
      "100%|██████████| 7/7 [00:00<00:00, 206.45it/s]\n"
     ]
    },
    {
     "name": "stdout",
     "output_type": "stream",
     "text": [
      "train mean loss=-874.0569283621652\n"
     ]
    },
    {
     "name": "stderr",
     "output_type": "stream",
     "text": [
      "100%|██████████| 4/4 [00:00<00:00, 501.43it/s]\n"
     ]
    },
    {
     "name": "stdout",
     "output_type": "stream",
     "text": [
      "test  mean loss=-1001.7099914550781\n",
      "epoch: 6\n",
      "NDCG@100 | train: 1.0, test: 1.0\n",
      "epoch 6\n"
     ]
    },
    {
     "name": "stderr",
     "output_type": "stream",
     "text": [
      "100%|██████████| 7/7 [00:00<00:00, 167.12it/s]\n"
     ]
    },
    {
     "name": "stdout",
     "output_type": "stream",
     "text": [
      "train mean loss=-1110.9981340680804\n"
     ]
    },
    {
     "name": "stderr",
     "output_type": "stream",
     "text": [
      "100%|██████████| 4/4 [00:00<00:00, 445.55it/s]\n"
     ]
    },
    {
     "name": "stdout",
     "output_type": "stream",
     "text": [
      "test  mean loss=-1287.8466796875\n",
      "epoch: 7\n",
      "NDCG@100 | train: 1.0, test: 1.0\n",
      "epoch 7\n"
     ]
    },
    {
     "name": "stderr",
     "output_type": "stream",
     "text": [
      "100%|██████████| 7/7 [00:00<00:00, 163.23it/s]\n"
     ]
    },
    {
     "name": "stdout",
     "output_type": "stream",
     "text": [
      "train mean loss=-1447.4679391043526\n"
     ]
    },
    {
     "name": "stderr",
     "output_type": "stream",
     "text": [
      "100%|██████████| 4/4 [00:00<00:00, 445.59it/s]\n"
     ]
    },
    {
     "name": "stdout",
     "output_type": "stream",
     "text": [
      "test  mean loss=-1609.0167236328125\n",
      "epoch: 8\n",
      "NDCG@100 | train: 1.0, test: 1.0\n",
      "epoch 8\n"
     ]
    },
    {
     "name": "stderr",
     "output_type": "stream",
     "text": [
      "100%|██████████| 7/7 [00:00<00:00, 171.19it/s]\n"
     ]
    },
    {
     "name": "stdout",
     "output_type": "stream",
     "text": [
      "train mean loss=-1808.6604178292412\n"
     ]
    },
    {
     "name": "stderr",
     "output_type": "stream",
     "text": [
      "100%|██████████| 4/4 [00:00<00:00, 445.75it/s]\n"
     ]
    },
    {
     "name": "stdout",
     "output_type": "stream",
     "text": [
      "test  mean loss=-1987.2943725585938\n",
      "epoch: 9\n",
      "NDCG@100 | train: 1.0, test: 1.0\n",
      "epoch 9\n"
     ]
    },
    {
     "name": "stderr",
     "output_type": "stream",
     "text": [
      "100%|██████████| 7/7 [00:00<00:00, 163.23it/s]\n"
     ]
    },
    {
     "name": "stdout",
     "output_type": "stream",
     "text": [
      "train mean loss=-2189.034685407366\n"
     ]
    },
    {
     "name": "stderr",
     "output_type": "stream",
     "text": [
      "100%|██████████| 4/4 [00:00<00:00, 445.66it/s]\n"
     ]
    },
    {
     "name": "stdout",
     "output_type": "stream",
     "text": [
      "test  mean loss=-2443.084716796875\n",
      "epoch: 10\n",
      "NDCG@100 | train: 1.0, test: 1.0\n",
      "epoch 10\n"
     ]
    },
    {
     "name": "stderr",
     "output_type": "stream",
     "text": [
      "100%|██████████| 7/7 [00:00<00:00, 167.12it/s]\n"
     ]
    },
    {
     "name": "stdout",
     "output_type": "stream",
     "text": [
      "train mean loss=-2641.2851039341517\n"
     ]
    },
    {
     "name": "stderr",
     "output_type": "stream",
     "text": [
      "100%|██████████| 4/4 [00:00<00:00, 668.57it/s]\n"
     ]
    },
    {
     "name": "stdout",
     "output_type": "stream",
     "text": [
      "test  mean loss=-2969.261962890625\n",
      "epoch: 11\n",
      "NDCG@100 | train: 1.0, test: 1.0\n",
      "save the model\n",
      "save the optimizer\n",
      "[[0.]\n",
      " [0.]\n",
      " [0.]\n",
      " [0.]\n",
      " [0.]\n",
      " [0.]\n",
      " [0.]\n",
      " [0.]\n",
      " [0.]\n",
      " [0.]\n",
      " [0.]]\n",
      "13\n",
      "load dataset\n",
      "The number of data, train: 9 validate: 4\n",
      "prepare initialized model!\n",
      "Start training and validation loop......\n",
      "epoch 1\n"
     ]
    },
    {
     "name": "stderr",
     "output_type": "stream",
     "text": [
      "100%|██████████| 9/9 [00:00<00:00, 192.00it/s]\n"
     ]
    },
    {
     "name": "stdout",
     "output_type": "stream",
     "text": [
      "train mean loss=-208.00606197781033\n"
     ]
    },
    {
     "name": "stderr",
     "output_type": "stream",
     "text": [
      "100%|██████████| 4/4 [00:00<00:00, 401.05it/s]\n"
     ]
    },
    {
     "name": "stdout",
     "output_type": "stream",
     "text": [
      "test  mean loss=-429.5543975830078\n",
      "epoch: 2\n",
      "NDCG@100 | train: 0.6114669898314103, test: 0.5212568525300548\n",
      "epoch 2\n"
     ]
    },
    {
     "name": "stderr",
     "output_type": "stream",
     "text": [
      "100%|██████████| 9/9 [00:00<00:00, 145.55it/s]\n"
     ]
    },
    {
     "name": "stdout",
     "output_type": "stream",
     "text": [
      "train mean loss=-575.8474375406901\n"
     ]
    },
    {
     "name": "stderr",
     "output_type": "stream",
     "text": [
      "100%|██████████| 4/4 [00:00<00:00, 444.96it/s]\n"
     ]
    },
    {
     "name": "stdout",
     "output_type": "stream",
     "text": [
      "test  mean loss=-809.2481918334961\n",
      "epoch: 3\n",
      "NDCG@100 | train: 0.6114669898314103, test: 0.5212568525300548\n",
      "epoch 3\n"
     ]
    },
    {
     "name": "stderr",
     "output_type": "stream",
     "text": [
      "100%|██████████| 9/9 [00:00<00:00, 200.53it/s]\n"
     ]
    },
    {
     "name": "stdout",
     "output_type": "stream",
     "text": [
      "train mean loss=-931.8234049479166\n"
     ]
    },
    {
     "name": "stderr",
     "output_type": "stream",
     "text": [
      "100%|██████████| 4/4 [00:00<00:00, 445.69it/s]\n"
     ]
    },
    {
     "name": "stdout",
     "output_type": "stream",
     "text": [
      "test  mean loss=-1218.4706115722656\n",
      "epoch: 4\n",
      "NDCG@100 | train: 0.6114669898314103, test: 0.5212568525300548\n",
      "epoch 4\n"
     ]
    },
    {
     "name": "stderr",
     "output_type": "stream",
     "text": [
      "100%|██████████| 9/9 [00:00<00:00, 161.15it/s]\n"
     ]
    },
    {
     "name": "stdout",
     "output_type": "stream",
     "text": [
      "train mean loss=-1368.9815538194443\n"
     ]
    },
    {
     "name": "stderr",
     "output_type": "stream",
     "text": [
      "100%|██████████| 4/4 [00:00<00:00, 443.95it/s]\n"
     ]
    },
    {
     "name": "stdout",
     "output_type": "stream",
     "text": [
      "test  mean loss=-1714.0343017578125\n",
      "epoch: 5\n",
      "NDCG@100 | train: 0.6114669898314103, test: 0.5212568525300548\n",
      "epoch 5\n"
     ]
    },
    {
     "name": "stderr",
     "output_type": "stream",
     "text": [
      "100%|██████████| 9/9 [00:00<00:00, 176.83it/s]\n"
     ]
    },
    {
     "name": "stdout",
     "output_type": "stream",
     "text": [
      "train mean loss=-1946.9789699978298\n"
     ]
    },
    {
     "name": "stderr",
     "output_type": "stream",
     "text": [
      "100%|██████████| 4/4 [00:00<00:00, 334.28it/s]\n"
     ]
    },
    {
     "name": "stdout",
     "output_type": "stream",
     "text": [
      "test  mean loss=-2290.053741455078\n",
      "epoch: 6\n",
      "NDCG@100 | train: 0.6114669898314103, test: 0.5212568525300548\n",
      "epoch 6\n"
     ]
    },
    {
     "name": "stderr",
     "output_type": "stream",
     "text": [
      "100%|██████████| 9/9 [00:00<00:00, 180.48it/s]\n"
     ]
    },
    {
     "name": "stdout",
     "output_type": "stream",
     "text": [
      "train mean loss=-2465.4116482204863\n"
     ]
    },
    {
     "name": "stderr",
     "output_type": "stream",
     "text": [
      "100%|██████████| 4/4 [00:00<00:00, 364.63it/s]\n"
     ]
    },
    {
     "name": "stdout",
     "output_type": "stream",
     "text": [
      "test  mean loss=-3071.0639038085938\n",
      "epoch: 7\n",
      "NDCG@100 | train: 0.6114669898314103, test: 0.5212568525300548\n",
      "epoch 7\n"
     ]
    },
    {
     "name": "stderr",
     "output_type": "stream",
     "text": [
      "100%|██████████| 9/9 [00:00<00:00, 188.01it/s]\n"
     ]
    },
    {
     "name": "stdout",
     "output_type": "stream",
     "text": [
      "train mean loss=-3281.105278862847\n"
     ]
    },
    {
     "name": "stderr",
     "output_type": "stream",
     "text": [
      "100%|██████████| 4/4 [00:00<00:00, 572.91it/s]\n"
     ]
    },
    {
     "name": "stdout",
     "output_type": "stream",
     "text": [
      "test  mean loss=-3958.39990234375\n",
      "epoch: 8\n",
      "NDCG@100 | train: 0.6114669898314103, test: 0.5212568525300548\n",
      "epoch 8\n"
     ]
    },
    {
     "name": "stderr",
     "output_type": "stream",
     "text": [
      "100%|██████████| 9/9 [00:00<00:00, 187.87it/s]\n"
     ]
    },
    {
     "name": "stdout",
     "output_type": "stream",
     "text": [
      "train mean loss=-4276.654798719618\n"
     ]
    },
    {
     "name": "stderr",
     "output_type": "stream",
     "text": [
      "100%|██████████| 4/4 [00:00<00:00, 668.41it/s]\n"
     ]
    },
    {
     "name": "stdout",
     "output_type": "stream",
     "text": [
      "test  mean loss=-4984.231384277344\n",
      "epoch: 9\n",
      "NDCG@100 | train: 0.6114669898314103, test: 0.5212568525300548\n",
      "epoch 9\n"
     ]
    },
    {
     "name": "stderr",
     "output_type": "stream",
     "text": [
      "100%|██████████| 9/9 [00:00<00:00, 188.00it/s]\n"
     ]
    },
    {
     "name": "stdout",
     "output_type": "stream",
     "text": [
      "train mean loss=-5325.764133029514\n"
     ]
    },
    {
     "name": "stderr",
     "output_type": "stream",
     "text": [
      "100%|██████████| 4/4 [00:00<00:00, 572.93it/s]\n"
     ]
    },
    {
     "name": "stdout",
     "output_type": "stream",
     "text": [
      "test  mean loss=-6248.839538574219\n",
      "epoch: 10\n",
      "NDCG@100 | train: 0.6114669898314103, test: 0.5212568525300548\n",
      "epoch 10\n"
     ]
    },
    {
     "name": "stderr",
     "output_type": "stream",
     "text": [
      "100%|██████████| 9/9 [00:00<00:00, 170.27it/s]\n"
     ]
    },
    {
     "name": "stdout",
     "output_type": "stream",
     "text": [
      "train mean loss=-6633.811062282986\n"
     ]
    },
    {
     "name": "stderr",
     "output_type": "stream",
     "text": [
      "100%|██████████| 4/4 [00:00<00:00, 445.70it/s]\n"
     ]
    },
    {
     "name": "stdout",
     "output_type": "stream",
     "text": [
      "test  mean loss=-7737.0401611328125\n",
      "epoch: 11\n",
      "NDCG@100 | train: 0.6114669898314103, test: 0.5212568525300548\n",
      "save the model\n",
      "save the optimizer\n",
      "[[0.]\n",
      " [0.]\n",
      " [0.]\n",
      " [0.]\n",
      " [0.]\n",
      " [0.]\n",
      " [0.]\n",
      " [0.]\n",
      " [0.]\n",
      " [0.]\n",
      " [0.]\n",
      " [0.]\n",
      " [0.]]\n",
      "11\n",
      "load dataset\n",
      "The number of data, train: 7 validate: 4\n",
      "prepare initialized model!\n",
      "Start training and validation loop......\n",
      "epoch 1\n"
     ]
    },
    {
     "name": "stderr",
     "output_type": "stream",
     "text": [
      "100%|██████████| 7/7 [00:00<00:00, 175.48it/s]\n"
     ]
    },
    {
     "name": "stdout",
     "output_type": "stream",
     "text": [
      "train mean loss=-414.98142787388394\n"
     ]
    },
    {
     "name": "stderr",
     "output_type": "stream",
     "text": [
      "100%|██████████| 4/4 [00:00<00:00, 445.60it/s]\n"
     ]
    },
    {
     "name": "stdout",
     "output_type": "stream",
     "text": [
      "test  mean loss=-557.2264862060547\n",
      "epoch: 2\n",
      "NDCG@100 | train: 0.06014215480859842, test: 1.0\n",
      "epoch 2\n"
     ]
    },
    {
     "name": "stderr",
     "output_type": "stream",
     "text": [
      "100%|██████████| 7/7 [00:00<00:00, 132.43it/s]\n"
     ]
    },
    {
     "name": "stdout",
     "output_type": "stream",
     "text": [
      "train mean loss=-879.9762398856027\n"
     ]
    },
    {
     "name": "stderr",
     "output_type": "stream",
     "text": [
      "100%|██████████| 4/4 [00:00<00:00, 286.48it/s]\n"
     ]
    },
    {
     "name": "stdout",
     "output_type": "stream",
     "text": [
      "test  mean loss=-929.9494018554688\n",
      "epoch: 3\n",
      "NDCG@100 | train: 0.06014215480859842, test: 1.0\n",
      "epoch 3\n"
     ]
    },
    {
     "name": "stderr",
     "output_type": "stream",
     "text": [
      "100%|██████████| 7/7 [00:00<00:00, 159.52it/s]\n"
     ]
    },
    {
     "name": "stdout",
     "output_type": "stream",
     "text": [
      "train mean loss=-1360.9051426478795\n"
     ]
    },
    {
     "name": "stderr",
     "output_type": "stream",
     "text": [
      "100%|██████████| 4/4 [00:00<00:00, 401.16it/s]\n"
     ]
    },
    {
     "name": "stdout",
     "output_type": "stream",
     "text": [
      "test  mean loss=-1356.8133239746094\n",
      "epoch: 4\n",
      "NDCG@100 | train: 0.06014215480859842, test: 1.0\n",
      "epoch 4\n"
     ]
    },
    {
     "name": "stderr",
     "output_type": "stream",
     "text": [
      "100%|██████████| 7/7 [00:00<00:00, 159.52it/s]\n"
     ]
    },
    {
     "name": "stdout",
     "output_type": "stream",
     "text": [
      "train mean loss=-1952.6858782087054\n"
     ]
    },
    {
     "name": "stderr",
     "output_type": "stream",
     "text": [
      "100%|██████████| 4/4 [00:00<00:00, 501.37it/s]\n"
     ]
    },
    {
     "name": "stdout",
     "output_type": "stream",
     "text": [
      "test  mean loss=-1864.39990234375\n",
      "epoch: 5\n",
      "NDCG@100 | train: 0.06014215480859842, test: 1.0\n",
      "epoch 5\n"
     ]
    },
    {
     "name": "stderr",
     "output_type": "stream",
     "text": [
      "100%|██████████| 7/7 [00:00<00:00, 171.20it/s]\n"
     ]
    },
    {
     "name": "stdout",
     "output_type": "stream",
     "text": [
      "train mean loss=-2655.7838134765625\n"
     ]
    },
    {
     "name": "stderr",
     "output_type": "stream",
     "text": [
      "100%|██████████| 4/4 [00:00<00:00, 401.14it/s]\n"
     ]
    },
    {
     "name": "stdout",
     "output_type": "stream",
     "text": [
      "test  mean loss=-2472.929962158203\n",
      "epoch: 6\n",
      "NDCG@100 | train: 0.06014215480859842, test: 1.0\n",
      "epoch 6\n"
     ]
    },
    {
     "name": "stderr",
     "output_type": "stream",
     "text": [
      "100%|██████████| 7/7 [00:00<00:00, 163.23it/s]\n"
     ]
    },
    {
     "name": "stdout",
     "output_type": "stream",
     "text": [
      "train mean loss=-3445.261544363839\n"
     ]
    },
    {
     "name": "stderr",
     "output_type": "stream",
     "text": [
      "100%|██████████| 4/4 [00:00<00:00, 445.30it/s]\n"
     ]
    },
    {
     "name": "stdout",
     "output_type": "stream",
     "text": [
      "test  mean loss=-3215.8741149902344\n",
      "epoch: 7\n",
      "NDCG@100 | train: 0.06014215480859842, test: 1.0\n",
      "epoch 7\n"
     ]
    },
    {
     "name": "stderr",
     "output_type": "stream",
     "text": [
      "100%|██████████| 7/7 [00:00<00:00, 159.56it/s]\n"
     ]
    },
    {
     "name": "stdout",
     "output_type": "stream",
     "text": [
      "train mean loss=-4409.810477120535\n"
     ]
    },
    {
     "name": "stderr",
     "output_type": "stream",
     "text": [
      "100%|██████████| 4/4 [00:00<00:00, 573.03it/s]\n"
     ]
    },
    {
     "name": "stdout",
     "output_type": "stream",
     "text": [
      "test  mean loss=-4102.78955078125\n",
      "epoch: 8\n",
      "NDCG@100 | train: 0.06014215480859842, test: 1.0\n",
      "epoch 8\n"
     ]
    },
    {
     "name": "stderr",
     "output_type": "stream",
     "text": [
      "100%|██████████| 7/7 [00:00<00:00, 175.47it/s]\n"
     ]
    },
    {
     "name": "stdout",
     "output_type": "stream",
     "text": [
      "train mean loss=-5587.144112723215\n"
     ]
    },
    {
     "name": "stderr",
     "output_type": "stream",
     "text": [
      "100%|██████████| 4/4 [00:00<00:00, 572.78it/s]\n"
     ]
    },
    {
     "name": "stdout",
     "output_type": "stream",
     "text": [
      "test  mean loss=-5140.9818115234375\n",
      "epoch: 9\n",
      "NDCG@100 | train: 0.06014215480859842, test: 1.0\n",
      "epoch 9\n"
     ]
    },
    {
     "name": "stderr",
     "output_type": "stream",
     "text": [
      "100%|██████████| 7/7 [00:00<00:00, 194.96it/s]\n"
     ]
    },
    {
     "name": "stdout",
     "output_type": "stream",
     "text": [
      "train mean loss=-7092.122140066965\n"
     ]
    },
    {
     "name": "stderr",
     "output_type": "stream",
     "text": [
      "100%|██████████| 4/4 [00:00<00:00, 445.61it/s]\n"
     ]
    },
    {
     "name": "stdout",
     "output_type": "stream",
     "text": [
      "test  mean loss=-6313.021667480469\n",
      "epoch: 10\n",
      "NDCG@100 | train: 0.06014215480859842, test: 1.0\n",
      "epoch 10\n"
     ]
    },
    {
     "name": "stderr",
     "output_type": "stream",
     "text": [
      "100%|██████████| 7/7 [00:00<00:00, 137.62it/s]\n"
     ]
    },
    {
     "name": "stdout",
     "output_type": "stream",
     "text": [
      "train mean loss=-8554.50634765625\n"
     ]
    },
    {
     "name": "stderr",
     "output_type": "stream",
     "text": [
      "100%|██████████| 4/4 [00:00<00:00, 364.67it/s]\n"
     ]
    },
    {
     "name": "stdout",
     "output_type": "stream",
     "text": [
      "test  mean loss=-7758.2998046875\n",
      "epoch: 11\n",
      "NDCG@100 | train: 0.06014215480859842, test: 1.0\n",
      "save the model\n",
      "save the optimizer\n",
      "[[0.]\n",
      " [0.]\n",
      " [0.]\n",
      " [0.]\n",
      " [0.]\n",
      " [0.]\n",
      " [0.]\n",
      " [0.]\n",
      " [0.]\n",
      " [0.]\n",
      " [0.]]\n",
      "64 ricerca di merda\n",
      "9\n",
      "load dataset\n",
      "The number of data, train: 6 validate: 3\n",
      "prepare initialized model!\n",
      "Start training and validation loop......\n",
      "epoch 1\n"
     ]
    },
    {
     "name": "stderr",
     "output_type": "stream",
     "text": [
      "100%|██████████| 6/6 [00:00<00:00, 127.99it/s]\n"
     ]
    },
    {
     "name": "stdout",
     "output_type": "stream",
     "text": [
      "train mean loss=-7.7102957020203275\n"
     ]
    },
    {
     "name": "stderr",
     "output_type": "stream",
     "text": [
      "100%|██████████| 3/3 [00:00<00:00, 334.23it/s]\n"
     ]
    },
    {
     "name": "stdout",
     "output_type": "stream",
     "text": [
      "test  mean loss=-15.51034132639567\n",
      "epoch: 2\n",
      "NDCG@100 | train: 0.3951442658987156, test: 1.0\n",
      "epoch 2\n"
     ]
    },
    {
     "name": "stderr",
     "output_type": "stream",
     "text": [
      "100%|██████████| 6/6 [00:00<00:00, 136.72it/s]\n"
     ]
    },
    {
     "name": "stdout",
     "output_type": "stream",
     "text": [
      "train mean loss=-40.03181473414103\n"
     ]
    },
    {
     "name": "stderr",
     "output_type": "stream",
     "text": [
      "100%|██████████| 3/3 [00:00<00:00, 429.70it/s]\n"
     ]
    },
    {
     "name": "stdout",
     "output_type": "stream",
     "text": [
      "test  mean loss=-29.408567428588867\n",
      "epoch: 3\n",
      "NDCG@100 | train: 0.3951442658987156, test: 1.0\n",
      "epoch 3\n"
     ]
    },
    {
     "name": "stderr",
     "output_type": "stream",
     "text": [
      "100%|██████████| 6/6 [00:00<00:00, 143.24it/s]\n"
     ]
    },
    {
     "name": "stdout",
     "output_type": "stream",
     "text": [
      "train mean loss=-70.13299179077148\n"
     ]
    },
    {
     "name": "stderr",
     "output_type": "stream",
     "text": [
      "100%|██████████| 3/3 [00:00<00:00, 376.01it/s]\n"
     ]
    },
    {
     "name": "stdout",
     "output_type": "stream",
     "text": [
      "test  mean loss=-41.7280642191569\n",
      "epoch: 4\n",
      "NDCG@100 | train: 0.3951442658987156, test: 1.0\n",
      "epoch 4\n"
     ]
    },
    {
     "name": "stderr",
     "output_type": "stream",
     "text": [
      "100%|██████████| 6/6 [00:00<00:00, 194.08it/s]\n"
     ]
    },
    {
     "name": "stdout",
     "output_type": "stream",
     "text": [
      "train mean loss=-93.92616017659505\n"
     ]
    },
    {
     "name": "stderr",
     "output_type": "stream",
     "text": [
      "100%|██████████| 3/3 [00:00<00:00, 429.52it/s]\n"
     ]
    },
    {
     "name": "stdout",
     "output_type": "stream",
     "text": [
      "test  mean loss=-56.43271001180013\n",
      "epoch: 5\n",
      "NDCG@100 | train: 0.3951442658987156, test: 1.0\n",
      "epoch 5\n"
     ]
    },
    {
     "name": "stderr",
     "output_type": "stream",
     "text": [
      "100%|██████████| 6/6 [00:00<00:00, 150.40it/s]\n"
     ]
    },
    {
     "name": "stdout",
     "output_type": "stream",
     "text": [
      "train mean loss=-126.85585530598958\n"
     ]
    },
    {
     "name": "stderr",
     "output_type": "stream",
     "text": [
      "100%|██████████| 3/3 [00:00<00:00, 300.85it/s]\n"
     ]
    },
    {
     "name": "stdout",
     "output_type": "stream",
     "text": [
      "test  mean loss=-73.92299143473308\n",
      "epoch: 6\n",
      "NDCG@100 | train: 0.3951442658987156, test: 1.0\n",
      "epoch 6\n"
     ]
    },
    {
     "name": "stderr",
     "output_type": "stream",
     "text": [
      "100%|██████████| 6/6 [00:00<00:00, 154.26it/s]\n"
     ]
    },
    {
     "name": "stdout",
     "output_type": "stream",
     "text": [
      "train mean loss=-154.59835561116537\n"
     ]
    },
    {
     "name": "stderr",
     "output_type": "stream",
     "text": [
      "100%|██████████| 3/3 [00:00<00:00, 334.26it/s]\n"
     ]
    },
    {
     "name": "stdout",
     "output_type": "stream",
     "text": [
      "test  mean loss=-94.53849538167317\n",
      "epoch: 7\n",
      "NDCG@100 | train: 0.3951442658987156, test: 1.0\n",
      "epoch 7\n"
     ]
    },
    {
     "name": "stderr",
     "output_type": "stream",
     "text": [
      "100%|██████████| 6/6 [00:00<00:00, 167.10it/s]\n"
     ]
    },
    {
     "name": "stdout",
     "output_type": "stream",
     "text": [
      "train mean loss=-198.93560791015625\n"
     ]
    },
    {
     "name": "stderr",
     "output_type": "stream",
     "text": [
      "100%|██████████| 3/3 [00:00<00:00, 334.57it/s]\n"
     ]
    },
    {
     "name": "stdout",
     "output_type": "stream",
     "text": [
      "test  mean loss=-118.16982777913411\n",
      "epoch: 8\n",
      "NDCG@100 | train: 0.3951442658987156, test: 1.0\n",
      "epoch 8\n"
     ]
    },
    {
     "name": "stderr",
     "output_type": "stream",
     "text": [
      "100%|██████████| 6/6 [00:00<00:00, 167.12it/s]\n"
     ]
    },
    {
     "name": "stdout",
     "output_type": "stream",
     "text": [
      "train mean loss=-249.81899134318033\n"
     ]
    },
    {
     "name": "stderr",
     "output_type": "stream",
     "text": [
      "100%|██████████| 3/3 [00:00<00:00, 501.35it/s]\n"
     ]
    },
    {
     "name": "stdout",
     "output_type": "stream",
     "text": [
      "test  mean loss=-144.75347391764322\n",
      "epoch: 9\n",
      "NDCG@100 | train: 0.3951442658987156, test: 1.0\n",
      "epoch 9\n"
     ]
    },
    {
     "name": "stderr",
     "output_type": "stream",
     "text": [
      "100%|██████████| 6/6 [00:00<00:00, 154.25it/s]\n"
     ]
    },
    {
     "name": "stdout",
     "output_type": "stream",
     "text": [
      "train mean loss=-290.25091044108075\n"
     ]
    },
    {
     "name": "stderr",
     "output_type": "stream",
     "text": [
      "100%|██████████| 3/3 [00:00<00:00, 429.71it/s]\n"
     ]
    },
    {
     "name": "stdout",
     "output_type": "stream",
     "text": [
      "test  mean loss=-175.89012654622397\n",
      "epoch: 10\n",
      "NDCG@100 | train: 0.3951442658987156, test: 1.0\n",
      "epoch 10\n"
     ]
    },
    {
     "name": "stderr",
     "output_type": "stream",
     "text": [
      "100%|██████████| 6/6 [00:00<00:00, 150.41it/s]\n"
     ]
    },
    {
     "name": "stdout",
     "output_type": "stream",
     "text": [
      "train mean loss=-342.19604237874347\n"
     ]
    },
    {
     "name": "stderr",
     "output_type": "stream",
     "text": [
      "100%|██████████| 3/3 [00:00<00:00, 597.56it/s]\n"
     ]
    },
    {
     "name": "stdout",
     "output_type": "stream",
     "text": [
      "test  mean loss=-211.10987345377603\n",
      "epoch: 11\n",
      "NDCG@100 | train: 0.3951442658987156, test: 1.0\n",
      "save the model\n",
      "save the optimizer\n",
      "[[0.]\n",
      " [0.]\n",
      " [0.]\n",
      " [0.]\n",
      " [0.]\n",
      " [0.]\n",
      " [0.]\n",
      " [0.]\n",
      " [0.]]\n",
      "66 ricerca di merda\n",
      "12\n",
      "load dataset\n",
      "The number of data, train: 8 validate: 4\n",
      "prepare initialized model!\n",
      "Start training and validation loop......\n",
      "epoch 1\n"
     ]
    },
    {
     "name": "stderr",
     "output_type": "stream",
     "text": [
      "100%|██████████| 8/8 [00:00<00:00, 112.98it/s]\n"
     ]
    },
    {
     "name": "stdout",
     "output_type": "stream",
     "text": [
      "train mean loss=-505.98875999450684\n"
     ]
    },
    {
     "name": "stderr",
     "output_type": "stream",
     "text": [
      "100%|██████████| 4/4 [00:00<00:00, 364.65it/s]\n"
     ]
    },
    {
     "name": "stdout",
     "output_type": "stream",
     "text": [
      "test  mean loss=-796.3915100097656\n",
      "epoch: 2\n",
      "NDCG@100 | train: 0.5830201319671104, test: 0.7746989345664829\n",
      "epoch 2\n"
     ]
    },
    {
     "name": "stderr",
     "output_type": "stream",
     "text": [
      "100%|██████████| 8/8 [00:00<00:00, 131.50it/s]\n"
     ]
    },
    {
     "name": "stdout",
     "output_type": "stream",
     "text": [
      "train mean loss=-1272.7523155212402\n"
     ]
    },
    {
     "name": "stderr",
     "output_type": "stream",
     "text": [
      "100%|██████████| 4/4 [00:00<00:00, 668.65it/s]\n"
     ]
    },
    {
     "name": "stdout",
     "output_type": "stream",
     "text": [
      "test  mean loss=-1405.5969848632812\n",
      "epoch: 3\n",
      "NDCG@100 | train: 0.5830201319671104, test: 0.7746989345664829\n",
      "epoch 3\n"
     ]
    },
    {
     "name": "stderr",
     "output_type": "stream",
     "text": [
      "100%|██████████| 8/8 [00:00<00:00, 167.11it/s]\n"
     ]
    },
    {
     "name": "stdout",
     "output_type": "stream",
     "text": [
      "train mean loss=-2100.971237182617\n"
     ]
    },
    {
     "name": "stderr",
     "output_type": "stream",
     "text": [
      "100%|██████████| 4/4 [00:00<00:00, 668.28it/s]\n"
     ]
    },
    {
     "name": "stdout",
     "output_type": "stream",
     "text": [
      "test  mean loss=-2049.760284423828\n",
      "epoch: 4\n",
      "NDCG@100 | train: 0.5830201319671104, test: 0.7746989345664829\n",
      "epoch 4\n"
     ]
    },
    {
     "name": "stderr",
     "output_type": "stream",
     "text": [
      "100%|██████████| 8/8 [00:00<00:00, 190.99it/s]\n"
     ]
    },
    {
     "name": "stdout",
     "output_type": "stream",
     "text": [
      "train mean loss=-2937.8424911499023\n"
     ]
    },
    {
     "name": "stderr",
     "output_type": "stream",
     "text": [
      "100%|██████████| 4/4 [00:00<00:00, 501.32it/s]\n"
     ]
    },
    {
     "name": "stdout",
     "output_type": "stream",
     "text": [
      "test  mean loss=-2841.99169921875\n",
      "epoch: 5\n",
      "NDCG@100 | train: 0.5830201319671104, test: 0.7746989345664829\n",
      "epoch 5\n"
     ]
    },
    {
     "name": "stderr",
     "output_type": "stream",
     "text": [
      "100%|██████████| 8/8 [00:00<00:00, 186.55it/s]\n"
     ]
    },
    {
     "name": "stdout",
     "output_type": "stream",
     "text": [
      "train mean loss=-4081.299575805664\n"
     ]
    },
    {
     "name": "stderr",
     "output_type": "stream",
     "text": [
      "100%|██████████| 4/4 [00:00<00:00, 401.07it/s]\n"
     ]
    },
    {
     "name": "stdout",
     "output_type": "stream",
     "text": [
      "test  mean loss=-3772.2803344726562\n",
      "epoch: 6\n",
      "NDCG@100 | train: 0.5830201319671104, test: 0.7746989345664829\n",
      "epoch 6\n"
     ]
    },
    {
     "name": "stderr",
     "output_type": "stream",
     "text": [
      "100%|██████████| 8/8 [00:00<00:00, 186.55it/s]\n"
     ]
    },
    {
     "name": "stdout",
     "output_type": "stream",
     "text": [
      "train mean loss=-5218.856430053711\n"
     ]
    },
    {
     "name": "stderr",
     "output_type": "stream",
     "text": [
      "100%|██████████| 4/4 [00:00<00:00, 668.49it/s]\n"
     ]
    },
    {
     "name": "stdout",
     "output_type": "stream",
     "text": [
      "test  mean loss=-4962.595764160156\n",
      "epoch: 7\n",
      "NDCG@100 | train: 0.5830201319671104, test: 0.7746989345664829\n",
      "epoch 7\n"
     ]
    },
    {
     "name": "stderr",
     "output_type": "stream",
     "text": [
      "100%|██████████| 8/8 [00:00<00:00, 154.26it/s]\n"
     ]
    },
    {
     "name": "stdout",
     "output_type": "stream",
     "text": [
      "train mean loss=-6752.139709472656\n"
     ]
    },
    {
     "name": "stderr",
     "output_type": "stream",
     "text": [
      "100%|██████████| 4/4 [00:00<00:00, 501.47it/s]\n"
     ]
    },
    {
     "name": "stdout",
     "output_type": "stream",
     "text": [
      "test  mean loss=-6370.2132568359375\n",
      "epoch: 8\n",
      "NDCG@100 | train: 0.5830201319671104, test: 0.7746989345664829\n",
      "epoch 8\n"
     ]
    },
    {
     "name": "stderr",
     "output_type": "stream",
     "text": [
      "100%|██████████| 8/8 [00:00<00:00, 186.55it/s]\n"
     ]
    },
    {
     "name": "stdout",
     "output_type": "stream",
     "text": [
      "train mean loss=-8604.271026611328\n"
     ]
    },
    {
     "name": "stderr",
     "output_type": "stream",
     "text": [
      "100%|██████████| 4/4 [00:00<00:00, 573.01it/s]\n"
     ]
    },
    {
     "name": "stdout",
     "output_type": "stream",
     "text": [
      "test  mean loss=-8011.3812255859375\n",
      "epoch: 9\n",
      "NDCG@100 | train: 0.5830201319671104, test: 0.7746989345664829\n",
      "epoch 9\n"
     ]
    },
    {
     "name": "stderr",
     "output_type": "stream",
     "text": [
      "100%|██████████| 8/8 [00:00<00:00, 216.80it/s]\n"
     ]
    },
    {
     "name": "stdout",
     "output_type": "stream",
     "text": [
      "train mean loss=-10944.81118774414\n"
     ]
    },
    {
     "name": "stderr",
     "output_type": "stream",
     "text": [
      "100%|██████████| 4/4 [00:00<00:00, 445.62it/s]\n"
     ]
    },
    {
     "name": "stdout",
     "output_type": "stream",
     "text": [
      "test  mean loss=-9847.079345703125\n",
      "epoch: 10\n",
      "NDCG@100 | train: 0.5830201319671104, test: 0.7746989345664829\n",
      "epoch 10\n"
     ]
    },
    {
     "name": "stderr",
     "output_type": "stream",
     "text": [
      "100%|██████████| 8/8 [00:00<00:00, 186.39it/s]\n"
     ]
    },
    {
     "name": "stdout",
     "output_type": "stream",
     "text": [
      "train mean loss=-13594.625091552734\n"
     ]
    },
    {
     "name": "stderr",
     "output_type": "stream",
     "text": [
      "100%|██████████| 4/4 [00:00<00:00, 668.63it/s]\n"
     ]
    },
    {
     "name": "stdout",
     "output_type": "stream",
     "text": [
      "test  mean loss=-11979.270751953125\n",
      "epoch: 11\n",
      "NDCG@100 | train: 0.5830201319671104, test: 0.7746989345664829\n",
      "save the model\n",
      "save the optimizer\n",
      "[[0.]\n",
      " [0.]\n",
      " [0.]\n",
      " [0.]\n",
      " [0.]\n",
      " [0.]\n",
      " [0.]\n",
      " [0.]\n",
      " [0.]\n",
      " [0.]\n",
      " [0.]\n",
      " [0.]]\n",
      "10\n",
      "load dataset\n",
      "The number of data, train: 7 validate: 3\n",
      "prepare initialized model!\n",
      "Start training and validation loop......\n",
      "epoch 1\n"
     ]
    },
    {
     "name": "stderr",
     "output_type": "stream",
     "text": [
      "100%|██████████| 7/7 [00:00<00:00, 140.38it/s]\n"
     ]
    },
    {
     "name": "stdout",
     "output_type": "stream",
     "text": [
      "train mean loss=-49.91834143229893\n"
     ]
    },
    {
     "name": "stderr",
     "output_type": "stream",
     "text": [
      "100%|██████████| 3/3 [00:00<00:00, 375.95it/s]\n"
     ]
    },
    {
     "name": "stdout",
     "output_type": "stream",
     "text": [
      "test  mean loss=-415.89418029785156\n",
      "epoch: 2\n",
      "NDCG@100 | train: 0.8332080527868442, test: 0.7533812071467303\n",
      "epoch 2\n"
     ]
    },
    {
     "name": "stderr",
     "output_type": "stream",
     "text": [
      "100%|██████████| 7/7 [00:00<00:00, 134.97it/s]\n"
     ]
    },
    {
     "name": "stdout",
     "output_type": "stream",
     "text": [
      "train mean loss=-319.8150771004813\n"
     ]
    },
    {
     "name": "stderr",
     "output_type": "stream",
     "text": [
      "100%|██████████| 3/3 [00:00<00:00, 429.76it/s]\n"
     ]
    },
    {
     "name": "stdout",
     "output_type": "stream",
     "text": [
      "test  mean loss=-920.7937418619791\n",
      "epoch: 3\n",
      "NDCG@100 | train: 0.8332080527868442, test: 0.7533812071467303\n",
      "epoch 3\n"
     ]
    },
    {
     "name": "stderr",
     "output_type": "stream",
     "text": [
      "100%|██████████| 7/7 [00:00<00:00, 200.54it/s]\n"
     ]
    },
    {
     "name": "stdout",
     "output_type": "stream",
     "text": [
      "train mean loss=-594.93307358878\n"
     ]
    },
    {
     "name": "stderr",
     "output_type": "stream",
     "text": [
      "100%|██████████| 3/3 [00:00<00:00, 429.70it/s]\n"
     ]
    },
    {
     "name": "stdout",
     "output_type": "stream",
     "text": [
      "test  mean loss=-1447.927001953125\n",
      "epoch: 4\n",
      "NDCG@100 | train: 0.8332080527868442, test: 0.7533812071467303\n",
      "epoch 4\n"
     ]
    },
    {
     "name": "stderr",
     "output_type": "stream",
     "text": [
      "100%|██████████| 7/7 [00:00<00:00, 146.22it/s]\n"
     ]
    },
    {
     "name": "stdout",
     "output_type": "stream",
     "text": [
      "train mean loss=-857.2188235691616\n"
     ]
    },
    {
     "name": "stderr",
     "output_type": "stream",
     "text": [
      "100%|██████████| 3/3 [00:00<00:00, 501.45it/s]\n"
     ]
    },
    {
     "name": "stdout",
     "output_type": "stream",
     "text": [
      "test  mean loss=-2154.940226236979\n",
      "epoch: 5\n",
      "NDCG@100 | train: 0.8332080527868442, test: 0.7533812071467303\n",
      "epoch 5\n"
     ]
    },
    {
     "name": "stderr",
     "output_type": "stream",
     "text": [
      "100%|██████████| 7/7 [00:00<00:00, 143.24it/s]\n"
     ]
    },
    {
     "name": "stdout",
     "output_type": "stream",
     "text": [
      "train mean loss=-1263.658297947475\n"
     ]
    },
    {
     "name": "stderr",
     "output_type": "stream",
     "text": [
      "100%|██████████| 3/3 [00:00<00:00, 429.76it/s]\n"
     ]
    },
    {
     "name": "stdout",
     "output_type": "stream",
     "text": [
      "test  mean loss=-3016.5333251953125\n",
      "epoch: 6\n",
      "NDCG@100 | train: 0.8332080527868442, test: 0.7533812071467303\n",
      "epoch 6\n"
     ]
    },
    {
     "name": "stderr",
     "output_type": "stream",
     "text": [
      "100%|██████████| 7/7 [00:00<00:00, 171.19it/s]\n"
     ]
    },
    {
     "name": "stdout",
     "output_type": "stream",
     "text": [
      "train mean loss=-1761.209714617048\n"
     ]
    },
    {
     "name": "stderr",
     "output_type": "stream",
     "text": [
      "100%|██████████| 3/3 [00:00<00:00, 601.51it/s]\n"
     ]
    },
    {
     "name": "stdout",
     "output_type": "stream",
     "text": [
      "test  mean loss=-4035.4351399739585\n",
      "epoch: 7\n",
      "NDCG@100 | train: 0.8332080527868442, test: 0.7533812071467303\n",
      "epoch 7\n"
     ]
    },
    {
     "name": "stderr",
     "output_type": "stream",
     "text": [
      "100%|██████████| 7/7 [00:00<00:00, 146.23it/s]\n"
     ]
    },
    {
     "name": "stdout",
     "output_type": "stream",
     "text": [
      "train mean loss=-2330.2514931815012\n"
     ]
    },
    {
     "name": "stderr",
     "output_type": "stream",
     "text": [
      "100%|██████████| 3/3 [00:00<00:00, 376.02it/s]\n"
     ]
    },
    {
     "name": "stdout",
     "output_type": "stream",
     "text": [
      "test  mean loss=-5277.112630208333\n",
      "epoch: 8\n",
      "NDCG@100 | train: 0.8332080527868442, test: 0.7533812071467303\n",
      "epoch 8\n"
     ]
    },
    {
     "name": "stderr",
     "output_type": "stream",
     "text": [
      "100%|██████████| 7/7 [00:00<00:00, 146.23it/s]\n"
     ]
    },
    {
     "name": "stdout",
     "output_type": "stream",
     "text": [
      "train mean loss=-3001.82154410226\n"
     ]
    },
    {
     "name": "stderr",
     "output_type": "stream",
     "text": [
      "100%|██████████| 3/3 [00:00<00:00, 429.79it/s]\n"
     ]
    },
    {
     "name": "stdout",
     "output_type": "stream",
     "text": [
      "test  mean loss=-6756.813883463542\n",
      "epoch: 9\n",
      "NDCG@100 | train: 0.8332080527868442, test: 0.7533812071467303\n",
      "epoch 9\n"
     ]
    },
    {
     "name": "stderr",
     "output_type": "stream",
     "text": [
      "100%|██████████| 7/7 [00:00<00:00, 200.54it/s]\n"
     ]
    },
    {
     "name": "stdout",
     "output_type": "stream",
     "text": [
      "train mean loss=-3828.9036603655136\n"
     ]
    },
    {
     "name": "stderr",
     "output_type": "stream",
     "text": [
      "100%|██████████| 3/3 [00:00<00:00, 501.27it/s]\n"
     ]
    },
    {
     "name": "stdout",
     "output_type": "stream",
     "text": [
      "test  mean loss=-8463.225911458334\n",
      "epoch: 10\n",
      "NDCG@100 | train: 0.8332080527868442, test: 0.7533812071467303\n",
      "epoch 10\n"
     ]
    },
    {
     "name": "stderr",
     "output_type": "stream",
     "text": [
      "100%|██████████| 7/7 [00:00<00:00, 184.71it/s]\n"
     ]
    },
    {
     "name": "stdout",
     "output_type": "stream",
     "text": [
      "train mean loss=-4728.3318437848775\n"
     ]
    },
    {
     "name": "stderr",
     "output_type": "stream",
     "text": [
      "100%|██████████| 3/3 [00:00<00:00, 429.66it/s]\n"
     ]
    },
    {
     "name": "stdout",
     "output_type": "stream",
     "text": [
      "test  mean loss=-10505.955078125\n",
      "epoch: 11\n",
      "NDCG@100 | train: 0.8332080527868442, test: 0.7533812071467303\n",
      "save the model\n",
      "save the optimizer\n",
      "[[0.]\n",
      " [0.]\n",
      " [0.]\n",
      " [0.]\n",
      " [0.]\n",
      " [0.]\n",
      " [0.]\n",
      " [0.]\n",
      " [0.]\n",
      " [0.]]\n",
      "13\n",
      "load dataset\n",
      "The number of data, train: 9 validate: 4\n",
      "prepare initialized model!\n",
      "Start training and validation loop......\n",
      "epoch 1\n"
     ]
    },
    {
     "name": "stderr",
     "output_type": "stream",
     "text": [
      "100%|██████████| 9/9 [00:00<00:00, 177.00it/s]\n"
     ]
    },
    {
     "name": "stdout",
     "output_type": "stream",
     "text": [
      "train mean loss=-182.42960166931152\n"
     ]
    },
    {
     "name": "stderr",
     "output_type": "stream",
     "text": [
      "100%|██████████| 4/4 [00:00<00:00, 668.65it/s]\n"
     ]
    },
    {
     "name": "stdout",
     "output_type": "stream",
     "text": [
      "test  mean loss=-620.1674194335938\n",
      "epoch: 2\n",
      "NDCG@100 | train: 0.35480665972318093, test: 0.7597179959784544\n",
      "epoch 2\n"
     ]
    },
    {
     "name": "stderr",
     "output_type": "stream",
     "text": [
      "100%|██████████| 9/9 [00:00<00:00, 158.30it/s]\n"
     ]
    },
    {
     "name": "stdout",
     "output_type": "stream",
     "text": [
      "train mean loss=-624.1334669325087\n"
     ]
    },
    {
     "name": "stderr",
     "output_type": "stream",
     "text": [
      "100%|██████████| 4/4 [00:00<00:00, 364.63it/s]\n"
     ]
    },
    {
     "name": "stdout",
     "output_type": "stream",
     "text": [
      "test  mean loss=-1102.6983947753906\n",
      "epoch: 3\n",
      "NDCG@100 | train: 0.35480665972318093, test: 0.7597179959784544\n",
      "epoch 3\n"
     ]
    },
    {
     "name": "stderr",
     "output_type": "stream",
     "text": [
      "100%|██████████| 9/9 [00:00<00:00, 173.54it/s]\n"
     ]
    },
    {
     "name": "stdout",
     "output_type": "stream",
     "text": [
      "train mean loss=-953.095482720269\n"
     ]
    },
    {
     "name": "stderr",
     "output_type": "stream",
     "text": [
      "100%|██████████| 4/4 [00:00<00:00, 573.03it/s]\n"
     ]
    },
    {
     "name": "stdout",
     "output_type": "stream",
     "text": [
      "test  mean loss=-1671.8576354980469\n",
      "epoch: 4\n",
      "NDCG@100 | train: 0.35480665972318093, test: 0.7597179959784544\n",
      "epoch 4\n"
     ]
    },
    {
     "name": "stderr",
     "output_type": "stream",
     "text": [
      "100%|██████████| 9/9 [00:00<00:00, 200.54it/s]\n"
     ]
    },
    {
     "name": "stdout",
     "output_type": "stream",
     "text": [
      "train mean loss=-1428.3445841471355\n"
     ]
    },
    {
     "name": "stderr",
     "output_type": "stream",
     "text": [
      "100%|██████████| 4/4 [00:00<00:00, 445.67it/s]\n"
     ]
    },
    {
     "name": "stdout",
     "output_type": "stream",
     "text": [
      "test  mean loss=-2340.7886657714844\n",
      "epoch: 5\n",
      "NDCG@100 | train: 0.35480665972318093, test: 0.7597179959784544\n",
      "epoch 5\n"
     ]
    },
    {
     "name": "stderr",
     "output_type": "stream",
     "text": [
      "100%|██████████| 9/9 [00:00<00:00, 196.18it/s]\n"
     ]
    },
    {
     "name": "stdout",
     "output_type": "stream",
     "text": [
      "train mean loss=-1966.9520670572917\n"
     ]
    },
    {
     "name": "stderr",
     "output_type": "stream",
     "text": [
      "100%|██████████| 4/4 [00:00<00:00, 401.05it/s]\n"
     ]
    },
    {
     "name": "stdout",
     "output_type": "stream",
     "text": [
      "test  mean loss=-3169.418212890625\n",
      "epoch: 6\n",
      "NDCG@100 | train: 0.35480665972318093, test: 0.7597179959784544\n",
      "epoch 6\n"
     ]
    },
    {
     "name": "stderr",
     "output_type": "stream",
     "text": [
      "100%|██████████| 9/9 [00:00<00:00, 205.10it/s]\n"
     ]
    },
    {
     "name": "stdout",
     "output_type": "stream",
     "text": [
      "train mean loss=-2562.401177300347\n"
     ]
    },
    {
     "name": "stderr",
     "output_type": "stream",
     "text": [
      "100%|██████████| 4/4 [00:00<00:00, 501.41it/s]\n"
     ]
    },
    {
     "name": "stdout",
     "output_type": "stream",
     "text": [
      "test  mean loss=-4232.650207519531\n",
      "epoch: 7\n",
      "NDCG@100 | train: 0.35480665972318093, test: 0.7597179959784544\n",
      "epoch 7\n"
     ]
    },
    {
     "name": "stderr",
     "output_type": "stream",
     "text": [
      "100%|██████████| 9/9 [00:00<00:00, 170.27it/s]\n"
     ]
    },
    {
     "name": "stdout",
     "output_type": "stream",
     "text": [
      "train mean loss=-3467.837646484375\n"
     ]
    },
    {
     "name": "stderr",
     "output_type": "stream",
     "text": [
      "100%|██████████| 4/4 [00:00<00:00, 499.26it/s]\n"
     ]
    },
    {
     "name": "stdout",
     "output_type": "stream",
     "text": [
      "test  mean loss=-5438.186279296875\n",
      "epoch: 8\n",
      "NDCG@100 | train: 0.35480665972318093, test: 0.7597179959784544\n",
      "epoch 8\n"
     ]
    },
    {
     "name": "stderr",
     "output_type": "stream",
     "text": [
      "100%|██████████| 9/9 [00:00<00:00, 170.26it/s]\n"
     ]
    },
    {
     "name": "stdout",
     "output_type": "stream",
     "text": [
      "train mean loss=-4372.3742268880205\n"
     ]
    },
    {
     "name": "stderr",
     "output_type": "stream",
     "text": [
      "100%|██████████| 4/4 [00:00<00:00, 572.87it/s]\n"
     ]
    },
    {
     "name": "stdout",
     "output_type": "stream",
     "text": [
      "test  mean loss=-6978.9443359375\n",
      "epoch: 9\n",
      "NDCG@100 | train: 0.35480665972318093, test: 0.7597179959784544\n",
      "epoch 9\n"
     ]
    },
    {
     "name": "stderr",
     "output_type": "stream",
     "text": [
      "100%|██████████| 9/9 [00:00<00:00, 205.08it/s]\n"
     ]
    },
    {
     "name": "stdout",
     "output_type": "stream",
     "text": [
      "train mean loss=-5626.339545355902\n"
     ]
    },
    {
     "name": "stderr",
     "output_type": "stream",
     "text": [
      "100%|██████████| 4/4 [00:00<00:00, 501.29it/s]\n"
     ]
    },
    {
     "name": "stdout",
     "output_type": "stream",
     "text": [
      "test  mean loss=-8761.04638671875\n",
      "epoch: 10\n",
      "NDCG@100 | train: 0.35480665972318093, test: 0.7597179959784544\n",
      "epoch 10\n"
     ]
    },
    {
     "name": "stderr",
     "output_type": "stream",
     "text": [
      "100%|██████████| 9/9 [00:00<00:00, 188.01it/s]\n"
     ]
    },
    {
     "name": "stdout",
     "output_type": "stream",
     "text": [
      "train mean loss=-6959.02734375\n"
     ]
    },
    {
     "name": "stderr",
     "output_type": "stream",
     "text": [
      "100%|██████████| 4/4 [00:00<00:00, 501.40it/s]\n"
     ]
    },
    {
     "name": "stdout",
     "output_type": "stream",
     "text": [
      "test  mean loss=-10912.66845703125\n",
      "epoch: 11\n",
      "NDCG@100 | train: 0.35480665972318093, test: 0.7597179959784544\n",
      "save the model\n",
      "save the optimizer\n",
      "[[0.]\n",
      " [0.]\n",
      " [0.]\n",
      " [0.]\n",
      " [0.]\n",
      " [0.]\n",
      " [0.]\n",
      " [0.]\n",
      " [0.]\n",
      " [0.]\n",
      " [0.]\n",
      " [0.]\n",
      " [0.]]\n",
      "11\n",
      "load dataset\n",
      "The number of data, train: 7 validate: 4\n",
      "prepare initialized model!\n",
      "Start training and validation loop......\n",
      "epoch 1\n"
     ]
    },
    {
     "name": "stderr",
     "output_type": "stream",
     "text": [
      "100%|██████████| 7/7 [00:00<00:00, 242.03it/s]\n"
     ]
    },
    {
     "name": "stdout",
     "output_type": "stream",
     "text": [
      "train mean loss=-858.317358987672\n"
     ]
    },
    {
     "name": "stderr",
     "output_type": "stream",
     "text": [
      "100%|██████████| 4/4 [00:00<00:00, 443.91it/s]\n"
     ]
    },
    {
     "name": "stdout",
     "output_type": "stream",
     "text": [
      "test  mean loss=-1823.4971313476562\n",
      "epoch: 2\n",
      "NDCG@100 | train: 0.5611821034207884, test: 0.4124423828646292\n",
      "epoch 2\n"
     ]
    },
    {
     "name": "stderr",
     "output_type": "stream",
     "text": [
      "100%|██████████| 7/7 [00:00<00:00, 189.70it/s]\n"
     ]
    },
    {
     "name": "stdout",
     "output_type": "stream",
     "text": [
      "train mean loss=-2455.169607979911\n"
     ]
    },
    {
     "name": "stderr",
     "output_type": "stream",
     "text": [
      "100%|██████████| 4/4 [00:00<00:00, 573.05it/s]\n"
     ]
    },
    {
     "name": "stdout",
     "output_type": "stream",
     "text": [
      "test  mean loss=-3267.630645751953\n",
      "epoch: 3\n",
      "NDCG@100 | train: 0.5611821034207884, test: 0.4124423828646292\n",
      "epoch 3\n"
     ]
    },
    {
     "name": "stderr",
     "output_type": "stream",
     "text": [
      "100%|██████████| 7/7 [00:00<00:00, 179.97it/s]\n"
     ]
    },
    {
     "name": "stdout",
     "output_type": "stream",
     "text": [
      "train mean loss=-4059.5379464285716\n"
     ]
    },
    {
     "name": "stderr",
     "output_type": "stream",
     "text": [
      "100%|██████████| 4/4 [00:00<00:00, 364.60it/s]\n"
     ]
    },
    {
     "name": "stdout",
     "output_type": "stream",
     "text": [
      "test  mean loss=-4899.195007324219\n",
      "epoch: 4\n",
      "NDCG@100 | train: 0.5611821034207884, test: 0.4124423828646292\n",
      "epoch 4\n"
     ]
    },
    {
     "name": "stderr",
     "output_type": "stream",
     "text": [
      "100%|██████████| 7/7 [00:00<00:00, 132.43it/s]\n"
     ]
    },
    {
     "name": "stdout",
     "output_type": "stream",
     "text": [
      "train mean loss=-5656.626883370535\n"
     ]
    },
    {
     "name": "stderr",
     "output_type": "stream",
     "text": [
      "100%|██████████| 4/4 [00:00<00:00, 668.44it/s]\n"
     ]
    },
    {
     "name": "stdout",
     "output_type": "stream",
     "text": [
      "test  mean loss=-6834.524719238281\n",
      "epoch: 5\n",
      "NDCG@100 | train: 0.5611821034207884, test: 0.4124423828646292\n",
      "epoch 5\n"
     ]
    },
    {
     "name": "stderr",
     "output_type": "stream",
     "text": [
      "100%|██████████| 7/7 [00:00<00:00, 184.71it/s]\n"
     ]
    },
    {
     "name": "stdout",
     "output_type": "stream",
     "text": [
      "train mean loss=-7847.150530133928\n"
     ]
    },
    {
     "name": "stderr",
     "output_type": "stream",
     "text": [
      "100%|██████████| 4/4 [00:00<00:00, 500.95it/s]\n"
     ]
    },
    {
     "name": "stdout",
     "output_type": "stream",
     "text": [
      "test  mean loss=-9059.273559570312\n",
      "epoch: 6\n",
      "NDCG@100 | train: 0.5611821034207884, test: 0.4124423828646292\n",
      "epoch 6\n"
     ]
    },
    {
     "name": "stderr",
     "output_type": "stream",
     "text": [
      "100%|██████████| 7/7 [00:00<00:00, 137.62it/s]\n"
     ]
    },
    {
     "name": "stdout",
     "output_type": "stream",
     "text": [
      "train mean loss=-10196.803780691964\n"
     ]
    },
    {
     "name": "stderr",
     "output_type": "stream",
     "text": [
      "100%|██████████| 4/4 [00:00<00:00, 443.51it/s]\n"
     ]
    },
    {
     "name": "stdout",
     "output_type": "stream",
     "text": [
      "test  mean loss=-11689.544677734375\n",
      "epoch: 7\n",
      "NDCG@100 | train: 0.5611821034207884, test: 0.4124423828646292\n",
      "epoch 7\n"
     ]
    },
    {
     "name": "stderr",
     "output_type": "stream",
     "text": [
      "100%|██████████| 7/7 [00:00<00:00, 194.96it/s]\n"
     ]
    },
    {
     "name": "stdout",
     "output_type": "stream",
     "text": [
      "train mean loss=-13063.45689174107\n"
     ]
    },
    {
     "name": "stderr",
     "output_type": "stream",
     "text": [
      "100%|██████████| 4/4 [00:00<00:00, 401.03it/s]\n"
     ]
    },
    {
     "name": "stdout",
     "output_type": "stream",
     "text": [
      "test  mean loss=-14747.814453125\n",
      "epoch: 8\n",
      "NDCG@100 | train: 0.5611821034207884, test: 0.4124423828646292\n",
      "epoch 8\n"
     ]
    },
    {
     "name": "stderr",
     "output_type": "stream",
     "text": [
      "100%|██████████| 7/7 [00:00<00:00, 194.96it/s]\n"
     ]
    },
    {
     "name": "stdout",
     "output_type": "stream",
     "text": [
      "train mean loss=-16699.391462053572\n"
     ]
    },
    {
     "name": "stderr",
     "output_type": "stream",
     "text": [
      "100%|██████████| 4/4 [00:00<00:00, 445.69it/s]\n"
     ]
    },
    {
     "name": "stdout",
     "output_type": "stream",
     "text": [
      "test  mean loss=-18244.128662109375\n",
      "epoch: 9\n",
      "NDCG@100 | train: 0.5611821034207884, test: 0.4124423828646292\n",
      "epoch 9\n"
     ]
    },
    {
     "name": "stderr",
     "output_type": "stream",
     "text": [
      "100%|██████████| 7/7 [00:00<00:00, 149.33it/s]\n"
     ]
    },
    {
     "name": "stdout",
     "output_type": "stream",
     "text": [
      "train mean loss=-20190.777483258928\n"
     ]
    },
    {
     "name": "stderr",
     "output_type": "stream",
     "text": [
      "100%|██████████| 4/4 [00:00<00:00, 501.16it/s]\n"
     ]
    },
    {
     "name": "stdout",
     "output_type": "stream",
     "text": [
      "test  mean loss=-22536.949462890625\n",
      "epoch: 10\n",
      "NDCG@100 | train: 0.5611821034207884, test: 0.4124423828646292\n",
      "epoch 10\n"
     ]
    },
    {
     "name": "stderr",
     "output_type": "stream",
     "text": [
      "100%|██████████| 7/7 [00:00<00:00, 179.96it/s]\n"
     ]
    },
    {
     "name": "stdout",
     "output_type": "stream",
     "text": [
      "train mean loss=-25154.256417410714\n"
     ]
    },
    {
     "name": "stderr",
     "output_type": "stream",
     "text": [
      "100%|██████████| 4/4 [00:00<00:00, 445.65it/s]\n"
     ]
    },
    {
     "name": "stdout",
     "output_type": "stream",
     "text": [
      "test  mean loss=-27214.303466796875\n",
      "epoch: 11\n",
      "NDCG@100 | train: 0.5611821034207884, test: 0.4124423828646292\n",
      "save the model\n",
      "save the optimizer\n",
      "[[0.]\n",
      " [0.]\n",
      " [0.]\n",
      " [0.]\n",
      " [0.]\n",
      " [0.]\n",
      " [0.]\n",
      " [0.]\n",
      " [0.]\n",
      " [0.]\n",
      " [0.]]\n",
      "71 ricerca di merda\n",
      "72 ricerca di merda\n"
     ]
    },
    {
     "data": {
      "image/png": "[encoded data removed]",
      "text/plain": [
       "<Figure size 432x288 with 1 Axes>"
      ]
     },
     "metadata": {
      "needs_background": "light"
     },
     "output_type": "display_data"
    }
   ],
   "source": [
    "grouped = df.groupby(by='query')\n",
    "\n",
    "for i,j in grouped:\n",
    "    if len(j)>6:\n",
    "        print(len(j))\n",
    "        y = j['score'].to_numpy().flatten()\n",
    "        X = j[[\"cosine_y\",\"query\",\"numWordsQuery\",\"numWordsCV\",\"numCommonWords\"]].to_numpy()\n",
    "        model.fit(X, y)\n",
    "        y_pred = model.predict(X)\n",
    "        print(y_pred)\n",
    "    else:\n",
    "        print(i,\"ricerca di merda\")"
   ]
  },
  {
   "cell_type": "markdown",
   "metadata": {},
   "source": [
    "## KERAS VERSION"
   ]
  },
  {
   "cell_type": "code",
   "execution_count": 8,
   "metadata": {},
   "outputs": [
    {
     "name": "stderr",
     "output_type": "stream",
     "text": [
      "Using TensorFlow backend.\n"
     ]
    }
   ],
   "source": [
    "import keras\n",
    "from keras import backend as K\n",
    "from keras.models import Sequential\n",
    "from keras.layers import Activation\n",
    "from keras.layers.core import Dense\n",
    "from keras.optimizers import Adam\n",
    "from keras.metrics import categorical_crossentropy\n",
    "from keras.metrics import top_k_categorical_accuracy\n",
    "from keras.losses import categorical_crossentropy\n",
    "sess = tf.InteractiveSession()"
   ]
  },
  {
   "cell_type": "code",
   "execution_count": 202,
   "metadata": {},
   "outputs": [
    {
     "name": "stdout",
     "output_type": "stream",
     "text": [
      "_________________________________________________________________\n",
      "Layer (type)                 Output Shape              Param #   \n",
      "=================================================================\n",
      "dense_99 (Dense)             (None, 16)                96        \n",
      "_________________________________________________________________\n",
      "dense_100 (Dense)            (None, 32)                544       \n",
      "_________________________________________________________________\n",
      "dense_101 (Dense)            (None, 1)                 33        \n",
      "=================================================================\n",
      "Total params: 673\n",
      "Trainable params: 673\n",
      "Non-trainable params: 0\n",
      "_________________________________________________________________\n"
     ]
    }
   ],
   "source": [
    "model = Sequential([\n",
    "    Dense(16, input_shape = (5,), activation = \"relu\"),\n",
    "    Dense(32, activation = \"relu\"),\n",
    "    Dense(1, activation = \"sigmoid\")\n",
    "])\n",
    "model.summary()\n",
    "model.compile(Adam(lr = 0.0001), loss=\"binary_crossentropy\", metrics=[\"accuracy\"])"
   ]
  },
  {
   "cell_type": "code",
   "execution_count": null,
   "metadata": {},
   "outputs": [],
   "source": []
  },
  {
   "cell_type": "markdown",
   "metadata": {},
   "source": [
    "## data processing"
   ]
  },
  {
   "cell_type": "code",
   "execution_count": 172,
   "metadata": {},
   "outputs": [],
   "source": [
    "import pandas as pd\n",
    "import numpy as np\n",
    "\n",
    "train =  pd.read_csv(\"train.csv\")\n",
    "test = pd.read_csv(\"test.csv\")\n",
    "df = pd.concat((train,test))\n",
    "df =df[[\"cosine_y\",\"query\",\"numWordsQuery\",\"numWordsCV\",\"numCommonWords\",\"score\"]]\n",
    "\n",
    "X1 = train[[\"cosine_y\",\"query\",\"numWordsQuery\",\"numWordsCV\",\"numCommonWords\"]]\n",
    "y1 = train[\"score\"]"
   ]
  },
  {
   "cell_type": "code",
   "execution_count": 173,
   "metadata": {},
   "outputs": [
    {
     "name": "stdout",
     "output_type": "stream",
     "text": [
      "(373, 5) (373,)\n"
     ]
    }
   ],
   "source": [
    "X = X1.to_numpy()\n",
    "y = y1.to_numpy()\n",
    "y = y.flatten()\n",
    "print(X.shape, y.shape)"
   ]
  },
  {
   "cell_type": "code",
   "execution_count": 174,
   "metadata": {
    "scrolled": true
   },
   "outputs": [
    {
     "data": {
      "text/html": [
       "<div>\n",
       "<style scoped>\n",
       "    .dataframe tbody tr th:only-of-type {\n",
       "        vertical-align: middle;\n",
       "    }\n",
       "\n",
       "    .dataframe tbody tr th {\n",
       "        vertical-align: top;\n",
       "    }\n",
       "\n",
       "    .dataframe thead th {\n",
       "        text-align: right;\n",
       "    }\n",
       "</style>\n",
       "<table border=\"1\" class=\"dataframe\">\n",
       "  <thead>\n",
       "    <tr style=\"text-align: right;\">\n",
       "      <th></th>\n",
       "      <th>cosine_y</th>\n",
       "      <th>query</th>\n",
       "      <th>numWordsQuery</th>\n",
       "      <th>numWordsCV</th>\n",
       "      <th>numCommonWords</th>\n",
       "      <th>score</th>\n",
       "    </tr>\n",
       "  </thead>\n",
       "  <tbody>\n",
       "    <tr>\n",
       "      <th>0</th>\n",
       "      <td>0.363</td>\n",
       "      <td>72</td>\n",
       "      <td>7</td>\n",
       "      <td>2435</td>\n",
       "      <td>1</td>\n",
       "      <td>3</td>\n",
       "    </tr>\n",
       "    <tr>\n",
       "      <th>1</th>\n",
       "      <td>0.483</td>\n",
       "      <td>71</td>\n",
       "      <td>10</td>\n",
       "      <td>619</td>\n",
       "      <td>3</td>\n",
       "      <td>3</td>\n",
       "    </tr>\n",
       "    <tr>\n",
       "      <th>2</th>\n",
       "      <td>0.474</td>\n",
       "      <td>71</td>\n",
       "      <td>10</td>\n",
       "      <td>977</td>\n",
       "      <td>3</td>\n",
       "      <td>1</td>\n",
       "    </tr>\n",
       "    <tr>\n",
       "      <th>3</th>\n",
       "      <td>0.358</td>\n",
       "      <td>70</td>\n",
       "      <td>2</td>\n",
       "      <td>8796</td>\n",
       "      <td>1</td>\n",
       "      <td>3</td>\n",
       "    </tr>\n",
       "    <tr>\n",
       "      <th>4</th>\n",
       "      <td>0.358</td>\n",
       "      <td>70</td>\n",
       "      <td>2</td>\n",
       "      <td>2558</td>\n",
       "      <td>1</td>\n",
       "      <td>1</td>\n",
       "    </tr>\n",
       "  </tbody>\n",
       "</table>\n",
       "</div>"
      ],
      "text/plain": [
       "   cosine_y  query  numWordsQuery  numWordsCV  numCommonWords  score\n",
       "0     0.363     72              7        2435               1      3\n",
       "1     0.483     71             10         619               3      3\n",
       "2     0.474     71             10         977               3      1\n",
       "3     0.358     70              2        8796               1      3\n",
       "4     0.358     70              2        2558               1      1"
      ]
     },
     "execution_count": 174,
     "metadata": {},
     "output_type": "execute_result"
    }
   ],
   "source": [
    "df.head()"
   ]
  },
  {
   "cell_type": "markdown",
   "metadata": {},
   "source": [
    "# modello consideratndo tutte le query"
   ]
  },
  {
   "cell_type": "code",
   "execution_count": 206,
   "metadata": {},
   "outputs": [
    {
     "name": "stdout",
     "output_type": "stream",
     "text": [
      "_________________________________________________________________\n",
      "Layer (type)                 Output Shape              Param #   \n",
      "=================================================================\n",
      "dense_111 (Dense)            (None, 16)                80        \n",
      "_________________________________________________________________\n",
      "dense_112 (Dense)            (None, 32)                544       \n",
      "_________________________________________________________________\n",
      "dense_113 (Dense)            (None, 1)                 33        \n",
      "=================================================================\n",
      "Total params: 657\n",
      "Trainable params: 657\n",
      "Non-trainable params: 0\n",
      "_________________________________________________________________\n"
     ]
    },
    {
     "ename": "ValueError",
     "evalue": "The model cannot be compiled because it has no loss to optimize.",
     "output_type": "error",
     "traceback": [
      "\u001b[1;31m---------------------------------------------------------------------------\u001b[0m",
      "\u001b[1;31mValueError\u001b[0m                                Traceback (most recent call last)",
      "\u001b[1;32m<ipython-input-206-a1eb807c0c9a>\u001b[0m in \u001b[0;36m<module>\u001b[1;34m\u001b[0m\n\u001b[0;32m      5\u001b[0m ])\n\u001b[0;32m      6\u001b[0m \u001b[0mmodel\u001b[0m\u001b[1;33m.\u001b[0m\u001b[0msummary\u001b[0m\u001b[1;33m(\u001b[0m\u001b[1;33m)\u001b[0m\u001b[1;33m\u001b[0m\u001b[1;33m\u001b[0m\u001b[0m\n\u001b[1;32m----> 7\u001b[1;33m \u001b[0mmodel\u001b[0m\u001b[1;33m.\u001b[0m\u001b[0mcompile\u001b[0m\u001b[1;33m(\u001b[0m\u001b[0mAdam\u001b[0m\u001b[1;33m(\u001b[0m\u001b[0mlr\u001b[0m \u001b[1;33m=\u001b[0m \u001b[1;36m0.01\u001b[0m\u001b[1;33m)\u001b[0m\u001b[1;33m,\u001b[0m \u001b[0mmetrics\u001b[0m\u001b[1;33m=\u001b[0m\u001b[1;33m[\u001b[0m\u001b[1;34m\"accuracy\"\u001b[0m\u001b[1;33m]\u001b[0m\u001b[1;33m)\u001b[0m\u001b[1;33m\u001b[0m\u001b[1;33m\u001b[0m\u001b[0m\n\u001b[0m\u001b[0;32m      8\u001b[0m \u001b[0mmodel\u001b[0m\u001b[1;33m.\u001b[0m\u001b[0mfit\u001b[0m\u001b[1;33m(\u001b[0m\u001b[0mX\u001b[0m\u001b[1;33m,\u001b[0m\u001b[0my\u001b[0m\u001b[1;33m,\u001b[0m\u001b[0mvalidation_split\u001b[0m\u001b[1;33m=\u001b[0m\u001b[1;36m0.2\u001b[0m\u001b[1;33m,\u001b[0m \u001b[0mbatch_size\u001b[0m\u001b[1;33m=\u001b[0m\u001b[1;36m1\u001b[0m\u001b[1;33m,\u001b[0m\u001b[0mepochs\u001b[0m\u001b[1;33m=\u001b[0m\u001b[1;36m10\u001b[0m\u001b[1;33m,\u001b[0m \u001b[0mshuffle\u001b[0m\u001b[1;33m=\u001b[0m\u001b[1;32mFalse\u001b[0m\u001b[1;33m,\u001b[0m \u001b[0mverbose\u001b[0m\u001b[1;33m=\u001b[0m\u001b[1;36m2\u001b[0m\u001b[1;33m)\u001b[0m\u001b[1;33m\u001b[0m\u001b[1;33m\u001b[0m\u001b[0m\n\u001b[0;32m      9\u001b[0m \u001b[0mvali\u001b[0m \u001b[1;33m=\u001b[0m \u001b[0mpd\u001b[0m\u001b[1;33m.\u001b[0m\u001b[0mread_csv\u001b[0m\u001b[1;33m(\u001b[0m\u001b[1;34m\"vali.csv\"\u001b[0m\u001b[1;33m)\u001b[0m\u001b[1;33m\u001b[0m\u001b[1;33m\u001b[0m\u001b[0m\n",
      "\u001b[1;32m~\\Anaconda3\\lib\\site-packages\\keras\\engine\\training.py\u001b[0m in \u001b[0;36mcompile\u001b[1;34m(self, optimizer, loss, metrics, loss_weights, sample_weight_mode, weighted_metrics, target_tensors, **kwargs)\u001b[0m\n\u001b[0;32m    350\u001b[0m             \u001b[1;32mif\u001b[0m \u001b[0mtotal_loss\u001b[0m \u001b[1;32mis\u001b[0m \u001b[1;32mNone\u001b[0m\u001b[1;33m:\u001b[0m\u001b[1;33m\u001b[0m\u001b[1;33m\u001b[0m\u001b[0m\n\u001b[0;32m    351\u001b[0m                 \u001b[1;32mif\u001b[0m \u001b[1;32mnot\u001b[0m \u001b[0mself\u001b[0m\u001b[1;33m.\u001b[0m\u001b[0mlosses\u001b[0m\u001b[1;33m:\u001b[0m\u001b[1;33m\u001b[0m\u001b[1;33m\u001b[0m\u001b[0m\n\u001b[1;32m--> 352\u001b[1;33m                     raise ValueError('The model cannot be compiled '\n\u001b[0m\u001b[0;32m    353\u001b[0m                                      'because it has no loss to optimize.')\n\u001b[0;32m    354\u001b[0m                 \u001b[1;32melse\u001b[0m\u001b[1;33m:\u001b[0m\u001b[1;33m\u001b[0m\u001b[1;33m\u001b[0m\u001b[0m\n",
      "\u001b[1;31mValueError\u001b[0m: The model cannot be compiled because it has no loss to optimize."
     ]
    }
   ],
   "source": [
    "model = Sequential([\n",
    "    Dense(16, input_shape = (4,), activation = \"relu\"),\n",
    "    Dense(32, activation = \"relu\"),\n",
    "    Dense(1, activation = \"sigmoid\")\n",
    "])\n",
    "model.summary()\n",
    "model.compile(Adam(lr = 0.01), loss=\"binary_crossentropy\", metrics=[\"accuracy\"])\n",
    "model.fit(X,y,validation_split=0.2, batch_size=1,epochs=10, shuffle=False, verbose=2)\n",
    "vali = pd.read_csv(\"vali.csv\")\n",
    "\n",
    "vali=vali[[\"cosine_y\",\"numWordsQuery\",\"numWordsCV\",\"numCommonWords\"]]\n",
    "#vali = vali.iloc[:8] #considero una sola query\n",
    "predictions = model.predict(vali, batch_size=5, verbose=0)"
   ]
  },
  {
   "cell_type": "markdown",
   "metadata": {},
   "source": [
    "# mdello per ogni query"
   ]
  },
  {
   "cell_type": "code",
   "execution_count": 182,
   "metadata": {
    "scrolled": true
   },
   "outputs": [
    {
     "name": "stdout",
     "output_type": "stream",
     "text": [
      "7\n",
      "[]\n",
      "6 Not enough samples\n",
      "8\n",
      "[]\n",
      "10\n",
      "[]\n",
      "10\n",
      "[]\n",
      "10 Not enough samples\n",
      "7\n",
      "[]\n",
      "12 Not enough samples\n",
      "11\n",
      "[]\n",
      "14 Not enough samples\n",
      "15 Not enough samples\n",
      "10\n",
      "[]\n",
      "17 Not enough samples\n",
      "12\n",
      "[]\n",
      "13\n",
      "[]\n",
      "20 Not enough samples\n",
      "11\n",
      "[]\n",
      "7\n",
      "[]\n",
      "23 Not enough samples\n",
      "12\n",
      "[]\n",
      "13\n",
      "[]\n",
      "10\n",
      "[]\n",
      "8\n",
      "[]\n",
      "10\n",
      "[]\n",
      "10\n",
      "[]\n",
      "10\n",
      "[]\n",
      "31 Not enough samples\n",
      "9\n",
      "[]\n",
      "33 Not enough samples\n",
      "11\n",
      "[]\n",
      "11\n",
      "[]\n",
      "14\n",
      "[]\n",
      "10\n",
      "[]\n",
      "38 Not enough samples\n",
      "39 Not enough samples\n",
      "8\n",
      "[]\n",
      "41 Not enough samples\n",
      "42 Not enough samples\n",
      "10\n",
      "[]\n",
      "12\n",
      "[]\n",
      "11\n",
      "[]\n",
      "22\n",
      "[]\n",
      "15\n",
      "[]\n",
      "48 Not enough samples\n",
      "10\n",
      "[]\n",
      "50 Not enough samples\n",
      "10\n",
      "[]\n",
      "12\n",
      "[]\n",
      "9\n",
      "[]\n",
      "10\n",
      "[]\n",
      "12\n",
      "[]\n",
      "13\n",
      "[]\n",
      "57 Not enough samples\n",
      "58 Not enough samples\n",
      "10\n",
      "[]\n",
      "13\n",
      "[]\n",
      "11\n",
      "[]\n",
      "13\n",
      "[]\n",
      "11\n",
      "[]\n",
      "64 Not enough samples\n",
      "9\n",
      "[]\n",
      "66 Not enough samples\n",
      "12\n",
      "[]\n",
      "10\n",
      "[]\n",
      "13\n",
      "[]\n",
      "11\n",
      "[]\n",
      "71 Not enough samples\n",
      "72 Not enough samples\n"
     ]
    }
   ],
   "source": [
    "grouped = df.groupby(by='query')\n",
    "\n",
    "for i,j in grouped:\n",
    "    if len(j)>5:\n",
    "        print(len(j))\n",
    "        n=int(80*len(j)/100)\n",
    "        j=j.iloc[:n]\n",
    "        test1 = j[n:]\n",
    "        test1=test1[[\"cosine_y\",\"numWordsQuery\",\"numWordsCV\",\"numCommonWords\"]].to_numpy()\n",
    "        y = j['score'].to_numpy().flatten()\n",
    "        X = j[[\"cosine_y\",\"numWordsQuery\",\"numWordsCV\",\"numCommonWords\"]].to_numpy()\n",
    "        m=model.fit(X,y,validation_split=0.2, batch_size=1,epochs=3, shuffle=False, verbose=False)\n",
    "        predictions = model.predict(test1, batch_size=1, verbose=0)\n",
    "        print(predictions)\n",
    "    else:\n",
    "\n",
    "        print(i,\"Not enough samples\")"
   ]
  },
  {
   "cell_type": "code",
   "execution_count": 183,
   "metadata": {},
   "outputs": [],
   "source": [
    "vali = pd.read_csv(\"vali.csv\")\n",
    "\n",
    "vali=vali[[\"cosine_y\",\"numWordsQuery\",\"numWordsCV\",\"numCommonWords\"]]\n",
    "#vali = vali.iloc[:8] #considero una sola query\n",
    "predictions = model.predict(vali, batch_size=5, verbose=0)"
   ]
  },
  {
   "cell_type": "code",
   "execution_count": 184,
   "metadata": {},
   "outputs": [],
   "source": []
  },
  {
   "cell_type": "code",
   "execution_count": 99,
   "metadata": {
    "scrolled": true
   },
   "outputs": [
    {
     "name": "stdout",
     "output_type": "stream",
     "text": [
      "[0.]\n",
      "[0.]\n",
      "[0.]\n",
      "[0.]\n",
      "[0.]\n",
      "[0.]\n",
      "[0.]\n",
      "[0.]\n",
      "[0.]\n",
      "[0.]\n",
      "[0.]\n",
      "[0.]\n",
      "[0.]\n",
      "[0.]\n",
      "[0.]\n",
      "[0.]\n",
      "[0.]\n",
      "[0.]\n",
      "[0.]\n",
      "[0.]\n",
      "[0.]\n",
      "[0.]\n",
      "[0.]\n",
      "[0.]\n",
      "[0.]\n",
      "[0.]\n",
      "[0.]\n",
      "[0.]\n",
      "[0.]\n",
      "[0.]\n",
      "[0.]\n",
      "[0.]\n",
      "[0.]\n",
      "[0.]\n",
      "[0.]\n",
      "[6.5561305e-32]\n",
      "[0.]\n",
      "[4.116105e-34]\n",
      "[0.]\n",
      "[0.]\n",
      "[3.0007422e-19]\n"
     ]
    }
   ],
   "source": [
    "for i in predictions:\n",
    "    print(i)"
   ]
  },
  {
   "cell_type": "markdown",
   "metadata": {},
   "source": [
    "# tying to shuffle dataset"
   ]
  },
  {
   "cell_type": "code",
   "execution_count": 103,
   "metadata": {},
   "outputs": [
    {
     "data": {
      "text/html": [
       "<div>\n",
       "<style scoped>\n",
       "    .dataframe tbody tr th:only-of-type {\n",
       "        vertical-align: middle;\n",
       "    }\n",
       "\n",
       "    .dataframe tbody tr th {\n",
       "        vertical-align: top;\n",
       "    }\n",
       "\n",
       "    .dataframe thead th {\n",
       "        text-align: right;\n",
       "    }\n",
       "</style>\n",
       "<table border=\"1\" class=\"dataframe\">\n",
       "  <thead>\n",
       "    <tr style=\"text-align: right;\">\n",
       "      <th></th>\n",
       "      <th>cosine_y</th>\n",
       "      <th>query</th>\n",
       "      <th>numWordsQuery</th>\n",
       "      <th>numWordsCV</th>\n",
       "      <th>numCommonWords</th>\n",
       "      <th>score</th>\n",
       "    </tr>\n",
       "  </thead>\n",
       "  <tbody>\n",
       "    <tr>\n",
       "      <th>0</th>\n",
       "      <td>0.363</td>\n",
       "      <td>72</td>\n",
       "      <td>7</td>\n",
       "      <td>2435</td>\n",
       "      <td>1</td>\n",
       "      <td>3</td>\n",
       "    </tr>\n",
       "    <tr>\n",
       "      <th>1</th>\n",
       "      <td>0.483</td>\n",
       "      <td>71</td>\n",
       "      <td>10</td>\n",
       "      <td>619</td>\n",
       "      <td>3</td>\n",
       "      <td>3</td>\n",
       "    </tr>\n",
       "    <tr>\n",
       "      <th>2</th>\n",
       "      <td>0.474</td>\n",
       "      <td>71</td>\n",
       "      <td>10</td>\n",
       "      <td>977</td>\n",
       "      <td>3</td>\n",
       "      <td>1</td>\n",
       "    </tr>\n",
       "    <tr>\n",
       "      <th>3</th>\n",
       "      <td>0.358</td>\n",
       "      <td>70</td>\n",
       "      <td>2</td>\n",
       "      <td>8796</td>\n",
       "      <td>1</td>\n",
       "      <td>3</td>\n",
       "    </tr>\n",
       "    <tr>\n",
       "      <th>4</th>\n",
       "      <td>0.358</td>\n",
       "      <td>70</td>\n",
       "      <td>2</td>\n",
       "      <td>2558</td>\n",
       "      <td>1</td>\n",
       "      <td>1</td>\n",
       "    </tr>\n",
       "  </tbody>\n",
       "</table>\n",
       "</div>"
      ],
      "text/plain": [
       "   cosine_y  query  numWordsQuery  numWordsCV  numCommonWords  score\n",
       "0     0.363     72              7        2435               1      3\n",
       "1     0.483     71             10         619               3      3\n",
       "2     0.474     71             10         977               3      1\n",
       "3     0.358     70              2        8796               1      3\n",
       "4     0.358     70              2        2558               1      1"
      ]
     },
     "execution_count": 103,
     "metadata": {},
     "output_type": "execute_result"
    }
   ],
   "source": [
    "\n",
    "df.head()"
   ]
  },
  {
   "cell_type": "markdown",
   "metadata": {},
   "source": [
    "# DEVO IMPLEMENTEARE MISURA ACCURACY CUSTOM"
   ]
  },
  {
   "cell_type": "code",
   "execution_count": 105,
   "metadata": {},
   "outputs": [],
   "source": [
    "X1 = train[[\"cosine_y\",\"query\",\"numWordsQuery\",\"numWordsCV\",\"numCommonWords\"]]\n",
    "y1 = train[\"score\"]\n",
    "X = X1.to_numpy()\n",
    "y = y1.to_numpy()\n",
    "y = y.flatten()"
   ]
  },
  {
   "cell_type": "code",
   "execution_count": 106,
   "metadata": {},
   "outputs": [],
   "source": [
    "X, y = shuffle(X, y)"
   ]
  },
  {
   "cell_type": "code",
   "execution_count": 110,
   "metadata": {},
   "outputs": [
    {
     "name": "stdout",
     "output_type": "stream",
     "text": [
      "Train on 298 samples, validate on 75 samples\n",
      "Epoch 1/10\n",
      " - 1s - loss: 43.2350 - acc: 0.0000e+00 - val_loss: 44.1672 - val_acc: 0.0000e+00\n",
      "Epoch 2/10\n",
      " - 1s - loss: 43.2061 - acc: 0.0000e+00 - val_loss: 44.0955 - val_acc: 0.0000e+00\n",
      "Epoch 3/10\n",
      " - 1s - loss: 42.9181 - acc: 0.0000e+00 - val_loss: 43.5193 - val_acc: 0.0000e+00\n",
      "Epoch 4/10\n",
      " - 0s - loss: -5.8689e+00 - acc: 0.2383 - val_loss: -2.6800e+01 - val_acc: 0.3600\n",
      "Epoch 5/10\n",
      " - 1s - loss: -2.6544e+01 - acc: 0.3456 - val_loss: -2.7352e+01 - val_acc: 0.3600\n",
      "Epoch 6/10\n",
      " - 1s - loss: -2.6625e+01 - acc: 0.3456 - val_loss: -2.7440e+01 - val_acc: 0.3600\n",
      "Epoch 7/10\n",
      " - 1s - loss: -2.6653e+01 - acc: 0.3456 - val_loss: -2.7495e+01 - val_acc: 0.3600\n",
      "Epoch 8/10\n",
      " - 1s - loss: -2.6680e+01 - acc: 0.3456 - val_loss: -2.7560e+01 - val_acc: 0.3600\n",
      "Epoch 9/10\n",
      " - 1s - loss: -2.6710e+01 - acc: 0.3456 - val_loss: -2.7627e+01 - val_acc: 0.3600\n",
      "Epoch 10/10\n",
      " - 1s - loss: -2.6742e+01 - acc: 0.3456 - val_loss: -2.7659e+01 - val_acc: 0.3600\n"
     ]
    },
    {
     "data": {
      "text/plain": [
       "<keras.callbacks.History at 0x1a1c1c6d048>"
      ]
     },
     "execution_count": 110,
     "metadata": {},
     "output_type": "execute_result"
    }
   ],
   "source": [
    "model.fit(X,y,validation_split=0.2, batch_size=1,epochs=10, shuffle=False, verbose=2)"
   ]
  },
  {
   "cell_type": "code",
   "execution_count": 111,
   "metadata": {},
   "outputs": [],
   "source": [
    "# shuffling within query"
   ]
  },
  {
   "cell_type": "code",
   "execution_count": 116,
   "metadata": {
    "scrolled": true
   },
   "outputs": [
    {
     "name": "stdout",
     "output_type": "stream",
     "text": [
      "7\n",
      "Train on 4 samples, validate on 1 samples\n",
      "Epoch 1/3\n",
      " - 0s - loss: -3.5870e+01 - acc: 0.0000e+00 - val_loss: -1.5942e+01 - val_acc: 0.0000e+00\n",
      "Epoch 2/3\n",
      " - 0s - loss: -3.5870e+01 - acc: 0.0000e+00 - val_loss: -1.5942e+01 - val_acc: 0.0000e+00\n",
      "Epoch 3/3\n",
      " - 0s - loss: -3.5870e+01 - acc: 0.0000e+00 - val_loss: -1.5942e+01 - val_acc: 0.0000e+00\n",
      "[]\n",
      "6 Not enough samples\n",
      "8\n",
      "Train on 4 samples, validate on 2 samples\n",
      "Epoch 1/3\n",
      " - 0s - loss: -3.5870e+01 - acc: 0.0000e+00 - val_loss: -3.1885e+01 - val_acc: 0.0000e+00\n",
      "Epoch 2/3\n",
      " - 0s - loss: -3.5870e+01 - acc: 0.0000e+00 - val_loss: -3.1885e+01 - val_acc: 0.0000e+00\n",
      "Epoch 3/3\n",
      " - 0s - loss: -3.5870e+01 - acc: 0.0000e+00 - val_loss: -3.1885e+01 - val_acc: 0.0000e+00\n",
      "[]\n",
      "10\n",
      "Train on 6 samples, validate on 2 samples\n",
      "Epoch 1/3\n",
      " - 0s - loss: -4.5170e+01 - acc: 0.0000e+00 - val_loss: -3.8208e+01 - val_acc: 0.0000e+00\n",
      "Epoch 2/3\n",
      " - 0s - loss: -4.5170e+01 - acc: 0.0000e+00 - val_loss: -3.8208e+01 - val_acc: 0.0000e+00\n",
      "Epoch 3/3\n",
      " - 0s - loss: -4.5170e+01 - acc: 0.0000e+00 - val_loss: -3.8208e+01 - val_acc: 0.0000e+00\n",
      "[]\n",
      "10\n",
      "Train on 6 samples, validate on 2 samples\n",
      "Epoch 1/3\n",
      " - 0s - loss: -2.9228e+01 - acc: 0.3333 - val_loss: -4.7827e+01 - val_acc: 0.0000e+00\n",
      "Epoch 2/3\n",
      " - 0s - loss: -2.9228e+01 - acc: 0.3333 - val_loss: -4.7827e+01 - val_acc: 0.0000e+00\n",
      "Epoch 3/3\n",
      " - 0s - loss: -2.9228e+01 - acc: 0.3333 - val_loss: -4.7827e+01 - val_acc: 0.0000e+00\n",
      "[]\n",
      "10 Not enough samples\n",
      "7\n",
      "Train on 4 samples, validate on 1 samples\n",
      "Epoch 1/3\n",
      " - 0s - loss: -4.7827e+01 - acc: 0.2500 - val_loss: 1.1921e-07 - val_acc: 1.0000\n",
      "Epoch 2/3\n",
      " - 0s - loss: -4.7827e+01 - acc: 0.2500 - val_loss: 1.1921e-07 - val_acc: 1.0000\n",
      "Epoch 3/3\n",
      " - 0s - loss: -4.7827e+01 - acc: 0.2500 - val_loss: 1.1921e-07 - val_acc: 1.0000\n",
      "[]\n",
      "12 Not enough samples\n",
      "11\n",
      "Train on 6 samples, validate on 2 samples\n",
      "Epoch 1/3\n",
      " - 0s - loss: -7.7879e+00 - acc: 0.5000 - val_loss: -2.1834e+01 - val_acc: 0.0000e+00\n",
      "Epoch 2/3\n",
      " - 0s - loss: -7.7918e+00 - acc: 0.5000 - val_loss: -2.1834e+01 - val_acc: 0.0000e+00\n",
      "Epoch 3/3\n",
      " - 0s - loss: -7.7973e+00 - acc: 0.5000 - val_loss: -2.1834e+01 - val_acc: 0.0000e+00\n",
      "[]\n",
      "14 Not enough samples\n",
      "15 Not enough samples\n",
      "10\n",
      "Train on 6 samples, validate on 2 samples\n",
      "Epoch 1/3\n",
      " - 0s - loss: 1.1921e-07 - acc: 1.0000 - val_loss: 1.1921e-07 - val_acc: 1.0000\n",
      "Epoch 2/3\n",
      " - 0s - loss: 1.1921e-07 - acc: 1.0000 - val_loss: 1.1921e-07 - val_acc: 1.0000\n",
      "Epoch 3/3\n",
      " - 0s - loss: 1.1921e-07 - acc: 1.0000 - val_loss: 1.1921e-07 - val_acc: 1.0000\n",
      "[]\n",
      "17 Not enough samples\n",
      "12\n",
      "Train on 7 samples, validate on 2 samples\n",
      "Epoch 1/3\n",
      " - 0s - loss: -3.1885e+01 - acc: 0.0000e+00 - val_loss: -5.5798e+01 - val_acc: 0.0000e+00\n",
      "Epoch 2/3\n",
      " - 0s - loss: -3.1885e+01 - acc: 0.0000e+00 - val_loss: -5.5798e+01 - val_acc: 0.0000e+00\n",
      "Epoch 3/3\n",
      " - 0s - loss: -3.1885e+01 - acc: 0.0000e+00 - val_loss: -5.5798e+01 - val_acc: 0.0000e+00\n",
      "[]\n",
      "13\n",
      "Train on 8 samples, validate on 2 samples\n",
      "Epoch 1/3\n",
      " - 0s - loss: -1.7875e+01 - acc: 0.1250 - val_loss: -2.3914e+01 - val_acc: 0.5000\n",
      "Epoch 2/3\n",
      " - 0s - loss: -1.7888e+01 - acc: 0.1250 - val_loss: -2.3914e+01 - val_acc: 0.5000\n",
      "Epoch 3/3\n",
      " - 0s - loss: -1.7906e+01 - acc: 0.1250 - val_loss: -2.3914e+01 - val_acc: 0.5000\n",
      "[]\n",
      "20 Not enough samples\n",
      "11\n",
      "Train on 6 samples, validate on 2 samples\n",
      "Epoch 1/3\n",
      " - 0s - loss: -7.9712e+00 - acc: 0.6667 - val_loss: -3.1885e+01 - val_acc: 0.0000e+00\n",
      "Epoch 2/3\n",
      " - 0s - loss: -7.9712e+00 - acc: 0.6667 - val_loss: -3.1885e+01 - val_acc: 0.0000e+00\n",
      "Epoch 3/3\n",
      " - 0s - loss: -7.9712e+00 - acc: 0.6667 - val_loss: -3.1885e+01 - val_acc: 0.0000e+00\n",
      "[]\n",
      "7\n",
      "Train on 4 samples, validate on 1 samples\n",
      "Epoch 1/3\n",
      " - 0s - loss: -3.1885e+01 - acc: 0.0000e+00 - val_loss: -4.7827e+01 - val_acc: 0.0000e+00\n",
      "Epoch 2/3\n",
      " - 0s - loss: -3.1885e+01 - acc: 0.0000e+00 - val_loss: -4.7827e+01 - val_acc: 0.0000e+00\n",
      "Epoch 3/3\n",
      " - 0s - loss: -3.1885e+01 - acc: 0.0000e+00 - val_loss: -4.7827e+01 - val_acc: 0.0000e+00\n",
      "[]\n",
      "23 Not enough samples\n",
      "12\n",
      "Train on 7 samples, validate on 2 samples\n",
      "Epoch 1/3\n",
      " - 0s - loss: -4.4462e+00 - acc: 0.7143 - val_loss: 0.1879 - val_acc: 1.0000\n",
      "Epoch 2/3\n",
      " - 0s - loss: -4.4480e+00 - acc: 0.7143 - val_loss: 0.1839 - val_acc: 1.0000\n",
      "Epoch 3/3\n",
      " - 0s - loss: -4.4503e+00 - acc: 0.7143 - val_loss: 0.1795 - val_acc: 1.0000\n",
      "[]\n",
      "13\n",
      "Train on 8 samples, validate on 2 samples\n",
      "Epoch 1/3\n",
      " - 0s - loss: -3.7863e+01 - acc: 0.0000e+00 - val_loss: -4.7827e+01 - val_acc: 0.0000e+00\n",
      "Epoch 2/3\n",
      " - 0s - loss: -3.7863e+01 - acc: 0.0000e+00 - val_loss: -4.7827e+01 - val_acc: 0.0000e+00\n",
      "Epoch 3/3\n",
      " - 0s - loss: -3.7863e+01 - acc: 0.0000e+00 - val_loss: -4.7827e+01 - val_acc: 0.0000e+00\n",
      "[]\n",
      "10\n",
      "Train on 6 samples, validate on 2 samples\n",
      "Epoch 1/3\n",
      " - 0s - loss: -5.3141e+01 - acc: 0.0000e+00 - val_loss: -6.3770e+01 - val_acc: 0.0000e+00\n",
      "Epoch 2/3\n",
      " - 0s - loss: -5.3141e+01 - acc: 0.0000e+00 - val_loss: -6.3770e+01 - val_acc: 0.0000e+00\n",
      "Epoch 3/3\n",
      " - 0s - loss: -5.3141e+01 - acc: 0.0000e+00 - val_loss: -6.3770e+01 - val_acc: 0.0000e+00\n",
      "[]\n",
      "8\n",
      "Train on 4 samples, validate on 2 samples\n",
      "Epoch 1/3\n",
      " - 0s - loss: -1.5942e+01 - acc: 0.2500 - val_loss: -1.5942e+01 - val_acc: 0.5000\n",
      "Epoch 2/3\n",
      " - 0s - loss: -1.5942e+01 - acc: 0.2500 - val_loss: -1.5942e+01 - val_acc: 0.5000\n",
      "Epoch 3/3\n",
      " - 0s - loss: -1.5942e+01 - acc: 0.2500 - val_loss: -1.5942e+01 - val_acc: 0.5000\n",
      "[]\n",
      "10\n",
      "Train on 6 samples, validate on 2 samples\n",
      "Epoch 1/3\n",
      " - 0s - loss: -3.1885e+01 - acc: 0.1667 - val_loss: -1.5942e+01 - val_acc: 0.5000\n",
      "Epoch 2/3\n",
      " - 0s - loss: -3.1885e+01 - acc: 0.1667 - val_loss: -1.5942e+01 - val_acc: 0.5000\n",
      "Epoch 3/3\n",
      " - 0s - loss: -3.1885e+01 - acc: 0.1667 - val_loss: -1.5942e+01 - val_acc: 0.5000\n",
      "[]\n",
      "10\n",
      "Train on 6 samples, validate on 2 samples\n",
      "Epoch 1/3\n",
      " - 0s - loss: -3.7199e+01 - acc: 0.1667 - val_loss: -6.3770e+01 - val_acc: 0.0000e+00\n",
      "Epoch 2/3\n",
      " - 0s - loss: -3.7199e+01 - acc: 0.1667 - val_loss: -6.3770e+01 - val_acc: 0.0000e+00\n",
      "Epoch 3/3\n",
      " - 0s - loss: -3.7199e+01 - acc: 0.1667 - val_loss: -6.3770e+01 - val_acc: 0.0000e+00\n",
      "[]\n",
      "10\n",
      "Train on 6 samples, validate on 2 samples\n",
      "Epoch 1/3\n",
      " - 0s - loss: -2.0794e+01 - acc: 0.5000 - val_loss: -1.5942e+01 - val_acc: 0.5000\n",
      "Epoch 2/3\n",
      " - 0s - loss: -2.0890e+01 - acc: 0.5000 - val_loss: -1.5942e+01 - val_acc: 0.5000\n",
      "Epoch 3/3\n",
      " - 0s - loss: -2.0890e+01 - acc: 0.5000 - val_loss: -1.5942e+01 - val_acc: 0.5000\n",
      "[]\n",
      "31 Not enough samples\n",
      "9\n",
      "Train on 5 samples, validate on 2 samples\n",
      "Epoch 1/3\n",
      " - 0s - loss: -9.5654e+00 - acc: 0.6000 - val_loss: -2.3914e+01 - val_acc: 0.0000e+00\n",
      "Epoch 2/3\n",
      " - 0s - loss: -9.5654e+00 - acc: 0.6000 - val_loss: -2.3914e+01 - val_acc: 0.0000e+00\n",
      "Epoch 3/3\n",
      " - 0s - loss: -9.5654e+00 - acc: 0.6000 - val_loss: -2.3914e+01 - val_acc: 0.0000e+00\n",
      "[]\n",
      "33 Not enough samples\n",
      "11\n",
      "Train on 6 samples, validate on 2 samples\n",
      "Epoch 1/3\n",
      " - 0s - loss: -2.6571e+01 - acc: 0.1667 - val_loss: -1.5942e+01 - val_acc: 0.0000e+00\n",
      "Epoch 2/3\n",
      " - 0s - loss: -2.6571e+01 - acc: 0.1667 - val_loss: -1.5942e+01 - val_acc: 0.0000e+00\n",
      "Epoch 3/3\n",
      " - 0s - loss: -2.6571e+01 - acc: 0.1667 - val_loss: -1.5942e+01 - val_acc: 0.0000e+00\n",
      "[]\n",
      "11\n",
      "Train on 6 samples, validate on 2 samples\n",
      "Epoch 1/3\n",
      " - 0s - loss: 4.5732e-05 - acc: 1.0000 - val_loss: -1.5942e+01 - val_acc: 0.5000\n",
      "Epoch 2/3\n",
      " - 0s - loss: 4.5593e-05 - acc: 1.0000 - val_loss: -1.5942e+01 - val_acc: 0.5000\n",
      "Epoch 3/3\n",
      " - 0s - loss: 4.5534e-05 - acc: 1.0000 - val_loss: -1.5942e+01 - val_acc: 0.5000\n",
      "[]\n",
      "14\n",
      "Train on 8 samples, validate on 3 samples\n",
      "Epoch 1/3\n",
      " - 0s - loss: -1.7935e+01 - acc: 0.5000 - val_loss: -5.3141e+00 - val_acc: 0.6667\n",
      "Epoch 2/3\n",
      " - 0s - loss: -1.7935e+01 - acc: 0.5000 - val_loss: -5.3141e+00 - val_acc: 0.6667\n",
      "Epoch 3/3\n",
      " - 0s - loss: -1.7935e+01 - acc: 0.5000 - val_loss: -5.3141e+00 - val_acc: 0.6667\n",
      "[]\n",
      "10\n",
      "Train on 6 samples, validate on 2 samples\n",
      "Epoch 1/3\n",
      " - 0s - loss: -5.8455e+01 - acc: 0.0000e+00 - val_loss: -3.9856e+01 - val_acc: 0.0000e+00\n",
      "Epoch 2/3\n",
      " - 0s - loss: -5.8455e+01 - acc: 0.0000e+00 - val_loss: -3.9856e+01 - val_acc: 0.0000e+00\n",
      "Epoch 3/3\n",
      " - 0s - loss: -5.8455e+01 - acc: 0.0000e+00 - val_loss: -3.9856e+01 - val_acc: 0.0000e+00\n",
      "[]\n",
      "38 Not enough samples\n",
      "39 Not enough samples\n",
      "8\n",
      "Train on 4 samples, validate on 2 samples\n",
      "Epoch 1/3\n",
      " - 0s - loss: -3.5870e+01 - acc: 0.2500 - val_loss: -2.3914e+01 - val_acc: 0.5000\n",
      "Epoch 2/3\n",
      " - 0s - loss: -3.5870e+01 - acc: 0.2500 - val_loss: -2.3914e+01 - val_acc: 0.5000\n",
      "Epoch 3/3\n",
      " - 0s - loss: -3.5870e+01 - acc: 0.2500 - val_loss: -2.3914e+01 - val_acc: 0.5000\n"
     ]
    },
    {
     "name": "stdout",
     "output_type": "stream",
     "text": [
      "[]\n",
      "41 Not enough samples\n",
      "42 Not enough samples\n",
      "10\n",
      "Train on 6 samples, validate on 2 samples\n",
      "Epoch 1/3\n",
      " - 0s - loss: 0.3029 - acc: 1.0000 - val_loss: 0.4518 - val_acc: 1.0000\n",
      "Epoch 2/3\n",
      " - 0s - loss: 0.3002 - acc: 1.0000 - val_loss: 0.4461 - val_acc: 1.0000\n",
      "Epoch 3/3\n",
      " - 0s - loss: 0.2961 - acc: 1.0000 - val_loss: 0.4392 - val_acc: 1.0000\n",
      "[]\n",
      "12\n",
      "Train on 7 samples, validate on 2 samples\n",
      "Epoch 1/3\n",
      " - 0s - loss: 0.0101 - acc: 1.0000 - val_loss: 1.1921e-07 - val_acc: 1.0000\n",
      "Epoch 2/3\n",
      " - 0s - loss: 0.0101 - acc: 1.0000 - val_loss: 1.1921e-07 - val_acc: 1.0000\n",
      "Epoch 3/3\n",
      " - 0s - loss: 0.0101 - acc: 1.0000 - val_loss: 1.1921e-07 - val_acc: 1.0000\n",
      "[]\n",
      "11\n",
      "Train on 6 samples, validate on 2 samples\n",
      "Epoch 1/3\n",
      " - 0s - loss: -2.6571e+01 - acc: 0.3333 - val_loss: -7.9712e+00 - val_acc: 0.5000\n",
      "Epoch 2/3\n",
      " - 0s - loss: -2.6571e+01 - acc: 0.3333 - val_loss: -7.9712e+00 - val_acc: 0.5000\n",
      "Epoch 3/3\n",
      " - 0s - loss: -2.6571e+01 - acc: 0.3333 - val_loss: -7.9712e+00 - val_acc: 0.5000\n",
      "[]\n",
      "22\n",
      "Train on 13 samples, validate on 4 samples\n",
      "Epoch 1/3\n",
      " - 0s - loss: -2.8449e+01 - acc: 0.0769 - val_loss: -1.7572e+01 - val_acc: 0.2500\n",
      "Epoch 2/3\n",
      " - 0s - loss: -2.8453e+01 - acc: 0.0769 - val_loss: -1.7604e+01 - val_acc: 0.2500\n",
      "Epoch 3/3\n",
      " - 0s - loss: -2.8459e+01 - acc: 0.0769 - val_loss: -1.7637e+01 - val_acc: 0.2500\n",
      "[]\n",
      "15\n",
      "Train on 9 samples, validate on 3 samples\n",
      "Epoch 1/3\n",
      " - 0s - loss: -6.0227e+01 - acc: 0.0000e+00 - val_loss: -4.2513e+01 - val_acc: 0.0000e+00\n",
      "Epoch 2/3\n",
      " - 0s - loss: -6.0227e+01 - acc: 0.0000e+00 - val_loss: -4.2513e+01 - val_acc: 0.0000e+00\n",
      "Epoch 3/3\n",
      " - 0s - loss: -6.0227e+01 - acc: 0.0000e+00 - val_loss: -4.2513e+01 - val_acc: 0.0000e+00\n",
      "[]\n",
      "48 Not enough samples\n",
      "10\n",
      "Train on 6 samples, validate on 2 samples\n",
      "Epoch 1/3\n",
      " - 0s - loss: -5.7723e+01 - acc: 0.0000e+00 - val_loss: -5.5798e+01 - val_acc: 0.0000e+00\n",
      "Epoch 2/3\n",
      " - 0s - loss: -5.7993e+01 - acc: 0.0000e+00 - val_loss: -5.5798e+01 - val_acc: 0.0000e+00\n",
      "Epoch 3/3\n",
      " - 0s - loss: -5.8455e+01 - acc: 0.0000e+00 - val_loss: -5.5798e+01 - val_acc: 0.0000e+00\n",
      "[]\n",
      "50 Not enough samples\n",
      "10\n",
      "Train on 6 samples, validate on 2 samples\n",
      "Epoch 1/3\n",
      " - 0s - loss: -4.5170e+01 - acc: 0.0000e+00 - val_loss: -3.9856e+01 - val_acc: 0.0000e+00\n",
      "Epoch 2/3\n",
      " - 0s - loss: -4.5170e+01 - acc: 0.0000e+00 - val_loss: -3.9856e+01 - val_acc: 0.0000e+00\n",
      "Epoch 3/3\n",
      " - 0s - loss: -4.5170e+01 - acc: 0.0000e+00 - val_loss: -3.9856e+01 - val_acc: 0.0000e+00\n",
      "[]\n",
      "12\n",
      "Train on 7 samples, validate on 2 samples\n",
      "Epoch 1/3\n",
      " - 0s - loss: -3.6440e+01 - acc: 0.1429 - val_loss: -4.1806e+01 - val_acc: 0.0000e+00\n",
      "Epoch 2/3\n",
      " - 0s - loss: -3.6440e+01 - acc: 0.1429 - val_loss: -4.1836e+01 - val_acc: 0.0000e+00\n",
      "Epoch 3/3\n",
      " - 0s - loss: -3.6440e+01 - acc: 0.1429 - val_loss: -4.1848e+01 - val_acc: 0.0000e+00\n",
      "[]\n",
      "9\n",
      "Train on 5 samples, validate on 2 samples\n",
      "Epoch 1/3\n",
      " - 0s - loss: -3.1885e+00 - acc: 0.8000 - val_loss: -3.1885e+01 - val_acc: 0.5000\n",
      "Epoch 2/3\n",
      " - 0s - loss: -3.1885e+00 - acc: 0.8000 - val_loss: -3.1885e+01 - val_acc: 0.5000\n",
      "Epoch 3/3\n",
      " - 0s - loss: -3.1885e+00 - acc: 0.8000 - val_loss: -3.1885e+01 - val_acc: 0.5000\n",
      "[]\n",
      "10\n",
      "Train on 6 samples, validate on 2 samples\n",
      "Epoch 1/3\n",
      " - 0s - loss: -5.5798e+01 - acc: 0.0000e+00 - val_loss: -6.3770e+01 - val_acc: 0.0000e+00\n",
      "Epoch 2/3\n",
      " - 0s - loss: -5.5798e+01 - acc: 0.0000e+00 - val_loss: -6.3770e+01 - val_acc: 0.0000e+00\n",
      "Epoch 3/3\n",
      " - 0s - loss: -5.5798e+01 - acc: 0.0000e+00 - val_loss: -6.3770e+01 - val_acc: 0.0000e+00\n",
      "[]\n",
      "12\n",
      "Train on 7 samples, validate on 2 samples\n",
      "Epoch 1/3\n",
      " - 0s - loss: -2.2775e+01 - acc: 0.2857 - val_loss: -1.5942e+01 - val_acc: 0.0000e+00\n",
      "Epoch 2/3\n",
      " - 0s - loss: -2.2775e+01 - acc: 0.2857 - val_loss: -1.5942e+01 - val_acc: 0.0000e+00\n",
      "Epoch 3/3\n",
      " - 0s - loss: -2.2775e+01 - acc: 0.2857 - val_loss: -1.5942e+01 - val_acc: 0.0000e+00\n",
      "[]\n",
      "13\n",
      "Train on 8 samples, validate on 2 samples\n",
      "Epoch 1/3\n",
      " - 0s - loss: -3.7863e+01 - acc: 0.1250 - val_loss: -2.3914e+01 - val_acc: 0.5000\n",
      "Epoch 2/3\n",
      " - 0s - loss: -3.7863e+01 - acc: 0.1250 - val_loss: -2.3914e+01 - val_acc: 0.5000\n",
      "Epoch 3/3\n",
      " - 0s - loss: -3.7863e+01 - acc: 0.1250 - val_loss: -2.3914e+01 - val_acc: 0.5000\n",
      "[]\n",
      "57 Not enough samples\n",
      "58 Not enough samples\n",
      "10\n",
      "Train on 6 samples, validate on 2 samples\n",
      "Epoch 1/3\n",
      " - 0s - loss: -1.0628e+01 - acc: 0.8333 - val_loss: -7.9712e+00 - val_acc: 0.5000\n",
      "Epoch 2/3\n",
      " - 0s - loss: -1.0628e+01 - acc: 0.8333 - val_loss: -7.9712e+00 - val_acc: 0.5000\n",
      "Epoch 3/3\n",
      " - 0s - loss: -1.0628e+01 - acc: 0.8333 - val_loss: -7.9712e+00 - val_acc: 0.5000\n",
      "[]\n",
      "13\n",
      "Train on 8 samples, validate on 2 samples\n",
      "Epoch 1/3\n",
      " - 0s - loss: -3.1885e+01 - acc: 0.0000e+00 - val_loss: -3.1885e+01 - val_acc: 0.0000e+00\n",
      "Epoch 2/3\n",
      " - 0s - loss: -3.1885e+01 - acc: 0.0000e+00 - val_loss: -3.1885e+01 - val_acc: 0.0000e+00\n",
      "Epoch 3/3\n",
      " - 0s - loss: -3.1885e+01 - acc: 0.0000e+00 - val_loss: -3.1885e+01 - val_acc: 0.0000e+00\n",
      "[]\n",
      "11\n",
      "Train on 6 samples, validate on 2 samples\n",
      "Epoch 1/3\n",
      " - 0s - loss: 1.1921e-07 - acc: 1.0000 - val_loss: 1.1921e-07 - val_acc: 1.0000\n",
      "Epoch 2/3\n",
      " - 0s - loss: 1.1921e-07 - acc: 1.0000 - val_loss: 1.1921e-07 - val_acc: 1.0000\n",
      "Epoch 3/3\n",
      " - 0s - loss: 1.1921e-07 - acc: 1.0000 - val_loss: 1.1921e-07 - val_acc: 1.0000\n",
      "[]\n",
      "13\n",
      "Train on 8 samples, validate on 2 samples\n",
      "Epoch 1/3\n",
      " - 0s - loss: -5.3806e+01 - acc: 0.0000e+00 - val_loss: -7.9712e+00 - val_acc: 0.5000\n",
      "Epoch 2/3\n",
      " - 0s - loss: -5.3806e+01 - acc: 0.0000e+00 - val_loss: -7.9712e+00 - val_acc: 0.5000\n",
      "Epoch 3/3\n",
      " - 0s - loss: -5.3806e+01 - acc: 0.0000e+00 - val_loss: -7.9712e+00 - val_acc: 0.5000\n",
      "[]\n",
      "11\n",
      "Train on 6 samples, validate on 2 samples\n",
      "Epoch 1/3\n",
      " - 0s - loss: -1.5942e+01 - acc: 0.5000 - val_loss: -3.1885e+01 - val_acc: 0.5000\n",
      "Epoch 2/3\n",
      " - 0s - loss: -1.5942e+01 - acc: 0.5000 - val_loss: -3.1885e+01 - val_acc: 0.5000\n",
      "Epoch 3/3\n",
      " - 0s - loss: -1.5942e+01 - acc: 0.5000 - val_loss: -3.1885e+01 - val_acc: 0.5000\n",
      "[]\n",
      "64 Not enough samples\n",
      "9\n",
      "Train on 5 samples, validate on 2 samples\n",
      "Epoch 1/3\n",
      " - 0s - loss: 0.2102 - acc: 0.8000 - val_loss: -2.2266e-01 - val_acc: 0.5000\n",
      "Epoch 2/3\n",
      " - 0s - loss: 0.1978 - acc: 0.8000 - val_loss: -2.4400e-01 - val_acc: 0.5000\n",
      "Epoch 3/3\n",
      " - 0s - loss: 0.1788 - acc: 0.8000 - val_loss: -2.7148e-01 - val_acc: 0.5000\n",
      "[]\n",
      "66 Not enough samples\n",
      "12\n",
      "Train on 7 samples, validate on 2 samples\n",
      "Epoch 1/3\n",
      " - 0s - loss: -3.8717e+01 - acc: 0.1429 - val_loss: -3.1885e+01 - val_acc: 0.5000\n",
      "Epoch 2/3\n",
      " - 0s - loss: -3.8717e+01 - acc: 0.1429 - val_loss: -3.1885e+01 - val_acc: 0.5000\n",
      "Epoch 3/3\n",
      " - 0s - loss: -3.8717e+01 - acc: 0.1429 - val_loss: -3.1885e+01 - val_acc: 0.5000\n",
      "[]\n",
      "10\n",
      "Train on 6 samples, validate on 2 samples\n",
      "Epoch 1/3\n",
      " - 0s - loss: -3.9856e+01 - acc: 0.1667 - val_loss: 1.1921e-07 - val_acc: 1.0000\n",
      "Epoch 2/3\n",
      " - 0s - loss: -3.9856e+01 - acc: 0.1667 - val_loss: 1.1921e-07 - val_acc: 1.0000\n",
      "Epoch 3/3\n",
      " - 0s - loss: -3.9856e+01 - acc: 0.1667 - val_loss: 1.1921e-07 - val_acc: 1.0000\n",
      "[]\n",
      "13\n",
      "Train on 8 samples, validate on 2 samples\n",
      "Epoch 1/3\n",
      " - 0s - loss: -1.3950e+01 - acc: 0.6250 - val_loss: -1.5942e+01 - val_acc: 0.5000\n",
      "Epoch 2/3\n",
      " - 0s - loss: -1.3950e+01 - acc: 0.6250 - val_loss: -1.5942e+01 - val_acc: 0.5000\n",
      "Epoch 3/3\n",
      " - 0s - loss: -1.3950e+01 - acc: 0.6250 - val_loss: -1.5942e+01 - val_acc: 0.5000\n",
      "[]\n",
      "11\n",
      "Train on 6 samples, validate on 2 samples\n",
      "Epoch 1/3\n",
      " - 0s - loss: -5.0484e+01 - acc: 0.0000e+00 - val_loss: -3.1885e+01 - val_acc: 0.5000\n",
      "Epoch 2/3\n",
      " - 0s - loss: -5.0484e+01 - acc: 0.0000e+00 - val_loss: -3.1885e+01 - val_acc: 0.5000\n",
      "Epoch 3/3\n",
      " - 0s - loss: -5.0484e+01 - acc: 0.0000e+00 - val_loss: -3.1885e+01 - val_acc: 0.5000\n",
      "[]\n",
      "71 Not enough samples\n",
      "72 Not enough samples\n"
     ]
    }
   ],
   "source": [
    "grouped = df.groupby(by='query')\n",
    "\n",
    "for i,j in grouped:\n",
    "    if len(j)>5:\n",
    "        print(len(j))\n",
    "        n=int(80*len(j)/100)\n",
    "        j=j.iloc[:n]\n",
    "        test1 = j[n:]\n",
    "        test1=test1[[\"cosine_y\",\"numWordsQuery\",\"numWordsCV\",\"numCommonWords\"]].to_numpy()\n",
    "        y = j['score'].to_numpy().flatten()\n",
    "        X = j[[\"cosine_y\",\"numWordsQuery\",\"numWordsCV\",\"numCommonWords\"]].to_numpy()\n",
    "        X, y = shuffle(X, y)\n",
    "        m=model.fit(X,y,validation_split=0.2, batch_size=1,epochs=3, shuffle=False, verbose=2)\n",
    "        predictions = model.predict(test1, batch_size=1, verbose=0)\n",
    "        print(predictions)\n",
    "    else:\n",
    "\n",
    "        print(i,\"Not enough samples\")"
   ]
  },
  {
   "cell_type": "markdown",
   "metadata": {},
   "source": [
    "# Custom loss"
   ]
  },
  {
   "cell_type": "code",
   "execution_count": 209,
   "metadata": {},
   "outputs": [],
   "source": [
    "def ndcg(y_true, y_score, k=3):\n",
    "    def ndcg(y_true, y_score, k=3):\n",
    "       # y_true = y_true.flatten()\n",
    "        #y_score = y_score.flatten()\n",
    "        y_true_sorted = K.np.sort(y_true,axis=-1,name=None)\n",
    "        ideal_dcg = 0\n",
    "        for i in range(k):\n",
    "            ideal_dcg += K.truediv(K.pow(2, y_true_sorted[i]) - 1.) , K.log(i + 2,2)\n",
    "        dcg = 0\n",
    "        argsort_indices = K.argsort(y_score, axis=-1, direction=\"DESCENDING\")\n",
    "        for i in range(k):\n",
    "            dcg += K.truediv(K.pow(2 , y_true[argsort_indices[i]]) - 1.) / K.log(i + 2,2)\n",
    "        ndcg = dcg / ideal_dcg\n",
    "        return ndcg\n",
    "    return ndcg"
   ]
  },
  {
   "cell_type": "code",
   "execution_count": null,
   "metadata": {},
   "outputs": [],
   "source": [
    "def ndcg(self, y_true, y_score, k=3):\n",
    "        y_true = y_true.ravel()\n",
    "        y_score = y_score.ravel()\n",
    "        y_true_sorted = sorted(y_true, reverse=True)\n",
    "        ideal_dcg = 0\n",
    "        for i in range(k):\n",
    "            ideal_dcg += (2 ** y_true_sorted[i] - 1.) / np.log2(i + 2)\n",
    "        dcg = 0\n",
    "        argsort_indices = np.argsort(y_score)[::-1]\n",
    "        for i in range(k):\n",
    "            dcg += (2 ** y_true[argsort_indices[i]] - 1.) / np.log2(i + 2)\n",
    "        ndcg = dcg / ideal_dcg\n",
    "        return ndcg"
   ]
  },
  {
   "cell_type": "code",
   "execution_count": 368,
   "metadata": {},
   "outputs": [
    {
     "name": "stdout",
     "output_type": "stream",
     "text": [
      "_________________________________________________________________\n",
      "Layer (type)                 Output Shape              Param #   \n",
      "=================================================================\n",
      "dense_274 (Dense)            (None, 32)                160       \n",
      "_________________________________________________________________\n",
      "dense_275 (Dense)            (None, 64)                2112      \n",
      "_________________________________________________________________\n",
      "dense_276 (Dense)            (None, 1)                 65        \n",
      "=================================================================\n",
      "Total params: 2,337\n",
      "Trainable params: 2,337\n",
      "Non-trainable params: 0\n",
      "_________________________________________________________________\n",
      "5 Not enough samples\n",
      "6 Not enough samples\n",
      "7 Not enough samples\n",
      "8 Not enough samples\n",
      "9 Not enough samples\n",
      "10 Not enough samples\n",
      "11 Not enough samples\n",
      "12 Not enough samples\n",
      "11\n",
      "Train on 5 samples, validate on 3 samples\n",
      "Epoch 1/5\n",
      " - 5s - loss: nan - acc: 0.0000e+00 - val_loss: nan - val_acc: 0.0000e+00\n",
      "Epoch 2/5\n",
      " - 0s - loss: nan - acc: 0.0000e+00 - val_loss: nan - val_acc: 0.0000e+00\n",
      "Epoch 3/5\n",
      " - 0s - loss: nan - acc: 0.0000e+00 - val_loss: nan - val_acc: 0.0000e+00\n",
      "Epoch 4/5\n",
      " - 0s - loss: nan - acc: 0.0000e+00 - val_loss: nan - val_acc: 0.0000e+00\n",
      "Epoch 5/5\n",
      " - 0s - loss: nan - acc: 0.0000e+00 - val_loss: nan - val_acc: 0.0000e+00\n",
      "[[nan]\n",
      " [nan]\n",
      " [nan]\n",
      " [nan]\n",
      " [nan]]\n",
      "14 Not enough samples\n",
      "15 Not enough samples\n",
      "16 Not enough samples\n",
      "17 Not enough samples\n",
      "12\n",
      "Train on 6 samples, validate on 3 samples\n",
      "Epoch 1/5\n",
      " - 0s - loss: nan - acc: 0.0000e+00 - val_loss: nan - val_acc: 0.0000e+00\n",
      "Epoch 2/5\n",
      " - 0s - loss: nan - acc: 0.0000e+00 - val_loss: nan - val_acc: 0.0000e+00\n",
      "Epoch 3/5\n",
      " - 0s - loss: nan - acc: 0.0000e+00 - val_loss: nan - val_acc: 0.0000e+00\n",
      "Epoch 4/5\n",
      " - 0s - loss: nan - acc: 0.0000e+00 - val_loss: nan - val_acc: 0.0000e+00\n",
      "Epoch 5/5\n",
      " - 0s - loss: nan - acc: 0.0000e+00 - val_loss: nan - val_acc: 0.0000e+00\n",
      "[[nan]\n",
      " [nan]\n",
      " [nan]\n",
      " [nan]\n",
      " [nan]\n",
      " [nan]]\n",
      "13\n",
      "Train on 7 samples, validate on 3 samples\n",
      "Epoch 1/5\n",
      " - 0s - loss: nan - acc: 0.0000e+00 - val_loss: nan - val_acc: 0.0000e+00\n",
      "Epoch 2/5\n",
      " - 0s - loss: nan - acc: 0.0000e+00 - val_loss: nan - val_acc: 0.0000e+00\n",
      "Epoch 3/5\n",
      " - 0s - loss: nan - acc: 0.0000e+00 - val_loss: nan - val_acc: 0.0000e+00\n",
      "Epoch 4/5\n",
      " - 0s - loss: nan - acc: 0.0000e+00 - val_loss: nan - val_acc: 0.0000e+00\n",
      "Epoch 5/5\n",
      " - 0s - loss: nan - acc: 0.0000e+00 - val_loss: nan - val_acc: 0.0000e+00\n",
      "[[nan]\n",
      " [nan]\n",
      " [nan]\n",
      " [nan]\n",
      " [nan]\n",
      " [nan]\n",
      " [nan]]\n",
      "20 Not enough samples\n",
      "11\n",
      "Train on 5 samples, validate on 3 samples\n",
      "Epoch 1/5\n",
      " - 0s - loss: nan - acc: 0.0000e+00 - val_loss: nan - val_acc: 0.0000e+00\n",
      "Epoch 2/5\n",
      " - 0s - loss: nan - acc: 0.0000e+00 - val_loss: nan - val_acc: 0.0000e+00\n",
      "Epoch 3/5\n",
      " - 0s - loss: nan - acc: 0.0000e+00 - val_loss: nan - val_acc: 0.0000e+00\n",
      "Epoch 4/5\n",
      " - 0s - loss: nan - acc: 0.0000e+00 - val_loss: nan - val_acc: 0.0000e+00\n",
      "Epoch 5/5\n",
      " - 0s - loss: nan - acc: 0.0000e+00 - val_loss: nan - val_acc: 0.0000e+00\n",
      "[[nan]\n",
      " [nan]\n",
      " [nan]\n",
      " [nan]\n",
      " [nan]]\n",
      "22 Not enough samples\n",
      "23 Not enough samples\n",
      "12\n",
      "Train on 6 samples, validate on 3 samples\n",
      "Epoch 1/5\n",
      " - 0s - loss: nan - acc: 0.0000e+00 - val_loss: nan - val_acc: 0.0000e+00\n",
      "Epoch 2/5\n",
      " - 0s - loss: nan - acc: 0.0000e+00 - val_loss: nan - val_acc: 0.0000e+00\n",
      "Epoch 3/5\n",
      " - 0s - loss: nan - acc: 0.0000e+00 - val_loss: nan - val_acc: 0.0000e+00\n",
      "Epoch 4/5\n",
      " - 0s - loss: nan - acc: 0.0000e+00 - val_loss: nan - val_acc: 0.0000e+00\n",
      "Epoch 5/5\n",
      " - 0s - loss: nan - acc: 0.0000e+00 - val_loss: nan - val_acc: 0.0000e+00\n",
      "[[nan]\n",
      " [nan]\n",
      " [nan]\n",
      " [nan]\n",
      " [nan]\n",
      " [nan]]\n",
      "13\n",
      "Train on 7 samples, validate on 3 samples\n",
      "Epoch 1/5\n",
      " - 0s - loss: nan - acc: 0.0000e+00 - val_loss: nan - val_acc: 0.0000e+00\n",
      "Epoch 2/5\n",
      " - 0s - loss: nan - acc: 0.0000e+00 - val_loss: nan - val_acc: 0.0000e+00\n",
      "Epoch 3/5\n",
      " - 0s - loss: nan - acc: 0.0000e+00 - val_loss: nan - val_acc: 0.0000e+00\n",
      "Epoch 4/5\n",
      " - 0s - loss: nan - acc: 0.0000e+00 - val_loss: nan - val_acc: 0.0000e+00\n",
      "Epoch 5/5\n",
      " - 0s - loss: nan - acc: 0.0000e+00 - val_loss: nan - val_acc: 0.0000e+00\n",
      "[[nan]\n",
      " [nan]\n",
      " [nan]\n",
      " [nan]\n",
      " [nan]\n",
      " [nan]\n",
      " [nan]]\n",
      "26 Not enough samples\n",
      "27 Not enough samples\n",
      "28 Not enough samples\n",
      "29 Not enough samples\n",
      "30 Not enough samples\n",
      "31 Not enough samples\n",
      "32 Not enough samples\n",
      "33 Not enough samples\n",
      "11\n",
      "Train on 5 samples, validate on 3 samples\n",
      "Epoch 1/5\n",
      " - 0s - loss: nan - acc: 0.0000e+00 - val_loss: nan - val_acc: 0.0000e+00\n",
      "Epoch 2/5\n",
      " - 0s - loss: nan - acc: 0.0000e+00 - val_loss: nan - val_acc: 0.0000e+00\n",
      "Epoch 3/5\n",
      " - 0s - loss: nan - acc: 0.0000e+00 - val_loss: nan - val_acc: 0.0000e+00\n",
      "Epoch 4/5\n",
      " - 0s - loss: nan - acc: 0.0000e+00 - val_loss: nan - val_acc: 0.0000e+00\n",
      "Epoch 5/5\n",
      " - 0s - loss: nan - acc: 0.0000e+00 - val_loss: nan - val_acc: 0.0000e+00\n",
      "[[nan]\n",
      " [nan]\n",
      " [nan]\n",
      " [nan]\n",
      " [nan]]\n",
      "11\n",
      "Train on 5 samples, validate on 3 samples\n",
      "Epoch 1/5\n",
      " - 0s - loss: nan - acc: 0.0000e+00 - val_loss: nan - val_acc: 0.0000e+00\n",
      "Epoch 2/5\n",
      " - 0s - loss: nan - acc: 0.0000e+00 - val_loss: nan - val_acc: 0.0000e+00\n",
      "Epoch 3/5\n",
      " - 0s - loss: nan - acc: 0.0000e+00 - val_loss: nan - val_acc: 0.0000e+00\n",
      "Epoch 4/5\n",
      " - 0s - loss: nan - acc: 0.0000e+00 - val_loss: nan - val_acc: 0.0000e+00\n",
      "Epoch 5/5\n",
      " - 0s - loss: nan - acc: 0.0000e+00 - val_loss: nan - val_acc: 0.0000e+00\n",
      "[[nan]\n",
      " [nan]\n",
      " [nan]\n",
      " [nan]\n",
      " [nan]]\n",
      "14\n",
      "Train on 7 samples, validate on 4 samples\n",
      "Epoch 1/5\n",
      " - 0s - loss: nan - acc: 0.0000e+00 - val_loss: nan - val_acc: 0.0000e+00\n",
      "Epoch 2/5\n",
      " - 0s - loss: nan - acc: 0.0000e+00 - val_loss: nan - val_acc: 0.0000e+00\n",
      "Epoch 3/5\n",
      " - 0s - loss: nan - acc: 0.0000e+00 - val_loss: nan - val_acc: 0.0000e+00\n",
      "Epoch 4/5\n",
      " - 0s - loss: nan - acc: 0.0000e+00 - val_loss: nan - val_acc: 0.0000e+00\n",
      "Epoch 5/5\n",
      " - 0s - loss: nan - acc: 0.0000e+00 - val_loss: nan - val_acc: 0.0000e+00\n",
      "[[nan]\n",
      " [nan]\n",
      " [nan]\n",
      " [nan]\n",
      " [nan]\n",
      " [nan]\n",
      " [nan]\n",
      " [nan]]\n",
      "37 Not enough samples\n",
      "38 Not enough samples\n",
      "39 Not enough samples\n",
      "40 Not enough samples\n",
      "41 Not enough samples\n",
      "42 Not enough samples\n",
      "43 Not enough samples\n",
      "12\n",
      "Train on 6 samples, validate on 3 samples\n",
      "Epoch 1/5\n",
      " - 0s - loss: nan - acc: 0.0000e+00 - val_loss: nan - val_acc: 0.0000e+00\n",
      "Epoch 2/5\n",
      " - 0s - loss: nan - acc: 0.0000e+00 - val_loss: nan - val_acc: 0.0000e+00\n",
      "Epoch 3/5\n",
      " - 0s - loss: nan - acc: 0.0000e+00 - val_loss: nan - val_acc: 0.0000e+00\n",
      "Epoch 4/5\n",
      " - 0s - loss: nan - acc: 0.0000e+00 - val_loss: nan - val_acc: 0.0000e+00\n",
      "Epoch 5/5\n",
      " - 0s - loss: nan - acc: 0.0000e+00 - val_loss: nan - val_acc: 0.0000e+00\n",
      "[[nan]\n",
      " [nan]\n",
      " [nan]\n",
      " [nan]\n",
      " [nan]\n",
      " [nan]]\n",
      "11\n",
      "Train on 5 samples, validate on 3 samples\n",
      "Epoch 1/5\n",
      " - 0s - loss: nan - acc: 0.0000e+00 - val_loss: nan - val_acc: 0.0000e+00\n",
      "Epoch 2/5\n",
      " - 0s - loss: nan - acc: 0.0000e+00 - val_loss: nan - val_acc: 0.0000e+00\n",
      "Epoch 3/5\n",
      " - 0s - loss: nan - acc: 0.0000e+00 - val_loss: nan - val_acc: 0.0000e+00\n",
      "Epoch 4/5\n",
      " - 0s - loss: nan - acc: 0.0000e+00 - val_loss: nan - val_acc: 0.0000e+00\n",
      "Epoch 5/5\n",
      " - 0s - loss: nan - acc: 0.0000e+00 - val_loss: nan - val_acc: 0.0000e+00\n",
      "[[nan]\n",
      " [nan]\n",
      " [nan]\n",
      " [nan]\n",
      " [nan]]\n",
      "22\n",
      "Train on 11 samples, validate on 6 samples\n",
      "Epoch 1/5\n",
      " - 0s - loss: nan - acc: 0.0000e+00 - val_loss: nan - val_acc: 0.0000e+00\n",
      "Epoch 2/5\n",
      " - 0s - loss: nan - acc: 0.0000e+00 - val_loss: nan - val_acc: 0.0000e+00\n",
      "Epoch 3/5\n",
      " - 0s - loss: nan - acc: 0.0000e+00 - val_loss: nan - val_acc: 0.0000e+00\n",
      "Epoch 4/5\n",
      " - 0s - loss: nan - acc: 0.0000e+00 - val_loss: nan - val_acc: 0.0000e+00\n",
      "Epoch 5/5\n",
      " - 0s - loss: nan - acc: 0.0000e+00 - val_loss: nan - val_acc: 0.0000e+00\n",
      "[[nan]\n",
      " [nan]\n",
      " [nan]\n",
      " [nan]\n",
      " [nan]\n",
      " [nan]\n",
      " [nan]\n",
      " [nan]\n",
      " [nan]\n",
      " [nan]\n",
      " [nan]\n",
      " [nan]]\n",
      "15\n",
      "Train on 8 samples, validate on 4 samples\n",
      "Epoch 1/5\n",
      " - 0s - loss: nan - acc: 0.0000e+00 - val_loss: nan - val_acc: 0.0000e+00\n",
      "Epoch 2/5\n",
      " - 0s - loss: nan - acc: 0.0000e+00 - val_loss: nan - val_acc: 0.0000e+00\n",
      "Epoch 3/5\n",
      " - 0s - loss: nan - acc: 0.0000e+00 - val_loss: nan - val_acc: 0.0000e+00\n",
      "Epoch 4/5\n",
      " - 0s - loss: nan - acc: 0.0000e+00 - val_loss: nan - val_acc: 0.0000e+00\n",
      "Epoch 5/5\n",
      " - 0s - loss: nan - acc: 0.0000e+00 - val_loss: nan - val_acc: 0.0000e+00\n",
      "[[nan]\n",
      " [nan]\n",
      " [nan]\n",
      " [nan]\n",
      " [nan]\n",
      " [nan]\n",
      " [nan]\n",
      " [nan]\n",
      " [nan]]\n",
      "48 Not enough samples\n",
      "49 Not enough samples\n",
      "50 Not enough samples\n",
      "51 Not enough samples\n",
      "12\n",
      "Train on 6 samples, validate on 3 samples\n",
      "Epoch 1/5\n",
      " - 0s - loss: nan - acc: 0.0000e+00 - val_loss: nan - val_acc: 0.0000e+00\n"
     ]
    },
    {
     "name": "stdout",
     "output_type": "stream",
     "text": [
      "Epoch 2/5\n",
      " - 0s - loss: nan - acc: 0.0000e+00 - val_loss: nan - val_acc: 0.0000e+00\n",
      "Epoch 3/5\n",
      " - 0s - loss: nan - acc: 0.0000e+00 - val_loss: nan - val_acc: 0.0000e+00\n",
      "Epoch 4/5\n",
      " - 0s - loss: nan - acc: 0.0000e+00 - val_loss: nan - val_acc: 0.0000e+00\n",
      "Epoch 5/5\n",
      " - 0s - loss: nan - acc: 0.0000e+00 - val_loss: nan - val_acc: 0.0000e+00\n",
      "[[nan]\n",
      " [nan]\n",
      " [nan]\n",
      " [nan]\n",
      " [nan]\n",
      " [nan]]\n",
      "53 Not enough samples\n",
      "54 Not enough samples\n",
      "12\n",
      "Train on 6 samples, validate on 3 samples\n",
      "Epoch 1/5\n",
      " - 0s - loss: nan - acc: 0.0000e+00 - val_loss: nan - val_acc: 0.0000e+00\n",
      "Epoch 2/5\n",
      " - 0s - loss: nan - acc: 0.0000e+00 - val_loss: nan - val_acc: 0.0000e+00\n",
      "Epoch 3/5\n",
      " - 0s - loss: nan - acc: 0.0000e+00 - val_loss: nan - val_acc: 0.0000e+00\n",
      "Epoch 4/5\n",
      " - 0s - loss: nan - acc: 0.0000e+00 - val_loss: nan - val_acc: 0.0000e+00\n",
      "Epoch 5/5\n",
      " - 0s - loss: nan - acc: 0.0000e+00 - val_loss: nan - val_acc: 0.0000e+00\n",
      "[[nan]\n",
      " [nan]\n",
      " [nan]\n",
      " [nan]\n",
      " [nan]\n",
      " [nan]]\n",
      "13\n",
      "Train on 7 samples, validate on 3 samples\n",
      "Epoch 1/5\n",
      " - 0s - loss: nan - acc: 0.0000e+00 - val_loss: nan - val_acc: 0.0000e+00\n",
      "Epoch 2/5\n",
      " - 0s - loss: nan - acc: 0.0000e+00 - val_loss: nan - val_acc: 0.0000e+00\n",
      "Epoch 3/5\n",
      " - 0s - loss: nan - acc: 0.0000e+00 - val_loss: nan - val_acc: 0.0000e+00\n",
      "Epoch 4/5\n",
      " - 0s - loss: nan - acc: 0.0000e+00 - val_loss: nan - val_acc: 0.0000e+00\n",
      "Epoch 5/5\n",
      " - 0s - loss: nan - acc: 0.0000e+00 - val_loss: nan - val_acc: 0.0000e+00\n",
      "[[nan]\n",
      " [nan]\n",
      " [nan]\n",
      " [nan]\n",
      " [nan]\n",
      " [nan]\n",
      " [nan]]\n",
      "57 Not enough samples\n",
      "58 Not enough samples\n",
      "59 Not enough samples\n",
      "13\n",
      "Train on 7 samples, validate on 3 samples\n",
      "Epoch 1/5\n",
      " - 0s - loss: nan - acc: 0.0000e+00 - val_loss: nan - val_acc: 0.0000e+00\n",
      "Epoch 2/5\n",
      " - 0s - loss: nan - acc: 0.0000e+00 - val_loss: nan - val_acc: 0.0000e+00\n",
      "Epoch 3/5\n",
      " - 0s - loss: nan - acc: 0.0000e+00 - val_loss: nan - val_acc: 0.0000e+00\n",
      "Epoch 4/5\n",
      " - 0s - loss: nan - acc: 0.0000e+00 - val_loss: nan - val_acc: 0.0000e+00\n",
      "Epoch 5/5\n",
      " - 0s - loss: nan - acc: 0.0000e+00 - val_loss: nan - val_acc: 0.0000e+00\n",
      "[[nan]\n",
      " [nan]\n",
      " [nan]\n",
      " [nan]\n",
      " [nan]\n",
      " [nan]\n",
      " [nan]]\n",
      "11\n",
      "Train on 5 samples, validate on 3 samples\n",
      "Epoch 1/5\n",
      " - 0s - loss: nan - acc: 0.0000e+00 - val_loss: nan - val_acc: 0.0000e+00\n",
      "Epoch 2/5\n",
      " - 0s - loss: nan - acc: 0.0000e+00 - val_loss: nan - val_acc: 0.0000e+00\n",
      "Epoch 3/5\n",
      " - 0s - loss: nan - acc: 0.0000e+00 - val_loss: nan - val_acc: 0.0000e+00\n",
      "Epoch 4/5\n",
      " - 0s - loss: nan - acc: 0.0000e+00 - val_loss: nan - val_acc: 0.0000e+00\n",
      "Epoch 5/5\n",
      " - 0s - loss: nan - acc: 0.0000e+00 - val_loss: nan - val_acc: 0.0000e+00\n",
      "[[nan]\n",
      " [nan]\n",
      " [nan]\n",
      " [nan]\n",
      " [nan]]\n",
      "13\n",
      "Train on 7 samples, validate on 3 samples\n",
      "Epoch 1/5\n",
      " - 0s - loss: nan - acc: 0.0000e+00 - val_loss: nan - val_acc: 0.0000e+00\n",
      "Epoch 2/5\n",
      " - 0s - loss: nan - acc: 0.0000e+00 - val_loss: nan - val_acc: 0.0000e+00\n",
      "Epoch 3/5\n",
      " - 0s - loss: nan - acc: 0.0000e+00 - val_loss: nan - val_acc: 0.0000e+00\n",
      "Epoch 4/5\n",
      " - 0s - loss: nan - acc: 0.0000e+00 - val_loss: nan - val_acc: 0.0000e+00\n",
      "Epoch 5/5\n",
      " - 0s - loss: nan - acc: 0.0000e+00 - val_loss: nan - val_acc: 0.0000e+00\n",
      "[[nan]\n",
      " [nan]\n",
      " [nan]\n",
      " [nan]\n",
      " [nan]\n",
      " [nan]\n",
      " [nan]]\n",
      "11\n",
      "Train on 5 samples, validate on 3 samples\n",
      "Epoch 1/5\n",
      " - 0s - loss: nan - acc: 0.0000e+00 - val_loss: nan - val_acc: 0.0000e+00\n",
      "Epoch 2/5\n",
      " - 0s - loss: nan - acc: 0.0000e+00 - val_loss: nan - val_acc: 0.0000e+00\n",
      "Epoch 3/5\n",
      " - 0s - loss: nan - acc: 0.0000e+00 - val_loss: nan - val_acc: 0.0000e+00\n",
      "Epoch 4/5\n",
      " - 0s - loss: nan - acc: 0.0000e+00 - val_loss: nan - val_acc: 0.0000e+00\n",
      "Epoch 5/5\n",
      " - 0s - loss: nan - acc: 0.0000e+00 - val_loss: nan - val_acc: 0.0000e+00\n",
      "[[nan]\n",
      " [nan]\n",
      " [nan]\n",
      " [nan]\n",
      " [nan]]\n",
      "64 Not enough samples\n",
      "65 Not enough samples\n",
      "66 Not enough samples\n",
      "12\n",
      "Train on 6 samples, validate on 3 samples\n",
      "Epoch 1/5\n",
      " - 0s - loss: nan - acc: 0.0000e+00 - val_loss: nan - val_acc: 0.0000e+00\n",
      "Epoch 2/5\n",
      " - 0s - loss: nan - acc: 0.0000e+00 - val_loss: nan - val_acc: 0.0000e+00\n",
      "Epoch 3/5\n",
      " - 0s - loss: nan - acc: 0.0000e+00 - val_loss: nan - val_acc: 0.0000e+00\n",
      "Epoch 4/5\n",
      " - 0s - loss: nan - acc: 0.0000e+00 - val_loss: nan - val_acc: 0.0000e+00\n",
      "Epoch 5/5\n",
      " - 0s - loss: nan - acc: 0.0000e+00 - val_loss: nan - val_acc: 0.0000e+00\n",
      "[[nan]\n",
      " [nan]\n",
      " [nan]\n",
      " [nan]\n",
      " [nan]\n",
      " [nan]]\n",
      "68 Not enough samples\n",
      "13\n",
      "Train on 7 samples, validate on 3 samples\n",
      "Epoch 1/5\n",
      " - 0s - loss: nan - acc: 0.0000e+00 - val_loss: nan - val_acc: 0.0000e+00\n",
      "Epoch 2/5\n",
      " - 0s - loss: nan - acc: 0.0000e+00 - val_loss: nan - val_acc: 0.0000e+00\n",
      "Epoch 3/5\n",
      " - 0s - loss: nan - acc: 0.0000e+00 - val_loss: nan - val_acc: 0.0000e+00\n",
      "Epoch 4/5\n",
      " - 0s - loss: nan - acc: 0.0000e+00 - val_loss: nan - val_acc: 0.0000e+00\n",
      "Epoch 5/5\n",
      " - 0s - loss: nan - acc: 0.0000e+00 - val_loss: nan - val_acc: 0.0000e+00\n",
      "[[nan]\n",
      " [nan]\n",
      " [nan]\n",
      " [nan]\n",
      " [nan]\n",
      " [nan]\n",
      " [nan]]\n",
      "11\n",
      "Train on 5 samples, validate on 3 samples\n",
      "Epoch 1/5\n",
      " - 0s - loss: nan - acc: 0.0000e+00 - val_loss: nan - val_acc: 0.0000e+00\n",
      "Epoch 2/5\n",
      " - 0s - loss: nan - acc: 0.0000e+00 - val_loss: nan - val_acc: 0.0000e+00\n",
      "Epoch 3/5\n",
      " - 0s - loss: nan - acc: 0.0000e+00 - val_loss: nan - val_acc: 0.0000e+00\n",
      "Epoch 4/5\n",
      " - 0s - loss: nan - acc: 0.0000e+00 - val_loss: nan - val_acc: 0.0000e+00\n",
      "Epoch 5/5\n",
      " - 0s - loss: nan - acc: 0.0000e+00 - val_loss: nan - val_acc: 0.0000e+00\n",
      "[[nan]\n",
      " [nan]\n",
      " [nan]\n",
      " [nan]\n",
      " [nan]]\n",
      "71 Not enough samples\n",
      "72 Not enough samples\n"
     ]
    }
   ],
   "source": [
    "#custom loss\n",
    "\n",
    "def cross_entropy(y_true,y_pred):\n",
    "    y_true_f = K.flatten(y_true)\n",
    "    y_pred_f = K.flatten(y_pred)\n",
    "    r = -K.sum(K.dot(y_true,K.log(y_pred)))\n",
    "    return r\n",
    "\n",
    "#model definition\n",
    "\n",
    "model = Sequential([\n",
    "    Dense(32, input_shape = (4,), activation = \"relu\"),\n",
    "    Dense(64, activation = \"relu\"),\n",
    "    Dense(1, activation = \"sigmoid\")])\n",
    "model.summary()\n",
    "model.compile(Adam(lr = 0.0001), loss=cross_entropy, metrics=['accuracy'])\n",
    "\n",
    "grouped = df.groupby(by='query')\n",
    "\n",
    "for i,j in grouped:\n",
    "    if len(j)>10: #do model for queries with at least 10 docs rated\n",
    "        print(len(j))\n",
    "        n=int(80*len(j)/100)\n",
    "        n2=len(j)-n\n",
    "        j=j.iloc[:n]\n",
    "        test1 = j[:-1]\n",
    "        test1=test1[[\"cosine_y\",\"numWordsQuery\",\"numWordsCV\",\"numCommonWords\"]].to_numpy()\n",
    "        y = j['score'].to_numpy().flatten()\n",
    "        X = j[[\"cosine_y\",\"numWordsQuery\",\"numWordsCV\",\"numCommonWords\"]].to_numpy()\n",
    "        X, y = shuffle(X, y)\n",
    "        m=model.fit(X,y,validation_split=0.3, batch_size=1,epochs=5, shuffle=False, verbose=2)\n",
    "        predictions = model.predict(test1, batch_size=1, verbose=0)\n",
    "        print(predictions) #empty prediction problemmmmmmmmmmmmmmb\n",
    "    else:\n",
    "\n",
    "        print(i,\"Not enough samples\")"
   ]
  },
  {
   "cell_type": "code",
   "execution_count": null,
   "metadata": {},
   "outputs": [],
   "source": [
    "#custom loss\n",
    "\n",
    "def cross_entropy(y_true,y_pred):\n",
    "    y_true_f = K.flatten(y_true)\n",
    "    y_pred_f = K.flatten(y_pred)\n",
    "    r = -K.sum(K.dot(y_true,K.log(y_pred)))\n",
    "    return r\n",
    "\n",
    "#model definition\n",
    "\n",
    "model = Sequential([\n",
    "    Dense(64, activation = \"relu\"),\n",
    "    Dense(1, activation = \"sigmoid\")]\n",
    "    Dense(64, input_shape =(4,),use_bias=False),)\n",
    "    Dense(BatchNormalization()),\n",
    "    Dense(Activation(\"relu\"))\n",
    "model.summary()\n",
    "model.compile(Adam(lr = 0.0001), loss=\"binary_crossentropy\" , metrics=['accuracy'])"
   ]
  },
  {
   "cell_type": "code",
   "execution_count": 13,
   "metadata": {
    "scrolled": true
   },
   "outputs": [
    {
     "name": "stderr",
     "output_type": "stream",
     "text": [
      "C:\\Users\\giaco\\Anaconda3\\lib\\site-packages\\ipykernel_launcher.py:16: UserWarning: Update your `Dense` call to the Keras 2 API: `Dense(64, input_dim=4, kernel_initializer=\"glorot_normal\")`\n",
      "  app.launch_new_instance()\n",
      "C:\\Users\\giaco\\Anaconda3\\lib\\site-packages\\ipykernel_launcher.py:22: UserWarning: Update your `Dense` call to the Keras 2 API: `Dense(64, kernel_initializer=\"glorot_normal\")`\n",
      "C:\\Users\\giaco\\Anaconda3\\lib\\site-packages\\ipykernel_launcher.py:28: UserWarning: Update your `Dense` call to the Keras 2 API: `Dense(1, kernel_initializer=\"glorot_normal\")`\n"
     ]
    },
    {
     "name": "stdout",
     "output_type": "stream",
     "text": [
      "_________________________________________________________________\n",
      "Layer (type)                 Output Shape              Param #   \n",
      "=================================================================\n",
      "dense_4 (Dense)              (None, 64)                320       \n",
      "_________________________________________________________________\n",
      "batch_normalization_4 (Batch (None, 64)                256       \n",
      "_________________________________________________________________\n",
      "activation_4 (Activation)    (None, 64)                0         \n",
      "_________________________________________________________________\n",
      "dropout_3 (Dropout)          (None, 64)                0         \n",
      "_________________________________________________________________\n",
      "dense_5 (Dense)              (None, 64)                4160      \n",
      "_________________________________________________________________\n",
      "batch_normalization_5 (Batch (None, 64)                256       \n",
      "_________________________________________________________________\n",
      "activation_5 (Activation)    (None, 64)                0         \n",
      "_________________________________________________________________\n",
      "dropout_4 (Dropout)          (None, 64)                0         \n",
      "_________________________________________________________________\n",
      "dense_6 (Dense)              (None, 1)                 65        \n",
      "_________________________________________________________________\n",
      "batch_normalization_6 (Batch (None, 1)                 4         \n",
      "_________________________________________________________________\n",
      "activation_6 (Activation)    (None, 1)                 0         \n",
      "=================================================================\n",
      "Total params: 5,061\n",
      "Trainable params: 4,803\n",
      "Non-trainable params: 258\n",
      "_________________________________________________________________\n"
     ]
    }
   ],
   "source": [
    "# import BatchNormalization\n",
    "from keras.layers.normalization import BatchNormalization\n",
    "from keras.layers import Dropout\n",
    "\n",
    "#custom loss\n",
    "\n",
    "def cross_entropy(y_true,y_pred):\n",
    "    y_true_f = K.flatten(y_true)\n",
    "    y_pred_f = K.flatten(y_pred)\n",
    "    r = -K.sum(K.dot(y_true,K.log(y_pred)))\n",
    "    return r\n",
    "# instantiate model\n",
    "model = Sequential()\n",
    "\n",
    "# we can think of this chunk as the input layer\n",
    "model.add(Dense(64, input_dim=4, init='glorot_normal'))\n",
    "model.add(BatchNormalization())\n",
    "model.add(Activation('relu'))\n",
    "model.add(Dropout(0.5))\n",
    "\n",
    "# we can think of this chunk as the hidden layer    \n",
    "model.add(Dense(64, init='glorot_normal'))\n",
    "model.add(BatchNormalization())\n",
    "model.add(Activation('relu'))\n",
    "model.add(Dropout(0.5))\n",
    "\n",
    "# we can think of this chunk as the output layer\n",
    "model.add(Dense(1, init='glorot_normal'))\n",
    "model.add(BatchNormalization())\n",
    "model.add(Activation('softmax'))\n",
    "\n",
    "model.summary()\n",
    "model.compile(Adam(lr = 0.0001), loss=\"binary_crossentropy\" , metrics=['accuracy'])"
   ]
  },
  {
   "cell_type": "code",
   "execution_count": 348,
   "metadata": {},
   "outputs": [
    {
     "data": {
      "text/html": [
       "<div>\n",
       "<style scoped>\n",
       "    .dataframe tbody tr th:only-of-type {\n",
       "        vertical-align: middle;\n",
       "    }\n",
       "\n",
       "    .dataframe tbody tr th {\n",
       "        vertical-align: top;\n",
       "    }\n",
       "\n",
       "    .dataframe thead th {\n",
       "        text-align: right;\n",
       "    }\n",
       "</style>\n",
       "<table border=\"1\" class=\"dataframe\">\n",
       "  <thead>\n",
       "    <tr style=\"text-align: right;\">\n",
       "      <th></th>\n",
       "      <th>cosine_y</th>\n",
       "      <th>query</th>\n",
       "      <th>numWordsQuery</th>\n",
       "      <th>numWordsCV</th>\n",
       "      <th>numCommonWords</th>\n",
       "      <th>score</th>\n",
       "    </tr>\n",
       "  </thead>\n",
       "  <tbody>\n",
       "    <tr>\n",
       "      <th>0</th>\n",
       "      <td>0.363</td>\n",
       "      <td>72</td>\n",
       "      <td>7</td>\n",
       "      <td>2435</td>\n",
       "      <td>1</td>\n",
       "      <td>3</td>\n",
       "    </tr>\n",
       "  </tbody>\n",
       "</table>\n",
       "</div>"
      ],
      "text/plain": [
       "   cosine_y  query  numWordsQuery  numWordsCV  numCommonWords  score\n",
       "0     0.363     72              7        2435               1      3"
      ]
     },
     "execution_count": 348,
     "metadata": {},
     "output_type": "execute_result"
    }
   ],
   "source": [
    "j"
   ]
  },
  {
   "cell_type": "code",
   "execution_count": 15,
   "metadata": {
    "scrolled": true
   },
   "outputs": [
    {
     "name": "stdout",
     "output_type": "stream",
     "text": [
      "5 Not enough samples\n",
      "6 Not enough samples\n",
      "7 Not enough samples\n",
      "8 Not enough samples\n",
      "9 Not enough samples\n",
      "10 Not enough samples\n",
      "11 Not enough samples\n",
      "12 Not enough samples\n",
      "11 13\n",
      "Train on 5 samples, validate on 3 samples\n",
      "Epoch 1/5\n",
      " - 0s - loss: -1.2754e+01 - acc: 0.2000 - val_loss: -1.0628e+01 - val_acc: 0.6667\n",
      "Epoch 2/5\n",
      " - 0s - loss: -1.2754e+01 - acc: 0.2000 - val_loss: -1.0628e+01 - val_acc: 0.6667\n",
      "Epoch 3/5\n",
      " - 0s - loss: -1.2754e+01 - acc: 0.2000 - val_loss: -1.0628e+01 - val_acc: 0.6667\n",
      "Epoch 4/5\n",
      " - 0s - loss: -1.2754e+01 - acc: 0.2000 - val_loss: -1.0628e+01 - val_acc: 0.6667\n",
      "Epoch 5/5\n",
      " - 0s - loss: -1.2754e+01 - acc: 0.2000 - val_loss: -1.0628e+01 - val_acc: 0.6667\n",
      "[[1.]\n",
      " [1.]\n",
      " [1.]\n",
      " [1.]\n",
      " [1.]\n",
      " [1.]]\n",
      "14 Not enough samples\n",
      "15 Not enough samples\n",
      "16 Not enough samples\n",
      "17 Not enough samples\n",
      "12 18\n",
      "Train on 6 samples, validate on 3 samples\n",
      "Epoch 1/5\n",
      " - 0s - loss: -3.4542e+01 - acc: 0.0000e+00 - val_loss: -4.2513e+01 - val_acc: 0.0000e+00\n",
      "Epoch 2/5\n",
      " - 0s - loss: -3.4542e+01 - acc: 0.0000e+00 - val_loss: -4.2513e+01 - val_acc: 0.0000e+00\n",
      "Epoch 3/5\n",
      " - 0s - loss: -3.4542e+01 - acc: 0.0000e+00 - val_loss: -4.2513e+01 - val_acc: 0.0000e+00\n",
      "Epoch 4/5\n",
      " - 0s - loss: -3.4542e+01 - acc: 0.0000e+00 - val_loss: -4.2513e+01 - val_acc: 0.0000e+00\n",
      "Epoch 5/5\n",
      " - 0s - loss: -3.4542e+01 - acc: 0.0000e+00 - val_loss: -4.2513e+01 - val_acc: 0.0000e+00\n",
      "[[1.]\n",
      " [1.]\n",
      " [1.]\n",
      " [1.]\n",
      " [1.]\n",
      " [1.]\n",
      " [1.]]\n",
      "13 19\n",
      "Train on 7 samples, validate on 3 samples\n",
      "Epoch 1/5\n",
      " - 0s - loss: -2.5052e+01 - acc: 0.1429 - val_loss: -1.0628e+01 - val_acc: 0.3333\n",
      "Epoch 2/5\n",
      " - 0s - loss: -2.5052e+01 - acc: 0.1429 - val_loss: -1.0628e+01 - val_acc: 0.3333\n",
      "Epoch 3/5\n",
      " - 0s - loss: -2.5052e+01 - acc: 0.1429 - val_loss: -1.0628e+01 - val_acc: 0.3333\n",
      "Epoch 4/5\n",
      " - 0s - loss: -2.5052e+01 - acc: 0.1429 - val_loss: -1.0628e+01 - val_acc: 0.3333\n",
      "Epoch 5/5\n",
      " - 0s - loss: -2.5052e+01 - acc: 0.1429 - val_loss: -1.0628e+01 - val_acc: 0.3333\n",
      "[[1.]\n",
      " [1.]\n",
      " [1.]\n",
      " [1.]\n",
      " [1.]\n",
      " [1.]\n",
      " [1.]\n",
      " [1.]]\n",
      "20 Not enough samples\n",
      "11 21\n",
      "Train on 5 samples, validate on 3 samples\n",
      "Epoch 1/5\n",
      " - 0s - loss: -1.5942e+01 - acc: 0.4000 - val_loss: -1.0628e+01 - val_acc: 0.6667\n",
      "Epoch 2/5\n",
      " - 0s - loss: -1.5942e+01 - acc: 0.4000 - val_loss: -1.0628e+01 - val_acc: 0.6667\n",
      "Epoch 3/5\n",
      " - 0s - loss: -1.5942e+01 - acc: 0.4000 - val_loss: -1.0628e+01 - val_acc: 0.6667\n",
      "Epoch 4/5\n",
      " - 0s - loss: -1.5942e+01 - acc: 0.4000 - val_loss: -1.0628e+01 - val_acc: 0.6667\n",
      "Epoch 5/5\n",
      " - 0s - loss: -1.5942e+01 - acc: 0.4000 - val_loss: -1.0628e+01 - val_acc: 0.6667\n",
      "[[1.]\n",
      " [1.]\n",
      " [1.]\n",
      " [1.]\n",
      " [1.]\n",
      " [1.]]\n",
      "22 Not enough samples\n",
      "23 Not enough samples\n",
      "12 24\n",
      "Train on 6 samples, validate on 3 samples\n",
      "Epoch 1/5\n",
      " - 0s - loss: -2.6571e+00 - acc: 0.8333 - val_loss: -5.3141e+00 - val_acc: 0.6667\n",
      "Epoch 2/5\n",
      " - 0s - loss: -2.6571e+00 - acc: 0.8333 - val_loss: -5.3141e+00 - val_acc: 0.6667\n",
      "Epoch 3/5\n",
      " - 0s - loss: -2.6571e+00 - acc: 0.8333 - val_loss: -5.3141e+00 - val_acc: 0.6667\n",
      "Epoch 4/5\n",
      " - 0s - loss: -2.6571e+00 - acc: 0.8333 - val_loss: -5.3141e+00 - val_acc: 0.6667\n",
      "Epoch 5/5\n",
      " - 0s - loss: -2.6571e+00 - acc: 0.8333 - val_loss: -5.3141e+00 - val_acc: 0.6667\n",
      "[[1.]\n",
      " [1.]\n",
      " [1.]\n",
      " [1.]\n",
      " [1.]\n",
      " [1.]\n",
      " [1.]]\n",
      "13 25\n",
      "Train on 7 samples, validate on 3 samples\n",
      "Epoch 1/5\n",
      " - 0s - loss: -3.6440e+01 - acc: 0.0000e+00 - val_loss: -4.7827e+01 - val_acc: 0.0000e+00\n",
      "Epoch 2/5\n",
      " - 0s - loss: -3.6440e+01 - acc: 0.0000e+00 - val_loss: -4.7827e+01 - val_acc: 0.0000e+00\n",
      "Epoch 3/5\n",
      " - 0s - loss: -3.6440e+01 - acc: 0.0000e+00 - val_loss: -4.7827e+01 - val_acc: 0.0000e+00\n",
      "Epoch 4/5\n",
      " - 0s - loss: -3.6440e+01 - acc: 0.0000e+00 - val_loss: -4.7827e+01 - val_acc: 0.0000e+00\n",
      "Epoch 5/5\n",
      " - 0s - loss: -3.6440e+01 - acc: 0.0000e+00 - val_loss: -4.7827e+01 - val_acc: 0.0000e+00\n",
      "[[1.]\n",
      " [1.]\n",
      " [1.]\n",
      " [1.]\n",
      " [1.]\n",
      " [1.]\n",
      " [1.]\n",
      " [1.]]\n",
      "26 Not enough samples\n",
      "27 Not enough samples\n",
      "28 Not enough samples\n",
      "29 Not enough samples\n",
      "30 Not enough samples\n",
      "31 Not enough samples\n",
      "32 Not enough samples\n",
      "33 Not enough samples\n",
      "11 34\n",
      "Train on 5 samples, validate on 3 samples\n",
      "Epoch 1/5\n",
      " - 0s - loss: -2.5508e+01 - acc: 0.0000e+00 - val_loss: -2.1257e+01 - val_acc: 0.3333\n",
      "Epoch 2/5\n",
      " - 0s - loss: -2.5508e+01 - acc: 0.0000e+00 - val_loss: -2.1257e+01 - val_acc: 0.3333\n",
      "Epoch 3/5\n",
      " - 0s - loss: -2.5508e+01 - acc: 0.0000e+00 - val_loss: -2.1257e+01 - val_acc: 0.3333\n",
      "Epoch 4/5\n",
      " - 0s - loss: -2.5508e+01 - acc: 0.0000e+00 - val_loss: -2.1257e+01 - val_acc: 0.3333\n",
      "Epoch 5/5\n",
      " - 0s - loss: -2.5508e+01 - acc: 0.0000e+00 - val_loss: -2.1257e+01 - val_acc: 0.3333\n",
      "[[1.]\n",
      " [1.]\n",
      " [1.]\n",
      " [1.]\n",
      " [1.]\n",
      " [1.]]\n",
      "11 35\n",
      "Train on 5 samples, validate on 3 samples\n",
      "Epoch 1/5\n",
      " - 0s - loss: -6.3770e+00 - acc: 0.8000 - val_loss: 1.1921e-07 - val_acc: 1.0000\n",
      "Epoch 2/5\n",
      " - 0s - loss: -6.3770e+00 - acc: 0.8000 - val_loss: 1.1921e-07 - val_acc: 1.0000\n",
      "Epoch 3/5\n",
      " - 0s - loss: -6.3770e+00 - acc: 0.8000 - val_loss: 1.1921e-07 - val_acc: 1.0000\n",
      "Epoch 4/5\n",
      " - 0s - loss: -6.3770e+00 - acc: 0.8000 - val_loss: 1.1921e-07 - val_acc: 1.0000\n",
      "Epoch 5/5\n",
      " - 0s - loss: -6.3770e+00 - acc: 0.8000 - val_loss: 1.1921e-07 - val_acc: 1.0000\n",
      "[[1.]\n",
      " [1.]\n",
      " [1.]\n",
      " [1.]\n",
      " [1.]\n",
      " [1.]]\n",
      "14 36\n",
      "Train on 7 samples, validate on 4 samples\n",
      "Epoch 1/5\n",
      " - 0s - loss: -2.0497e+01 - acc: 0.4286 - val_loss: -3.9856e+00 - val_acc: 0.7500\n",
      "Epoch 2/5\n",
      " - 0s - loss: -2.0497e+01 - acc: 0.4286 - val_loss: -3.9856e+00 - val_acc: 0.7500\n",
      "Epoch 3/5\n",
      " - 0s - loss: -2.0497e+01 - acc: 0.4286 - val_loss: -3.9856e+00 - val_acc: 0.7500\n",
      "Epoch 4/5\n",
      " - 0s - loss: -2.0497e+01 - acc: 0.4286 - val_loss: -3.9856e+00 - val_acc: 0.7500\n",
      "Epoch 5/5\n",
      " - 0s - loss: -2.0497e+01 - acc: 0.4286 - val_loss: -3.9856e+00 - val_acc: 0.7500\n",
      "[[1.]\n",
      " [1.]\n",
      " [1.]\n",
      " [1.]\n",
      " [1.]\n",
      " [1.]\n",
      " [1.]\n",
      " [1.]\n",
      " [1.]]\n",
      "37 Not enough samples\n",
      "38 Not enough samples\n",
      "39 Not enough samples\n",
      "40 Not enough samples\n",
      "41 Not enough samples\n",
      "42 Not enough samples\n",
      "43 Not enough samples\n",
      "12 44\n",
      "Train on 6 samples, validate on 3 samples\n",
      "Epoch 1/5\n",
      " - 0s - loss: 1.1921e-07 - acc: 1.0000 - val_loss: 1.1921e-07 - val_acc: 1.0000\n",
      "Epoch 2/5\n",
      " - 0s - loss: 1.1921e-07 - acc: 1.0000 - val_loss: 1.1921e-07 - val_acc: 1.0000\n",
      "Epoch 3/5\n",
      " - 0s - loss: 1.1921e-07 - acc: 1.0000 - val_loss: 1.1921e-07 - val_acc: 1.0000\n",
      "Epoch 4/5\n",
      " - 0s - loss: 1.1921e-07 - acc: 1.0000 - val_loss: 1.1921e-07 - val_acc: 1.0000\n",
      "Epoch 5/5\n",
      " - 0s - loss: 1.1921e-07 - acc: 1.0000 - val_loss: 1.1921e-07 - val_acc: 1.0000\n",
      "[[1.]\n",
      " [1.]\n",
      " [1.]\n",
      " [1.]\n",
      " [1.]\n",
      " [1.]\n",
      " [1.]]\n",
      "11 45\n",
      "Train on 5 samples, validate on 3 samples\n",
      "Epoch 1/5\n",
      " - 0s - loss: -2.8696e+01 - acc: 0.4000 - val_loss: -1.0628e+01 - val_acc: 0.3333\n",
      "Epoch 2/5\n",
      " - 0s - loss: -2.8696e+01 - acc: 0.4000 - val_loss: -1.0628e+01 - val_acc: 0.3333\n",
      "Epoch 3/5\n",
      " - 0s - loss: -2.8696e+01 - acc: 0.4000 - val_loss: -1.0628e+01 - val_acc: 0.3333\n",
      "Epoch 4/5\n",
      " - 0s - loss: -2.8696e+01 - acc: 0.4000 - val_loss: -1.0628e+01 - val_acc: 0.3333\n",
      "Epoch 5/5\n",
      " - 0s - loss: -2.8696e+01 - acc: 0.4000 - val_loss: -1.0628e+01 - val_acc: 0.3333\n",
      "[[1.]\n",
      " [1.]\n",
      " [1.]\n",
      " [1.]\n",
      " [1.]\n",
      " [1.]]\n",
      "22 46\n",
      "Train on 11 samples, validate on 6 samples\n",
      "Epoch 1/5\n",
      " - 0s - loss: -2.1740e+01 - acc: 0.1818 - val_loss: -3.9856e+01 - val_acc: 0.0000e+00\n",
      "Epoch 2/5\n",
      " - 0s - loss: -2.1740e+01 - acc: 0.1818 - val_loss: -3.9856e+01 - val_acc: 0.0000e+00\n",
      "Epoch 3/5\n",
      " - 0s - loss: -2.1740e+01 - acc: 0.1818 - val_loss: -3.9856e+01 - val_acc: 0.0000e+00\n",
      "Epoch 4/5\n",
      " - 0s - loss: -2.1740e+01 - acc: 0.1818 - val_loss: -3.9856e+01 - val_acc: 0.0000e+00\n",
      "Epoch 5/5\n",
      " - 0s - loss: -2.1740e+01 - acc: 0.1818 - val_loss: -3.9856e+01 - val_acc: 0.0000e+00\n",
      "[[1.]\n",
      " [1.]\n",
      " [1.]\n",
      " [1.]\n",
      " [1.]\n",
      " [1.]\n",
      " [1.]\n",
      " [1.]\n",
      " [1.]\n",
      " [1.]\n",
      " [1.]\n",
      " [1.]\n",
      " [1.]\n",
      " [1.]\n",
      " [1.]]\n",
      "15 47\n",
      "Train on 8 samples, validate on 4 samples\n",
      "Epoch 1/5\n",
      " - 0s - loss: -5.9784e+01 - acc: 0.0000e+00 - val_loss: -4.7827e+01 - val_acc: 0.0000e+00\n",
      "Epoch 2/5\n",
      " - 0s - loss: -5.9784e+01 - acc: 0.0000e+00 - val_loss: -4.7827e+01 - val_acc: 0.0000e+00\n",
      "Epoch 3/5\n",
      " - 0s - loss: -5.9784e+01 - acc: 0.0000e+00 - val_loss: -4.7827e+01 - val_acc: 0.0000e+00\n",
      "Epoch 4/5\n",
      " - 0s - loss: -5.9784e+01 - acc: 0.0000e+00 - val_loss: -4.7827e+01 - val_acc: 0.0000e+00\n",
      "Epoch 5/5\n",
      " - 0s - loss: -5.9784e+01 - acc: 0.0000e+00 - val_loss: -4.7827e+01 - val_acc: 0.0000e+00\n",
      "[[1.]\n",
      " [1.]\n",
      " [1.]\n",
      " [1.]\n",
      " [1.]\n",
      " [1.]\n",
      " [1.]\n",
      " [1.]\n",
      " [1.]\n",
      " [1.]]\n",
      "48 Not enough samples\n",
      "49 Not enough samples\n",
      "50 Not enough samples\n",
      "51 Not enough samples\n",
      "12 52\n",
      "Train on 6 samples, validate on 3 samples\n",
      "Epoch 1/5\n",
      " - 0s - loss: -3.4542e+01 - acc: 0.1667 - val_loss: -4.7827e+01 - val_acc: 0.0000e+00\n"
     ]
    },
    {
     "name": "stdout",
     "output_type": "stream",
     "text": [
      "Epoch 2/5\n",
      " - 0s - loss: -3.4542e+01 - acc: 0.1667 - val_loss: -4.7827e+01 - val_acc: 0.0000e+00\n",
      "Epoch 3/5\n",
      " - 0s - loss: -3.4542e+01 - acc: 0.1667 - val_loss: -4.7827e+01 - val_acc: 0.0000e+00\n",
      "Epoch 4/5\n",
      " - 0s - loss: -3.4542e+01 - acc: 0.1667 - val_loss: -4.7827e+01 - val_acc: 0.0000e+00\n",
      "Epoch 5/5\n",
      " - 0s - loss: -3.4542e+01 - acc: 0.1667 - val_loss: -4.7827e+01 - val_acc: 0.0000e+00\n",
      "[[1.]\n",
      " [1.]\n",
      " [1.]\n",
      " [1.]\n",
      " [1.]\n",
      " [1.]\n",
      " [1.]]\n",
      "53 Not enough samples\n",
      "54 Not enough samples\n",
      "12 55\n",
      "Train on 6 samples, validate on 3 samples\n",
      "Epoch 1/5\n",
      " - 0s - loss: -1.8599e+01 - acc: 0.3333 - val_loss: -2.6571e+01 - val_acc: 0.0000e+00\n",
      "Epoch 2/5\n",
      " - 0s - loss: -1.8599e+01 - acc: 0.3333 - val_loss: -2.6571e+01 - val_acc: 0.0000e+00\n",
      "Epoch 3/5\n",
      " - 0s - loss: -1.8599e+01 - acc: 0.3333 - val_loss: -2.6571e+01 - val_acc: 0.0000e+00\n",
      "Epoch 4/5\n",
      " - 0s - loss: -1.8599e+01 - acc: 0.3333 - val_loss: -2.6571e+01 - val_acc: 0.0000e+00\n",
      "Epoch 5/5\n",
      " - 0s - loss: -1.8599e+01 - acc: 0.3333 - val_loss: -2.6571e+01 - val_acc: 0.0000e+00\n",
      "[[1.]\n",
      " [1.]\n",
      " [1.]\n",
      " [1.]\n",
      " [1.]\n",
      " [1.]\n",
      " [1.]]\n",
      "13 56\n",
      "Train on 7 samples, validate on 3 samples\n",
      "Epoch 1/5\n",
      " - 0s - loss: -3.1885e+01 - acc: 0.2857 - val_loss: -4.2513e+01 - val_acc: 0.0000e+00\n",
      "Epoch 2/5\n",
      " - 0s - loss: -3.1885e+01 - acc: 0.2857 - val_loss: -4.2513e+01 - val_acc: 0.0000e+00\n",
      "Epoch 3/5\n",
      " - 0s - loss: -3.1885e+01 - acc: 0.2857 - val_loss: -4.2513e+01 - val_acc: 0.0000e+00\n",
      "Epoch 4/5\n",
      " - 0s - loss: -3.1885e+01 - acc: 0.2857 - val_loss: -4.2513e+01 - val_acc: 0.0000e+00\n",
      "Epoch 5/5\n",
      " - 0s - loss: -3.1885e+01 - acc: 0.2857 - val_loss: -4.2513e+01 - val_acc: 0.0000e+00\n",
      "[[1.]\n",
      " [1.]\n",
      " [1.]\n",
      " [1.]\n",
      " [1.]\n",
      " [1.]\n",
      " [1.]\n",
      " [1.]]\n",
      "57 Not enough samples\n",
      "58 Not enough samples\n",
      "59 Not enough samples\n",
      "13 60\n",
      "Train on 7 samples, validate on 3 samples\n",
      "Epoch 1/5\n",
      " - 0s - loss: -2.9607e+01 - acc: 0.0000e+00 - val_loss: -3.7199e+01 - val_acc: 0.0000e+00\n",
      "Epoch 2/5\n",
      " - 0s - loss: -2.9607e+01 - acc: 0.0000e+00 - val_loss: -3.7199e+01 - val_acc: 0.0000e+00\n",
      "Epoch 3/5\n",
      " - 0s - loss: -2.9607e+01 - acc: 0.0000e+00 - val_loss: -3.7199e+01 - val_acc: 0.0000e+00\n",
      "Epoch 4/5\n",
      " - 0s - loss: -2.9607e+01 - acc: 0.0000e+00 - val_loss: -3.7199e+01 - val_acc: 0.0000e+00\n",
      "Epoch 5/5\n",
      " - 0s - loss: -2.9607e+01 - acc: 0.0000e+00 - val_loss: -3.7199e+01 - val_acc: 0.0000e+00\n",
      "[[1.]\n",
      " [1.]\n",
      " [1.]\n",
      " [1.]\n",
      " [1.]\n",
      " [1.]\n",
      " [1.]\n",
      " [1.]]\n",
      "11 61\n",
      "Train on 5 samples, validate on 3 samples\n",
      "Epoch 1/5\n",
      " - 0s - loss: 1.1921e-07 - acc: 1.0000 - val_loss: 1.1921e-07 - val_acc: 1.0000\n",
      "Epoch 2/5\n",
      " - 0s - loss: 1.1921e-07 - acc: 1.0000 - val_loss: 1.1921e-07 - val_acc: 1.0000\n",
      "Epoch 3/5\n",
      " - 0s - loss: 1.1921e-07 - acc: 1.0000 - val_loss: 1.1921e-07 - val_acc: 1.0000\n",
      "Epoch 4/5\n",
      " - 0s - loss: 1.1921e-07 - acc: 1.0000 - val_loss: 1.1921e-07 - val_acc: 1.0000\n",
      "Epoch 5/5\n",
      " - 0s - loss: 1.1921e-07 - acc: 1.0000 - val_loss: 1.1921e-07 - val_acc: 1.0000\n",
      "[[1.]\n",
      " [1.]\n",
      " [1.]\n",
      " [1.]\n",
      " [1.]\n",
      " [1.]]\n",
      "13 62\n",
      "Train on 7 samples, validate on 3 samples\n",
      "Epoch 1/5\n",
      " - 0s - loss: -4.7827e+01 - acc: 0.1429 - val_loss: -3.7199e+01 - val_acc: 0.0000e+00\n",
      "Epoch 2/5\n",
      " - 0s - loss: -4.7827e+01 - acc: 0.1429 - val_loss: -3.7199e+01 - val_acc: 0.0000e+00\n",
      "Epoch 3/5\n",
      " - 0s - loss: -4.7827e+01 - acc: 0.1429 - val_loss: -3.7199e+01 - val_acc: 0.0000e+00\n",
      "Epoch 4/5\n",
      " - 0s - loss: -4.7827e+01 - acc: 0.1429 - val_loss: -3.7199e+01 - val_acc: 0.0000e+00\n",
      "Epoch 5/5\n",
      " - 0s - loss: -4.7827e+01 - acc: 0.1429 - val_loss: -3.7199e+01 - val_acc: 0.0000e+00\n",
      "[[1.]\n",
      " [1.]\n",
      " [1.]\n",
      " [1.]\n",
      " [1.]\n",
      " [1.]\n",
      " [1.]\n",
      " [1.]]\n",
      "11 63\n",
      "Train on 5 samples, validate on 3 samples\n",
      "Epoch 1/5\n",
      " - 0s - loss: -6.3770e+00 - acc: 0.6000 - val_loss: -4.2513e+01 - val_acc: 0.3333\n",
      "Epoch 2/5\n",
      " - 0s - loss: -6.3770e+00 - acc: 0.6000 - val_loss: -4.2513e+01 - val_acc: 0.3333\n",
      "Epoch 3/5\n",
      " - 0s - loss: -6.3770e+00 - acc: 0.6000 - val_loss: -4.2513e+01 - val_acc: 0.3333\n",
      "Epoch 4/5\n",
      " - 0s - loss: -6.3770e+00 - acc: 0.6000 - val_loss: -4.2513e+01 - val_acc: 0.3333\n",
      "Epoch 5/5\n",
      " - 0s - loss: -6.3770e+00 - acc: 0.6000 - val_loss: -4.2513e+01 - val_acc: 0.3333\n",
      "[[1.]\n",
      " [1.]\n",
      " [1.]\n",
      " [1.]\n",
      " [1.]\n",
      " [1.]]\n",
      "64 Not enough samples\n",
      "65 Not enough samples\n",
      "66 Not enough samples\n",
      "12 67\n",
      "Train on 6 samples, validate on 3 samples\n",
      "Epoch 1/5\n",
      " - 0s - loss: -5.0484e+01 - acc: 0.0000e+00 - val_loss: -1.0628e+01 - val_acc: 0.6667\n",
      "Epoch 2/5\n",
      " - 0s - loss: -5.0484e+01 - acc: 0.0000e+00 - val_loss: -1.0628e+01 - val_acc: 0.6667\n",
      "Epoch 3/5\n",
      " - 0s - loss: -5.0484e+01 - acc: 0.0000e+00 - val_loss: -1.0628e+01 - val_acc: 0.6667\n",
      "Epoch 4/5\n",
      " - 0s - loss: -5.0484e+01 - acc: 0.0000e+00 - val_loss: -1.0628e+01 - val_acc: 0.6667\n",
      "Epoch 5/5\n",
      " - 0s - loss: -5.0484e+01 - acc: 0.0000e+00 - val_loss: -1.0628e+01 - val_acc: 0.6667\n",
      "[[1.]\n",
      " [1.]\n",
      " [1.]\n",
      " [1.]\n",
      " [1.]\n",
      " [1.]\n",
      " [1.]]\n",
      "68 Not enough samples\n",
      "13 69\n",
      "Train on 7 samples, validate on 3 samples\n",
      "Epoch 1/5\n",
      " - 0s - loss: -1.1387e+01 - acc: 0.7143 - val_loss: -2.1257e+01 - val_acc: 0.3333\n",
      "Epoch 2/5\n",
      " - 0s - loss: -1.1387e+01 - acc: 0.7143 - val_loss: -2.1257e+01 - val_acc: 0.3333\n",
      "Epoch 3/5\n",
      " - 0s - loss: -1.1387e+01 - acc: 0.7143 - val_loss: -2.1257e+01 - val_acc: 0.3333\n",
      "Epoch 4/5\n",
      " - 0s - loss: -1.1387e+01 - acc: 0.7143 - val_loss: -2.1257e+01 - val_acc: 0.3333\n",
      "Epoch 5/5\n",
      " - 0s - loss: -1.1387e+01 - acc: 0.7143 - val_loss: -2.1257e+01 - val_acc: 0.3333\n",
      "[[1.]\n",
      " [1.]\n",
      " [1.]\n",
      " [1.]\n",
      " [1.]\n",
      " [1.]\n",
      " [1.]\n",
      " [1.]]\n",
      "11 70\n",
      "Train on 5 samples, validate on 3 samples\n",
      "Epoch 1/5\n",
      " - 0s - loss: -3.8262e+01 - acc: 0.2000 - val_loss: -5.8455e+01 - val_acc: 0.0000e+00\n",
      "Epoch 2/5\n",
      " - 0s - loss: -3.8262e+01 - acc: 0.2000 - val_loss: -5.8455e+01 - val_acc: 0.0000e+00\n",
      "Epoch 3/5\n",
      " - 0s - loss: -3.8262e+01 - acc: 0.2000 - val_loss: -5.8455e+01 - val_acc: 0.0000e+00\n",
      "Epoch 4/5\n",
      " - 0s - loss: -3.8262e+01 - acc: 0.2000 - val_loss: -5.8455e+01 - val_acc: 0.0000e+00\n",
      "Epoch 5/5\n",
      " - 0s - loss: -3.8262e+01 - acc: 0.2000 - val_loss: -5.8455e+01 - val_acc: 0.0000e+00\n",
      "[[1.]\n",
      " [1.]\n",
      " [1.]\n",
      " [1.]\n",
      " [1.]\n",
      " [1.]]\n",
      "71 Not enough samples\n",
      "72 Not enough samples\n"
     ]
    }
   ],
   "source": [
    "grouped = df.groupby(by='query')\n",
    "\n",
    "for i,j in grouped:\n",
    "    if len(j)>10: #do model for queries with at least 10 docs rated\n",
    "        print(len(j),i)\n",
    "        n=int(80*len(j)/100)\n",
    "        j=j.iloc[:n]\n",
    "        test1 = j[:-2]\n",
    "        test1=test1[[\"cosine_y\",\"numWordsQuery\",\"numWordsCV\",\"numCommonWords\"]].to_numpy()\n",
    "        y = j['score'].to_numpy().flatten()\n",
    "        #y = y_concat[:n]\n",
    "        X = j[[\"cosine_y\",\"numWordsQuery\",\"numWordsCV\",\"numCommonWords\"]].to_numpy()\n",
    "        X, y = shuffle(X, y)\n",
    "        m=model.fit(X,y,validation_split=0.3, batch_size=1,epochs=5, shuffle=False, verbose=2)\n",
    "        predictions = model.predict(test1, verbose=0)\n",
    "        print(predictions) #empty prediction problemmmmmmmmmmmmmmb\n",
    "        #if i == 13:\n",
    "         #   break\n",
    "    else:\n",
    "\n",
    "        print(i,\"Not enough samples\")"
   ]
  },
  {
   "cell_type": "code",
   "execution_count": 16,
   "metadata": {},
   "outputs": [],
   "source": [
    "from sklearn.preprocessing import OneHotEncoder\n",
    "\n",
    "# binary encode\n",
    "onehot_encoder = OneHotEncoder(sparse=False)"
   ]
  },
  {
   "cell_type": "code",
   "execution_count": 365,
   "metadata": {},
   "outputs": [
    {
     "data": {
      "text/html": [
       "<div>\n",
       "<style scoped>\n",
       "    .dataframe tbody tr th:only-of-type {\n",
       "        vertical-align: middle;\n",
       "    }\n",
       "\n",
       "    .dataframe tbody tr th {\n",
       "        vertical-align: top;\n",
       "    }\n",
       "\n",
       "    .dataframe thead th {\n",
       "        text-align: right;\n",
       "    }\n",
       "</style>\n",
       "<table border=\"1\" class=\"dataframe\">\n",
       "  <thead>\n",
       "    <tr style=\"text-align: right;\">\n",
       "      <th></th>\n",
       "      <th>cosine_y</th>\n",
       "      <th>query</th>\n",
       "      <th>numWordsQuery</th>\n",
       "      <th>numWordsCV</th>\n",
       "      <th>numCommonWords</th>\n",
       "      <th>score</th>\n",
       "    </tr>\n",
       "  </thead>\n",
       "  <tbody>\n",
       "    <tr>\n",
       "      <th>129</th>\n",
       "      <td>0.404</td>\n",
       "      <td>13</td>\n",
       "      <td>10</td>\n",
       "      <td>203</td>\n",
       "      <td>1</td>\n",
       "      <td>2</td>\n",
       "    </tr>\n",
       "  </tbody>\n",
       "</table>\n",
       "</div>"
      ],
      "text/plain": [
       "     cosine_y  query  numWordsQuery  numWordsCV  numCommonWords  score\n",
       "129     0.404     13             10         203               1      2"
      ]
     },
     "execution_count": 365,
     "metadata": {},
     "output_type": "execute_result"
    }
   ],
   "source": [
    "n=int(80*len(j)/100)\n",
    "j=j.iloc[:n]\n",
    "test1 = j[:-1]\n",
    "test1"
   ]
  },
  {
   "cell_type": "code",
   "execution_count": 17,
   "metadata": {},
   "outputs": [
    {
     "name": "stderr",
     "output_type": "stream",
     "text": [
      "C:\\Users\\giaco\\Anaconda3\\lib\\site-packages\\sklearn\\preprocessing\\_encoders.py:371: FutureWarning: The handling of integer data will change in version 0.22. Currently, the categories are determined based on the range [0, max(values)], while in the future they will be determined based on the unique values.\n",
      "If you want the future behaviour and silence this warning, you can specify \"categories='auto'\".\n",
      "In case you used a LabelEncoder before this OneHotEncoder to convert the categories to integers, then you can now use the OneHotEncoder directly.\n",
      "  warnings.warn(msg, FutureWarning)\n"
     ]
    }
   ],
   "source": [
    "c = np.array(df.score)\n",
    "integer_encoded = c.reshape(len(c), 1)\n",
    "onehot_encoded = onehot_encoder.fit_transform(integer_encoded)"
   ]
  },
  {
   "cell_type": "code",
   "execution_count": null,
   "metadata": {},
   "outputs": [],
   "source": []
  },
  {
   "cell_type": "code",
   "execution_count": 269,
   "metadata": {},
   "outputs": [
    {
     "data": {
      "text/html": [
       "<div>\n",
       "<style scoped>\n",
       "    .dataframe tbody tr th:only-of-type {\n",
       "        vertical-align: middle;\n",
       "    }\n",
       "\n",
       "    .dataframe tbody tr th {\n",
       "        vertical-align: top;\n",
       "    }\n",
       "\n",
       "    .dataframe thead th {\n",
       "        text-align: right;\n",
       "    }\n",
       "</style>\n",
       "<table border=\"1\" class=\"dataframe\">\n",
       "  <thead>\n",
       "    <tr style=\"text-align: right;\">\n",
       "      <th></th>\n",
       "      <th>1</th>\n",
       "      <th>2</th>\n",
       "      <th>3</th>\n",
       "      <th>4</th>\n",
       "      <th>5</th>\n",
       "    </tr>\n",
       "  </thead>\n",
       "  <tbody>\n",
       "    <tr>\n",
       "      <th>0</th>\n",
       "      <td>0.0</td>\n",
       "      <td>0.0</td>\n",
       "      <td>1.0</td>\n",
       "      <td>0.0</td>\n",
       "      <td>0.0</td>\n",
       "    </tr>\n",
       "    <tr>\n",
       "      <th>1</th>\n",
       "      <td>0.0</td>\n",
       "      <td>0.0</td>\n",
       "      <td>1.0</td>\n",
       "      <td>0.0</td>\n",
       "      <td>0.0</td>\n",
       "    </tr>\n",
       "    <tr>\n",
       "      <th>2</th>\n",
       "      <td>1.0</td>\n",
       "      <td>0.0</td>\n",
       "      <td>0.0</td>\n",
       "      <td>0.0</td>\n",
       "      <td>0.0</td>\n",
       "    </tr>\n",
       "    <tr>\n",
       "      <th>3</th>\n",
       "      <td>0.0</td>\n",
       "      <td>0.0</td>\n",
       "      <td>1.0</td>\n",
       "      <td>0.0</td>\n",
       "      <td>0.0</td>\n",
       "    </tr>\n",
       "    <tr>\n",
       "      <th>4</th>\n",
       "      <td>1.0</td>\n",
       "      <td>0.0</td>\n",
       "      <td>0.0</td>\n",
       "      <td>0.0</td>\n",
       "      <td>0.0</td>\n",
       "    </tr>\n",
       "  </tbody>\n",
       "</table>\n",
       "</div>"
      ],
      "text/plain": [
       "     1    2    3    4    5\n",
       "0  0.0  0.0  1.0  0.0  0.0\n",
       "1  0.0  0.0  1.0  0.0  0.0\n",
       "2  1.0  0.0  0.0  0.0  0.0\n",
       "3  0.0  0.0  1.0  0.0  0.0\n",
       "4  1.0  0.0  0.0  0.0  0.0"
      ]
     },
     "execution_count": 269,
     "metadata": {},
     "output_type": "execute_result"
    }
   ],
   "source": [
    "y_onehot = pd.DataFrame(onehot_encoded,columns=[\"1\",\"2\",\"3\",\"4\",\"5\"])\n",
    "y_onehot.head()"
   ]
  },
  {
   "cell_type": "code",
   "execution_count": 273,
   "metadata": {},
   "outputs": [
    {
     "name": "stdout",
     "output_type": "stream",
     "text": [
      "1    0.0\n",
      "2    0.0\n",
      "3    1.0\n",
      "4    0.0\n",
      "5    0.0\n",
      "Name: 0, dtype: float64\n",
      "1    0.0\n",
      "2    0.0\n",
      "3    1.0\n",
      "4    0.0\n",
      "5    0.0\n",
      "Name: 1, dtype: float64\n",
      "1    1.0\n",
      "2    0.0\n",
      "3    0.0\n",
      "4    0.0\n",
      "5    0.0\n",
      "Name: 2, dtype: float64\n",
      "1    0.0\n",
      "2    0.0\n",
      "3    1.0\n",
      "4    0.0\n",
      "5    0.0\n",
      "Name: 3, dtype: float64\n",
      "1    1.0\n",
      "2    0.0\n",
      "3    0.0\n",
      "4    0.0\n",
      "5    0.0\n",
      "Name: 4, dtype: float64\n",
      "1    0.0\n",
      "2    0.0\n",
      "3    0.0\n",
      "4    1.0\n",
      "5    0.0\n",
      "Name: 5, dtype: float64\n",
      "1    0.0\n",
      "2    0.0\n",
      "3    0.0\n",
      "4    0.0\n",
      "5    1.0\n",
      "Name: 6, dtype: float64\n",
      "1    0.0\n",
      "2    0.0\n",
      "3    0.0\n",
      "4    0.0\n",
      "5    1.0\n",
      "Name: 7, dtype: float64\n",
      "1    0.0\n",
      "2    0.0\n",
      "3    0.0\n",
      "4    1.0\n",
      "5    0.0\n",
      "Name: 8, dtype: float64\n",
      "1    0.0\n",
      "2    0.0\n",
      "3    0.0\n",
      "4    1.0\n",
      "5    0.0\n",
      "Name: 9, dtype: float64\n",
      "1    0.0\n",
      "2    0.0\n",
      "3    0.0\n",
      "4    0.0\n",
      "5    1.0\n",
      "Name: 10, dtype: float64\n",
      "1    0.0\n",
      "2    0.0\n",
      "3    0.0\n",
      "4    1.0\n",
      "5    0.0\n",
      "Name: 11, dtype: float64\n",
      "1    1.0\n",
      "2    0.0\n",
      "3    0.0\n",
      "4    0.0\n",
      "5    0.0\n",
      "Name: 12, dtype: float64\n",
      "1    1.0\n",
      "2    0.0\n",
      "3    0.0\n",
      "4    0.0\n",
      "5    0.0\n",
      "Name: 13, dtype: float64\n",
      "1    1.0\n",
      "2    0.0\n",
      "3    0.0\n",
      "4    0.0\n",
      "5    0.0\n",
      "Name: 14, dtype: float64\n",
      "1    1.0\n",
      "2    0.0\n",
      "3    0.0\n",
      "4    0.0\n",
      "5    0.0\n",
      "Name: 15, dtype: float64\n",
      "1    1.0\n",
      "2    0.0\n",
      "3    0.0\n",
      "4    0.0\n",
      "5    0.0\n",
      "Name: 16, dtype: float64\n",
      "1    0.0\n",
      "2    0.0\n",
      "3    1.0\n",
      "4    0.0\n",
      "5    0.0\n",
      "Name: 17, dtype: float64\n",
      "1    1.0\n",
      "2    0.0\n",
      "3    0.0\n",
      "4    0.0\n",
      "5    0.0\n",
      "Name: 18, dtype: float64\n",
      "1    1.0\n",
      "2    0.0\n",
      "3    0.0\n",
      "4    0.0\n",
      "5    0.0\n",
      "Name: 19, dtype: float64\n",
      "1    0.0\n",
      "2    0.0\n",
      "3    1.0\n",
      "4    0.0\n",
      "5    0.0\n",
      "Name: 20, dtype: float64\n",
      "1    1.0\n",
      "2    0.0\n",
      "3    0.0\n",
      "4    0.0\n",
      "5    0.0\n",
      "Name: 21, dtype: float64\n",
      "1    0.0\n",
      "2    0.0\n",
      "3    0.0\n",
      "4    1.0\n",
      "5    0.0\n",
      "Name: 22, dtype: float64\n",
      "1    0.0\n",
      "2    0.0\n",
      "3    1.0\n",
      "4    0.0\n",
      "5    0.0\n",
      "Name: 23, dtype: float64\n",
      "1    0.0\n",
      "2    0.0\n",
      "3    0.0\n",
      "4    1.0\n",
      "5    0.0\n",
      "Name: 24, dtype: float64\n",
      "1    1.0\n",
      "2    0.0\n",
      "3    0.0\n",
      "4    0.0\n",
      "5    0.0\n",
      "Name: 25, dtype: float64\n",
      "1    0.0\n",
      "2    0.0\n",
      "3    1.0\n",
      "4    0.0\n",
      "5    0.0\n",
      "Name: 26, dtype: float64\n",
      "1    0.0\n",
      "2    0.0\n",
      "3    0.0\n",
      "4    0.0\n",
      "5    1.0\n",
      "Name: 27, dtype: float64\n",
      "1    1.0\n",
      "2    0.0\n",
      "3    0.0\n",
      "4    0.0\n",
      "5    0.0\n",
      "Name: 28, dtype: float64\n",
      "1    1.0\n",
      "2    0.0\n",
      "3    0.0\n",
      "4    0.0\n",
      "5    0.0\n",
      "Name: 29, dtype: float64\n",
      "1    0.0\n",
      "2    0.0\n",
      "3    0.0\n",
      "4    1.0\n",
      "5    0.0\n",
      "Name: 30, dtype: float64\n",
      "1    0.0\n",
      "2    1.0\n",
      "3    0.0\n",
      "4    0.0\n",
      "5    0.0\n",
      "Name: 31, dtype: float64\n",
      "1    0.0\n",
      "2    0.0\n",
      "3    0.0\n",
      "4    0.0\n",
      "5    1.0\n",
      "Name: 32, dtype: float64\n",
      "1    0.0\n",
      "2    0.0\n",
      "3    0.0\n",
      "4    1.0\n",
      "5    0.0\n",
      "Name: 33, dtype: float64\n",
      "1    1.0\n",
      "2    0.0\n",
      "3    0.0\n",
      "4    0.0\n",
      "5    0.0\n",
      "Name: 34, dtype: float64\n",
      "1    0.0\n",
      "2    0.0\n",
      "3    1.0\n",
      "4    0.0\n",
      "5    0.0\n",
      "Name: 35, dtype: float64\n",
      "1    0.0\n",
      "2    1.0\n",
      "3    0.0\n",
      "4    0.0\n",
      "5    0.0\n",
      "Name: 36, dtype: float64\n",
      "1    0.0\n",
      "2    0.0\n",
      "3    1.0\n",
      "4    0.0\n",
      "5    0.0\n",
      "Name: 37, dtype: float64\n",
      "1    0.0\n",
      "2    0.0\n",
      "3    0.0\n",
      "4    0.0\n",
      "5    1.0\n",
      "Name: 38, dtype: float64\n",
      "1    1.0\n",
      "2    0.0\n",
      "3    0.0\n",
      "4    0.0\n",
      "5    0.0\n",
      "Name: 39, dtype: float64\n",
      "1    0.0\n",
      "2    0.0\n",
      "3    0.0\n",
      "4    0.0\n",
      "5    1.0\n",
      "Name: 40, dtype: float64\n",
      "1    0.0\n",
      "2    0.0\n",
      "3    0.0\n",
      "4    1.0\n",
      "5    0.0\n",
      "Name: 41, dtype: float64\n",
      "1    0.0\n",
      "2    0.0\n",
      "3    0.0\n",
      "4    1.0\n",
      "5    0.0\n",
      "Name: 42, dtype: float64\n",
      "1    1.0\n",
      "2    0.0\n",
      "3    0.0\n",
      "4    0.0\n",
      "5    0.0\n",
      "Name: 43, dtype: float64\n",
      "1    0.0\n",
      "2    0.0\n",
      "3    1.0\n",
      "4    0.0\n",
      "5    0.0\n",
      "Name: 44, dtype: float64\n",
      "1    0.0\n",
      "2    0.0\n",
      "3    0.0\n",
      "4    1.0\n",
      "5    0.0\n",
      "Name: 45, dtype: float64\n",
      "1    0.0\n",
      "2    0.0\n",
      "3    0.0\n",
      "4    1.0\n",
      "5    0.0\n",
      "Name: 46, dtype: float64\n",
      "1    0.0\n",
      "2    0.0\n",
      "3    1.0\n",
      "4    0.0\n",
      "5    0.0\n",
      "Name: 47, dtype: float64\n",
      "1    0.0\n",
      "2    0.0\n",
      "3    0.0\n",
      "4    1.0\n",
      "5    0.0\n",
      "Name: 48, dtype: float64\n",
      "1    1.0\n",
      "2    0.0\n",
      "3    0.0\n",
      "4    0.0\n",
      "5    0.0\n",
      "Name: 49, dtype: float64\n",
      "1    1.0\n",
      "2    0.0\n",
      "3    0.0\n",
      "4    0.0\n",
      "5    0.0\n",
      "Name: 50, dtype: float64\n",
      "1    1.0\n",
      "2    0.0\n",
      "3    0.0\n",
      "4    0.0\n",
      "5    0.0\n",
      "Name: 51, dtype: float64\n",
      "1    1.0\n",
      "2    0.0\n",
      "3    0.0\n",
      "4    0.0\n",
      "5    0.0\n",
      "Name: 52, dtype: float64\n",
      "1    1.0\n",
      "2    0.0\n",
      "3    0.0\n",
      "4    0.0\n",
      "5    0.0\n",
      "Name: 53, dtype: float64\n",
      "1    1.0\n",
      "2    0.0\n",
      "3    0.0\n",
      "4    0.0\n",
      "5    0.0\n",
      "Name: 54, dtype: float64\n",
      "1    1.0\n",
      "2    0.0\n",
      "3    0.0\n",
      "4    0.0\n",
      "5    0.0\n",
      "Name: 55, dtype: float64\n",
      "1    0.0\n",
      "2    1.0\n",
      "3    0.0\n",
      "4    0.0\n",
      "5    0.0\n",
      "Name: 56, dtype: float64\n",
      "1    1.0\n",
      "2    0.0\n",
      "3    0.0\n",
      "4    0.0\n",
      "5    0.0\n",
      "Name: 57, dtype: float64\n",
      "1    0.0\n",
      "2    1.0\n",
      "3    0.0\n",
      "4    0.0\n",
      "5    0.0\n",
      "Name: 58, dtype: float64\n",
      "1    0.0\n",
      "2    1.0\n",
      "3    0.0\n",
      "4    0.0\n",
      "5    0.0\n",
      "Name: 59, dtype: float64\n",
      "1    1.0\n",
      "2    0.0\n",
      "3    0.0\n",
      "4    0.0\n",
      "5    0.0\n",
      "Name: 60, dtype: float64\n",
      "1    1.0\n",
      "2    0.0\n",
      "3    0.0\n",
      "4    0.0\n",
      "5    0.0\n",
      "Name: 61, dtype: float64\n",
      "1    1.0\n",
      "2    0.0\n",
      "3    0.0\n",
      "4    0.0\n",
      "5    0.0\n",
      "Name: 62, dtype: float64\n",
      "1    1.0\n",
      "2    0.0\n",
      "3    0.0\n",
      "4    0.0\n",
      "5    0.0\n",
      "Name: 63, dtype: float64\n",
      "1    1.0\n",
      "2    0.0\n",
      "3    0.0\n",
      "4    0.0\n",
      "5    0.0\n",
      "Name: 64, dtype: float64\n",
      "1    1.0\n",
      "2    0.0\n",
      "3    0.0\n",
      "4    0.0\n",
      "5    0.0\n",
      "Name: 65, dtype: float64\n",
      "1    1.0\n",
      "2    0.0\n",
      "3    0.0\n",
      "4    0.0\n",
      "5    0.0\n",
      "Name: 66, dtype: float64\n",
      "1    1.0\n",
      "2    0.0\n",
      "3    0.0\n",
      "4    0.0\n",
      "5    0.0\n",
      "Name: 67, dtype: float64\n",
      "1    0.0\n",
      "2    0.0\n",
      "3    0.0\n",
      "4    0.0\n",
      "5    1.0\n",
      "Name: 68, dtype: float64\n",
      "1    0.0\n",
      "2    0.0\n",
      "3    0.0\n",
      "4    0.0\n",
      "5    1.0\n",
      "Name: 69, dtype: float64\n",
      "1    0.0\n",
      "2    1.0\n",
      "3    0.0\n",
      "4    0.0\n",
      "5    0.0\n",
      "Name: 70, dtype: float64\n",
      "1    1.0\n",
      "2    0.0\n",
      "3    0.0\n",
      "4    0.0\n",
      "5    0.0\n",
      "Name: 71, dtype: float64\n",
      "1    0.0\n",
      "2    1.0\n",
      "3    0.0\n",
      "4    0.0\n",
      "5    0.0\n",
      "Name: 72, dtype: float64\n",
      "1    0.0\n",
      "2    1.0\n",
      "3    0.0\n",
      "4    0.0\n",
      "5    0.0\n",
      "Name: 73, dtype: float64\n",
      "1    0.0\n",
      "2    1.0\n",
      "3    0.0\n",
      "4    0.0\n",
      "5    0.0\n",
      "Name: 74, dtype: float64\n",
      "1    1.0\n",
      "2    0.0\n",
      "3    0.0\n",
      "4    0.0\n",
      "5    0.0\n",
      "Name: 75, dtype: float64\n",
      "1    0.0\n",
      "2    0.0\n",
      "3    0.0\n",
      "4    0.0\n",
      "5    1.0\n",
      "Name: 76, dtype: float64\n",
      "1    0.0\n",
      "2    0.0\n",
      "3    0.0\n",
      "4    0.0\n",
      "5    1.0\n",
      "Name: 77, dtype: float64\n",
      "1    0.0\n",
      "2    0.0\n",
      "3    0.0\n",
      "4    0.0\n",
      "5    1.0\n",
      "Name: 78, dtype: float64\n",
      "1    0.0\n",
      "2    0.0\n",
      "3    0.0\n",
      "4    1.0\n",
      "5    0.0\n",
      "Name: 79, dtype: float64\n",
      "1    0.0\n",
      "2    0.0\n",
      "3    0.0\n",
      "4    1.0\n",
      "5    0.0\n",
      "Name: 80, dtype: float64\n",
      "1    0.0\n",
      "2    0.0\n",
      "3    0.0\n",
      "4    1.0\n",
      "5    0.0\n",
      "Name: 81, dtype: float64\n",
      "1    0.0\n",
      "2    0.0\n",
      "3    1.0\n",
      "4    0.0\n",
      "5    0.0\n",
      "Name: 82, dtype: float64\n",
      "1    0.0\n",
      "2    0.0\n",
      "3    0.0\n",
      "4    0.0\n",
      "5    1.0\n",
      "Name: 83, dtype: float64\n",
      "1    0.0\n",
      "2    1.0\n",
      "3    0.0\n",
      "4    0.0\n",
      "5    0.0\n",
      "Name: 84, dtype: float64\n",
      "1    1.0\n",
      "2    0.0\n",
      "3    0.0\n",
      "4    0.0\n",
      "5    0.0\n",
      "Name: 85, dtype: float64\n",
      "1    0.0\n",
      "2    0.0\n",
      "3    0.0\n",
      "4    1.0\n",
      "5    0.0\n",
      "Name: 86, dtype: float64\n",
      "1    0.0\n",
      "2    0.0\n",
      "3    1.0\n",
      "4    0.0\n",
      "5    0.0\n",
      "Name: 87, dtype: float64\n",
      "1    0.0\n",
      "2    1.0\n",
      "3    0.0\n",
      "4    0.0\n",
      "5    0.0\n",
      "Name: 88, dtype: float64\n",
      "1    1.0\n",
      "2    0.0\n",
      "3    0.0\n",
      "4    0.0\n",
      "5    0.0\n",
      "Name: 89, dtype: float64\n",
      "1    1.0\n",
      "2    0.0\n",
      "3    0.0\n",
      "4    0.0\n",
      "5    0.0\n",
      "Name: 90, dtype: float64\n",
      "1    1.0\n",
      "2    0.0\n",
      "3    0.0\n",
      "4    0.0\n",
      "5    0.0\n",
      "Name: 91, dtype: float64\n",
      "1    1.0\n",
      "2    0.0\n",
      "3    0.0\n",
      "4    0.0\n",
      "5    0.0\n",
      "Name: 92, dtype: float64\n",
      "1    1.0\n",
      "2    0.0\n",
      "3    0.0\n",
      "4    0.0\n",
      "5    0.0\n",
      "Name: 93, dtype: float64\n",
      "1    1.0\n",
      "2    0.0\n",
      "3    0.0\n",
      "4    0.0\n",
      "5    0.0\n",
      "Name: 94, dtype: float64\n",
      "1    1.0\n",
      "2    0.0\n",
      "3    0.0\n",
      "4    0.0\n",
      "5    0.0\n",
      "Name: 95, dtype: float64\n",
      "1    1.0\n",
      "2    0.0\n",
      "3    0.0\n",
      "4    0.0\n",
      "5    0.0\n",
      "Name: 96, dtype: float64\n",
      "1    1.0\n",
      "2    0.0\n",
      "3    0.0\n",
      "4    0.0\n",
      "5    0.0\n",
      "Name: 97, dtype: float64\n",
      "1    1.0\n",
      "2    0.0\n",
      "3    0.0\n",
      "4    0.0\n",
      "5    0.0\n",
      "Name: 98, dtype: float64\n",
      "1    1.0\n",
      "2    0.0\n",
      "3    0.0\n",
      "4    0.0\n",
      "5    0.0\n",
      "Name: 99, dtype: float64\n",
      "1    0.0\n",
      "2    1.0\n",
      "3    0.0\n",
      "4    0.0\n",
      "5    0.0\n",
      "Name: 100, dtype: float64\n",
      "1    0.0\n",
      "2    1.0\n",
      "3    0.0\n",
      "4    0.0\n",
      "5    0.0\n",
      "Name: 101, dtype: float64\n",
      "1    0.0\n",
      "2    1.0\n",
      "3    0.0\n",
      "4    0.0\n",
      "5    0.0\n",
      "Name: 102, dtype: float64\n",
      "1    0.0\n",
      "2    0.0\n",
      "3    1.0\n",
      "4    0.0\n",
      "5    0.0\n",
      "Name: 103, dtype: float64\n",
      "1    0.0\n",
      "2    0.0\n",
      "3    1.0\n",
      "4    0.0\n",
      "5    0.0\n",
      "Name: 104, dtype: float64\n",
      "1    0.0\n",
      "2    0.0\n",
      "3    1.0\n",
      "4    0.0\n",
      "5    0.0\n",
      "Name: 105, dtype: float64\n",
      "1    0.0\n",
      "2    0.0\n",
      "3    0.0\n",
      "4    1.0\n",
      "5    0.0\n",
      "Name: 106, dtype: float64\n",
      "1    0.0\n",
      "2    0.0\n",
      "3    0.0\n",
      "4    1.0\n",
      "5    0.0\n",
      "Name: 107, dtype: float64\n",
      "1    0.0\n",
      "2    0.0\n",
      "3    1.0\n",
      "4    0.0\n",
      "5    0.0\n",
      "Name: 108, dtype: float64\n",
      "1    0.0\n",
      "2    0.0\n",
      "3    0.0\n",
      "4    1.0\n",
      "5    0.0\n",
      "Name: 109, dtype: float64\n",
      "1    0.0\n",
      "2    0.0\n",
      "3    0.0\n",
      "4    1.0\n",
      "5    0.0\n",
      "Name: 110, dtype: float64\n",
      "1    0.0\n",
      "2    0.0\n",
      "3    0.0\n",
      "4    1.0\n",
      "5    0.0\n",
      "Name: 111, dtype: float64\n",
      "1    0.0\n",
      "2    1.0\n",
      "3    0.0\n",
      "4    0.0\n",
      "5    0.0\n",
      "Name: 112, dtype: float64\n",
      "1    1.0\n",
      "2    0.0\n",
      "3    0.0\n",
      "4    0.0\n",
      "5    0.0\n",
      "Name: 113, dtype: float64\n",
      "1    0.0\n",
      "2    0.0\n",
      "3    0.0\n",
      "4    0.0\n",
      "5    1.0\n",
      "Name: 114, dtype: float64\n",
      "1    1.0\n",
      "2    0.0\n",
      "3    0.0\n",
      "4    0.0\n",
      "5    0.0\n",
      "Name: 115, dtype: float64\n",
      "1    1.0\n",
      "2    0.0\n",
      "3    0.0\n",
      "4    0.0\n",
      "5    0.0\n"
     ]
    },
    {
     "name": "stdout",
     "output_type": "stream",
     "text": [
      "Name: 116, dtype: float64\n",
      "1    1.0\n",
      "2    0.0\n",
      "3    0.0\n",
      "4    0.0\n",
      "5    0.0\n",
      "Name: 117, dtype: float64\n",
      "1    1.0\n",
      "2    0.0\n",
      "3    0.0\n",
      "4    0.0\n",
      "5    0.0\n",
      "Name: 118, dtype: float64\n",
      "1    1.0\n",
      "2    0.0\n",
      "3    0.0\n",
      "4    0.0\n",
      "5    0.0\n",
      "Name: 119, dtype: float64\n",
      "1    0.0\n",
      "2    1.0\n",
      "3    0.0\n",
      "4    0.0\n",
      "5    0.0\n",
      "Name: 120, dtype: float64\n",
      "1    1.0\n",
      "2    0.0\n",
      "3    0.0\n",
      "4    0.0\n",
      "5    0.0\n",
      "Name: 121, dtype: float64\n",
      "1    0.0\n",
      "2    0.0\n",
      "3    0.0\n",
      "4    0.0\n",
      "5    1.0\n",
      "Name: 122, dtype: float64\n",
      "1    0.0\n",
      "2    0.0\n",
      "3    0.0\n",
      "4    1.0\n",
      "5    0.0\n",
      "Name: 123, dtype: float64\n",
      "1    0.0\n",
      "2    0.0\n",
      "3    0.0\n",
      "4    1.0\n",
      "5    0.0\n",
      "Name: 124, dtype: float64\n",
      "1    0.0\n",
      "2    1.0\n",
      "3    0.0\n",
      "4    0.0\n",
      "5    0.0\n",
      "Name: 125, dtype: float64\n",
      "1    0.0\n",
      "2    1.0\n",
      "3    0.0\n",
      "4    0.0\n",
      "5    0.0\n",
      "Name: 126, dtype: float64\n",
      "1    1.0\n",
      "2    0.0\n",
      "3    0.0\n",
      "4    0.0\n",
      "5    0.0\n",
      "Name: 127, dtype: float64\n",
      "1    0.0\n",
      "2    0.0\n",
      "3    0.0\n",
      "4    1.0\n",
      "5    0.0\n",
      "Name: 128, dtype: float64\n",
      "1    1.0\n",
      "2    0.0\n",
      "3    0.0\n",
      "4    0.0\n",
      "5    0.0\n",
      "Name: 129, dtype: float64\n",
      "1    1.0\n",
      "2    0.0\n",
      "3    0.0\n",
      "4    0.0\n",
      "5    0.0\n",
      "Name: 130, dtype: float64\n",
      "1    0.0\n",
      "2    0.0\n",
      "3    0.0\n",
      "4    1.0\n",
      "5    0.0\n",
      "Name: 131, dtype: float64\n",
      "1    0.0\n",
      "2    1.0\n",
      "3    0.0\n",
      "4    0.0\n",
      "5    0.0\n",
      "Name: 132, dtype: float64\n",
      "1    0.0\n",
      "2    0.0\n",
      "3    0.0\n",
      "4    0.0\n",
      "5    1.0\n",
      "Name: 133, dtype: float64\n",
      "1    0.0\n",
      "2    0.0\n",
      "3    0.0\n",
      "4    0.0\n",
      "5    1.0\n",
      "Name: 134, dtype: float64\n",
      "1    0.0\n",
      "2    0.0\n",
      "3    0.0\n",
      "4    0.0\n",
      "5    1.0\n",
      "Name: 135, dtype: float64\n",
      "1    0.0\n",
      "2    0.0\n",
      "3    1.0\n",
      "4    0.0\n",
      "5    0.0\n",
      "Name: 136, dtype: float64\n",
      "1    0.0\n",
      "2    1.0\n",
      "3    0.0\n",
      "4    0.0\n",
      "5    0.0\n",
      "Name: 137, dtype: float64\n",
      "1    0.0\n",
      "2    0.0\n",
      "3    1.0\n",
      "4    0.0\n",
      "5    0.0\n",
      "Name: 138, dtype: float64\n",
      "1    1.0\n",
      "2    0.0\n",
      "3    0.0\n",
      "4    0.0\n",
      "5    0.0\n",
      "Name: 139, dtype: float64\n",
      "1    0.0\n",
      "2    0.0\n",
      "3    0.0\n",
      "4    0.0\n",
      "5    1.0\n",
      "Name: 140, dtype: float64\n",
      "1    0.0\n",
      "2    1.0\n",
      "3    0.0\n",
      "4    0.0\n",
      "5    0.0\n",
      "Name: 141, dtype: float64\n",
      "1    0.0\n",
      "2    1.0\n",
      "3    0.0\n",
      "4    0.0\n",
      "5    0.0\n",
      "Name: 142, dtype: float64\n",
      "1    1.0\n",
      "2    0.0\n",
      "3    0.0\n",
      "4    0.0\n",
      "5    0.0\n",
      "Name: 143, dtype: float64\n",
      "1    1.0\n",
      "2    0.0\n",
      "3    0.0\n",
      "4    0.0\n",
      "5    0.0\n",
      "Name: 144, dtype: float64\n",
      "1    0.0\n",
      "2    0.0\n",
      "3    1.0\n",
      "4    0.0\n",
      "5    0.0\n",
      "Name: 145, dtype: float64\n",
      "1    0.0\n",
      "2    0.0\n",
      "3    1.0\n",
      "4    0.0\n",
      "5    0.0\n",
      "Name: 146, dtype: float64\n",
      "1    0.0\n",
      "2    0.0\n",
      "3    0.0\n",
      "4    1.0\n",
      "5    0.0\n",
      "Name: 147, dtype: float64\n",
      "1    0.0\n",
      "2    1.0\n",
      "3    0.0\n",
      "4    0.0\n",
      "5    0.0\n",
      "Name: 148, dtype: float64\n",
      "1    0.0\n",
      "2    0.0\n",
      "3    1.0\n",
      "4    0.0\n",
      "5    0.0\n",
      "Name: 149, dtype: float64\n",
      "1    0.0\n",
      "2    0.0\n",
      "3    0.0\n",
      "4    1.0\n",
      "5    0.0\n",
      "Name: 150, dtype: float64\n",
      "1    0.0\n",
      "2    0.0\n",
      "3    1.0\n",
      "4    0.0\n",
      "5    0.0\n",
      "Name: 151, dtype: float64\n",
      "1    1.0\n",
      "2    0.0\n",
      "3    0.0\n",
      "4    0.0\n",
      "5    0.0\n",
      "Name: 152, dtype: float64\n",
      "1    0.0\n",
      "2    0.0\n",
      "3    0.0\n",
      "4    0.0\n",
      "5    1.0\n",
      "Name: 153, dtype: float64\n",
      "1    0.0\n",
      "2    0.0\n",
      "3    0.0\n",
      "4    0.0\n",
      "5    1.0\n",
      "Name: 154, dtype: float64\n",
      "1    0.0\n",
      "2    0.0\n",
      "3    1.0\n",
      "4    0.0\n",
      "5    0.0\n",
      "Name: 155, dtype: float64\n",
      "1    0.0\n",
      "2    0.0\n",
      "3    0.0\n",
      "4    0.0\n",
      "5    1.0\n",
      "Name: 156, dtype: float64\n",
      "1    0.0\n",
      "2    0.0\n",
      "3    0.0\n",
      "4    0.0\n",
      "5    1.0\n",
      "Name: 157, dtype: float64\n",
      "1    0.0\n",
      "2    0.0\n",
      "3    0.0\n",
      "4    1.0\n",
      "5    0.0\n",
      "Name: 158, dtype: float64\n",
      "1    0.0\n",
      "2    0.0\n",
      "3    0.0\n",
      "4    0.0\n",
      "5    1.0\n",
      "Name: 159, dtype: float64\n",
      "1    0.0\n",
      "2    0.0\n",
      "3    0.0\n",
      "4    0.0\n",
      "5    1.0\n",
      "Name: 160, dtype: float64\n",
      "1    0.0\n",
      "2    0.0\n",
      "3    0.0\n",
      "4    0.0\n",
      "5    1.0\n",
      "Name: 161, dtype: float64\n",
      "1    0.0\n",
      "2    0.0\n",
      "3    1.0\n",
      "4    0.0\n",
      "5    0.0\n",
      "Name: 162, dtype: float64\n",
      "1    1.0\n",
      "2    0.0\n",
      "3    0.0\n",
      "4    0.0\n",
      "5    0.0\n",
      "Name: 163, dtype: float64\n",
      "1    0.0\n",
      "2    0.0\n",
      "3    0.0\n",
      "4    0.0\n",
      "5    1.0\n",
      "Name: 164, dtype: float64\n",
      "1    1.0\n",
      "2    0.0\n",
      "3    0.0\n",
      "4    0.0\n",
      "5    0.0\n",
      "Name: 165, dtype: float64\n",
      "1    0.0\n",
      "2    1.0\n",
      "3    0.0\n",
      "4    0.0\n",
      "5    0.0\n",
      "Name: 166, dtype: float64\n",
      "1    1.0\n",
      "2    0.0\n",
      "3    0.0\n",
      "4    0.0\n",
      "5    0.0\n",
      "Name: 167, dtype: float64\n",
      "1    1.0\n",
      "2    0.0\n",
      "3    0.0\n",
      "4    0.0\n",
      "5    0.0\n",
      "Name: 168, dtype: float64\n",
      "1    1.0\n",
      "2    0.0\n",
      "3    0.0\n",
      "4    0.0\n",
      "5    0.0\n",
      "Name: 169, dtype: float64\n",
      "1    1.0\n",
      "2    0.0\n",
      "3    0.0\n",
      "4    0.0\n",
      "5    0.0\n",
      "Name: 170, dtype: float64\n",
      "1    1.0\n",
      "2    0.0\n",
      "3    0.0\n",
      "4    0.0\n",
      "5    0.0\n",
      "Name: 171, dtype: float64\n",
      "1    0.0\n",
      "2    1.0\n",
      "3    0.0\n",
      "4    0.0\n",
      "5    0.0\n",
      "Name: 172, dtype: float64\n",
      "1    0.0\n",
      "2    0.0\n",
      "3    1.0\n",
      "4    0.0\n",
      "5    0.0\n",
      "Name: 173, dtype: float64\n",
      "1    0.0\n",
      "2    0.0\n",
      "3    0.0\n",
      "4    0.0\n",
      "5    1.0\n",
      "Name: 174, dtype: float64\n",
      "1    0.0\n",
      "2    0.0\n",
      "3    1.0\n",
      "4    0.0\n",
      "5    0.0\n",
      "Name: 175, dtype: float64\n",
      "1    0.0\n",
      "2    0.0\n",
      "3    1.0\n",
      "4    0.0\n",
      "5    0.0\n",
      "Name: 176, dtype: float64\n",
      "1    1.0\n",
      "2    0.0\n",
      "3    0.0\n",
      "4    0.0\n",
      "5    0.0\n",
      "Name: 177, dtype: float64\n",
      "1    0.0\n",
      "2    0.0\n",
      "3    0.0\n",
      "4    1.0\n",
      "5    0.0\n",
      "Name: 178, dtype: float64\n",
      "1    0.0\n",
      "2    0.0\n",
      "3    0.0\n",
      "4    0.0\n",
      "5    1.0\n",
      "Name: 179, dtype: float64\n",
      "1    0.0\n",
      "2    0.0\n",
      "3    0.0\n",
      "4    0.0\n",
      "5    1.0\n",
      "Name: 180, dtype: float64\n",
      "1    0.0\n",
      "2    0.0\n",
      "3    0.0\n",
      "4    0.0\n",
      "5    1.0\n",
      "Name: 181, dtype: float64\n",
      "1    0.0\n",
      "2    0.0\n",
      "3    0.0\n",
      "4    0.0\n",
      "5    1.0\n",
      "Name: 182, dtype: float64\n",
      "1    1.0\n",
      "2    0.0\n",
      "3    0.0\n",
      "4    0.0\n",
      "5    0.0\n",
      "Name: 183, dtype: float64\n",
      "1    0.0\n",
      "2    1.0\n",
      "3    0.0\n",
      "4    0.0\n",
      "5    0.0\n",
      "Name: 184, dtype: float64\n",
      "1    0.0\n",
      "2    1.0\n",
      "3    0.0\n",
      "4    0.0\n",
      "5    0.0\n",
      "Name: 185, dtype: float64\n",
      "1    0.0\n",
      "2    0.0\n",
      "3    0.0\n",
      "4    0.0\n",
      "5    1.0\n",
      "Name: 186, dtype: float64\n",
      "1    0.0\n",
      "2    1.0\n",
      "3    0.0\n",
      "4    0.0\n",
      "5    0.0\n",
      "Name: 187, dtype: float64\n",
      "1    0.0\n",
      "2    0.0\n",
      "3    0.0\n",
      "4    0.0\n",
      "5    1.0\n",
      "Name: 188, dtype: float64\n",
      "1    0.0\n",
      "2    0.0\n",
      "3    0.0\n",
      "4    0.0\n",
      "5    1.0\n",
      "Name: 189, dtype: float64\n",
      "1    0.0\n",
      "2    0.0\n",
      "3    0.0\n",
      "4    0.0\n",
      "5    1.0\n",
      "Name: 190, dtype: float64\n",
      "1    0.0\n",
      "2    0.0\n",
      "3    0.0\n",
      "4    1.0\n",
      "5    0.0\n",
      "Name: 191, dtype: float64\n",
      "1    0.0\n",
      "2    1.0\n",
      "3    0.0\n",
      "4    0.0\n",
      "5    0.0\n",
      "Name: 192, dtype: float64\n",
      "1    0.0\n",
      "2    0.0\n",
      "3    1.0\n",
      "4    0.0\n",
      "5    0.0\n",
      "Name: 193, dtype: float64\n",
      "1    0.0\n",
      "2    0.0\n",
      "3    0.0\n",
      "4    0.0\n",
      "5    1.0\n",
      "Name: 194, dtype: float64\n",
      "1    0.0\n",
      "2    0.0\n",
      "3    0.0\n",
      "4    0.0\n",
      "5    1.0\n",
      "Name: 195, dtype: float64\n",
      "1    0.0\n",
      "2    0.0\n",
      "3    0.0\n",
      "4    1.0\n",
      "5    0.0\n",
      "Name: 196, dtype: float64\n",
      "1    0.0\n",
      "2    0.0\n",
      "3    0.0\n",
      "4    1.0\n",
      "5    0.0\n",
      "Name: 197, dtype: float64\n",
      "1    0.0\n",
      "2    0.0\n",
      "3    0.0\n",
      "4    0.0\n",
      "5    1.0\n",
      "Name: 198, dtype: float64\n",
      "1    0.0\n",
      "2    0.0\n",
      "3    0.0\n",
      "4    0.0\n",
      "5    1.0\n",
      "Name: 199, dtype: float64\n",
      "1    0.0\n",
      "2    0.0\n",
      "3    0.0\n",
      "4    0.0\n",
      "5    1.0\n",
      "Name: 200, dtype: float64\n",
      "1    0.0\n",
      "2    0.0\n",
      "3    0.0\n",
      "4    0.0\n",
      "5    1.0\n",
      "Name: 201, dtype: float64\n",
      "1    0.0\n",
      "2    0.0\n",
      "3    0.0\n",
      "4    0.0\n",
      "5    1.0\n",
      "Name: 202, dtype: float64\n",
      "1    0.0\n",
      "2    0.0\n",
      "3    0.0\n",
      "4    1.0\n",
      "5    0.0\n",
      "Name: 203, dtype: float64\n",
      "1    0.0\n",
      "2    0.0\n",
      "3    0.0\n",
      "4    0.0\n",
      "5    1.0\n",
      "Name: 204, dtype: float64\n",
      "1    0.0\n",
      "2    0.0\n",
      "3    0.0\n",
      "4    1.0\n",
      "5    0.0\n",
      "Name: 205, dtype: float64\n",
      "1    0.0\n",
      "2    0.0\n",
      "3    0.0\n",
      "4    0.0\n",
      "5    1.0\n",
      "Name: 206, dtype: float64\n",
      "1    0.0\n",
      "2    0.0\n",
      "3    1.0\n",
      "4    0.0\n",
      "5    0.0\n",
      "Name: 207, dtype: float64\n",
      "1    0.0\n",
      "2    0.0\n",
      "3    0.0\n",
      "4    0.0\n",
      "5    1.0\n",
      "Name: 208, dtype: float64\n",
      "1    0.0\n",
      "2    0.0\n",
      "3    0.0\n",
      "4    0.0\n",
      "5    1.0\n",
      "Name: 209, dtype: float64\n",
      "1    0.0\n",
      "2    0.0\n",
      "3    0.0\n",
      "4    0.0\n",
      "5    1.0\n",
      "Name: 210, dtype: float64\n",
      "1    0.0\n",
      "2    0.0\n",
      "3    0.0\n",
      "4    0.0\n",
      "5    1.0\n",
      "Name: 211, dtype: float64\n",
      "1    0.0\n",
      "2    0.0\n",
      "3    1.0\n",
      "4    0.0\n",
      "5    0.0\n",
      "Name: 212, dtype: float64\n",
      "1    0.0\n",
      "2    0.0\n",
      "3    0.0\n",
      "4    0.0\n",
      "5    1.0\n",
      "Name: 213, dtype: float64\n",
      "1    0.0\n",
      "2    0.0\n",
      "3    0.0\n",
      "4    0.0\n",
      "5    1.0\n",
      "Name: 214, dtype: float64\n",
      "1    0.0\n",
      "2    0.0\n",
      "3    0.0\n",
      "4    1.0\n",
      "5    0.0\n",
      "Name: 215, dtype: float64\n",
      "1    0.0\n",
      "2    0.0\n",
      "3    0.0\n",
      "4    1.0\n",
      "5    0.0\n",
      "Name: 216, dtype: float64\n",
      "1    0.0\n",
      "2    0.0\n",
      "3    0.0\n",
      "4    0.0\n",
      "5    1.0\n",
      "Name: 217, dtype: float64\n",
      "1    0.0\n",
      "2    0.0\n",
      "3    0.0\n",
      "4    0.0\n",
      "5    1.0\n",
      "Name: 218, dtype: float64\n",
      "1    0.0\n",
      "2    0.0\n",
      "3    0.0\n",
      "4    0.0\n",
      "5    1.0\n",
      "Name: 219, dtype: float64\n",
      "1    0.0\n",
      "2    0.0\n",
      "3    0.0\n",
      "4    0.0\n",
      "5    1.0\n",
      "Name: 220, dtype: float64\n",
      "1    0.0\n",
      "2    0.0\n",
      "3    0.0\n",
      "4    1.0\n",
      "5    0.0\n",
      "Name: 221, dtype: float64\n",
      "1    1.0\n",
      "2    0.0\n",
      "3    0.0\n",
      "4    0.0\n",
      "5    0.0\n",
      "Name: 222, dtype: float64\n",
      "1    0.0\n",
      "2    0.0\n",
      "3    0.0\n",
      "4    0.0\n",
      "5    1.0\n",
      "Name: 223, dtype: float64\n",
      "1    0.0\n",
      "2    1.0\n",
      "3    0.0\n",
      "4    0.0\n",
      "5    0.0\n",
      "Name: 224, dtype: float64\n",
      "1    0.0\n",
      "2    0.0\n",
      "3    1.0\n",
      "4    0.0\n",
      "5    0.0\n",
      "Name: 225, dtype: float64\n",
      "1    0.0\n",
      "2    0.0\n",
      "3    0.0\n",
      "4    1.0\n",
      "5    0.0\n",
      "Name: 226, dtype: float64\n",
      "1    0.0\n",
      "2    1.0\n",
      "3    0.0\n",
      "4    0.0\n",
      "5    0.0\n",
      "Name: 227, dtype: float64\n",
      "1    0.0\n",
      "2    0.0\n",
      "3    1.0\n",
      "4    0.0\n",
      "5    0.0\n",
      "Name: 228, dtype: float64\n",
      "1    0.0\n",
      "2    0.0\n",
      "3    1.0\n",
      "4    0.0\n",
      "5    0.0\n",
      "Name: 229, dtype: float64\n",
      "1    0.0\n",
      "2    1.0\n",
      "3    0.0\n",
      "4    0.0\n",
      "5    0.0\n",
      "Name: 230, dtype: float64\n",
      "1    0.0\n",
      "2    1.0\n",
      "3    0.0\n",
      "4    0.0\n",
      "5    0.0\n",
      "Name: 231, dtype: float64\n",
      "1    1.0\n",
      "2    0.0\n",
      "3    0.0\n",
      "4    0.0\n",
      "5    0.0\n"
     ]
    },
    {
     "name": "stdout",
     "output_type": "stream",
     "text": [
      "Name: 232, dtype: float64\n",
      "1    0.0\n",
      "2    0.0\n",
      "3    1.0\n",
      "4    0.0\n",
      "5    0.0\n",
      "Name: 233, dtype: float64\n",
      "1    0.0\n",
      "2    1.0\n",
      "3    0.0\n",
      "4    0.0\n",
      "5    0.0\n",
      "Name: 234, dtype: float64\n",
      "1    0.0\n",
      "2    0.0\n",
      "3    0.0\n",
      "4    1.0\n",
      "5    0.0\n",
      "Name: 235, dtype: float64\n",
      "1    0.0\n",
      "2    0.0\n",
      "3    1.0\n",
      "4    0.0\n",
      "5    0.0\n",
      "Name: 236, dtype: float64\n",
      "1    0.0\n",
      "2    0.0\n",
      "3    0.0\n",
      "4    1.0\n",
      "5    0.0\n",
      "Name: 237, dtype: float64\n",
      "1    0.0\n",
      "2    0.0\n",
      "3    1.0\n",
      "4    0.0\n",
      "5    0.0\n",
      "Name: 238, dtype: float64\n",
      "1    0.0\n",
      "2    0.0\n",
      "3    0.0\n",
      "4    1.0\n",
      "5    0.0\n",
      "Name: 239, dtype: float64\n",
      "1    0.0\n",
      "2    0.0\n",
      "3    0.0\n",
      "4    1.0\n",
      "5    0.0\n",
      "Name: 240, dtype: float64\n",
      "1    0.0\n",
      "2    0.0\n",
      "3    0.0\n",
      "4    1.0\n",
      "5    0.0\n",
      "Name: 241, dtype: float64\n",
      "1    0.0\n",
      "2    0.0\n",
      "3    0.0\n",
      "4    0.0\n",
      "5    1.0\n",
      "Name: 242, dtype: float64\n",
      "1    1.0\n",
      "2    0.0\n",
      "3    0.0\n",
      "4    0.0\n",
      "5    0.0\n",
      "Name: 243, dtype: float64\n",
      "1    1.0\n",
      "2    0.0\n",
      "3    0.0\n",
      "4    0.0\n",
      "5    0.0\n",
      "Name: 244, dtype: float64\n",
      "1    0.0\n",
      "2    0.0\n",
      "3    0.0\n",
      "4    0.0\n",
      "5    1.0\n",
      "Name: 245, dtype: float64\n",
      "1    0.0\n",
      "2    1.0\n",
      "3    0.0\n",
      "4    0.0\n",
      "5    0.0\n",
      "Name: 246, dtype: float64\n",
      "1    0.0\n",
      "2    0.0\n",
      "3    0.0\n",
      "4    0.0\n",
      "5    1.0\n",
      "Name: 247, dtype: float64\n",
      "1    0.0\n",
      "2    1.0\n",
      "3    0.0\n",
      "4    0.0\n",
      "5    0.0\n",
      "Name: 248, dtype: float64\n",
      "1    1.0\n",
      "2    0.0\n",
      "3    0.0\n",
      "4    0.0\n",
      "5    0.0\n",
      "Name: 249, dtype: float64\n",
      "1    1.0\n",
      "2    0.0\n",
      "3    0.0\n",
      "4    0.0\n",
      "5    0.0\n",
      "Name: 250, dtype: float64\n",
      "1    0.0\n",
      "2    1.0\n",
      "3    0.0\n",
      "4    0.0\n",
      "5    0.0\n",
      "Name: 251, dtype: float64\n",
      "1    0.0\n",
      "2    1.0\n",
      "3    0.0\n",
      "4    0.0\n",
      "5    0.0\n",
      "Name: 252, dtype: float64\n",
      "1    1.0\n",
      "2    0.0\n",
      "3    0.0\n",
      "4    0.0\n",
      "5    0.0\n",
      "Name: 253, dtype: float64\n",
      "1    0.0\n",
      "2    0.0\n",
      "3    0.0\n",
      "4    0.0\n",
      "5    1.0\n",
      "Name: 254, dtype: float64\n",
      "1    1.0\n",
      "2    0.0\n",
      "3    0.0\n",
      "4    0.0\n",
      "5    0.0\n",
      "Name: 255, dtype: float64\n",
      "1    1.0\n",
      "2    0.0\n",
      "3    0.0\n",
      "4    0.0\n",
      "5    0.0\n",
      "Name: 256, dtype: float64\n",
      "1    1.0\n",
      "2    0.0\n",
      "3    0.0\n",
      "4    0.0\n",
      "5    0.0\n",
      "Name: 257, dtype: float64\n",
      "1    1.0\n",
      "2    0.0\n",
      "3    0.0\n",
      "4    0.0\n",
      "5    0.0\n",
      "Name: 258, dtype: float64\n",
      "1    1.0\n",
      "2    0.0\n",
      "3    0.0\n",
      "4    0.0\n",
      "5    0.0\n",
      "Name: 259, dtype: float64\n",
      "1    1.0\n",
      "2    0.0\n",
      "3    0.0\n",
      "4    0.0\n",
      "5    0.0\n",
      "Name: 260, dtype: float64\n",
      "1    1.0\n",
      "2    0.0\n",
      "3    0.0\n",
      "4    0.0\n",
      "5    0.0\n",
      "Name: 261, dtype: float64\n",
      "1    1.0\n",
      "2    0.0\n",
      "3    0.0\n",
      "4    0.0\n",
      "5    0.0\n",
      "Name: 262, dtype: float64\n",
      "1    1.0\n",
      "2    0.0\n",
      "3    0.0\n",
      "4    0.0\n",
      "5    0.0\n",
      "Name: 263, dtype: float64\n",
      "1    1.0\n",
      "2    0.0\n",
      "3    0.0\n",
      "4    0.0\n",
      "5    0.0\n",
      "Name: 264, dtype: float64\n",
      "1    1.0\n",
      "2    0.0\n",
      "3    0.0\n",
      "4    0.0\n",
      "5    0.0\n",
      "Name: 265, dtype: float64\n",
      "1    1.0\n",
      "2    0.0\n",
      "3    0.0\n",
      "4    0.0\n",
      "5    0.0\n",
      "Name: 266, dtype: float64\n",
      "1    1.0\n",
      "2    0.0\n",
      "3    0.0\n",
      "4    0.0\n",
      "5    0.0\n",
      "Name: 267, dtype: float64\n",
      "1    1.0\n",
      "2    0.0\n",
      "3    0.0\n",
      "4    0.0\n",
      "5    0.0\n",
      "Name: 268, dtype: float64\n",
      "1    1.0\n",
      "2    0.0\n",
      "3    0.0\n",
      "4    0.0\n",
      "5    0.0\n",
      "Name: 269, dtype: float64\n",
      "1    1.0\n",
      "2    0.0\n",
      "3    0.0\n",
      "4    0.0\n",
      "5    0.0\n",
      "Name: 270, dtype: float64\n",
      "1    1.0\n",
      "2    0.0\n",
      "3    0.0\n",
      "4    0.0\n",
      "5    0.0\n",
      "Name: 271, dtype: float64\n",
      "1    1.0\n",
      "2    0.0\n",
      "3    0.0\n",
      "4    0.0\n",
      "5    0.0\n",
      "Name: 272, dtype: float64\n",
      "1    1.0\n",
      "2    0.0\n",
      "3    0.0\n",
      "4    0.0\n",
      "5    0.0\n",
      "Name: 273, dtype: float64\n",
      "1    1.0\n",
      "2    0.0\n",
      "3    0.0\n",
      "4    0.0\n",
      "5    0.0\n",
      "Name: 274, dtype: float64\n",
      "1    1.0\n",
      "2    0.0\n",
      "3    0.0\n",
      "4    0.0\n",
      "5    0.0\n",
      "Name: 275, dtype: float64\n",
      "1    1.0\n",
      "2    0.0\n",
      "3    0.0\n",
      "4    0.0\n",
      "5    0.0\n",
      "Name: 276, dtype: float64\n",
      "1    0.0\n",
      "2    1.0\n",
      "3    0.0\n",
      "4    0.0\n",
      "5    0.0\n",
      "Name: 277, dtype: float64\n",
      "1    0.0\n",
      "2    1.0\n",
      "3    0.0\n",
      "4    0.0\n",
      "5    0.0\n",
      "Name: 278, dtype: float64\n",
      "1    0.0\n",
      "2    1.0\n",
      "3    0.0\n",
      "4    0.0\n",
      "5    0.0\n",
      "Name: 279, dtype: float64\n",
      "1    0.0\n",
      "2    1.0\n",
      "3    0.0\n",
      "4    0.0\n",
      "5    0.0\n",
      "Name: 280, dtype: float64\n",
      "1    0.0\n",
      "2    1.0\n",
      "3    0.0\n",
      "4    0.0\n",
      "5    0.0\n",
      "Name: 281, dtype: float64\n",
      "1    0.0\n",
      "2    1.0\n",
      "3    0.0\n",
      "4    0.0\n",
      "5    0.0\n",
      "Name: 282, dtype: float64\n",
      "1    0.0\n",
      "2    1.0\n",
      "3    0.0\n",
      "4    0.0\n",
      "5    0.0\n",
      "Name: 283, dtype: float64\n",
      "1    0.0\n",
      "2    1.0\n",
      "3    0.0\n",
      "4    0.0\n",
      "5    0.0\n",
      "Name: 284, dtype: float64\n",
      "1    0.0\n",
      "2    0.0\n",
      "3    0.0\n",
      "4    1.0\n",
      "5    0.0\n",
      "Name: 285, dtype: float64\n",
      "1    0.0\n",
      "2    0.0\n",
      "3    0.0\n",
      "4    1.0\n",
      "5    0.0\n",
      "Name: 286, dtype: float64\n",
      "1    1.0\n",
      "2    0.0\n",
      "3    0.0\n",
      "4    0.0\n",
      "5    0.0\n",
      "Name: 287, dtype: float64\n",
      "1    1.0\n",
      "2    0.0\n",
      "3    0.0\n",
      "4    0.0\n",
      "5    0.0\n",
      "Name: 288, dtype: float64\n",
      "1    0.0\n",
      "2    0.0\n",
      "3    0.0\n",
      "4    1.0\n",
      "5    0.0\n",
      "Name: 289, dtype: float64\n",
      "1    0.0\n",
      "2    0.0\n",
      "3    0.0\n",
      "4    1.0\n",
      "5    0.0\n",
      "Name: 290, dtype: float64\n",
      "1    0.0\n",
      "2    0.0\n",
      "3    0.0\n",
      "4    0.0\n",
      "5    1.0\n",
      "Name: 291, dtype: float64\n",
      "1    0.0\n",
      "2    0.0\n",
      "3    0.0\n",
      "4    0.0\n",
      "5    1.0\n",
      "Name: 292, dtype: float64\n",
      "1    0.0\n",
      "2    0.0\n",
      "3    0.0\n",
      "4    1.0\n",
      "5    0.0\n",
      "Name: 293, dtype: float64\n",
      "1    0.0\n",
      "2    0.0\n",
      "3    0.0\n",
      "4    1.0\n",
      "5    0.0\n",
      "Name: 294, dtype: float64\n",
      "1    0.0\n",
      "2    0.0\n",
      "3    0.0\n",
      "4    0.0\n",
      "5    1.0\n",
      "Name: 295, dtype: float64\n",
      "1    0.0\n",
      "2    0.0\n",
      "3    0.0\n",
      "4    0.0\n",
      "5    1.0\n",
      "Name: 296, dtype: float64\n",
      "1    1.0\n",
      "2    0.0\n",
      "3    0.0\n",
      "4    0.0\n",
      "5    0.0\n",
      "Name: 297, dtype: float64\n",
      "1    1.0\n",
      "2    0.0\n",
      "3    0.0\n",
      "4    0.0\n",
      "5    0.0\n",
      "Name: 298, dtype: float64\n",
      "1    1.0\n",
      "2    0.0\n",
      "3    0.0\n",
      "4    0.0\n",
      "5    0.0\n",
      "Name: 299, dtype: float64\n",
      "1    0.0\n",
      "2    0.0\n",
      "3    0.0\n",
      "4    0.0\n",
      "5    1.0\n",
      "Name: 300, dtype: float64\n",
      "1    0.0\n",
      "2    0.0\n",
      "3    0.0\n",
      "4    0.0\n",
      "5    1.0\n",
      "Name: 301, dtype: float64\n",
      "1    0.0\n",
      "2    0.0\n",
      "3    0.0\n",
      "4    1.0\n",
      "5    0.0\n",
      "Name: 302, dtype: float64\n",
      "1    0.0\n",
      "2    0.0\n",
      "3    0.0\n",
      "4    1.0\n",
      "5    0.0\n",
      "Name: 303, dtype: float64\n",
      "1    0.0\n",
      "2    0.0\n",
      "3    0.0\n",
      "4    0.0\n",
      "5    1.0\n",
      "Name: 304, dtype: float64\n",
      "1    0.0\n",
      "2    0.0\n",
      "3    0.0\n",
      "4    1.0\n",
      "5    0.0\n",
      "Name: 305, dtype: float64\n",
      "1    0.0\n",
      "2    0.0\n",
      "3    0.0\n",
      "4    0.0\n",
      "5    1.0\n",
      "Name: 306, dtype: float64\n",
      "1    0.0\n",
      "2    0.0\n",
      "3    0.0\n",
      "4    0.0\n",
      "5    1.0\n",
      "Name: 307, dtype: float64\n",
      "1    0.0\n",
      "2    0.0\n",
      "3    1.0\n",
      "4    0.0\n",
      "5    0.0\n",
      "Name: 308, dtype: float64\n",
      "1    0.0\n",
      "2    0.0\n",
      "3    0.0\n",
      "4    0.0\n",
      "5    1.0\n",
      "Name: 309, dtype: float64\n",
      "1    0.0\n",
      "2    0.0\n",
      "3    0.0\n",
      "4    1.0\n",
      "5    0.0\n",
      "Name: 310, dtype: float64\n",
      "1    0.0\n",
      "2    0.0\n",
      "3    1.0\n",
      "4    0.0\n",
      "5    0.0\n",
      "Name: 311, dtype: float64\n",
      "1    0.0\n",
      "2    0.0\n",
      "3    1.0\n",
      "4    0.0\n",
      "5    0.0\n",
      "Name: 312, dtype: float64\n",
      "1    1.0\n",
      "2    0.0\n",
      "3    0.0\n",
      "4    0.0\n",
      "5    0.0\n",
      "Name: 313, dtype: float64\n",
      "1    0.0\n",
      "2    1.0\n",
      "3    0.0\n",
      "4    0.0\n",
      "5    0.0\n",
      "Name: 314, dtype: float64\n",
      "1    1.0\n",
      "2    0.0\n",
      "3    0.0\n",
      "4    0.0\n",
      "5    0.0\n",
      "Name: 315, dtype: float64\n",
      "1    1.0\n",
      "2    0.0\n",
      "3    0.0\n",
      "4    0.0\n",
      "5    0.0\n",
      "Name: 316, dtype: float64\n",
      "1    0.0\n",
      "2    0.0\n",
      "3    0.0\n",
      "4    0.0\n",
      "5    1.0\n",
      "Name: 317, dtype: float64\n",
      "1    1.0\n",
      "2    0.0\n",
      "3    0.0\n",
      "4    0.0\n",
      "5    0.0\n",
      "Name: 318, dtype: float64\n",
      "1    0.0\n",
      "2    1.0\n",
      "3    0.0\n",
      "4    0.0\n",
      "5    0.0\n",
      "Name: 319, dtype: float64\n",
      "1    1.0\n",
      "2    0.0\n",
      "3    0.0\n",
      "4    0.0\n",
      "5    0.0\n",
      "Name: 320, dtype: float64\n",
      "1    1.0\n",
      "2    0.0\n",
      "3    0.0\n",
      "4    0.0\n",
      "5    0.0\n",
      "Name: 321, dtype: float64\n",
      "1    1.0\n",
      "2    0.0\n",
      "3    0.0\n",
      "4    0.0\n",
      "5    0.0\n",
      "Name: 322, dtype: float64\n",
      "1    1.0\n",
      "2    0.0\n",
      "3    0.0\n",
      "4    0.0\n",
      "5    0.0\n",
      "Name: 323, dtype: float64\n",
      "1    1.0\n",
      "2    0.0\n",
      "3    0.0\n",
      "4    0.0\n",
      "5    0.0\n",
      "Name: 324, dtype: float64\n",
      "1    1.0\n",
      "2    0.0\n",
      "3    0.0\n",
      "4    0.0\n",
      "5    0.0\n",
      "Name: 325, dtype: float64\n",
      "1    1.0\n",
      "2    0.0\n",
      "3    0.0\n",
      "4    0.0\n",
      "5    0.0\n",
      "Name: 326, dtype: float64\n",
      "1    1.0\n",
      "2    0.0\n",
      "3    0.0\n",
      "4    0.0\n",
      "5    0.0\n",
      "Name: 327, dtype: float64\n",
      "1    1.0\n",
      "2    0.0\n",
      "3    0.0\n",
      "4    0.0\n",
      "5    0.0\n",
      "Name: 328, dtype: float64\n",
      "1    1.0\n",
      "2    0.0\n",
      "3    0.0\n",
      "4    0.0\n",
      "5    0.0\n",
      "Name: 329, dtype: float64\n",
      "1    0.0\n",
      "2    0.0\n",
      "3    1.0\n",
      "4    0.0\n",
      "5    0.0\n",
      "Name: 330, dtype: float64\n",
      "1    1.0\n",
      "2    0.0\n",
      "3    0.0\n",
      "4    0.0\n",
      "5    0.0\n",
      "Name: 331, dtype: float64\n",
      "1    1.0\n",
      "2    0.0\n",
      "3    0.0\n",
      "4    0.0\n",
      "5    0.0\n",
      "Name: 332, dtype: float64\n",
      "1    0.0\n",
      "2    0.0\n",
      "3    1.0\n",
      "4    0.0\n",
      "5    0.0\n",
      "Name: 333, dtype: float64\n",
      "1    0.0\n",
      "2    0.0\n",
      "3    0.0\n",
      "4    1.0\n",
      "5    0.0\n",
      "Name: 334, dtype: float64\n",
      "1    0.0\n",
      "2    1.0\n",
      "3    0.0\n",
      "4    0.0\n",
      "5    0.0\n",
      "Name: 335, dtype: float64\n",
      "1    0.0\n",
      "2    1.0\n",
      "3    0.0\n",
      "4    0.0\n",
      "5    0.0\n",
      "Name: 336, dtype: float64\n",
      "1    0.0\n",
      "2    1.0\n",
      "3    0.0\n",
      "4    0.0\n",
      "5    0.0\n",
      "Name: 337, dtype: float64\n",
      "1    0.0\n",
      "2    0.0\n",
      "3    0.0\n",
      "4    1.0\n",
      "5    0.0\n",
      "Name: 338, dtype: float64\n",
      "1    0.0\n",
      "2    0.0\n",
      "3    0.0\n",
      "4    0.0\n",
      "5    1.0\n",
      "Name: 339, dtype: float64\n",
      "1    0.0\n",
      "2    1.0\n",
      "3    0.0\n",
      "4    0.0\n",
      "5    0.0\n",
      "Name: 340, dtype: float64\n",
      "1    1.0\n",
      "2    0.0\n",
      "3    0.0\n",
      "4    0.0\n",
      "5    0.0\n",
      "Name: 341, dtype: float64\n",
      "1    0.0\n",
      "2    1.0\n",
      "3    0.0\n",
      "4    0.0\n",
      "5    0.0\n",
      "Name: 342, dtype: float64\n",
      "1    0.0\n",
      "2    1.0\n",
      "3    0.0\n",
      "4    0.0\n",
      "5    0.0\n",
      "Name: 343, dtype: float64\n",
      "1    0.0\n",
      "2    1.0\n",
      "3    0.0\n",
      "4    0.0\n",
      "5    0.0\n",
      "Name: 344, dtype: float64\n",
      "1    0.0\n",
      "2    0.0\n",
      "3    1.0\n",
      "4    0.0\n",
      "5    0.0\n",
      "Name: 345, dtype: float64\n",
      "1    1.0\n",
      "2    0.0\n",
      "3    0.0\n",
      "4    0.0\n",
      "5    0.0\n",
      "Name: 346, dtype: float64\n",
      "1    0.0\n",
      "2    1.0\n",
      "3    0.0\n",
      "4    0.0\n",
      "5    0.0\n",
      "Name: 347, dtype: float64\n",
      "1    0.0\n",
      "2    0.0\n",
      "3    1.0\n",
      "4    0.0\n",
      "5    0.0\n"
     ]
    },
    {
     "name": "stdout",
     "output_type": "stream",
     "text": [
      "Name: 348, dtype: float64\n",
      "1    0.0\n",
      "2    1.0\n",
      "3    0.0\n",
      "4    0.0\n",
      "5    0.0\n",
      "Name: 349, dtype: float64\n",
      "1    0.0\n",
      "2    0.0\n",
      "3    0.0\n",
      "4    0.0\n",
      "5    1.0\n",
      "Name: 350, dtype: float64\n",
      "1    0.0\n",
      "2    1.0\n",
      "3    0.0\n",
      "4    0.0\n",
      "5    0.0\n",
      "Name: 351, dtype: float64\n",
      "1    1.0\n",
      "2    0.0\n",
      "3    0.0\n",
      "4    0.0\n",
      "5    0.0\n",
      "Name: 352, dtype: float64\n",
      "1    0.0\n",
      "2    0.0\n",
      "3    1.0\n",
      "4    0.0\n",
      "5    0.0\n",
      "Name: 353, dtype: float64\n",
      "1    1.0\n",
      "2    0.0\n",
      "3    0.0\n",
      "4    0.0\n",
      "5    0.0\n",
      "Name: 354, dtype: float64\n",
      "1    1.0\n",
      "2    0.0\n",
      "3    0.0\n",
      "4    0.0\n",
      "5    0.0\n",
      "Name: 355, dtype: float64\n",
      "1    0.0\n",
      "2    0.0\n",
      "3    1.0\n",
      "4    0.0\n",
      "5    0.0\n",
      "Name: 356, dtype: float64\n",
      "1    0.0\n",
      "2    1.0\n",
      "3    0.0\n",
      "4    0.0\n",
      "5    0.0\n",
      "Name: 357, dtype: float64\n",
      "1    0.0\n",
      "2    0.0\n",
      "3    1.0\n",
      "4    0.0\n",
      "5    0.0\n",
      "Name: 358, dtype: float64\n",
      "1    1.0\n",
      "2    0.0\n",
      "3    0.0\n",
      "4    0.0\n",
      "5    0.0\n",
      "Name: 359, dtype: float64\n",
      "1    0.0\n",
      "2    0.0\n",
      "3    1.0\n",
      "4    0.0\n",
      "5    0.0\n",
      "Name: 360, dtype: float64\n",
      "1    0.0\n",
      "2    0.0\n",
      "3    1.0\n",
      "4    0.0\n",
      "5    0.0\n",
      "Name: 361, dtype: float64\n",
      "1    0.0\n",
      "2    0.0\n",
      "3    0.0\n",
      "4    1.0\n",
      "5    0.0\n",
      "Name: 362, dtype: float64\n",
      "1    0.0\n",
      "2    0.0\n",
      "3    0.0\n",
      "4    1.0\n",
      "5    0.0\n",
      "Name: 363, dtype: float64\n",
      "1    1.0\n",
      "2    0.0\n",
      "3    0.0\n",
      "4    0.0\n",
      "5    0.0\n",
      "Name: 364, dtype: float64\n",
      "1    1.0\n",
      "2    0.0\n",
      "3    0.0\n",
      "4    0.0\n",
      "5    0.0\n",
      "Name: 365, dtype: float64\n",
      "1    0.0\n",
      "2    0.0\n",
      "3    0.0\n",
      "4    1.0\n",
      "5    0.0\n",
      "Name: 366, dtype: float64\n",
      "1    1.0\n",
      "2    0.0\n",
      "3    0.0\n",
      "4    0.0\n",
      "5    0.0\n",
      "Name: 367, dtype: float64\n",
      "1    0.0\n",
      "2    0.0\n",
      "3    0.0\n",
      "4    1.0\n",
      "5    0.0\n",
      "Name: 368, dtype: float64\n",
      "1    0.0\n",
      "2    0.0\n",
      "3    1.0\n",
      "4    0.0\n",
      "5    0.0\n",
      "Name: 369, dtype: float64\n",
      "1    0.0\n",
      "2    0.0\n",
      "3    1.0\n",
      "4    0.0\n",
      "5    0.0\n",
      "Name: 370, dtype: float64\n",
      "1    1.0\n",
      "2    0.0\n",
      "3    0.0\n",
      "4    0.0\n",
      "5    0.0\n",
      "Name: 371, dtype: float64\n",
      "1    1.0\n",
      "2    0.0\n",
      "3    0.0\n",
      "4    0.0\n",
      "5    0.0\n",
      "Name: 372, dtype: float64\n",
      "1    0.0\n",
      "2    1.0\n",
      "3    0.0\n",
      "4    0.0\n",
      "5    0.0\n",
      "Name: 373, dtype: float64\n",
      "1    0.0\n",
      "2    0.0\n",
      "3    0.0\n",
      "4    0.0\n",
      "5    1.0\n",
      "Name: 374, dtype: float64\n",
      "1    0.0\n",
      "2    0.0\n",
      "3    0.0\n",
      "4    0.0\n",
      "5    1.0\n",
      "Name: 375, dtype: float64\n",
      "1    0.0\n",
      "2    0.0\n",
      "3    0.0\n",
      "4    1.0\n",
      "5    0.0\n",
      "Name: 376, dtype: float64\n",
      "1    0.0\n",
      "2    0.0\n",
      "3    0.0\n",
      "4    0.0\n",
      "5    1.0\n",
      "Name: 377, dtype: float64\n",
      "1    0.0\n",
      "2    0.0\n",
      "3    0.0\n",
      "4    0.0\n",
      "5    1.0\n",
      "Name: 378, dtype: float64\n",
      "1    1.0\n",
      "2    0.0\n",
      "3    0.0\n",
      "4    0.0\n",
      "5    0.0\n",
      "Name: 379, dtype: float64\n",
      "1    0.0\n",
      "2    0.0\n",
      "3    1.0\n",
      "4    0.0\n",
      "5    0.0\n",
      "Name: 380, dtype: float64\n",
      "1    0.0\n",
      "2    1.0\n",
      "3    0.0\n",
      "4    0.0\n",
      "5    0.0\n",
      "Name: 381, dtype: float64\n",
      "1    1.0\n",
      "2    0.0\n",
      "3    0.0\n",
      "4    0.0\n",
      "5    0.0\n",
      "Name: 382, dtype: float64\n",
      "1    0.0\n",
      "2    1.0\n",
      "3    0.0\n",
      "4    0.0\n",
      "5    0.0\n",
      "Name: 383, dtype: float64\n",
      "1    0.0\n",
      "2    0.0\n",
      "3    0.0\n",
      "4    1.0\n",
      "5    0.0\n",
      "Name: 384, dtype: float64\n",
      "1    0.0\n",
      "2    0.0\n",
      "3    1.0\n",
      "4    0.0\n",
      "5    0.0\n",
      "Name: 385, dtype: float64\n",
      "1    0.0\n",
      "2    0.0\n",
      "3    1.0\n",
      "4    0.0\n",
      "5    0.0\n",
      "Name: 386, dtype: float64\n",
      "1    0.0\n",
      "2    0.0\n",
      "3    0.0\n",
      "4    1.0\n",
      "5    0.0\n",
      "Name: 387, dtype: float64\n",
      "1    0.0\n",
      "2    0.0\n",
      "3    1.0\n",
      "4    0.0\n",
      "5    0.0\n",
      "Name: 388, dtype: float64\n",
      "1    1.0\n",
      "2    0.0\n",
      "3    0.0\n",
      "4    0.0\n",
      "5    0.0\n",
      "Name: 389, dtype: float64\n",
      "1    0.0\n",
      "2    0.0\n",
      "3    1.0\n",
      "4    0.0\n",
      "5    0.0\n",
      "Name: 390, dtype: float64\n",
      "1    1.0\n",
      "2    0.0\n",
      "3    0.0\n",
      "4    0.0\n",
      "5    0.0\n",
      "Name: 391, dtype: float64\n",
      "1    0.0\n",
      "2    0.0\n",
      "3    0.0\n",
      "4    1.0\n",
      "5    0.0\n",
      "Name: 392, dtype: float64\n",
      "1    0.0\n",
      "2    0.0\n",
      "3    1.0\n",
      "4    0.0\n",
      "5    0.0\n",
      "Name: 393, dtype: float64\n",
      "1    0.0\n",
      "2    1.0\n",
      "3    0.0\n",
      "4    0.0\n",
      "5    0.0\n",
      "Name: 394, dtype: float64\n",
      "1    0.0\n",
      "2    1.0\n",
      "3    0.0\n",
      "4    0.0\n",
      "5    0.0\n",
      "Name: 395, dtype: float64\n",
      "1    0.0\n",
      "2    0.0\n",
      "3    1.0\n",
      "4    0.0\n",
      "5    0.0\n",
      "Name: 396, dtype: float64\n",
      "1    0.0\n",
      "2    0.0\n",
      "3    1.0\n",
      "4    0.0\n",
      "5    0.0\n",
      "Name: 397, dtype: float64\n",
      "1    1.0\n",
      "2    0.0\n",
      "3    0.0\n",
      "4    0.0\n",
      "5    0.0\n",
      "Name: 398, dtype: float64\n",
      "1    1.0\n",
      "2    0.0\n",
      "3    0.0\n",
      "4    0.0\n",
      "5    0.0\n",
      "Name: 399, dtype: float64\n",
      "1    1.0\n",
      "2    0.0\n",
      "3    0.0\n",
      "4    0.0\n",
      "5    0.0\n",
      "Name: 400, dtype: float64\n",
      "1    0.0\n",
      "2    1.0\n",
      "3    0.0\n",
      "4    0.0\n",
      "5    0.0\n",
      "Name: 401, dtype: float64\n",
      "1    0.0\n",
      "2    0.0\n",
      "3    0.0\n",
      "4    1.0\n",
      "5    0.0\n",
      "Name: 402, dtype: float64\n",
      "1    0.0\n",
      "2    0.0\n",
      "3    0.0\n",
      "4    0.0\n",
      "5    1.0\n",
      "Name: 403, dtype: float64\n",
      "1    0.0\n",
      "2    0.0\n",
      "3    0.0\n",
      "4    1.0\n",
      "5    0.0\n",
      "Name: 404, dtype: float64\n",
      "1    0.0\n",
      "2    0.0\n",
      "3    0.0\n",
      "4    1.0\n",
      "5    0.0\n",
      "Name: 405, dtype: float64\n",
      "1    0.0\n",
      "2    0.0\n",
      "3    0.0\n",
      "4    0.0\n",
      "5    1.0\n",
      "Name: 406, dtype: float64\n",
      "1    0.0\n",
      "2    0.0\n",
      "3    0.0\n",
      "4    1.0\n",
      "5    0.0\n",
      "Name: 407, dtype: float64\n",
      "1    0.0\n",
      "2    0.0\n",
      "3    0.0\n",
      "4    0.0\n",
      "5    1.0\n",
      "Name: 408, dtype: float64\n",
      "1    0.0\n",
      "2    0.0\n",
      "3    0.0\n",
      "4    0.0\n",
      "5    1.0\n",
      "Name: 409, dtype: float64\n",
      "1    0.0\n",
      "2    0.0\n",
      "3    0.0\n",
      "4    0.0\n",
      "5    1.0\n",
      "Name: 410, dtype: float64\n",
      "1    0.0\n",
      "2    0.0\n",
      "3    0.0\n",
      "4    0.0\n",
      "5    1.0\n",
      "Name: 411, dtype: float64\n",
      "1    0.0\n",
      "2    0.0\n",
      "3    0.0\n",
      "4    0.0\n",
      "5    1.0\n",
      "Name: 412, dtype: float64\n",
      "1    0.0\n",
      "2    0.0\n",
      "3    0.0\n",
      "4    0.0\n",
      "5    1.0\n",
      "Name: 413, dtype: float64\n",
      "1    0.0\n",
      "2    0.0\n",
      "3    1.0\n",
      "4    0.0\n",
      "5    0.0\n",
      "Name: 414, dtype: float64\n",
      "1    0.0\n",
      "2    0.0\n",
      "3    1.0\n",
      "4    0.0\n",
      "5    0.0\n",
      "Name: 415, dtype: float64\n",
      "1    0.0\n",
      "2    0.0\n",
      "3    0.0\n",
      "4    0.0\n",
      "5    1.0\n",
      "Name: 416, dtype: float64\n",
      "1    0.0\n",
      "2    0.0\n",
      "3    0.0\n",
      "4    1.0\n",
      "5    0.0\n",
      "Name: 417, dtype: float64\n",
      "1    0.0\n",
      "2    0.0\n",
      "3    1.0\n",
      "4    0.0\n",
      "5    0.0\n",
      "Name: 418, dtype: float64\n",
      "1    0.0\n",
      "2    1.0\n",
      "3    0.0\n",
      "4    0.0\n",
      "5    0.0\n",
      "Name: 419, dtype: float64\n",
      "1    0.0\n",
      "2    0.0\n",
      "3    1.0\n",
      "4    0.0\n",
      "5    0.0\n",
      "Name: 420, dtype: float64\n",
      "1    0.0\n",
      "2    1.0\n",
      "3    0.0\n",
      "4    0.0\n",
      "5    0.0\n",
      "Name: 421, dtype: float64\n",
      "1    0.0\n",
      "2    0.0\n",
      "3    1.0\n",
      "4    0.0\n",
      "5    0.0\n",
      "Name: 422, dtype: float64\n",
      "1    0.0\n",
      "2    0.0\n",
      "3    0.0\n",
      "4    1.0\n",
      "5    0.0\n",
      "Name: 423, dtype: float64\n",
      "1    0.0\n",
      "2    1.0\n",
      "3    0.0\n",
      "4    0.0\n",
      "5    0.0\n",
      "Name: 424, dtype: float64\n",
      "1    0.0\n",
      "2    1.0\n",
      "3    0.0\n",
      "4    0.0\n",
      "5    0.0\n",
      "Name: 425, dtype: float64\n",
      "1    1.0\n",
      "2    0.0\n",
      "3    0.0\n",
      "4    0.0\n",
      "5    0.0\n",
      "Name: 426, dtype: float64\n",
      "1    0.0\n",
      "2    1.0\n",
      "3    0.0\n",
      "4    0.0\n",
      "5    0.0\n",
      "Name: 427, dtype: float64\n",
      "1    1.0\n",
      "2    0.0\n",
      "3    0.0\n",
      "4    0.0\n",
      "5    0.0\n",
      "Name: 428, dtype: float64\n",
      "1    1.0\n",
      "2    0.0\n",
      "3    0.0\n",
      "4    0.0\n",
      "5    0.0\n",
      "Name: 429, dtype: float64\n",
      "1    1.0\n",
      "2    0.0\n",
      "3    0.0\n",
      "4    0.0\n",
      "5    0.0\n",
      "Name: 430, dtype: float64\n",
      "1    1.0\n",
      "2    0.0\n",
      "3    0.0\n",
      "4    0.0\n",
      "5    0.0\n",
      "Name: 431, dtype: float64\n",
      "1    1.0\n",
      "2    0.0\n",
      "3    0.0\n",
      "4    0.0\n",
      "5    0.0\n",
      "Name: 432, dtype: float64\n",
      "1    1.0\n",
      "2    0.0\n",
      "3    0.0\n",
      "4    0.0\n",
      "5    0.0\n",
      "Name: 433, dtype: float64\n",
      "1    0.0\n",
      "2    0.0\n",
      "3    1.0\n",
      "4    0.0\n",
      "5    0.0\n",
      "Name: 434, dtype: float64\n",
      "1    0.0\n",
      "2    0.0\n",
      "3    1.0\n",
      "4    0.0\n",
      "5    0.0\n",
      "Name: 435, dtype: float64\n",
      "1    1.0\n",
      "2    0.0\n",
      "3    0.0\n",
      "4    0.0\n",
      "5    0.0\n",
      "Name: 436, dtype: float64\n",
      "1    1.0\n",
      "2    0.0\n",
      "3    0.0\n",
      "4    0.0\n",
      "5    0.0\n",
      "Name: 437, dtype: float64\n",
      "1    0.0\n",
      "2    0.0\n",
      "3    0.0\n",
      "4    0.0\n",
      "5    1.0\n",
      "Name: 438, dtype: float64\n",
      "1    0.0\n",
      "2    0.0\n",
      "3    0.0\n",
      "4    1.0\n",
      "5    0.0\n",
      "Name: 439, dtype: float64\n",
      "1    0.0\n",
      "2    0.0\n",
      "3    1.0\n",
      "4    0.0\n",
      "5    0.0\n",
      "Name: 440, dtype: float64\n",
      "1    0.0\n",
      "2    1.0\n",
      "3    0.0\n",
      "4    0.0\n",
      "5    0.0\n",
      "Name: 441, dtype: float64\n",
      "1    0.0\n",
      "2    1.0\n",
      "3    0.0\n",
      "4    0.0\n",
      "5    0.0\n",
      "Name: 442, dtype: float64\n",
      "1    0.0\n",
      "2    0.0\n",
      "3    1.0\n",
      "4    0.0\n",
      "5    0.0\n",
      "Name: 443, dtype: float64\n",
      "1    0.0\n",
      "2    0.0\n",
      "3    1.0\n",
      "4    0.0\n",
      "5    0.0\n",
      "Name: 444, dtype: float64\n",
      "1    1.0\n",
      "2    0.0\n",
      "3    0.0\n",
      "4    0.0\n",
      "5    0.0\n",
      "Name: 445, dtype: float64\n",
      "1    1.0\n",
      "2    0.0\n",
      "3    0.0\n",
      "4    0.0\n",
      "5    0.0\n",
      "Name: 446, dtype: float64\n",
      "1    0.0\n",
      "2    1.0\n",
      "3    0.0\n",
      "4    0.0\n",
      "5    0.0\n",
      "Name: 447, dtype: float64\n",
      "1    1.0\n",
      "2    0.0\n",
      "3    0.0\n",
      "4    0.0\n",
      "5    0.0\n",
      "Name: 448, dtype: float64\n",
      "1    1.0\n",
      "2    0.0\n",
      "3    0.0\n",
      "4    0.0\n",
      "5    0.0\n",
      "Name: 449, dtype: float64\n",
      "1    0.0\n",
      "2    0.0\n",
      "3    1.0\n",
      "4    0.0\n",
      "5    0.0\n",
      "Name: 450, dtype: float64\n",
      "1    0.0\n",
      "2    0.0\n",
      "3    1.0\n",
      "4    0.0\n",
      "5    0.0\n",
      "Name: 451, dtype: float64\n",
      "1    0.0\n",
      "2    0.0\n",
      "3    1.0\n",
      "4    0.0\n",
      "5    0.0\n",
      "Name: 452, dtype: float64\n",
      "1    0.0\n",
      "2    1.0\n",
      "3    0.0\n",
      "4    0.0\n",
      "5    0.0\n",
      "Name: 453, dtype: float64\n",
      "1    0.0\n",
      "2    1.0\n",
      "3    0.0\n",
      "4    0.0\n",
      "5    0.0\n",
      "Name: 454, dtype: float64\n",
      "1    1.0\n",
      "2    0.0\n",
      "3    0.0\n",
      "4    0.0\n",
      "5    0.0\n",
      "Name: 455, dtype: float64\n",
      "1    0.0\n",
      "2    0.0\n",
      "3    0.0\n",
      "4    1.0\n",
      "5    0.0\n",
      "Name: 456, dtype: float64\n",
      "1    0.0\n",
      "2    0.0\n",
      "3    0.0\n",
      "4    1.0\n",
      "5    0.0\n",
      "Name: 457, dtype: float64\n",
      "1    0.0\n",
      "2    0.0\n",
      "3    0.0\n",
      "4    0.0\n",
      "5    1.0\n",
      "Name: 458, dtype: float64\n",
      "1    1.0\n",
      "2    0.0\n",
      "3    0.0\n",
      "4    0.0\n",
      "5    0.0\n",
      "Name: 459, dtype: float64\n",
      "1    0.0\n",
      "2    1.0\n",
      "3    0.0\n",
      "4    0.0\n",
      "5    0.0\n",
      "Name: 460, dtype: float64\n",
      "1    1.0\n",
      "2    0.0\n",
      "3    0.0\n",
      "4    0.0\n",
      "5    0.0\n",
      "Name: 461, dtype: float64\n",
      "1    0.0\n",
      "2    0.0\n",
      "3    0.0\n",
      "4    1.0\n",
      "5    0.0\n",
      "Name: 462, dtype: float64\n",
      "1    0.0\n",
      "2    1.0\n",
      "3    0.0\n",
      "4    0.0\n",
      "5    0.0\n",
      "Name: 463, dtype: float64\n",
      "1    0.0\n",
      "2    1.0\n",
      "3    0.0\n",
      "4    0.0\n",
      "5    0.0\n"
     ]
    },
    {
     "name": "stdout",
     "output_type": "stream",
     "text": [
      "Name: 464, dtype: float64\n",
      "1    0.0\n",
      "2    1.0\n",
      "3    0.0\n",
      "4    0.0\n",
      "5    0.0\n",
      "Name: 465, dtype: float64\n",
      "1    0.0\n",
      "2    1.0\n",
      "3    0.0\n",
      "4    0.0\n",
      "5    0.0\n",
      "Name: 466, dtype: float64\n",
      "1    0.0\n",
      "2    1.0\n",
      "3    0.0\n",
      "4    0.0\n",
      "5    0.0\n",
      "Name: 467, dtype: float64\n",
      "1    0.0\n",
      "2    1.0\n",
      "3    0.0\n",
      "4    0.0\n",
      "5    0.0\n",
      "Name: 468, dtype: float64\n",
      "1    0.0\n",
      "2    1.0\n",
      "3    0.0\n",
      "4    0.0\n",
      "5    0.0\n",
      "Name: 469, dtype: float64\n",
      "1    1.0\n",
      "2    0.0\n",
      "3    0.0\n",
      "4    0.0\n",
      "5    0.0\n",
      "Name: 470, dtype: float64\n",
      "1    0.0\n",
      "2    0.0\n",
      "3    0.0\n",
      "4    0.0\n",
      "5    1.0\n",
      "Name: 471, dtype: float64\n",
      "1    0.0\n",
      "2    0.0\n",
      "3    0.0\n",
      "4    0.0\n",
      "5    1.0\n",
      "Name: 472, dtype: float64\n",
      "1    0.0\n",
      "2    1.0\n",
      "3    0.0\n",
      "4    0.0\n",
      "5    0.0\n",
      "Name: 473, dtype: float64\n",
      "1    0.0\n",
      "2    1.0\n",
      "3    0.0\n",
      "4    0.0\n",
      "5    0.0\n",
      "Name: 474, dtype: float64\n",
      "1    0.0\n",
      "2    0.0\n",
      "3    1.0\n",
      "4    0.0\n",
      "5    0.0\n",
      "Name: 475, dtype: float64\n",
      "1    0.0\n",
      "2    1.0\n",
      "3    0.0\n",
      "4    0.0\n",
      "5    0.0\n",
      "Name: 476, dtype: float64\n",
      "1    0.0\n",
      "2    1.0\n",
      "3    0.0\n",
      "4    0.0\n",
      "5    0.0\n",
      "Name: 477, dtype: float64\n",
      "1    0.0\n",
      "2    0.0\n",
      "3    0.0\n",
      "4    0.0\n",
      "5    1.0\n",
      "Name: 478, dtype: float64\n",
      "1    0.0\n",
      "2    0.0\n",
      "3    0.0\n",
      "4    1.0\n",
      "5    0.0\n",
      "Name: 479, dtype: float64\n",
      "1    0.0\n",
      "2    1.0\n",
      "3    0.0\n",
      "4    0.0\n",
      "5    0.0\n",
      "Name: 480, dtype: float64\n",
      "1    0.0\n",
      "2    0.0\n",
      "3    0.0\n",
      "4    0.0\n",
      "5    1.0\n",
      "Name: 481, dtype: float64\n",
      "1    0.0\n",
      "2    1.0\n",
      "3    0.0\n",
      "4    0.0\n",
      "5    0.0\n",
      "Name: 482, dtype: float64\n",
      "1    0.0\n",
      "2    0.0\n",
      "3    1.0\n",
      "4    0.0\n",
      "5    0.0\n",
      "Name: 483, dtype: float64\n",
      "1    0.0\n",
      "2    0.0\n",
      "3    1.0\n",
      "4    0.0\n",
      "5    0.0\n",
      "Name: 484, dtype: float64\n",
      "1    1.0\n",
      "2    0.0\n",
      "3    0.0\n",
      "4    0.0\n",
      "5    0.0\n",
      "Name: 485, dtype: float64\n",
      "1    1.0\n",
      "2    0.0\n",
      "3    0.0\n",
      "4    0.0\n",
      "5    0.0\n",
      "Name: 486, dtype: float64\n",
      "1    1.0\n",
      "2    0.0\n",
      "3    0.0\n",
      "4    0.0\n",
      "5    0.0\n",
      "Name: 487, dtype: float64\n",
      "1    1.0\n",
      "2    0.0\n",
      "3    0.0\n",
      "4    0.0\n",
      "5    0.0\n",
      "Name: 488, dtype: float64\n",
      "1    1.0\n",
      "2    0.0\n",
      "3    0.0\n",
      "4    0.0\n",
      "5    0.0\n",
      "Name: 489, dtype: float64\n",
      "1    1.0\n",
      "2    0.0\n",
      "3    0.0\n",
      "4    0.0\n",
      "5    0.0\n",
      "Name: 490, dtype: float64\n",
      "1    1.0\n",
      "2    0.0\n",
      "3    0.0\n",
      "4    0.0\n",
      "5    0.0\n",
      "Name: 491, dtype: float64\n",
      "1    1.0\n",
      "2    0.0\n",
      "3    0.0\n",
      "4    0.0\n",
      "5    0.0\n",
      "Name: 492, dtype: float64\n",
      "1    1.0\n",
      "2    0.0\n",
      "3    0.0\n",
      "4    0.0\n",
      "5    0.0\n",
      "Name: 493, dtype: float64\n",
      "1    1.0\n",
      "2    0.0\n",
      "3    0.0\n",
      "4    0.0\n",
      "5    0.0\n",
      "Name: 494, dtype: float64\n",
      "1    0.0\n",
      "2    0.0\n",
      "3    0.0\n",
      "4    1.0\n",
      "5    0.0\n",
      "Name: 495, dtype: float64\n",
      "1    0.0\n",
      "2    0.0\n",
      "3    0.0\n",
      "4    1.0\n",
      "5    0.0\n",
      "Name: 496, dtype: float64\n",
      "1    1.0\n",
      "2    0.0\n",
      "3    0.0\n",
      "4    0.0\n",
      "5    0.0\n",
      "Name: 497, dtype: float64\n",
      "1    1.0\n",
      "2    0.0\n",
      "3    0.0\n",
      "4    0.0\n",
      "5    0.0\n",
      "Name: 498, dtype: float64\n",
      "1    1.0\n",
      "2    0.0\n",
      "3    0.0\n",
      "4    0.0\n",
      "5    0.0\n",
      "Name: 499, dtype: float64\n",
      "1    1.0\n",
      "2    0.0\n",
      "3    0.0\n",
      "4    0.0\n",
      "5    0.0\n",
      "Name: 500, dtype: float64\n",
      "1    1.0\n",
      "2    0.0\n",
      "3    0.0\n",
      "4    0.0\n",
      "5    0.0\n",
      "Name: 501, dtype: float64\n",
      "1    0.0\n",
      "2    1.0\n",
      "3    0.0\n",
      "4    0.0\n",
      "5    0.0\n",
      "Name: 502, dtype: float64\n",
      "1    0.0\n",
      "2    0.0\n",
      "3    1.0\n",
      "4    0.0\n",
      "5    0.0\n",
      "Name: 503, dtype: float64\n",
      "1    0.0\n",
      "2    1.0\n",
      "3    0.0\n",
      "4    0.0\n",
      "5    0.0\n",
      "Name: 504, dtype: float64\n",
      "1    1.0\n",
      "2    0.0\n",
      "3    0.0\n",
      "4    0.0\n",
      "5    0.0\n",
      "Name: 505, dtype: float64\n",
      "1    1.0\n",
      "2    0.0\n",
      "3    0.0\n",
      "4    0.0\n",
      "5    0.0\n",
      "Name: 506, dtype: float64\n",
      "1    1.0\n",
      "2    0.0\n",
      "3    0.0\n",
      "4    0.0\n",
      "5    0.0\n",
      "Name: 507, dtype: float64\n",
      "1    0.0\n",
      "2    1.0\n",
      "3    0.0\n",
      "4    0.0\n",
      "5    0.0\n",
      "Name: 508, dtype: float64\n",
      "1    0.0\n",
      "2    1.0\n",
      "3    0.0\n",
      "4    0.0\n",
      "5    0.0\n",
      "Name: 509, dtype: float64\n",
      "1    0.0\n",
      "2    1.0\n",
      "3    0.0\n",
      "4    0.0\n",
      "5    0.0\n",
      "Name: 510, dtype: float64\n",
      "1    0.0\n",
      "2    1.0\n",
      "3    0.0\n",
      "4    0.0\n",
      "5    0.0\n",
      "Name: 511, dtype: float64\n",
      "1    1.0\n",
      "2    0.0\n",
      "3    0.0\n",
      "4    0.0\n",
      "5    0.0\n",
      "Name: 512, dtype: float64\n",
      "1    0.0\n",
      "2    1.0\n",
      "3    0.0\n",
      "4    0.0\n",
      "5    0.0\n",
      "Name: 513, dtype: float64\n",
      "1    0.0\n",
      "2    0.0\n",
      "3    0.0\n",
      "4    0.0\n",
      "5    1.0\n",
      "Name: 514, dtype: float64\n",
      "1    0.0\n",
      "2    0.0\n",
      "3    0.0\n",
      "4    0.0\n",
      "5    1.0\n",
      "Name: 515, dtype: float64\n",
      "1    0.0\n",
      "2    0.0\n",
      "3    0.0\n",
      "4    0.0\n",
      "5    1.0\n",
      "Name: 516, dtype: float64\n",
      "1    1.0\n",
      "2    0.0\n",
      "3    0.0\n",
      "4    0.0\n",
      "5    0.0\n",
      "Name: 517, dtype: float64\n",
      "1    1.0\n",
      "2    0.0\n",
      "3    0.0\n",
      "4    0.0\n",
      "5    0.0\n",
      "Name: 518, dtype: float64\n",
      "1    0.0\n",
      "2    0.0\n",
      "3    0.0\n",
      "4    1.0\n",
      "5    0.0\n",
      "Name: 519, dtype: float64\n",
      "1    0.0\n",
      "2    0.0\n",
      "3    0.0\n",
      "4    1.0\n",
      "5    0.0\n",
      "Name: 520, dtype: float64\n",
      "1    0.0\n",
      "2    0.0\n",
      "3    0.0\n",
      "4    1.0\n",
      "5    0.0\n",
      "Name: 521, dtype: float64\n",
      "1    0.0\n",
      "2    0.0\n",
      "3    0.0\n",
      "4    1.0\n",
      "5    0.0\n",
      "Name: 522, dtype: float64\n",
      "1    0.0\n",
      "2    0.0\n",
      "3    1.0\n",
      "4    0.0\n",
      "5    0.0\n",
      "Name: 523, dtype: float64\n",
      "1    0.0\n",
      "2    0.0\n",
      "3    0.0\n",
      "4    1.0\n",
      "5    0.0\n",
      "Name: 524, dtype: float64\n",
      "1    0.0\n",
      "2    0.0\n",
      "3    1.0\n",
      "4    0.0\n",
      "5    0.0\n",
      "Name: 525, dtype: float64\n",
      "1    0.0\n",
      "2    0.0\n",
      "3    0.0\n",
      "4    0.0\n",
      "5    1.0\n",
      "Name: 526, dtype: float64\n",
      "1    1.0\n",
      "2    0.0\n",
      "3    0.0\n",
      "4    0.0\n",
      "5    0.0\n",
      "Name: 527, dtype: float64\n",
      "1    0.0\n",
      "2    0.0\n",
      "3    1.0\n",
      "4    0.0\n",
      "5    0.0\n",
      "Name: 528, dtype: float64\n",
      "1    0.0\n",
      "2    0.0\n",
      "3    0.0\n",
      "4    1.0\n",
      "5    0.0\n",
      "Name: 529, dtype: float64\n",
      "1    0.0\n",
      "2    0.0\n",
      "3    0.0\n",
      "4    1.0\n",
      "5    0.0\n",
      "Name: 530, dtype: float64\n",
      "1    1.0\n",
      "2    0.0\n",
      "3    0.0\n",
      "4    0.0\n",
      "5    0.0\n",
      "Name: 531, dtype: float64\n",
      "1    0.0\n",
      "2    0.0\n",
      "3    1.0\n",
      "4    0.0\n",
      "5    0.0\n",
      "Name: 532, dtype: float64\n",
      "1    0.0\n",
      "2    0.0\n",
      "3    0.0\n",
      "4    0.0\n",
      "5    1.0\n",
      "Name: 533, dtype: float64\n",
      "1    0.0\n",
      "2    0.0\n",
      "3    1.0\n",
      "4    0.0\n",
      "5    0.0\n",
      "Name: 534, dtype: float64\n",
      "1    0.0\n",
      "2    0.0\n",
      "3    1.0\n",
      "4    0.0\n",
      "5    0.0\n",
      "Name: 535, dtype: float64\n",
      "1    0.0\n",
      "2    0.0\n",
      "3    0.0\n",
      "4    1.0\n",
      "5    0.0\n",
      "Name: 536, dtype: float64\n",
      "1    0.0\n",
      "2    0.0\n",
      "3    0.0\n",
      "4    1.0\n",
      "5    0.0\n",
      "Name: 537, dtype: float64\n",
      "1    0.0\n",
      "2    0.0\n",
      "3    1.0\n",
      "4    0.0\n",
      "5    0.0\n",
      "Name: 538, dtype: float64\n",
      "1    0.0\n",
      "2    0.0\n",
      "3    0.0\n",
      "4    1.0\n",
      "5    0.0\n",
      "Name: 539, dtype: float64\n",
      "1    0.0\n",
      "2    0.0\n",
      "3    0.0\n",
      "4    0.0\n",
      "5    1.0\n",
      "Name: 540, dtype: float64\n",
      "1    0.0\n",
      "2    0.0\n",
      "3    0.0\n",
      "4    1.0\n",
      "5    0.0\n",
      "Name: 541, dtype: float64\n",
      "1    0.0\n",
      "2    0.0\n",
      "3    1.0\n",
      "4    0.0\n",
      "5    0.0\n",
      "Name: 542, dtype: float64\n",
      "1    0.0\n",
      "2    0.0\n",
      "3    1.0\n",
      "4    0.0\n",
      "5    0.0\n",
      "Name: 543, dtype: float64\n",
      "1    0.0\n",
      "2    0.0\n",
      "3    0.0\n",
      "4    0.0\n",
      "5    1.0\n",
      "Name: 544, dtype: float64\n",
      "1    0.0\n",
      "2    0.0\n",
      "3    0.0\n",
      "4    1.0\n",
      "5    0.0\n",
      "Name: 545, dtype: float64\n",
      "1    0.0\n",
      "2    0.0\n",
      "3    0.0\n",
      "4    1.0\n",
      "5    0.0\n",
      "Name: 546, dtype: float64\n",
      "1    0.0\n",
      "2    1.0\n",
      "3    0.0\n",
      "4    0.0\n",
      "5    0.0\n",
      "Name: 547, dtype: float64\n",
      "1    0.0\n",
      "2    1.0\n",
      "3    0.0\n",
      "4    0.0\n",
      "5    0.0\n",
      "Name: 548, dtype: float64\n",
      "1    0.0\n",
      "2    1.0\n",
      "3    0.0\n",
      "4    0.0\n",
      "5    0.0\n",
      "Name: 549, dtype: float64\n",
      "1    0.0\n",
      "2    0.0\n",
      "3    0.0\n",
      "4    1.0\n",
      "5    0.0\n",
      "Name: 550, dtype: float64\n",
      "1    0.0\n",
      "2    1.0\n",
      "3    0.0\n",
      "4    0.0\n",
      "5    0.0\n",
      "Name: 551, dtype: float64\n",
      "1    0.0\n",
      "2    0.0\n",
      "3    1.0\n",
      "4    0.0\n",
      "5    0.0\n",
      "Name: 552, dtype: float64\n",
      "1    1.0\n",
      "2    0.0\n",
      "3    0.0\n",
      "4    0.0\n",
      "5    0.0\n",
      "Name: 553, dtype: float64\n",
      "1    1.0\n",
      "2    0.0\n",
      "3    0.0\n",
      "4    0.0\n",
      "5    0.0\n",
      "Name: 554, dtype: float64\n",
      "1    1.0\n",
      "2    0.0\n",
      "3    0.0\n",
      "4    0.0\n",
      "5    0.0\n",
      "Name: 555, dtype: float64\n",
      "1    0.0\n",
      "2    0.0\n",
      "3    0.0\n",
      "4    1.0\n",
      "5    0.0\n",
      "Name: 556, dtype: float64\n",
      "1    0.0\n",
      "2    0.0\n",
      "3    0.0\n",
      "4    1.0\n",
      "5    0.0\n",
      "Name: 557, dtype: float64\n",
      "1    0.0\n",
      "2    1.0\n",
      "3    0.0\n",
      "4    0.0\n",
      "5    0.0\n",
      "Name: 558, dtype: float64\n",
      "1    0.0\n",
      "2    1.0\n",
      "3    0.0\n",
      "4    0.0\n",
      "5    0.0\n",
      "Name: 559, dtype: float64\n",
      "1    0.0\n",
      "2    0.0\n",
      "3    1.0\n",
      "4    0.0\n",
      "5    0.0\n",
      "Name: 560, dtype: float64\n",
      "1    0.0\n",
      "2    0.0\n",
      "3    1.0\n",
      "4    0.0\n",
      "5    0.0\n",
      "Name: 561, dtype: float64\n",
      "1    0.0\n",
      "2    0.0\n",
      "3    0.0\n",
      "4    1.0\n",
      "5    0.0\n",
      "Name: 562, dtype: float64\n"
     ]
    }
   ],
   "source": [
    "sc=[]\n",
    "for i in y_onehot.iterrows():\n",
    "    sc.append(argmax(i[1],axis=1))"
   ]
  },
  {
   "cell_type": "code",
   "execution_count": 240,
   "metadata": {},
   "outputs": [
    {
     "data": {
      "text/plain": [
       "LabelEncoder()"
      ]
     },
     "execution_count": 240,
     "metadata": {},
     "output_type": "execute_result"
    }
   ],
   "source": [
    "from sklearn import preprocessing\n",
    "le = preprocessing.LabelEncoder()\n",
    "le.fit(np.array(df.score))"
   ]
  },
  {
   "cell_type": "code",
   "execution_count": 281,
   "metadata": {},
   "outputs": [],
   "source": [
    "l = ([int(i) for i in sc], df.score)"
   ]
  },
  {
   "cell_type": "code",
   "execution_count": null,
   "metadata": {},
   "outputs": [],
   "source": []
  },
  {
   "cell_type": "code",
   "execution_count": 241,
   "metadata": {},
   "outputs": [
    {
     "data": {
      "text/plain": [
       "array([1, 2, 3, 4, 5], dtype=int64)"
      ]
     },
     "execution_count": 241,
     "metadata": {},
     "output_type": "execute_result"
    }
   ],
   "source": [
    "le.classes_"
   ]
  },
  {
   "cell_type": "code",
   "execution_count": 243,
   "metadata": {},
   "outputs": [
    {
     "data": {
      "text/plain": [
       "array([0, 0, 1, 1, 3], dtype=int64)"
      ]
     },
     "execution_count": 243,
     "metadata": {},
     "output_type": "execute_result"
    }
   ],
   "source": [
    "le.transform([1, 1, 2, 2,4])"
   ]
  },
  {
   "cell_type": "code",
   "execution_count": 246,
   "metadata": {},
   "outputs": [
    {
     "ename": "ValueError",
     "evalue": "bad input shape (6, 5)",
     "output_type": "error",
     "traceback": [
      "\u001b[1;31m---------------------------------------------------------------------------\u001b[0m",
      "\u001b[1;31mValueError\u001b[0m                                Traceback (most recent call last)",
      "\u001b[1;32m<ipython-input-246-581e8f1d74fe>\u001b[0m in \u001b[0;36m<module>\u001b[1;34m\u001b[0m\n\u001b[1;32m----> 1\u001b[1;33m \u001b[0mle\u001b[0m\u001b[1;33m.\u001b[0m\u001b[0minverse_transform\u001b[0m\u001b[1;33m(\u001b[0m\u001b[0mpredictions\u001b[0m\u001b[1;33m)\u001b[0m\u001b[1;33m\u001b[0m\u001b[1;33m\u001b[0m\u001b[0m\n\u001b[0m",
      "\u001b[1;32m~\\Anaconda3\\lib\\site-packages\\sklearn\\preprocessing\\label.py\u001b[0m in \u001b[0;36minverse_transform\u001b[1;34m(self, y)\u001b[0m\n\u001b[0;32m    271\u001b[0m         \"\"\"\n\u001b[0;32m    272\u001b[0m         \u001b[0mcheck_is_fitted\u001b[0m\u001b[1;33m(\u001b[0m\u001b[0mself\u001b[0m\u001b[1;33m,\u001b[0m \u001b[1;34m'classes_'\u001b[0m\u001b[1;33m)\u001b[0m\u001b[1;33m\u001b[0m\u001b[1;33m\u001b[0m\u001b[0m\n\u001b[1;32m--> 273\u001b[1;33m         \u001b[0my\u001b[0m \u001b[1;33m=\u001b[0m \u001b[0mcolumn_or_1d\u001b[0m\u001b[1;33m(\u001b[0m\u001b[0my\u001b[0m\u001b[1;33m,\u001b[0m \u001b[0mwarn\u001b[0m\u001b[1;33m=\u001b[0m\u001b[1;32mTrue\u001b[0m\u001b[1;33m)\u001b[0m\u001b[1;33m\u001b[0m\u001b[1;33m\u001b[0m\u001b[0m\n\u001b[0m\u001b[0;32m    274\u001b[0m         \u001b[1;31m# inverse transform of empty array is empty array\u001b[0m\u001b[1;33m\u001b[0m\u001b[1;33m\u001b[0m\u001b[1;33m\u001b[0m\u001b[0m\n\u001b[0;32m    275\u001b[0m         \u001b[1;32mif\u001b[0m \u001b[0m_num_samples\u001b[0m\u001b[1;33m(\u001b[0m\u001b[0my\u001b[0m\u001b[1;33m)\u001b[0m \u001b[1;33m==\u001b[0m \u001b[1;36m0\u001b[0m\u001b[1;33m:\u001b[0m\u001b[1;33m\u001b[0m\u001b[1;33m\u001b[0m\u001b[0m\n",
      "\u001b[1;32m~\\Anaconda3\\lib\\site-packages\\sklearn\\utils\\validation.py\u001b[0m in \u001b[0;36mcolumn_or_1d\u001b[1;34m(y, warn)\u001b[0m\n\u001b[0;32m    795\u001b[0m         \u001b[1;32mreturn\u001b[0m \u001b[0mnp\u001b[0m\u001b[1;33m.\u001b[0m\u001b[0mravel\u001b[0m\u001b[1;33m(\u001b[0m\u001b[0my\u001b[0m\u001b[1;33m)\u001b[0m\u001b[1;33m\u001b[0m\u001b[1;33m\u001b[0m\u001b[0m\n\u001b[0;32m    796\u001b[0m \u001b[1;33m\u001b[0m\u001b[0m\n\u001b[1;32m--> 797\u001b[1;33m     \u001b[1;32mraise\u001b[0m \u001b[0mValueError\u001b[0m\u001b[1;33m(\u001b[0m\u001b[1;34m\"bad input shape {0}\"\u001b[0m\u001b[1;33m.\u001b[0m\u001b[0mformat\u001b[0m\u001b[1;33m(\u001b[0m\u001b[0mshape\u001b[0m\u001b[1;33m)\u001b[0m\u001b[1;33m)\u001b[0m\u001b[1;33m\u001b[0m\u001b[1;33m\u001b[0m\u001b[0m\n\u001b[0m\u001b[0;32m    798\u001b[0m \u001b[1;33m\u001b[0m\u001b[0m\n\u001b[0;32m    799\u001b[0m \u001b[1;33m\u001b[0m\u001b[0m\n",
      "\u001b[1;31mValueError\u001b[0m: bad input shape (6, 5)"
     ]
    }
   ],
   "source": [
    "le.inverse_transform(predictions)"
   ]
  },
  {
   "cell_type": "code",
   "execution_count": 24,
   "metadata": {},
   "outputs": [],
   "source": [
    "result = pd.concat([df, y_onehot], axis=1, join_axes=[df.index])\n"
   ]
  },
  {
   "cell_type": "code",
   "execution_count": 25,
   "metadata": {
    "scrolled": true
   },
   "outputs": [
    {
     "data": {
      "text/html": [
       "<div>\n",
       "<style scoped>\n",
       "    .dataframe tbody tr th:only-of-type {\n",
       "        vertical-align: middle;\n",
       "    }\n",
       "\n",
       "    .dataframe tbody tr th {\n",
       "        vertical-align: top;\n",
       "    }\n",
       "\n",
       "    .dataframe thead th {\n",
       "        text-align: right;\n",
       "    }\n",
       "</style>\n",
       "<table border=\"1\" class=\"dataframe\">\n",
       "  <thead>\n",
       "    <tr style=\"text-align: right;\">\n",
       "      <th></th>\n",
       "      <th>cosine_y</th>\n",
       "      <th>query</th>\n",
       "      <th>numWordsQuery</th>\n",
       "      <th>numWordsCV</th>\n",
       "      <th>numCommonWords</th>\n",
       "      <th>score</th>\n",
       "      <th>y1</th>\n",
       "      <th>y2</th>\n",
       "      <th>y3</th>\n",
       "      <th>y4</th>\n",
       "      <th>y5</th>\n",
       "    </tr>\n",
       "  </thead>\n",
       "  <tbody>\n",
       "    <tr>\n",
       "      <th>0</th>\n",
       "      <td>0.363</td>\n",
       "      <td>72</td>\n",
       "      <td>7</td>\n",
       "      <td>2435</td>\n",
       "      <td>1</td>\n",
       "      <td>3</td>\n",
       "      <td>0.0</td>\n",
       "      <td>0.0</td>\n",
       "      <td>1.0</td>\n",
       "      <td>0.0</td>\n",
       "      <td>0.0</td>\n",
       "    </tr>\n",
       "    <tr>\n",
       "      <th>1</th>\n",
       "      <td>0.483</td>\n",
       "      <td>71</td>\n",
       "      <td>10</td>\n",
       "      <td>619</td>\n",
       "      <td>3</td>\n",
       "      <td>3</td>\n",
       "      <td>0.0</td>\n",
       "      <td>0.0</td>\n",
       "      <td>1.0</td>\n",
       "      <td>0.0</td>\n",
       "      <td>0.0</td>\n",
       "    </tr>\n",
       "    <tr>\n",
       "      <th>2</th>\n",
       "      <td>0.474</td>\n",
       "      <td>71</td>\n",
       "      <td>10</td>\n",
       "      <td>977</td>\n",
       "      <td>3</td>\n",
       "      <td>1</td>\n",
       "      <td>1.0</td>\n",
       "      <td>0.0</td>\n",
       "      <td>0.0</td>\n",
       "      <td>0.0</td>\n",
       "      <td>0.0</td>\n",
       "    </tr>\n",
       "    <tr>\n",
       "      <th>3</th>\n",
       "      <td>0.358</td>\n",
       "      <td>70</td>\n",
       "      <td>2</td>\n",
       "      <td>8796</td>\n",
       "      <td>1</td>\n",
       "      <td>3</td>\n",
       "      <td>0.0</td>\n",
       "      <td>0.0</td>\n",
       "      <td>1.0</td>\n",
       "      <td>0.0</td>\n",
       "      <td>0.0</td>\n",
       "    </tr>\n",
       "    <tr>\n",
       "      <th>4</th>\n",
       "      <td>0.358</td>\n",
       "      <td>70</td>\n",
       "      <td>2</td>\n",
       "      <td>2558</td>\n",
       "      <td>1</td>\n",
       "      <td>1</td>\n",
       "      <td>1.0</td>\n",
       "      <td>0.0</td>\n",
       "      <td>0.0</td>\n",
       "      <td>0.0</td>\n",
       "      <td>0.0</td>\n",
       "    </tr>\n",
       "    <tr>\n",
       "      <th>5</th>\n",
       "      <td>0.358</td>\n",
       "      <td>70</td>\n",
       "      <td>2</td>\n",
       "      <td>5347</td>\n",
       "      <td>1</td>\n",
       "      <td>4</td>\n",
       "      <td>0.0</td>\n",
       "      <td>0.0</td>\n",
       "      <td>0.0</td>\n",
       "      <td>1.0</td>\n",
       "      <td>0.0</td>\n",
       "    </tr>\n",
       "    <tr>\n",
       "      <th>6</th>\n",
       "      <td>0.358</td>\n",
       "      <td>70</td>\n",
       "      <td>2</td>\n",
       "      <td>4479</td>\n",
       "      <td>1</td>\n",
       "      <td>5</td>\n",
       "      <td>0.0</td>\n",
       "      <td>0.0</td>\n",
       "      <td>0.0</td>\n",
       "      <td>0.0</td>\n",
       "      <td>1.0</td>\n",
       "    </tr>\n",
       "    <tr>\n",
       "      <th>7</th>\n",
       "      <td>0.358</td>\n",
       "      <td>70</td>\n",
       "      <td>2</td>\n",
       "      <td>4723</td>\n",
       "      <td>1</td>\n",
       "      <td>5</td>\n",
       "      <td>0.0</td>\n",
       "      <td>0.0</td>\n",
       "      <td>0.0</td>\n",
       "      <td>0.0</td>\n",
       "      <td>1.0</td>\n",
       "    </tr>\n",
       "    <tr>\n",
       "      <th>8</th>\n",
       "      <td>0.358</td>\n",
       "      <td>70</td>\n",
       "      <td>2</td>\n",
       "      <td>3021</td>\n",
       "      <td>1</td>\n",
       "      <td>4</td>\n",
       "      <td>0.0</td>\n",
       "      <td>0.0</td>\n",
       "      <td>0.0</td>\n",
       "      <td>1.0</td>\n",
       "      <td>0.0</td>\n",
       "    </tr>\n",
       "    <tr>\n",
       "      <th>9</th>\n",
       "      <td>0.357</td>\n",
       "      <td>70</td>\n",
       "      <td>2</td>\n",
       "      <td>2965</td>\n",
       "      <td>1</td>\n",
       "      <td>4</td>\n",
       "      <td>0.0</td>\n",
       "      <td>0.0</td>\n",
       "      <td>0.0</td>\n",
       "      <td>1.0</td>\n",
       "      <td>0.0</td>\n",
       "    </tr>\n",
       "    <tr>\n",
       "      <th>10</th>\n",
       "      <td>0.357</td>\n",
       "      <td>70</td>\n",
       "      <td>2</td>\n",
       "      <td>2965</td>\n",
       "      <td>1</td>\n",
       "      <td>5</td>\n",
       "      <td>0.0</td>\n",
       "      <td>0.0</td>\n",
       "      <td>0.0</td>\n",
       "      <td>0.0</td>\n",
       "      <td>1.0</td>\n",
       "    </tr>\n",
       "    <tr>\n",
       "      <th>11</th>\n",
       "      <td>0.357</td>\n",
       "      <td>70</td>\n",
       "      <td>2</td>\n",
       "      <td>3035</td>\n",
       "      <td>1</td>\n",
       "      <td>4</td>\n",
       "      <td>0.0</td>\n",
       "      <td>0.0</td>\n",
       "      <td>0.0</td>\n",
       "      <td>1.0</td>\n",
       "      <td>0.0</td>\n",
       "    </tr>\n",
       "    <tr>\n",
       "      <th>12</th>\n",
       "      <td>0.356</td>\n",
       "      <td>70</td>\n",
       "      <td>2</td>\n",
       "      <td>5618</td>\n",
       "      <td>1</td>\n",
       "      <td>1</td>\n",
       "      <td>1.0</td>\n",
       "      <td>0.0</td>\n",
       "      <td>0.0</td>\n",
       "      <td>0.0</td>\n",
       "      <td>0.0</td>\n",
       "    </tr>\n",
       "    <tr>\n",
       "      <th>13</th>\n",
       "      <td>0.356</td>\n",
       "      <td>70</td>\n",
       "      <td>2</td>\n",
       "      <td>4729</td>\n",
       "      <td>1</td>\n",
       "      <td>1</td>\n",
       "      <td>1.0</td>\n",
       "      <td>0.0</td>\n",
       "      <td>0.0</td>\n",
       "      <td>0.0</td>\n",
       "      <td>0.0</td>\n",
       "    </tr>\n",
       "    <tr>\n",
       "      <th>14</th>\n",
       "      <td>0.399</td>\n",
       "      <td>69</td>\n",
       "      <td>2</td>\n",
       "      <td>2850</td>\n",
       "      <td>0</td>\n",
       "      <td>1</td>\n",
       "      <td>1.0</td>\n",
       "      <td>0.0</td>\n",
       "      <td>0.0</td>\n",
       "      <td>0.0</td>\n",
       "      <td>0.0</td>\n",
       "    </tr>\n",
       "    <tr>\n",
       "      <th>15</th>\n",
       "      <td>0.398</td>\n",
       "      <td>69</td>\n",
       "      <td>2</td>\n",
       "      <td>2466</td>\n",
       "      <td>0</td>\n",
       "      <td>1</td>\n",
       "      <td>1.0</td>\n",
       "      <td>0.0</td>\n",
       "      <td>0.0</td>\n",
       "      <td>0.0</td>\n",
       "      <td>0.0</td>\n",
       "    </tr>\n",
       "    <tr>\n",
       "      <th>16</th>\n",
       "      <td>0.396</td>\n",
       "      <td>69</td>\n",
       "      <td>2</td>\n",
       "      <td>3459</td>\n",
       "      <td>0</td>\n",
       "      <td>1</td>\n",
       "      <td>1.0</td>\n",
       "      <td>0.0</td>\n",
       "      <td>0.0</td>\n",
       "      <td>0.0</td>\n",
       "      <td>0.0</td>\n",
       "    </tr>\n",
       "    <tr>\n",
       "      <th>17</th>\n",
       "      <td>0.396</td>\n",
       "      <td>69</td>\n",
       "      <td>2</td>\n",
       "      <td>3459</td>\n",
       "      <td>0</td>\n",
       "      <td>3</td>\n",
       "      <td>0.0</td>\n",
       "      <td>0.0</td>\n",
       "      <td>1.0</td>\n",
       "      <td>0.0</td>\n",
       "      <td>0.0</td>\n",
       "    </tr>\n",
       "    <tr>\n",
       "      <th>18</th>\n",
       "      <td>0.383</td>\n",
       "      <td>69</td>\n",
       "      <td>2</td>\n",
       "      <td>5694</td>\n",
       "      <td>0</td>\n",
       "      <td>1</td>\n",
       "      <td>1.0</td>\n",
       "      <td>0.0</td>\n",
       "      <td>0.0</td>\n",
       "      <td>0.0</td>\n",
       "      <td>0.0</td>\n",
       "    </tr>\n",
       "    <tr>\n",
       "      <th>19</th>\n",
       "      <td>0.379</td>\n",
       "      <td>69</td>\n",
       "      <td>2</td>\n",
       "      <td>2748</td>\n",
       "      <td>0</td>\n",
       "      <td>1</td>\n",
       "      <td>1.0</td>\n",
       "      <td>0.0</td>\n",
       "      <td>0.0</td>\n",
       "      <td>0.0</td>\n",
       "      <td>0.0</td>\n",
       "    </tr>\n",
       "    <tr>\n",
       "      <th>20</th>\n",
       "      <td>0.378</td>\n",
       "      <td>69</td>\n",
       "      <td>2</td>\n",
       "      <td>1005</td>\n",
       "      <td>0</td>\n",
       "      <td>3</td>\n",
       "      <td>0.0</td>\n",
       "      <td>0.0</td>\n",
       "      <td>1.0</td>\n",
       "      <td>0.0</td>\n",
       "      <td>0.0</td>\n",
       "    </tr>\n",
       "    <tr>\n",
       "      <th>21</th>\n",
       "      <td>0.373</td>\n",
       "      <td>69</td>\n",
       "      <td>2</td>\n",
       "      <td>2172</td>\n",
       "      <td>0</td>\n",
       "      <td>1</td>\n",
       "      <td>1.0</td>\n",
       "      <td>0.0</td>\n",
       "      <td>0.0</td>\n",
       "      <td>0.0</td>\n",
       "      <td>0.0</td>\n",
       "    </tr>\n",
       "    <tr>\n",
       "      <th>22</th>\n",
       "      <td>0.365</td>\n",
       "      <td>69</td>\n",
       "      <td>2</td>\n",
       "      <td>2683</td>\n",
       "      <td>0</td>\n",
       "      <td>4</td>\n",
       "      <td>0.0</td>\n",
       "      <td>0.0</td>\n",
       "      <td>0.0</td>\n",
       "      <td>1.0</td>\n",
       "      <td>0.0</td>\n",
       "    </tr>\n",
       "    <tr>\n",
       "      <th>23</th>\n",
       "      <td>0.365</td>\n",
       "      <td>69</td>\n",
       "      <td>2</td>\n",
       "      <td>2683</td>\n",
       "      <td>0</td>\n",
       "      <td>3</td>\n",
       "      <td>0.0</td>\n",
       "      <td>0.0</td>\n",
       "      <td>1.0</td>\n",
       "      <td>0.0</td>\n",
       "      <td>0.0</td>\n",
       "    </tr>\n",
       "    <tr>\n",
       "      <th>24</th>\n",
       "      <td>0.359</td>\n",
       "      <td>69</td>\n",
       "      <td>2</td>\n",
       "      <td>5088</td>\n",
       "      <td>0</td>\n",
       "      <td>4</td>\n",
       "      <td>0.0</td>\n",
       "      <td>0.0</td>\n",
       "      <td>0.0</td>\n",
       "      <td>1.0</td>\n",
       "      <td>0.0</td>\n",
       "    </tr>\n",
       "    <tr>\n",
       "      <th>25</th>\n",
       "      <td>0.355</td>\n",
       "      <td>69</td>\n",
       "      <td>2</td>\n",
       "      <td>3632</td>\n",
       "      <td>0</td>\n",
       "      <td>1</td>\n",
       "      <td>1.0</td>\n",
       "      <td>0.0</td>\n",
       "      <td>0.0</td>\n",
       "      <td>0.0</td>\n",
       "      <td>0.0</td>\n",
       "    </tr>\n",
       "    <tr>\n",
       "      <th>26</th>\n",
       "      <td>0.355</td>\n",
       "      <td>69</td>\n",
       "      <td>2</td>\n",
       "      <td>3632</td>\n",
       "      <td>0</td>\n",
       "      <td>3</td>\n",
       "      <td>0.0</td>\n",
       "      <td>0.0</td>\n",
       "      <td>1.0</td>\n",
       "      <td>0.0</td>\n",
       "      <td>0.0</td>\n",
       "    </tr>\n",
       "    <tr>\n",
       "      <th>27</th>\n",
       "      <td>0.411</td>\n",
       "      <td>68</td>\n",
       "      <td>3</td>\n",
       "      <td>1199</td>\n",
       "      <td>0</td>\n",
       "      <td>5</td>\n",
       "      <td>0.0</td>\n",
       "      <td>0.0</td>\n",
       "      <td>0.0</td>\n",
       "      <td>0.0</td>\n",
       "      <td>1.0</td>\n",
       "    </tr>\n",
       "    <tr>\n",
       "      <th>28</th>\n",
       "      <td>0.406</td>\n",
       "      <td>68</td>\n",
       "      <td>3</td>\n",
       "      <td>1498</td>\n",
       "      <td>0</td>\n",
       "      <td>1</td>\n",
       "      <td>1.0</td>\n",
       "      <td>0.0</td>\n",
       "      <td>0.0</td>\n",
       "      <td>0.0</td>\n",
       "      <td>0.0</td>\n",
       "    </tr>\n",
       "    <tr>\n",
       "      <th>29</th>\n",
       "      <td>0.404</td>\n",
       "      <td>68</td>\n",
       "      <td>3</td>\n",
       "      <td>997</td>\n",
       "      <td>0</td>\n",
       "      <td>1</td>\n",
       "      <td>1.0</td>\n",
       "      <td>0.0</td>\n",
       "      <td>0.0</td>\n",
       "      <td>0.0</td>\n",
       "      <td>0.0</td>\n",
       "    </tr>\n",
       "    <tr>\n",
       "      <th>...</th>\n",
       "      <td>...</td>\n",
       "      <td>...</td>\n",
       "      <td>...</td>\n",
       "      <td>...</td>\n",
       "      <td>...</td>\n",
       "      <td>...</td>\n",
       "      <td>...</td>\n",
       "      <td>...</td>\n",
       "      <td>...</td>\n",
       "      <td>...</td>\n",
       "      <td>...</td>\n",
       "    </tr>\n",
       "    <tr>\n",
       "      <th>160</th>\n",
       "      <td>0.393</td>\n",
       "      <td>9</td>\n",
       "      <td>6</td>\n",
       "      <td>1757</td>\n",
       "      <td>1</td>\n",
       "      <td>5</td>\n",
       "      <td>0.0</td>\n",
       "      <td>0.0</td>\n",
       "      <td>0.0</td>\n",
       "      <td>0.0</td>\n",
       "      <td>1.0</td>\n",
       "    </tr>\n",
       "    <tr>\n",
       "      <th>161</th>\n",
       "      <td>0.358</td>\n",
       "      <td>8</td>\n",
       "      <td>6</td>\n",
       "      <td>1658</td>\n",
       "      <td>1</td>\n",
       "      <td>3</td>\n",
       "      <td>0.0</td>\n",
       "      <td>0.0</td>\n",
       "      <td>0.0</td>\n",
       "      <td>0.0</td>\n",
       "      <td>1.0</td>\n",
       "    </tr>\n",
       "    <tr>\n",
       "      <th>162</th>\n",
       "      <td>0.358</td>\n",
       "      <td>8</td>\n",
       "      <td>6</td>\n",
       "      <td>2467</td>\n",
       "      <td>1</td>\n",
       "      <td>3</td>\n",
       "      <td>0.0</td>\n",
       "      <td>0.0</td>\n",
       "      <td>1.0</td>\n",
       "      <td>0.0</td>\n",
       "      <td>0.0</td>\n",
       "    </tr>\n",
       "    <tr>\n",
       "      <th>163</th>\n",
       "      <td>0.358</td>\n",
       "      <td>8</td>\n",
       "      <td>6</td>\n",
       "      <td>8796</td>\n",
       "      <td>1</td>\n",
       "      <td>4</td>\n",
       "      <td>1.0</td>\n",
       "      <td>0.0</td>\n",
       "      <td>0.0</td>\n",
       "      <td>0.0</td>\n",
       "      <td>0.0</td>\n",
       "    </tr>\n",
       "    <tr>\n",
       "      <th>164</th>\n",
       "      <td>0.357</td>\n",
       "      <td>8</td>\n",
       "      <td>6</td>\n",
       "      <td>3999</td>\n",
       "      <td>1</td>\n",
       "      <td>4</td>\n",
       "      <td>0.0</td>\n",
       "      <td>0.0</td>\n",
       "      <td>0.0</td>\n",
       "      <td>0.0</td>\n",
       "      <td>1.0</td>\n",
       "    </tr>\n",
       "    <tr>\n",
       "      <th>165</th>\n",
       "      <td>0.357</td>\n",
       "      <td>8</td>\n",
       "      <td>6</td>\n",
       "      <td>915</td>\n",
       "      <td>1</td>\n",
       "      <td>3</td>\n",
       "      <td>1.0</td>\n",
       "      <td>0.0</td>\n",
       "      <td>0.0</td>\n",
       "      <td>0.0</td>\n",
       "      <td>0.0</td>\n",
       "    </tr>\n",
       "    <tr>\n",
       "      <th>166</th>\n",
       "      <td>0.357</td>\n",
       "      <td>8</td>\n",
       "      <td>6</td>\n",
       "      <td>3275</td>\n",
       "      <td>1</td>\n",
       "      <td>4</td>\n",
       "      <td>0.0</td>\n",
       "      <td>1.0</td>\n",
       "      <td>0.0</td>\n",
       "      <td>0.0</td>\n",
       "      <td>0.0</td>\n",
       "    </tr>\n",
       "    <tr>\n",
       "      <th>167</th>\n",
       "      <td>0.357</td>\n",
       "      <td>8</td>\n",
       "      <td>6</td>\n",
       "      <td>1474</td>\n",
       "      <td>1</td>\n",
       "      <td>5</td>\n",
       "      <td>1.0</td>\n",
       "      <td>0.0</td>\n",
       "      <td>0.0</td>\n",
       "      <td>0.0</td>\n",
       "      <td>0.0</td>\n",
       "    </tr>\n",
       "    <tr>\n",
       "      <th>168</th>\n",
       "      <td>0.357</td>\n",
       "      <td>8</td>\n",
       "      <td>6</td>\n",
       "      <td>210</td>\n",
       "      <td>1</td>\n",
       "      <td>4</td>\n",
       "      <td>1.0</td>\n",
       "      <td>0.0</td>\n",
       "      <td>0.0</td>\n",
       "      <td>0.0</td>\n",
       "      <td>0.0</td>\n",
       "    </tr>\n",
       "    <tr>\n",
       "      <th>169</th>\n",
       "      <td>0.356</td>\n",
       "      <td>8</td>\n",
       "      <td>6</td>\n",
       "      <td>1767</td>\n",
       "      <td>1</td>\n",
       "      <td>3</td>\n",
       "      <td>1.0</td>\n",
       "      <td>0.0</td>\n",
       "      <td>0.0</td>\n",
       "      <td>0.0</td>\n",
       "      <td>0.0</td>\n",
       "    </tr>\n",
       "    <tr>\n",
       "      <th>170</th>\n",
       "      <td>0.356</td>\n",
       "      <td>8</td>\n",
       "      <td>6</td>\n",
       "      <td>5618</td>\n",
       "      <td>1</td>\n",
       "      <td>3</td>\n",
       "      <td>1.0</td>\n",
       "      <td>0.0</td>\n",
       "      <td>0.0</td>\n",
       "      <td>0.0</td>\n",
       "      <td>0.0</td>\n",
       "    </tr>\n",
       "    <tr>\n",
       "      <th>171</th>\n",
       "      <td>0.419</td>\n",
       "      <td>7</td>\n",
       "      <td>10</td>\n",
       "      <td>2076</td>\n",
       "      <td>2</td>\n",
       "      <td>5</td>\n",
       "      <td>1.0</td>\n",
       "      <td>0.0</td>\n",
       "      <td>0.0</td>\n",
       "      <td>0.0</td>\n",
       "      <td>0.0</td>\n",
       "    </tr>\n",
       "    <tr>\n",
       "      <th>172</th>\n",
       "      <td>0.358</td>\n",
       "      <td>7</td>\n",
       "      <td>10</td>\n",
       "      <td>3702</td>\n",
       "      <td>2</td>\n",
       "      <td>4</td>\n",
       "      <td>0.0</td>\n",
       "      <td>1.0</td>\n",
       "      <td>0.0</td>\n",
       "      <td>0.0</td>\n",
       "      <td>0.0</td>\n",
       "    </tr>\n",
       "    <tr>\n",
       "      <th>173</th>\n",
       "      <td>0.352</td>\n",
       "      <td>7</td>\n",
       "      <td>10</td>\n",
       "      <td>1959</td>\n",
       "      <td>2</td>\n",
       "      <td>4</td>\n",
       "      <td>0.0</td>\n",
       "      <td>0.0</td>\n",
       "      <td>1.0</td>\n",
       "      <td>0.0</td>\n",
       "      <td>0.0</td>\n",
       "    </tr>\n",
       "    <tr>\n",
       "      <th>174</th>\n",
       "      <td>0.352</td>\n",
       "      <td>7</td>\n",
       "      <td>10</td>\n",
       "      <td>1843</td>\n",
       "      <td>2</td>\n",
       "      <td>2</td>\n",
       "      <td>0.0</td>\n",
       "      <td>0.0</td>\n",
       "      <td>0.0</td>\n",
       "      <td>0.0</td>\n",
       "      <td>1.0</td>\n",
       "    </tr>\n",
       "    <tr>\n",
       "      <th>175</th>\n",
       "      <td>0.352</td>\n",
       "      <td>7</td>\n",
       "      <td>10</td>\n",
       "      <td>5253</td>\n",
       "      <td>2</td>\n",
       "      <td>2</td>\n",
       "      <td>0.0</td>\n",
       "      <td>0.0</td>\n",
       "      <td>1.0</td>\n",
       "      <td>0.0</td>\n",
       "      <td>0.0</td>\n",
       "    </tr>\n",
       "    <tr>\n",
       "      <th>176</th>\n",
       "      <td>0.351</td>\n",
       "      <td>7</td>\n",
       "      <td>10</td>\n",
       "      <td>3107</td>\n",
       "      <td>2</td>\n",
       "      <td>2</td>\n",
       "      <td>0.0</td>\n",
       "      <td>0.0</td>\n",
       "      <td>1.0</td>\n",
       "      <td>0.0</td>\n",
       "      <td>0.0</td>\n",
       "    </tr>\n",
       "    <tr>\n",
       "      <th>177</th>\n",
       "      <td>0.351</td>\n",
       "      <td>7</td>\n",
       "      <td>10</td>\n",
       "      <td>2229</td>\n",
       "      <td>2</td>\n",
       "      <td>4</td>\n",
       "      <td>1.0</td>\n",
       "      <td>0.0</td>\n",
       "      <td>0.0</td>\n",
       "      <td>0.0</td>\n",
       "      <td>0.0</td>\n",
       "    </tr>\n",
       "    <tr>\n",
       "      <th>178</th>\n",
       "      <td>0.351</td>\n",
       "      <td>7</td>\n",
       "      <td>10</td>\n",
       "      <td>2178</td>\n",
       "      <td>2</td>\n",
       "      <td>2</td>\n",
       "      <td>0.0</td>\n",
       "      <td>0.0</td>\n",
       "      <td>0.0</td>\n",
       "      <td>1.0</td>\n",
       "      <td>0.0</td>\n",
       "    </tr>\n",
       "    <tr>\n",
       "      <th>179</th>\n",
       "      <td>0.357</td>\n",
       "      <td>6</td>\n",
       "      <td>8</td>\n",
       "      <td>203</td>\n",
       "      <td>1</td>\n",
       "      <td>3</td>\n",
       "      <td>0.0</td>\n",
       "      <td>0.0</td>\n",
       "      <td>0.0</td>\n",
       "      <td>0.0</td>\n",
       "      <td>1.0</td>\n",
       "    </tr>\n",
       "    <tr>\n",
       "      <th>180</th>\n",
       "      <td>0.351</td>\n",
       "      <td>6</td>\n",
       "      <td>8</td>\n",
       "      <td>299</td>\n",
       "      <td>1</td>\n",
       "      <td>1</td>\n",
       "      <td>0.0</td>\n",
       "      <td>0.0</td>\n",
       "      <td>0.0</td>\n",
       "      <td>0.0</td>\n",
       "      <td>1.0</td>\n",
       "    </tr>\n",
       "    <tr>\n",
       "      <th>181</th>\n",
       "      <td>0.350</td>\n",
       "      <td>6</td>\n",
       "      <td>8</td>\n",
       "      <td>0</td>\n",
       "      <td>1</td>\n",
       "      <td>1</td>\n",
       "      <td>0.0</td>\n",
       "      <td>0.0</td>\n",
       "      <td>0.0</td>\n",
       "      <td>0.0</td>\n",
       "      <td>1.0</td>\n",
       "    </tr>\n",
       "    <tr>\n",
       "      <th>182</th>\n",
       "      <td>0.350</td>\n",
       "      <td>6</td>\n",
       "      <td>8</td>\n",
       "      <td>0</td>\n",
       "      <td>1</td>\n",
       "      <td>1</td>\n",
       "      <td>0.0</td>\n",
       "      <td>0.0</td>\n",
       "      <td>0.0</td>\n",
       "      <td>0.0</td>\n",
       "      <td>1.0</td>\n",
       "    </tr>\n",
       "    <tr>\n",
       "      <th>183</th>\n",
       "      <td>0.392</td>\n",
       "      <td>5</td>\n",
       "      <td>7</td>\n",
       "      <td>1199</td>\n",
       "      <td>2</td>\n",
       "      <td>4</td>\n",
       "      <td>1.0</td>\n",
       "      <td>0.0</td>\n",
       "      <td>0.0</td>\n",
       "      <td>0.0</td>\n",
       "      <td>0.0</td>\n",
       "    </tr>\n",
       "    <tr>\n",
       "      <th>184</th>\n",
       "      <td>0.389</td>\n",
       "      <td>5</td>\n",
       "      <td>7</td>\n",
       "      <td>1498</td>\n",
       "      <td>2</td>\n",
       "      <td>4</td>\n",
       "      <td>0.0</td>\n",
       "      <td>1.0</td>\n",
       "      <td>0.0</td>\n",
       "      <td>0.0</td>\n",
       "      <td>0.0</td>\n",
       "    </tr>\n",
       "    <tr>\n",
       "      <th>185</th>\n",
       "      <td>0.387</td>\n",
       "      <td>5</td>\n",
       "      <td>7</td>\n",
       "      <td>997</td>\n",
       "      <td>2</td>\n",
       "      <td>2</td>\n",
       "      <td>0.0</td>\n",
       "      <td>1.0</td>\n",
       "      <td>0.0</td>\n",
       "      <td>0.0</td>\n",
       "      <td>0.0</td>\n",
       "    </tr>\n",
       "    <tr>\n",
       "      <th>186</th>\n",
       "      <td>0.385</td>\n",
       "      <td>5</td>\n",
       "      <td>7</td>\n",
       "      <td>901</td>\n",
       "      <td>2</td>\n",
       "      <td>2</td>\n",
       "      <td>0.0</td>\n",
       "      <td>0.0</td>\n",
       "      <td>0.0</td>\n",
       "      <td>0.0</td>\n",
       "      <td>1.0</td>\n",
       "    </tr>\n",
       "    <tr>\n",
       "      <th>187</th>\n",
       "      <td>0.385</td>\n",
       "      <td>5</td>\n",
       "      <td>7</td>\n",
       "      <td>901</td>\n",
       "      <td>2</td>\n",
       "      <td>3</td>\n",
       "      <td>0.0</td>\n",
       "      <td>1.0</td>\n",
       "      <td>0.0</td>\n",
       "      <td>0.0</td>\n",
       "      <td>0.0</td>\n",
       "    </tr>\n",
       "    <tr>\n",
       "      <th>188</th>\n",
       "      <td>0.384</td>\n",
       "      <td>5</td>\n",
       "      <td>7</td>\n",
       "      <td>900</td>\n",
       "      <td>2</td>\n",
       "      <td>3</td>\n",
       "      <td>0.0</td>\n",
       "      <td>0.0</td>\n",
       "      <td>0.0</td>\n",
       "      <td>0.0</td>\n",
       "      <td>1.0</td>\n",
       "    </tr>\n",
       "    <tr>\n",
       "      <th>189</th>\n",
       "      <td>0.384</td>\n",
       "      <td>5</td>\n",
       "      <td>7</td>\n",
       "      <td>900</td>\n",
       "      <td>2</td>\n",
       "      <td>4</td>\n",
       "      <td>0.0</td>\n",
       "      <td>0.0</td>\n",
       "      <td>0.0</td>\n",
       "      <td>0.0</td>\n",
       "      <td>1.0</td>\n",
       "    </tr>\n",
       "  </tbody>\n",
       "</table>\n",
       "<p>563 rows × 11 columns</p>\n",
       "</div>"
      ],
      "text/plain": [
       "     cosine_y  query  numWordsQuery  numWordsCV  numCommonWords  score   y1  \\\n",
       "0       0.363     72              7        2435               1      3  0.0   \n",
       "1       0.483     71             10         619               3      3  0.0   \n",
       "2       0.474     71             10         977               3      1  1.0   \n",
       "3       0.358     70              2        8796               1      3  0.0   \n",
       "4       0.358     70              2        2558               1      1  1.0   \n",
       "5       0.358     70              2        5347               1      4  0.0   \n",
       "6       0.358     70              2        4479               1      5  0.0   \n",
       "7       0.358     70              2        4723               1      5  0.0   \n",
       "8       0.358     70              2        3021               1      4  0.0   \n",
       "9       0.357     70              2        2965               1      4  0.0   \n",
       "10      0.357     70              2        2965               1      5  0.0   \n",
       "11      0.357     70              2        3035               1      4  0.0   \n",
       "12      0.356     70              2        5618               1      1  1.0   \n",
       "13      0.356     70              2        4729               1      1  1.0   \n",
       "14      0.399     69              2        2850               0      1  1.0   \n",
       "15      0.398     69              2        2466               0      1  1.0   \n",
       "16      0.396     69              2        3459               0      1  1.0   \n",
       "17      0.396     69              2        3459               0      3  0.0   \n",
       "18      0.383     69              2        5694               0      1  1.0   \n",
       "19      0.379     69              2        2748               0      1  1.0   \n",
       "20      0.378     69              2        1005               0      3  0.0   \n",
       "21      0.373     69              2        2172               0      1  1.0   \n",
       "22      0.365     69              2        2683               0      4  0.0   \n",
       "23      0.365     69              2        2683               0      3  0.0   \n",
       "24      0.359     69              2        5088               0      4  0.0   \n",
       "25      0.355     69              2        3632               0      1  1.0   \n",
       "26      0.355     69              2        3632               0      3  0.0   \n",
       "27      0.411     68              3        1199               0      5  0.0   \n",
       "28      0.406     68              3        1498               0      1  1.0   \n",
       "29      0.404     68              3         997               0      1  1.0   \n",
       "..        ...    ...            ...         ...             ...    ...  ...   \n",
       "160     0.393      9              6        1757               1      5  0.0   \n",
       "161     0.358      8              6        1658               1      3  0.0   \n",
       "162     0.358      8              6        2467               1      3  0.0   \n",
       "163     0.358      8              6        8796               1      4  1.0   \n",
       "164     0.357      8              6        3999               1      4  0.0   \n",
       "165     0.357      8              6         915               1      3  1.0   \n",
       "166     0.357      8              6        3275               1      4  0.0   \n",
       "167     0.357      8              6        1474               1      5  1.0   \n",
       "168     0.357      8              6         210               1      4  1.0   \n",
       "169     0.356      8              6        1767               1      3  1.0   \n",
       "170     0.356      8              6        5618               1      3  1.0   \n",
       "171     0.419      7             10        2076               2      5  1.0   \n",
       "172     0.358      7             10        3702               2      4  0.0   \n",
       "173     0.352      7             10        1959               2      4  0.0   \n",
       "174     0.352      7             10        1843               2      2  0.0   \n",
       "175     0.352      7             10        5253               2      2  0.0   \n",
       "176     0.351      7             10        3107               2      2  0.0   \n",
       "177     0.351      7             10        2229               2      4  1.0   \n",
       "178     0.351      7             10        2178               2      2  0.0   \n",
       "179     0.357      6              8         203               1      3  0.0   \n",
       "180     0.351      6              8         299               1      1  0.0   \n",
       "181     0.350      6              8           0               1      1  0.0   \n",
       "182     0.350      6              8           0               1      1  0.0   \n",
       "183     0.392      5              7        1199               2      4  1.0   \n",
       "184     0.389      5              7        1498               2      4  0.0   \n",
       "185     0.387      5              7         997               2      2  0.0   \n",
       "186     0.385      5              7         901               2      2  0.0   \n",
       "187     0.385      5              7         901               2      3  0.0   \n",
       "188     0.384      5              7         900               2      3  0.0   \n",
       "189     0.384      5              7         900               2      4  0.0   \n",
       "\n",
       "      y2   y3   y4   y5  \n",
       "0    0.0  1.0  0.0  0.0  \n",
       "1    0.0  1.0  0.0  0.0  \n",
       "2    0.0  0.0  0.0  0.0  \n",
       "3    0.0  1.0  0.0  0.0  \n",
       "4    0.0  0.0  0.0  0.0  \n",
       "5    0.0  0.0  1.0  0.0  \n",
       "6    0.0  0.0  0.0  1.0  \n",
       "7    0.0  0.0  0.0  1.0  \n",
       "8    0.0  0.0  1.0  0.0  \n",
       "9    0.0  0.0  1.0  0.0  \n",
       "10   0.0  0.0  0.0  1.0  \n",
       "11   0.0  0.0  1.0  0.0  \n",
       "12   0.0  0.0  0.0  0.0  \n",
       "13   0.0  0.0  0.0  0.0  \n",
       "14   0.0  0.0  0.0  0.0  \n",
       "15   0.0  0.0  0.0  0.0  \n",
       "16   0.0  0.0  0.0  0.0  \n",
       "17   0.0  1.0  0.0  0.0  \n",
       "18   0.0  0.0  0.0  0.0  \n",
       "19   0.0  0.0  0.0  0.0  \n",
       "20   0.0  1.0  0.0  0.0  \n",
       "21   0.0  0.0  0.0  0.0  \n",
       "22   0.0  0.0  1.0  0.0  \n",
       "23   0.0  1.0  0.0  0.0  \n",
       "24   0.0  0.0  1.0  0.0  \n",
       "25   0.0  0.0  0.0  0.0  \n",
       "26   0.0  1.0  0.0  0.0  \n",
       "27   0.0  0.0  0.0  1.0  \n",
       "28   0.0  0.0  0.0  0.0  \n",
       "29   0.0  0.0  0.0  0.0  \n",
       "..   ...  ...  ...  ...  \n",
       "160  0.0  0.0  0.0  1.0  \n",
       "161  0.0  0.0  0.0  1.0  \n",
       "162  0.0  1.0  0.0  0.0  \n",
       "163  0.0  0.0  0.0  0.0  \n",
       "164  0.0  0.0  0.0  1.0  \n",
       "165  0.0  0.0  0.0  0.0  \n",
       "166  1.0  0.0  0.0  0.0  \n",
       "167  0.0  0.0  0.0  0.0  \n",
       "168  0.0  0.0  0.0  0.0  \n",
       "169  0.0  0.0  0.0  0.0  \n",
       "170  0.0  0.0  0.0  0.0  \n",
       "171  0.0  0.0  0.0  0.0  \n",
       "172  1.0  0.0  0.0  0.0  \n",
       "173  0.0  1.0  0.0  0.0  \n",
       "174  0.0  0.0  0.0  1.0  \n",
       "175  0.0  1.0  0.0  0.0  \n",
       "176  0.0  1.0  0.0  0.0  \n",
       "177  0.0  0.0  0.0  0.0  \n",
       "178  0.0  0.0  1.0  0.0  \n",
       "179  0.0  0.0  0.0  1.0  \n",
       "180  0.0  0.0  0.0  1.0  \n",
       "181  0.0  0.0  0.0  1.0  \n",
       "182  0.0  0.0  0.0  1.0  \n",
       "183  0.0  0.0  0.0  0.0  \n",
       "184  1.0  0.0  0.0  0.0  \n",
       "185  1.0  0.0  0.0  0.0  \n",
       "186  0.0  0.0  0.0  1.0  \n",
       "187  1.0  0.0  0.0  0.0  \n",
       "188  0.0  0.0  0.0  1.0  \n",
       "189  0.0  0.0  0.0  1.0  \n",
       "\n",
       "[563 rows x 11 columns]"
      ]
     },
     "execution_count": 25,
     "metadata": {},
     "output_type": "execute_result"
    }
   ],
   "source": [
    "result"
   ]
  },
  {
   "cell_type": "markdown",
   "metadata": {},
   "source": [
    "# MODELLO FUNziONANTE"
   ]
  },
  {
   "cell_type": "code",
   "execution_count": 362,
   "metadata": {},
   "outputs": [
    {
     "name": "stderr",
     "output_type": "stream",
     "text": [
      "C:\\Users\\giaco\\Anaconda3\\lib\\site-packages\\ipykernel_launcher.py:16: UserWarning: Update your `Dense` call to the Keras 2 API: `Dense(64, input_dim=4, kernel_initializer=\"glorot_normal\")`\n",
      "  app.launch_new_instance()\n",
      "C:\\Users\\giaco\\Anaconda3\\lib\\site-packages\\ipykernel_launcher.py:22: UserWarning: Update your `Dense` call to the Keras 2 API: `Dense(64, kernel_initializer=\"glorot_normal\")`\n",
      "C:\\Users\\giaco\\Anaconda3\\lib\\site-packages\\ipykernel_launcher.py:28: UserWarning: Update your `Dense` call to the Keras 2 API: `Dense(5, kernel_initializer=\"glorot_normal\")`\n"
     ]
    },
    {
     "name": "stdout",
     "output_type": "stream",
     "text": [
      "_________________________________________________________________\n",
      "Layer (type)                 Output Shape              Param #   \n",
      "=================================================================\n",
      "dense_46 (Dense)             (None, 64)                320       \n",
      "_________________________________________________________________\n",
      "batch_normalization_46 (Batc (None, 64)                256       \n",
      "_________________________________________________________________\n",
      "activation_46 (Activation)   (None, 64)                0         \n",
      "_________________________________________________________________\n",
      "dropout_31 (Dropout)         (None, 64)                0         \n",
      "_________________________________________________________________\n",
      "dense_47 (Dense)             (None, 64)                4160      \n",
      "_________________________________________________________________\n",
      "batch_normalization_47 (Batc (None, 64)                256       \n",
      "_________________________________________________________________\n",
      "activation_47 (Activation)   (None, 64)                0         \n",
      "_________________________________________________________________\n",
      "dropout_32 (Dropout)         (None, 64)                0         \n",
      "_________________________________________________________________\n",
      "dense_48 (Dense)             (None, 5)                 325       \n",
      "_________________________________________________________________\n",
      "batch_normalization_48 (Batc (None, 5)                 20        \n",
      "_________________________________________________________________\n",
      "activation_48 (Activation)   (None, 5)                 0         \n",
      "=================================================================\n",
      "Total params: 5,337\n",
      "Trainable params: 5,071\n",
      "Non-trainable params: 266\n",
      "_________________________________________________________________\n"
     ]
    }
   ],
   "source": [
    "# import BatchNormalization\n",
    "from keras.layers.normalization import BatchNormalization\n",
    "from keras.layers import Dropout\n",
    "\n",
    "#custom loss\n",
    "\n",
    "def cross_entropy(y_true,y_pred):\n",
    "    y_true_f = K.flatten(y_true)\n",
    "    y_pred_f = K.flatten(y_pred)\n",
    "    r = -K.sum(K.dot(y_true,K.log(y_pred)))\n",
    "    return r\n",
    "# instantiate model\n",
    "model = Sequential()\n",
    "\n",
    "# we can think of this chunk as the input layer\n",
    "model.add(Dense(64, input_dim=4, init='glorot_normal'))\n",
    "model.add(BatchNormalization())\n",
    "model.add(Activation('relu'))\n",
    "model.add(Dropout(0.5))\n",
    "\n",
    "# we can think of this chunk as the hidden layer    \n",
    "model.add(Dense(64, init='glorot_normal'))\n",
    "model.add(BatchNormalization())\n",
    "model.add(Activation('relu'))\n",
    "model.add(Dropout(0.5))\n",
    "\n",
    "# we can think of this chunk as the output layer\n",
    "model.add(Dense(5, init='glorot_normal'))\n",
    "model.add(BatchNormalization())\n",
    "model.add(Activation('softmax'))\n",
    "\n",
    "model.summary()\n",
    "model.compile(Adam(lr = 0.0001), loss=\"binary_crossentropy\" , metrics=[\"accuracy\"])"
   ]
  },
  {
   "cell_type": "raw",
   "metadata": {},
   "source": [
    "data = \n",
    "values = np.array(data)\n",
    "print(values)\n",
    "values = np.array(data)\n",
    "label_encoder = LabelEncoder()\n",
    "integer_encoded = label_encoder.fit_transform(values)\n",
    "\n",
    "# invert first example\n",
    "inverted = label_encoder.inverse_transform([argmax(predictions[ :])])\n",
    "print(inverted)"
   ]
  },
  {
   "cell_type": "code",
   "execution_count": 321,
   "metadata": {},
   "outputs": [
    {
     "data": {
      "text/plain": [
       "7    5\n",
       "8    4\n",
       "9    4\n",
       "Name: score, dtype: int64"
      ]
     },
     "execution_count": 321,
     "metadata": {},
     "output_type": "execute_result"
    }
   ],
   "source": [
    "df.score[0:10][-3:]"
   ]
  },
  {
   "cell_type": "code",
   "execution_count": 366,
   "metadata": {},
   "outputs": [
    {
     "name": "stdout",
     "output_type": "stream",
     "text": [
      "5 Not enough samples\n",
      "6 Not enough samples\n",
      "7 Not enough samples\n",
      "8 Not enough samples\n",
      "9 Not enough samples\n",
      "10 Not enough samples\n",
      "11 Not enough samples\n",
      "12 Not enough samples\n",
      "11 13\n",
      "shape del test (3, 11)\n",
      "Train on 4 samples, validate on 3 samples\n",
      "Epoch 1/3\n",
      " - 0s - loss: 0.4905 - acc: 0.8000 - val_loss: 6.4121 - val_acc: 0.6000\n",
      "Epoch 2/3\n",
      " - 0s - loss: 0.4905 - acc: 0.8000 - val_loss: 6.4121 - val_acc: 0.6000\n",
      "Epoch 3/3\n",
      " - 0s - loss: 0.4905 - acc: 0.8000 - val_loss: 6.4121 - val_acc: 0.6000\n",
      "Predicted values [[1. 0. 0. 0. 0.]\n",
      " [1. 0. 0. 0. 0.]\n",
      " [1. 0. 0. 0. 0.]]\n",
      "     score\n",
      "133      1\n",
      "134      1\n",
      "135      2\n",
      "[1, 1, 1]\n",
      "metric nDCG: 0.03210727320925551\n",
      "14 Not enough samples\n",
      "15 Not enough samples\n",
      "16 Not enough samples\n",
      "17 Not enough samples\n",
      "12 18\n",
      "shape del test (3, 11)\n",
      "Train on 5 samples, validate on 3 samples\n",
      "Epoch 1/3\n",
      " - 0s - loss: 0.4916 - acc: 0.8000 - val_loss: 6.4121 - val_acc: 0.6000\n",
      "Epoch 2/3\n",
      " - 0s - loss: 0.4915 - acc: 0.8000 - val_loss: 6.4121 - val_acc: 0.6000\n",
      "Epoch 3/3\n",
      " - 0s - loss: 0.4915 - acc: 0.8000 - val_loss: 6.4121 - val_acc: 0.6000\n",
      "Predicted values [[1. 0. 0. 0. 0.]\n",
      " [1. 0. 0. 0. 0.]\n",
      " [1. 0. 0. 0. 0.]]\n",
      "     score\n",
      "103      2\n",
      "104      2\n",
      "105      5\n",
      "[1, 1, 1]\n",
      "metric nDCG: 0.03210727320925551\n",
      "13 19\n",
      "shape del test (3, 11)\n",
      "Train on 6 samples, validate on 3 samples\n",
      "Epoch 1/3\n",
      " - 0s - loss: 0.4801 - acc: 0.8000 - val_loss: 4.2747 - val_acc: 0.7333\n",
      "Epoch 2/3\n",
      " - 0s - loss: 0.4800 - acc: 0.8000 - val_loss: 4.2747 - val_acc: 0.7333\n",
      "Epoch 3/3\n",
      " - 0s - loss: 0.4799 - acc: 0.8000 - val_loss: 4.2747 - val_acc: 0.7333\n",
      "Predicted values [[1. 0. 0. 0. 0.]\n",
      " [1. 0. 0. 0. 0.]\n",
      " [1. 0. 0. 0. 0.]]\n",
      "    score\n",
      "91      2\n",
      "92      2\n",
      "93      2\n",
      "[1, 1, 1]\n",
      "metric nDCG: 0.03210727320925551\n",
      "20 Not enough samples\n",
      "11 21\n",
      "shape del test (3, 11)\n",
      "Train on 4 samples, validate on 3 samples\n",
      "Epoch 1/3\n",
      " - 0s - loss: 0.4970 - acc: 0.8000 - val_loss: 6.4121 - val_acc: 0.6000\n",
      "Epoch 2/3\n",
      " - 0s - loss: 0.4970 - acc: 0.8000 - val_loss: 6.4121 - val_acc: 0.6000\n",
      "Epoch 3/3\n",
      " - 0s - loss: 0.4970 - acc: 0.8000 - val_loss: 6.4121 - val_acc: 0.6000\n",
      "Predicted values [[1. 0. 0. 0. 0.]\n",
      " [1. 0. 0. 0. 0.]\n",
      " [1. 0. 0. 0. 0.]]\n",
      "    score\n",
      "76      1\n",
      "77      3\n",
      "78      3\n",
      "[1, 1, 1]\n",
      "metric nDCG: 0.03210727320925551\n",
      "22 Not enough samples\n",
      "23 Not enough samples\n",
      "12 24\n",
      "shape del test (3, 11)\n",
      "Train on 5 samples, validate on 3 samples\n",
      "Epoch 1/3\n",
      " - 0s - loss: 0.4864 - acc: 0.8000 - val_loss: 2.1374 - val_acc: 0.8667\n",
      "Epoch 2/3\n",
      " - 0s - loss: 0.4864 - acc: 0.8000 - val_loss: 2.1374 - val_acc: 0.8667\n",
      "Epoch 3/3\n",
      " - 0s - loss: 0.4863 - acc: 0.8000 - val_loss: 2.1374 - val_acc: 0.8667\n",
      "Predicted values [[1. 0. 0. 0. 0.]\n",
      " [1. 0. 0. 0. 0.]\n",
      " [1. 0. 0. 0. 0.]]\n",
      "    score\n",
      "57      1\n",
      "58      1\n",
      "59      1\n",
      "[1, 1, 1]\n",
      "metric nDCG: 0.03210727320925551\n",
      "13 25\n",
      "shape del test (3, 11)\n",
      "Train on 6 samples, validate on 3 samples\n",
      "Epoch 1/3\n",
      " - 0s - loss: 0.5101 - acc: 0.8000 - val_loss: 4.2747 - val_acc: 0.7333\n",
      "Epoch 2/3\n",
      " - 0s - loss: 0.5101 - acc: 0.8000 - val_loss: 4.2747 - val_acc: 0.7333\n",
      "Epoch 3/3\n",
      " - 0s - loss: 0.5100 - acc: 0.8000 - val_loss: 4.2747 - val_acc: 0.7333\n",
      "Predicted values [[0. 1. 0. 0. 0.]\n",
      " [1. 0. 0. 0. 0.]\n",
      " [0. 1. 0. 0. 0.]]\n",
      "    score\n",
      "45      3\n",
      "46      2\n",
      "47      3\n",
      "[2, 1, 2]\n",
      "metric nDCG: 0.05470815914558359\n",
      "26 Not enough samples\n",
      "27 Not enough samples\n",
      "28 Not enough samples\n",
      "29 Not enough samples\n",
      "30 Not enough samples\n",
      "31 Not enough samples\n",
      "32 Not enough samples\n",
      "33 Not enough samples\n",
      "11 34\n",
      "shape del test (3, 11)\n",
      "Train on 4 samples, validate on 3 samples\n",
      "Epoch 1/3\n",
      " - 0s - loss: 0.4968 - acc: 0.8000 - val_loss: 6.4121 - val_acc: 0.6000\n",
      "Epoch 2/3\n",
      " - 0s - loss: 0.4968 - acc: 0.8000 - val_loss: 6.4121 - val_acc: 0.6000\n",
      "Epoch 3/3\n",
      " - 0s - loss: 0.4968 - acc: 0.8000 - val_loss: 6.4121 - val_acc: 0.6000\n",
      "Predicted values [[1. 0. 0. 0. 0.]\n",
      " [1. 0. 0. 0. 0.]\n",
      " [1. 0. 0. 0. 0.]]\n",
      "     score\n",
      "340      2\n",
      "341      1\n",
      "342      2\n",
      "[1, 1, 1]\n",
      "metric nDCG: 0.03210727320925551\n",
      "11 35\n",
      "shape del test (3, 11)\n",
      "Train on 4 samples, validate on 3 samples\n",
      "Epoch 1/3\n",
      " - 0s - loss: 0.4753 - acc: 0.8000 - val_loss: 2.1374 - val_acc: 0.8667\n",
      "Epoch 2/3\n",
      " - 0s - loss: 0.4752 - acc: 0.8000 - val_loss: 2.1374 - val_acc: 0.8667\n",
      "Epoch 3/3\n",
      " - 0s - loss: 0.4751 - acc: 0.8000 - val_loss: 2.1374 - val_acc: 0.8667\n",
      "Predicted values [[1. 0. 0. 0. 0.]\n",
      " [1. 0. 0. 0. 0.]\n",
      " [1. 0. 0. 0. 0.]]\n",
      "     score\n",
      "329      1\n",
      "330      3\n",
      "331      1\n",
      "[1, 1, 1]\n",
      "metric nDCG: 0.03210727320925551\n",
      "14 36\n",
      "shape del test (4, 11)\n",
      "Train on 6 samples, validate on 3 samples\n",
      "Epoch 1/3\n",
      " - 0s - loss: 0.4891 - acc: 0.8000 - val_loss: 4.2747 - val_acc: 0.7333\n",
      "Epoch 2/3\n",
      " - 0s - loss: 0.4891 - acc: 0.8000 - val_loss: 4.2747 - val_acc: 0.7333\n",
      "Epoch 3/3\n",
      " - 0s - loss: 0.4890 - acc: 0.8000 - val_loss: 4.2747 - val_acc: 0.7333\n",
      "Predicted values [[1. 0. 0. 0. 0.]\n",
      " [1. 0. 0. 0. 0.]\n",
      " [1. 0. 0. 0. 0.]\n",
      " [1. 0. 0. 0. 0.]]\n",
      "     score\n",
      "316      1\n",
      "317      5\n",
      "318      1\n",
      "319      2\n",
      "[1, 1, 1, 1]\n",
      "metric nDCG: 0.038596387201787416\n",
      "37 Not enough samples\n",
      "38 Not enough samples\n",
      "39 Not enough samples\n",
      "40 Not enough samples\n",
      "41 Not enough samples\n",
      "42 Not enough samples\n",
      "43 Not enough samples\n",
      "12 44\n",
      "shape del test (3, 11)\n",
      "Train on 5 samples, validate on 3 samples\n",
      "Epoch 1/3\n",
      " - 0s - loss: 0.4746 - acc: 0.8000 - val_loss: 1.0384e-07 - val_acc: 1.0000\n",
      "Epoch 2/3\n",
      " - 0s - loss: 0.4745 - acc: 0.8000 - val_loss: 1.0384e-07 - val_acc: 1.0000\n",
      "Epoch 3/3\n",
      " - 0s - loss: 0.4743 - acc: 0.8000 - val_loss: 1.0384e-07 - val_acc: 1.0000\n",
      "Predicted values [[1. 0. 0. 0. 0.]\n",
      " [0. 1. 0. 0. 0.]\n",
      " [0. 0. 1. 0. 0.]]\n",
      "     score\n",
      "260      1\n",
      "261      1\n",
      "262      1\n",
      "[1, 2, 3]\n",
      "metric nDCG: 0.05668091362306374\n",
      "11 45\n",
      "shape del test (3, 11)\n",
      "Train on 4 samples, validate on 3 samples\n",
      "Epoch 1/3\n",
      " - 0s - loss: 0.4967 - acc: 0.8000 - val_loss: 2.1374 - val_acc: 0.8667\n",
      "Epoch 2/3\n",
      " - 0s - loss: 0.4966 - acc: 0.8000 - val_loss: 2.1374 - val_acc: 0.8667\n",
      "Epoch 3/3\n",
      " - 0s - loss: 0.4966 - acc: 0.8000 - val_loss: 2.1374 - val_acc: 0.8667\n",
      "Predicted values [[0. 1. 0. 0. 0.]\n",
      " [1. 0. 0. 0. 0.]\n",
      " [0. 1. 0. 0. 0.]]\n",
      "     score\n",
      "248      2\n",
      "249      1\n",
      "250      1\n",
      "[2, 1, 2]\n",
      "metric nDCG: 0.05470815914558359\n",
      "22 46\n",
      "shape del test (6, 11)\n",
      "Train on 10 samples, validate on 5 samples\n",
      "Epoch 1/3\n",
      " - 0s - loss: 0.4983 - acc: 0.8000 - val_loss: 3.8473 - val_acc: 0.7600\n",
      "Epoch 2/3\n",
      " - 0s - loss: 0.4983 - acc: 0.8000 - val_loss: 3.8473 - val_acc: 0.7600\n",
      "Epoch 3/3\n",
      " - 0s - loss: 0.4983 - acc: 0.8000 - val_loss: 3.8473 - val_acc: 0.7600\n",
      "Predicted values [[0. 1. 0. 0. 0.]\n",
      " [1. 0. 0. 0. 0.]\n",
      " [1. 0. 0. 0. 0.]\n",
      " [1. 0. 0. 0. 0.]\n",
      " [1. 0. 0. 0. 0.]\n",
      " [1. 0. 0. 0. 0.]]\n",
      "     score\n",
      "231      2\n",
      "232      1\n",
      "233      3\n",
      "234      2\n",
      "235      4\n",
      "236      3\n",
      "[2, 1, 1, 1, 1, 1]\n",
      "metric nDCG: 0.0648595268504253\n",
      "15 47\n",
      "shape del test (4, 11)\n",
      "Train on 7 samples, validate on 3 samples\n",
      "Epoch 1/3\n",
      " - 0s - loss: 0.5072 - acc: 0.8000 - val_loss: 6.4121 - val_acc: 0.6000\n",
      "Epoch 2/3\n",
      " - 0s - loss: 0.5071 - acc: 0.8000 - val_loss: 6.4121 - val_acc: 0.6000\n",
      "Epoch 3/3\n",
      " - 0s - loss: 0.5071 - acc: 0.8000 - val_loss: 6.4121 - val_acc: 0.6000\n",
      "Predicted values [[0. 1. 0. 0. 0.]\n",
      " [1. 0. 0. 0. 0.]\n",
      " [0. 1. 0. 0. 0.]\n",
      " [1. 0. 0. 0. 0.]]\n",
      "     score\n",
      "213      5\n",
      "214      5\n",
      "215      4\n",
      "216      4\n",
      "[2, 1, 2, 1]\n",
      "metric nDCG: 0.061197275628118254\n",
      "48 Not enough samples\n",
      "49 Not enough samples\n",
      "50 Not enough samples\n",
      "51 Not enough samples\n",
      "12 52\n",
      "shape del test (3, 11)\n",
      "Train on 5 samples, validate on 3 samples\n",
      "Epoch 1/3\n",
      " - 0s - loss: 0.4978 - acc: 0.8000 - val_loss: 4.2747 - val_acc: 0.7333\n",
      "Epoch 2/3\n",
      " - 0s - loss: 0.4977 - acc: 0.8000 - val_loss: 4.2747 - val_acc: 0.7333\n",
      "Epoch 3/3\n",
      " - 0s - loss: 0.4977 - acc: 0.8000 - val_loss: 4.2747 - val_acc: 0.7333\n",
      "Predicted values [[0. 1. 0. 0. 0.]\n",
      " [1. 0. 0. 0. 0.]\n",
      " [0. 1. 0. 0. 0.]]\n",
      "     score\n",
      "177      1\n",
      "178      4\n",
      "179      5\n",
      "[2, 1, 2]\n",
      "metric nDCG: 0.05470815914558359\n",
      "53 Not enough samples\n",
      "54 Not enough samples\n",
      "12 55\n",
      "shape del test (3, 11)\n",
      "Train on 5 samples, validate on 3 samples\n",
      "Epoch 1/3\n",
      " - 0s - loss: 0.4943 - acc: 0.8000 - val_loss: 4.2747 - val_acc: 0.7333\n",
      "Epoch 2/3\n",
      " - 0s - loss: 0.4943 - acc: 0.8000 - val_loss: 4.2747 - val_acc: 0.7333\n",
      "Epoch 3/3\n",
      " - 0s - loss: 0.4943 - acc: 0.8000 - val_loss: 4.2747 - val_acc: 0.7333\n",
      "Predicted values [[1. 0. 0. 0. 0.]\n",
      " [1. 0. 0. 0. 0.]\n",
      " [1. 0. 0. 0. 0.]]\n",
      "     score\n",
      "146      3\n",
      "147      4\n",
      "148      2\n",
      "[1, 1, 1]\n",
      "metric nDCG: 0.03210727320925551\n",
      "13 56\n",
      "shape del test (3, 11)\n",
      "Train on 6 samples, validate on 3 samples\n",
      "Epoch 1/3\n",
      " - 0s - loss: 0.5018 - acc: 0.8000 - val_loss: 6.4121 - val_acc: 0.6000\n"
     ]
    },
    {
     "name": "stdout",
     "output_type": "stream",
     "text": [
      "Epoch 2/3\n",
      " - 0s - loss: 0.5019 - acc: 0.8000 - val_loss: 6.4121 - val_acc: 0.6000\n",
      "Epoch 3/3\n",
      " - 0s - loss: 0.5018 - acc: 0.8000 - val_loss: 6.4121 - val_acc: 0.6000\n",
      "Predicted values [[0. 1. 0. 0. 0.]\n",
      " [1. 0. 0. 0. 0.]\n",
      " [0. 1. 0. 0. 0.]]\n",
      "     score\n",
      "134      5\n",
      "135      5\n",
      "136      3\n",
      "[2, 1, 2]\n",
      "metric nDCG: 0.05470815914558359\n",
      "57 Not enough samples\n",
      "58 Not enough samples\n",
      "59 Not enough samples\n",
      "13 60\n",
      "shape del test (3, 11)\n",
      "Train on 6 samples, validate on 3 samples\n",
      "Epoch 1/3\n",
      " - 0s - loss: 0.5049 - acc: 0.8000 - val_loss: 6.4121 - val_acc: 0.6000\n",
      "Epoch 2/3\n",
      " - 0s - loss: 0.5049 - acc: 0.8000 - val_loss: 6.4121 - val_acc: 0.6000\n",
      "Epoch 3/3\n",
      " - 0s - loss: 0.5049 - acc: 0.8000 - val_loss: 6.4121 - val_acc: 0.6000\n",
      "Predicted values [[1. 0. 0. 0. 0.]\n",
      " [1. 0. 0. 0. 0.]\n",
      " [1. 0. 0. 0. 0.]]\n",
      "     score\n",
      "106      4\n",
      "107      4\n",
      "108      3\n",
      "[1, 1, 1]\n",
      "metric nDCG: 0.03210727320925551\n",
      "11 61\n",
      "shape del test (3, 11)\n",
      "Train on 4 samples, validate on 3 samples\n",
      "Epoch 1/3\n",
      " - 0s - loss: 0.4742 - acc: 0.8000 - val_loss: 1.0384e-07 - val_acc: 1.0000\n",
      "Epoch 2/3\n",
      " - 0s - loss: 0.4742 - acc: 0.8000 - val_loss: 1.0384e-07 - val_acc: 1.0000\n",
      "Epoch 3/3\n",
      " - 0s - loss: 0.4741 - acc: 0.8000 - val_loss: 1.0384e-07 - val_acc: 1.0000\n",
      "Predicted values [[1. 0. 0. 0. 0.]\n",
      " [1. 0. 0. 0. 0.]\n",
      " [1. 0. 0. 0. 0.]]\n",
      "    score\n",
      "93      1\n",
      "94      1\n",
      "95      1\n",
      "[1, 1, 1]\n",
      "metric nDCG: 0.03210727320925551\n",
      "13 62\n",
      "shape del test (3, 11)\n",
      "Train on 6 samples, validate on 3 samples\n",
      "Epoch 1/3\n",
      " - 0s - loss: 0.5130 - acc: 0.8000 - val_loss: 6.4121 - val_acc: 0.6000\n",
      "Epoch 2/3\n",
      " - 0s - loss: 0.5130 - acc: 0.8000 - val_loss: 6.4121 - val_acc: 0.6000\n",
      "Epoch 3/3\n",
      " - 0s - loss: 0.5130 - acc: 0.8000 - val_loss: 6.4121 - val_acc: 0.6000\n",
      "Predicted values [[0. 1. 0. 0. 0.]\n",
      " [0. 1. 0. 0. 0.]\n",
      " [1. 0. 0. 0. 0.]]\n",
      "    score\n",
      "82      3\n",
      "83      5\n",
      "84      2\n",
      "[2, 2, 1]\n",
      "metric nDCG: 0.05668091362306374\n",
      "11 63\n",
      "shape del test (3, 11)\n",
      "Train on 4 samples, validate on 3 samples\n",
      "Epoch 1/3\n",
      " - 0s - loss: 0.4977 - acc: 0.8000 - val_loss: 6.4121 - val_acc: 0.6000\n",
      "Epoch 2/3\n",
      " - 0s - loss: 0.4977 - acc: 0.8000 - val_loss: 6.4121 - val_acc: 0.6000\n",
      "Epoch 3/3\n",
      " - 0s - loss: 0.4976 - acc: 0.8000 - val_loss: 6.4121 - val_acc: 0.6000\n",
      "Predicted values [[0. 1. 0. 0. 0.]\n",
      " [0. 1. 0. 0. 0.]\n",
      " [1. 0. 0. 0. 0.]]\n",
      "    score\n",
      "69      5\n",
      "70      2\n",
      "71      1\n",
      "[2, 2, 1]\n",
      "metric nDCG: 0.05668091362306374\n",
      "64 Not enough samples\n",
      "65 Not enough samples\n",
      "66 Not enough samples\n",
      "12 67\n",
      "shape del test (3, 11)\n",
      "Train on 5 samples, validate on 3 samples\n",
      "Epoch 1/3\n",
      " - 0s - loss: 0.4964 - acc: 0.8000 - val_loss: 6.4121 - val_acc: 0.6000\n",
      "Epoch 2/3\n",
      " - 0s - loss: 0.4963 - acc: 0.8000 - val_loss: 6.4121 - val_acc: 0.6000\n",
      "Epoch 3/3\n",
      " - 0s - loss: 0.4963 - acc: 0.8000 - val_loss: 6.4121 - val_acc: 0.6000\n",
      "Predicted values [[0. 1. 0. 0. 0.]\n",
      " [0. 1. 0. 0. 0.]\n",
      " [0. 1. 0. 0. 0.]]\n",
      "    score\n",
      "42      4\n",
      "43      1\n",
      "44      3\n",
      "[2, 2, 2]\n",
      "metric nDCG: 0.06421454641851101\n",
      "68 Not enough samples\n",
      "13 69\n",
      "shape del test (3, 11)\n",
      "Train on 6 samples, validate on 3 samples\n",
      "Epoch 1/3\n",
      " - 0s - loss: 0.4906 - acc: 0.8000 - val_loss: 6.4121 - val_acc: 0.6000\n",
      "Epoch 2/3\n",
      " - 0s - loss: 0.4905 - acc: 0.8000 - val_loss: 6.4121 - val_acc: 0.6000\n",
      "Epoch 3/3\n",
      " - 0s - loss: 0.4905 - acc: 0.8000 - val_loss: 6.4121 - val_acc: 0.6000\n",
      "Predicted values [[1. 0. 0. 0. 0.]\n",
      " [0. 1. 0. 0. 0.]\n",
      " [0. 1. 0. 0. 0.]]\n",
      "    score\n",
      "20      3\n",
      "21      1\n",
      "22      4\n",
      "[1, 2, 2]\n",
      "metric nDCG: 0.04914728580762196\n",
      "11 70\n",
      "shape del test (3, 11)\n",
      "Train on 4 samples, validate on 3 samples\n",
      "Epoch 1/3\n",
      " - 0s - loss: 0.5037 - acc: 0.8000 - val_loss: 6.4121 - val_acc: 0.6000\n",
      "Epoch 2/3\n",
      " - 0s - loss: 0.5037 - acc: 0.8000 - val_loss: 6.4121 - val_acc: 0.6000\n",
      "Epoch 3/3\n",
      " - 0s - loss: 0.5037 - acc: 0.8000 - val_loss: 6.4121 - val_acc: 0.6000\n",
      "Predicted values [[0. 1. 0. 0. 0.]\n",
      " [0. 1. 0. 0. 0.]\n",
      " [0. 1. 0. 0. 0.]]\n",
      "   score\n",
      "7      5\n",
      "8      4\n",
      "9      4\n",
      "[2, 2, 2]\n",
      "metric nDCG: 0.06421454641851101\n",
      "71 Not enough samples\n",
      "72 Not enough samples\n"
     ]
    }
   ],
   "source": [
    "grouped = result.groupby(by='query')\n",
    "\n",
    "from numpy import argmax\n",
    "from sklearn.preprocessing import LabelEncoder\n",
    "data = [1,2,3,4,5]\n",
    "values = np.array(data)\n",
    "label_encoder = LabelEncoder()\n",
    "integer_encoded = label_encoder.fit_transform(values)\n",
    "ndcg=[]\n",
    "for i,j in grouped:\n",
    "    if len(j)>10: #do model for queries with at least 10 docs rated\n",
    "        print(len(j),i)\n",
    "        n=int(70*len(j)/100)\n",
    "        n2=int(30*len(j)/100)\n",
    "\n",
    "        j=j.iloc[:n]\n",
    "        test1 = j[-(n2):]\n",
    "        test=(test1[[\"score\"]])\n",
    "        print(\"shape del test\",test1.shape)\n",
    "\n",
    "        test1=test1[[\"cosine_y\",\"numWordsQuery\",\"numWordsCV\",\"numCommonWords\"]].to_numpy()\n",
    "        y = j[['y1','y2','y3','y4','y5']].to_numpy()\n",
    "        #y = y_concat[:n]\n",
    "        X = j[[\"cosine_y\",\"numWordsQuery\",\"numWordsCV\",\"numCommonWords\"]].to_numpy()\n",
    "        X, y = shuffle(X, y)\n",
    "        m=model.fit(X,y,validation_split=0.3, batch_size=1,epochs=3, shuffle=False, verbose=2)\n",
    "        predictions = model.predict(test1, verbose=0)\n",
    "        #print(\"Predicted values\",predictions) #empty prediction problemmmmmmmmmmmmmmb\n",
    "        print(test[[\"score\"]])\n",
    "        # invert first example\n",
    "        y_predicted=[]\n",
    "        for p in predictions:\n",
    "            y_predicted.append(argmax(p)+1)\n",
    "        print(y_predicted)\n",
    "        vec1 = tf.constant(y_predicted,dtype=tf.float32)\n",
    "        vec2 = tf.constant(np.array(test[[\"score\"]]),dtype=tf.float32)\n",
    "        print(\"metric nDCG:\",nDCG(vec1,vec2))\n",
    "        ndcg.append(nDCG(vec1,vec2))\n",
    "    else:\n",
    "\n",
    "        print(i,\"Not enough samples\")"
   ]
  },
  {
   "cell_type": "code",
   "execution_count": 367,
   "metadata": {
    "scrolled": true
   },
   "outputs": [
    {
     "data": {
      "text/plain": [
       "[<matplotlib.lines.Line2D at 0x25f93d19668>]"
      ]
     },
     "execution_count": 367,
     "metadata": {},
     "output_type": "execute_result"
    },
    {
     "data": {
      "image/png": "[encoded data removed]",
      "text/plain": [
       "<Figure size 432x288 with 1 Axes>"
      ]
     },
     "metadata": {
      "needs_background": "light"
     },
     "output_type": "display_data"
    }
   ],
   "source": [
    "from matplotlib import pyplot as plt \n",
    "plt.plot(ndcg)"
   ]
  },
  {
   "cell_type": "code",
   "execution_count": 361,
   "metadata": {},
   "outputs": [
    {
     "name": "stdout",
     "output_type": "stream",
     "text": [
      "dict_keys(['val_loss', 'val_acc', 'loss', 'acc'])\n"
     ]
    },
    {
     "data": {
      "image/png": "[encoded data removed]",
      "text/plain": [
       "<Figure size 432x288 with 1 Axes>"
      ]
     },
     "metadata": {
      "needs_background": "light"
     },
     "output_type": "display_data"
    },
    {
     "data": {
      "image/png": "[encoded data removed]",
      "text/plain": [
       "<Figure size 432x288 with 1 Axes>"
      ]
     },
     "metadata": {
      "needs_background": "light"
     },
     "output_type": "display_data"
    }
   ],
   "source": [
    "history=m\n",
    "# list all data in history\n",
    "print(history.history.keys())\n",
    "# summarize history for accuracy\n",
    "plt.plot(history.history['acc'])\n",
    "plt.plot(history.history['val_acc'])\n",
    "plt.title('model accuracy')\n",
    "plt.ylabel('accuracy')\n",
    "plt.xlabel('epoch')\n",
    "plt.legend(['train', 'test'], loc='upper left')\n",
    "plt.show()\n",
    "# summarize history for loss\n",
    "plt.plot(history.history['loss'])\n",
    "plt.plot(history.history['val_loss'])\n",
    "plt.title('model loss')\n",
    "plt.ylabel('loss')\n",
    "plt.xlabel('epoch')\n",
    "plt.legend(['train', 'test'], loc='upper left')\n",
    "plt.show()"
   ]
  },
  {
   "cell_type": "code",
   "execution_count": 32,
   "metadata": {
    "scrolled": true
   },
   "outputs": [
    {
     "data": {
      "text/plain": [
       "array([[0., 0., 0., 0., 1.],\n",
       "       [0., 0., 0., 1., 0.],\n",
       "       [0., 0., 0., 1., 0.],\n",
       "       [0., 0., 0., 0., 1.],\n",
       "       [0., 0., 1., 0., 0.],\n",
       "       [0., 0., 0., 1., 0.],\n",
       "       [1., 0., 0., 0., 0.],\n",
       "       [0., 0., 0., 0., 1.]])"
      ]
     },
     "execution_count": 32,
     "metadata": {},
     "output_type": "execute_result"
    }
   ],
   "source": [
    "def cross_entropy(y_true,y_pred):\n",
    "    y_true_f = K.flatten(y_true)\n",
    "    y_pred_f = K.flatten(y_pred)\n",
    "    r = -K.sum(K.dot(y_true,K.log(y_pred)))\n",
    "    return r"
   ]
  },
  {
   "cell_type": "code",
   "execution_count": null,
   "metadata": {},
   "outputs": [],
   "source": []
  },
  {
   "cell_type": "markdown",
   "metadata": {},
   "source": [
    "# nDCG\n",
    "wfòobkfjabfò"
   ]
  },
  {
   "cell_type": "code",
   "execution_count": 298,
   "metadata": {},
   "outputs": [
    {
     "data": {
      "text/plain": [
       "7"
      ]
     },
     "execution_count": 298,
     "metadata": {},
     "output_type": "execute_result"
    }
   ],
   "source": [
    "int(score.shape[0])"
   ]
  },
  {
   "cell_type": "code",
   "execution_count": 325,
   "metadata": {},
   "outputs": [],
   "source": [
    "def dcg(score):\n",
    "    res=[]\n",
    "    for i in range((int(score.shape[0]))):\n",
    "        #print(i)\n",
    "        #print(score[i])\n",
    "        rel_i = (score)[i]\n",
    "        #print(rel_i)\n",
    "        log = K.log(sess.run(tf.to_float(i+2)))\n",
    "        #print(sess.run(log))\n",
    "        #frac = K.tf.divide(rel_i,log)\n",
    "        divResult = Lambda(lambda x: x[0]/x[1])([rel_i,log])\n",
    "\n",
    "        res.append(sess.run(divResult))\n",
    "    return np.sum(res)"
   ]
  },
  {
   "cell_type": "code",
   "execution_count": 326,
   "metadata": {},
   "outputs": [],
   "source": [
    "def idcg(score_true):\n",
    "    frac=[]\n",
    "    y_sorted = sorted(sess.run(score),reverse=True)\n",
    "    #print((y_sorted))\n",
    "    for i in range(len(y_sorted)):\n",
    "        num = 2**(y_sorted[i])-1\n",
    "        #print(num)\n",
    "        denom = np.log(i+2)\n",
    "        #print (denom)\n",
    "        frac.append(num/denom)\n",
    "        #print(frac)\n",
    "    return np.sum(frac)\n",
    "    "
   ]
  },
  {
   "cell_type": "code",
   "execution_count": 327,
   "metadata": {},
   "outputs": [
    {
     "data": {
      "text/plain": [
       "0.18243995161294183"
      ]
     },
     "execution_count": 327,
     "metadata": {},
     "output_type": "execute_result"
    }
   ],
   "source": [
    "def nDCG(score,score_true):\n",
    "    return dcg(score)/idcg(score_true)\n",
    "nDCG(score,score_true)"
   ]
  },
  {
   "cell_type": "code",
   "execution_count": 202,
   "metadata": {},
   "outputs": [
    {
     "name": "stdout",
     "output_type": "stream",
     "text": [
      "5.0\n"
     ]
    }
   ],
   "source": [
    "import tensorflow as tf\n",
    "from keras.layers import Lambda\n",
    "\n",
    "sess = tf.InteractiveSession()\n",
    "score=tf.constant([5,2,1,4,5,1,4], dtype= tf.float32)\n",
    "score_true=tf.constant([4,2,1,4,2,5,3], dtype= tf.float32)\n",
    "\n",
    "print(sess.run(score)[i])   "
   ]
  },
  {
   "cell_type": "code",
   "execution_count": 161,
   "metadata": {},
   "outputs": [
    {
     "name": "stdout",
     "output_type": "stream",
     "text": [
      "0.6931472\n",
      "1.0986123\n",
      "1.3862944\n",
      "1.609438\n",
      "1.7917595\n",
      "1.9459101\n",
      "2.0794415\n"
     ]
    },
    {
     "data": {
      "text/plain": [
       "91.96965"
      ]
     },
     "execution_count": 161,
     "metadata": {},
     "output_type": "execute_result"
    }
   ],
   "source": [
    "dcg(score)"
   ]
  },
  {
   "cell_type": "code",
   "execution_count": 126,
   "metadata": {},
   "outputs": [
    {
     "data": {
      "text/plain": [
       "<tf.Tensor 'strided_slice_12:0' shape=() dtype=float32>"
      ]
     },
     "execution_count": 126,
     "metadata": {},
     "output_type": "execute_result"
    }
   ],
   "source": [
    "(score)[i]"
   ]
  },
  {
   "cell_type": "code",
   "execution_count": 58,
   "metadata": {},
   "outputs": [],
   "source": [
    "c = [2,2,3,4,1]"
   ]
  },
  {
   "cell_type": "code",
   "execution_count": 69,
   "metadata": {},
   "outputs": [
    {
     "name": "stdout",
     "output_type": "stream",
     "text": [
      "0\n",
      "1\n",
      "2\n",
      "3\n",
      "4\n"
     ]
    }
   ],
   "source": [
    "for i in range(len(c)):\n",
    "    print(i)"
   ]
  },
  {
   "cell_type": "code",
   "execution_count": null,
   "metadata": {},
   "outputs": [],
   "source": []
  }
 ],
 "metadata": {
  "kernelspec": {
   "display_name": "Python 3",
   "language": "python",
   "name": "python3"
  },
  "language_info": {
   "codemirror_mode": {
    "name": "ipython",
    "version": 3
   },
   "file_extension": ".py",
   "mimetype": "text/x-python",
   "name": "python",
   "nbconvert_exporter": "python",
   "pygments_lexer": "ipython3",
   "version": "3.7.3"
  }
 },
 "nbformat": 4,
 "nbformat_minor": 2
}
